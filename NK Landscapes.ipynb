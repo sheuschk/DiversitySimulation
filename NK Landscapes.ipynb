{
 "cells": [
  {
   "cell_type": "markdown",
   "id": "69bd816e",
   "metadata": {},
   "source": [
    "## NK landscape\n",
    "\n",
    "Example from https://link.springer.com/article/10.1186/s41469-018-0039-0"
   ]
  },
  {
   "cell_type": "code",
   "execution_count": 2,
   "id": "035d8e85",
   "metadata": {},
   "outputs": [],
   "source": [
    "import numpy as np\n",
    "# import pandas as pd\n",
    "import matplotlib.pyplot as plt"
   ]
  },
  {
   "cell_type": "code",
   "execution_count": 3,
   "id": "c562a22d",
   "metadata": {},
   "outputs": [],
   "source": [
    "from itertools import product\n",
    "import networkx as nx"
   ]
  },
  {
   "cell_type": "markdown",
   "id": "026e6cbf",
   "metadata": {},
   "source": [
    "How to understand it:\n",
    "- Dependencies show which nodes are connected [0,1] means node zero impacts one\n",
    "- C displays the value of connections\n",
    "    - The first row is for the first node and the value of all its connections"
   ]
  },
  {
   "cell_type": "code",
   "execution_count": 4,
   "id": "340f3bdf",
   "metadata": {},
   "outputs": [
    {
     "name": "stdout",
     "output_type": "stream",
     "text": [
      "[[1 0 1]\n",
      " [1 1 0]\n",
      " [0 1 1]]\n"
     ]
    }
   ],
   "source": [
    "# Interaction matrix\n",
    "K = 1\n",
    "N = 3\n",
    "assert K+1 <= N\n",
    "I = np.array([[1,0,1],[1,1,0],[0,1,1]])\n",
    "\n",
    "print(I)"
   ]
  },
  {
   "cell_type": "code",
   "execution_count": 5,
   "id": "beff9e53",
   "metadata": {},
   "outputs": [
    {
     "data": {
      "text/plain": [
       "array([[0, 0],\n",
       "       [0, 1],\n",
       "       [1, 0],\n",
       "       [1, 1]])"
      ]
     },
     "execution_count": 5,
     "metadata": {},
     "output_type": "execute_result"
    }
   ],
   "source": [
    "combs = np.array(list(product([0,1], repeat=K+1)))\n",
    "combs"
   ]
  },
  {
   "cell_type": "code",
   "execution_count": 6,
   "id": "cb1cd00e",
   "metadata": {},
   "outputs": [
    {
     "data": {
      "text/plain": [
       "array([[0.9, 0.5, 0.3, 0.7],\n",
       "       [0.8, 0. , 0. , 0.3],\n",
       "       [0.1, 0.5, 0.2, 0.9]])"
      ]
     },
     "execution_count": 6,
     "metadata": {},
     "output_type": "execute_result"
    }
   ],
   "source": [
    "C = np.zeros((N, len(combs),))\n",
    "# Values from example\n",
    "C[0] = np.array([0.9, .5, .3, .7])\n",
    "C[1] = np.array([0.8, 0, 0, 0.3])\n",
    "C[2] = np.array([.1, .5, .2, .9])\n",
    "C"
   ]
  },
  {
   "cell_type": "code",
   "execution_count": 7,
   "id": "610a0188",
   "metadata": {},
   "outputs": [],
   "source": [
    "def create_C(N, K):\n",
    "    C = np.random.random((N,2**(K+1))).round(1)\n",
    "    return C"
   ]
  },
  {
   "cell_type": "code",
   "execution_count": 8,
   "id": "9caf1ee2",
   "metadata": {},
   "outputs": [
    {
     "data": {
      "text/plain": [
       "array([[0.7, 0.8, 0.1, 0.6],\n",
       "       [0.8, 0.3, 0.5, 0.8],\n",
       "       [0.9, 0.5, 1. , 0.3]])"
      ]
     },
     "execution_count": 8,
     "metadata": {},
     "output_type": "execute_result"
    }
   ],
   "source": [
    "create_C(3, 1)"
   ]
  },
  {
   "cell_type": "code",
   "execution_count": 9,
   "id": "a055fa14",
   "metadata": {},
   "outputs": [],
   "source": [
    "# TODO: Dependencies are always in same direction (make it random)\n",
    "def create_dependency(N, K):\n",
    "    \"\"\"[:,0] is connected with [:,1] --> [0,1] would mean node 0 has fluence on node 1\"\"\"\n",
    "    assert N >= K+1\n",
    "    depend = np.zeros((N*K, 2))\n",
    "    x = np.arange(N)\n",
    "    for _ in range(K):\n",
    "        depend[:,0][N*_: N*_ +N] = x\n",
    "        depend[:,1][N*_: N*_ +N] = np.roll(x,_+1)\n",
    "\n",
    "    return depend.astype(int)"
   ]
  },
  {
   "cell_type": "code",
   "execution_count": 10,
   "id": "f875d786",
   "metadata": {},
   "outputs": [],
   "source": [
    "# TODO: Dependencies are always in same direction (roll command) (make it random)\n",
    "def create_multiple_dependencies(N, K):\n",
    "    \"\"\"[:,0] is connected with [:,1] --> [0,1] would mean node 0 has fluence on node 1\"\"\"\n",
    "    assert N >= K+1\n",
    "    depend = np.zeros((N, K+1))\n",
    "    x = np.arange(N)\n",
    "    \n",
    "    depend[:,0] = x\n",
    "    \n",
    "    for _ in range(K):\n",
    "        depend[:,_+1] = np.roll(x,_+1)\n",
    "\n",
    "    return depend.astype(int)"
   ]
  },
  {
   "cell_type": "code",
   "execution_count": 11,
   "id": "b1b6b829",
   "metadata": {},
   "outputs": [
    {
     "data": {
      "text/plain": [
       "array([[0, 2, 0],\n",
       "       [1, 0, 1],\n",
       "       [0, 2, 0]])"
      ]
     },
     "execution_count": 11,
     "metadata": {},
     "output_type": "execute_result"
    }
   ],
   "source": [
    "# Alternative (not working) with networkx\n",
    "K=2\n",
    "G = nx.random_k_out_graph(N, K, 1, self_loops=False)\n",
    "nx.to_numpy_array(G).astype(int)"
   ]
  },
  {
   "cell_type": "code",
   "execution_count": 12,
   "id": "83748a8c",
   "metadata": {},
   "outputs": [
    {
     "data": {
      "text/plain": [
       "array([[0, 3, 2],\n",
       "       [1, 0, 3],\n",
       "       [2, 1, 0],\n",
       "       [3, 2, 1]])"
      ]
     },
     "execution_count": 12,
     "metadata": {},
     "output_type": "execute_result"
    }
   ],
   "source": [
    "N = 4\n",
    "K = 2\n",
    "create_multiple_dependencies(N, K)"
   ]
  },
  {
   "cell_type": "code",
   "execution_count": null,
   "id": "aeb9307c",
   "metadata": {},
   "outputs": [],
   "source": []
  },
  {
   "cell_type": "code",
   "execution_count": 13,
   "id": "1198fcf1",
   "metadata": {},
   "outputs": [],
   "source": [
    "def f(v, conns, C):\n",
    "    assert len(v) == N\n",
    "    solution = []\n",
    "    for i in range(len(conns)):\n",
    "        for j, comb in enumerate(combs):\n",
    "            if ([v[conns[i][_]] for _ in range(K+1)] == comb).all():\n",
    "                solution.append(C[i][j])\n",
    "    return solution, round(np.array(solution).mean(), 2)"
   ]
  },
  {
   "cell_type": "code",
   "execution_count": 14,
   "id": "03edecdf",
   "metadata": {},
   "outputs": [],
   "source": [
    "N = 5\n",
    "K = 2\n",
    "combs = np.array(list(product([0,1], repeat=K+1)))\n",
    "C = create_C(N, K)\n",
    "# conns = create_dependency(N, K)\n",
    "conns = create_multiple_dependencies(N, K)\n"
   ]
  },
  {
   "cell_type": "code",
   "execution_count": 15,
   "id": "56797b9d",
   "metadata": {},
   "outputs": [
    {
     "data": {
      "text/plain": [
       "([0.9, 0.5, 0.8, 0.2, 0.2], 0.52)"
      ]
     },
     "execution_count": 15,
     "metadata": {},
     "output_type": "execute_result"
    }
   ],
   "source": [
    "v = np.array([0, 0, 1, 0, 1])\n",
    "f(v, conns, C)"
   ]
  },
  {
   "cell_type": "code",
   "execution_count": 16,
   "id": "63284db8",
   "metadata": {},
   "outputs": [
    {
     "data": {
      "text/plain": [
       "(array([[0.2, 0.2, 0.9, 0.1, 0.8, 0.5, 0.4, 0. ],\n",
       "        [0.3, 0.5, 0.5, 0.2, 0.7, 0.6, 0.4, 0.9],\n",
       "        [1. , 1. , 0.8, 0.7, 0.8, 0.9, 0.4, 0.6],\n",
       "        [0.6, 0.2, 0.2, 1. , 0.7, 0.7, 0.9, 0.2],\n",
       "        [0.7, 0.7, 1. , 0.5, 0.2, 0.2, 0.4, 0.6]]),\n",
       " array([[0, 4, 3],\n",
       "        [1, 0, 4],\n",
       "        [2, 1, 0],\n",
       "        [3, 2, 1],\n",
       "        [4, 3, 2]]),\n",
       " array([[0, 0, 0],\n",
       "        [0, 0, 1],\n",
       "        [0, 1, 0],\n",
       "        [0, 1, 1],\n",
       "        [1, 0, 0],\n",
       "        [1, 0, 1],\n",
       "        [1, 1, 0],\n",
       "        [1, 1, 1]]))"
      ]
     },
     "execution_count": 16,
     "metadata": {},
     "output_type": "execute_result"
    }
   ],
   "source": [
    "C, conns, combs"
   ]
  },
  {
   "cell_type": "code",
   "execution_count": null,
   "id": "8cf070ac",
   "metadata": {},
   "outputs": [],
   "source": []
  },
  {
   "cell_type": "markdown",
   "id": "8933101e",
   "metadata": {},
   "source": [
    "Branch and Bound algorithm to find optimum"
   ]
  },
  {
   "cell_type": "code",
   "execution_count": 17,
   "id": "a7e04135",
   "metadata": {},
   "outputs": [
    {
     "data": {
      "text/plain": [
       "0.74"
      ]
     },
     "execution_count": 17,
     "metadata": {},
     "output_type": "execute_result"
    }
   ],
   "source": [
    "# Brute force\n",
    "all_solutions = []\n",
    "for sol in np.array(list(product([0,1], repeat=N))):\n",
    "    all_solutions.append(f(sol, conns, C)[1])\n",
    "max(all_solutions)"
   ]
  },
  {
   "cell_type": "code",
   "execution_count": 18,
   "id": "53d14336",
   "metadata": {},
   "outputs": [],
   "source": [
    "class NK_landscape():\n",
    "    \n",
    "    def __init__(self, N=8, K=3, C = None, dependencies = None):\n",
    "        assert N >= K+1\n",
    "        \n",
    "        self.N = N\n",
    "        self.K = K\n",
    "        \n",
    "        if C is None or dependencies is None:\n",
    "            self.initialize_C()\n",
    "            self.initialize_dependencies()\n",
    "        else:\n",
    "            self.dependencies = dependencies\n",
    "            self.C = C\n",
    "\n",
    "        \n",
    "        self.combinations = np.array(list(product([0,1], repeat=K+1)))\n",
    "        self.max_value = None\n",
    "        self.min_value = None\n",
    "        \n",
    "        self.fitness_dict = {}\n",
    "        \n",
    "        self.init_values()\n",
    "        \n",
    "    \n",
    "    def initialize_dependencies(self):\n",
    "        \"\"\"[:,0] is connected with [:,1] --> [0,1] would mean node 0 has fluence on node 1\"\"\"\n",
    "        depend = np.zeros((self.N, self.K+1))\n",
    "        x = np.arange(self.N)\n",
    "        depend[:,0] = x\n",
    "        for _ in range(self.K):\n",
    "            depend[:,_+1] = np.roll(x,_+1)\n",
    "\n",
    "        self.dependencies = depend.astype(int)\n",
    "    \n",
    "    def initialize_C(self):\n",
    "        self.C = np.random.random((self.N,2**(self.K+1))).round(1)\n",
    "\n",
    "    def f(self, state):\n",
    "        assert len(state) == self.N\n",
    "        solution = []\n",
    "        for i in range(len(self.dependencies)):\n",
    "            for j, comb in enumerate(self.combinations):\n",
    "                if ([state[self.dependencies[i][_]] for _ in range(self.K+1)] == comb).all():\n",
    "                    solution.append(self.C[i][j])\n",
    "        \n",
    "        return solution, round(np.array(solution).mean(), 2)\n",
    "    \n",
    "    def init_values(self):\n",
    "        # all_solutions = []\n",
    "        max_val = 0\n",
    "        min_val = 2\n",
    "        for sol in np.array(list(product([0,1], repeat=self.N))):\n",
    "            key = int(\"\".join(map(str, sol)), 2)\n",
    "            value = self.f(sol)[1]\n",
    "            \n",
    "            # all_solutions.append(value)\n",
    "            self.fitness_dict[key] = value\n",
    "          \n",
    "            if max_val < value:\n",
    "                max_val = value\n",
    "            if min_val > value:\n",
    "                min_val = value\n",
    "        self.max_value = max_val\n",
    "        self.min_value = min_val\n",
    "        \n",
    "    \n",
    "    def old_fitness(self, state):\n",
    "        assert self.max_value != None\n",
    "        return np.round((self.f(state)[1] - self.min_value) / (self.max_value - self.min_value), 2)\n",
    "    \n",
    "    def get_scaled_fitness(self, state):\n",
    "        key = int(\"\".join(map(str, state)), 2)\n",
    "        value = self.fitness_dict[key]\n",
    "        return np.round((value - self.min_value) / (self.max_value - self.min_value), 2)"
   ]
  },
  {
   "cell_type": "code",
   "execution_count": 19,
   "id": "2a36c59e",
   "metadata": {},
   "outputs": [],
   "source": [
    "landscape = NK_landscape(3,1)"
   ]
  },
  {
   "cell_type": "code",
   "execution_count": 20,
   "id": "52b6f16b",
   "metadata": {},
   "outputs": [
    {
     "name": "stdout",
     "output_type": "stream",
     "text": [
      "[[0.  0.9 0.4 0.1]\n",
      " [1.  0.  0.9 0.7]\n",
      " [0.7 0.4 0.7 0.4]] [[0 2]\n",
      " [1 0]\n",
      " [2 1]] [[0 0]\n",
      " [0 1]\n",
      " [1 0]\n",
      " [1 1]]\n"
     ]
    },
    {
     "data": {
      "text/plain": [
       "([0.9, 0.9, 0.4], 0.73)"
      ]
     },
     "execution_count": 20,
     "metadata": {},
     "output_type": "execute_result"
    }
   ],
   "source": [
    "print(landscape.C, landscape.dependencies, landscape.combinations)\n",
    "state = np.array([0,1,1])\n",
    "landscape.f(state)"
   ]
  },
  {
   "cell_type": "code",
   "execution_count": null,
   "id": "d97d61fb",
   "metadata": {},
   "outputs": [],
   "source": []
  },
  {
   "cell_type": "markdown",
   "id": "095b1620",
   "metadata": {},
   "source": [
    "### Compare fitness speed (dict to on the run)\n",
    "Calculate on the run compared to dict"
   ]
  },
  {
   "cell_type": "code",
   "execution_count": 34,
   "id": "59058b91",
   "metadata": {},
   "outputs": [
    {
     "name": "stdout",
     "output_type": "stream",
     "text": [
      "Time:  5.6421730999999795\n"
     ]
    }
   ],
   "source": [
    "start = timeit.default_timer()\n",
    "N, K = 10, 5\n",
    "env = NK_landscape(N, K)\n",
    "stop = timeit.default_timer()\n",
    "print('Time: ', stop - start)  "
   ]
  },
  {
   "cell_type": "code",
   "execution_count": 35,
   "id": "e82e76bf",
   "metadata": {},
   "outputs": [],
   "source": [
    "import timeit"
   ]
  },
  {
   "cell_type": "code",
   "execution_count": 36,
   "id": "779f7c7c",
   "metadata": {},
   "outputs": [
    {
     "name": "stdout",
     "output_type": "stream",
     "text": [
      "Time:  4.770461799999964\n"
     ]
    }
   ],
   "source": [
    "start = timeit.default_timer()\n",
    "for state in list(product([0,1], repeat=N)):\n",
    "    env.old_fitness(state)\n",
    "stop = timeit.default_timer()\n",
    "print('Time: ', stop - start)  "
   ]
  },
  {
   "cell_type": "code",
   "execution_count": 37,
   "id": "85f76e1b",
   "metadata": {},
   "outputs": [
    {
     "name": "stdout",
     "output_type": "stream",
     "text": [
      "Time:  0.015894300000013573\n"
     ]
    }
   ],
   "source": [
    "start = timeit.default_timer()\n",
    "for state in list(product([0,1], repeat=N)):\n",
    "    env.get_scaled_fitness(state)\n",
    "stop = timeit.default_timer()\n",
    "print('Time: ', stop - start)  "
   ]
  },
  {
   "cell_type": "markdown",
   "id": "d2f066f8",
   "metadata": {},
   "source": [
    "### Algorithms\n",
    "#####  Local Search\n",
    "- Hill Climbing\n",
    "    - Greedy\n",
    "    - Stochastic\n",
    "    - First choice\n",
    "    - Random restart\n",
    "- Simulated Annealing\n",
    "- Local beam search\n",
    "    - stochastic beam search\n",
    "- Genetic algorithms\n",
    "\n",
    "\n"
   ]
  },
  {
   "cell_type": "code",
   "execution_count": 330,
   "id": "0c11e413",
   "metadata": {},
   "outputs": [
    {
     "name": "stdout",
     "output_type": "stream",
     "text": [
      "0.81\n",
      "0.56\n",
      "0.69\n"
     ]
    }
   ],
   "source": [
    "N, K = 8, 4\n",
    "env = NK_landscape(8, 4) # 2**8 = 256\n",
    "state = np.zeros(N)\n",
    "print(env.max_value()); print(env.f(state)[1]); print(env.get_scaled_fitness(state))"
   ]
  },
  {
   "cell_type": "code",
   "execution_count": 343,
   "id": "e1896315",
   "metadata": {},
   "outputs": [],
   "source": [
    "def softmax(new_score, old_score, b=10):\n",
    "    return np.exp(new_score*b) / np.sum([np.exp(new_score*b), np.exp(old_score*b)])"
   ]
  },
  {
   "cell_type": "code",
   "execution_count": 345,
   "id": "e3c0cf25",
   "metadata": {},
   "outputs": [
    {
     "data": {
      "text/plain": [
       "[<matplotlib.lines.Line2D at 0x231b43d02b0>]"
      ]
     },
     "execution_count": 345,
     "metadata": {},
     "output_type": "execute_result"
    },
    {
     "data": {
      "image/png": "[encoded data removed]",
      "text/plain": [
       "<Figure size 432x288 with 1 Axes>"
      ]
     },
     "metadata": {
      "needs_background": "light"
     },
     "output_type": "display_data"
    }
   ],
   "source": [
    "# Hill Climbing\n",
    "rng = np.random.default_rng(0)\n",
    "\n",
    "def SHC(env, iterations, rng):\n",
    "    state = np.round(rng.random(env.N)).astype(int)\n",
    "\n",
    "    score = env.get_scaled_fitness(state)\n",
    "    # print(f\"Start fitness / state: {score} / {state}\")\n",
    "\n",
    "    # iterations = 300\n",
    "    all_scores = np.zeros(iterations+1)\n",
    "    all_scores[0] = score\n",
    "\n",
    "    for i in range(iterations):\n",
    "        new_state = state\n",
    "        digit = rng.integers(0, env.N)\n",
    "        if state[digit] == 1:\n",
    "            new_state[digit] = 0\n",
    "        else:\n",
    "            new_state[digit] = 1\n",
    "        new_score = env.get_scaled_fitness(new_state)\n",
    "\n",
    "        # if new_score >= score:\n",
    "        if rng.random() <= softmax(new_score, score, 15):\n",
    "            state = new_state\n",
    "            score = new_score\n",
    "\n",
    "        all_scores[i+1] = score\n",
    "        # print(f\"{i}: {score}\")\n",
    "    # print(f\"End   fitness / state: {score} / {state}\")\n",
    "\n",
    "    return all_scores\n",
    "\n",
    "iterations = 200\n",
    "all_scores = SHC(env, iterations, rng)  \n",
    "plt.plot(all_scores)\n",
    "# plt.plot(np.ones(iterations+1) * env.brute_force_max())"
   ]
  },
  {
   "cell_type": "code",
   "execution_count": 369,
   "id": "a1412a87",
   "metadata": {},
   "outputs": [
    {
     "name": "stdout",
     "output_type": "stream",
     "text": [
      "0\n",
      "50\n",
      "100\n",
      "150\n",
      "200\n",
      "250\n"
     ]
    },
    {
     "data": {
      "text/plain": [
       "Text(0.5, 1.0, 'SHC of a single agent')"
      ]
     },
     "execution_count": 369,
     "metadata": {},
     "output_type": "execute_result"
    },
    {
     "data": {
      "image/png": "[encoded data removed]",
      "text/plain": [
       "<Figure size 432x288 with 1 Axes>"
      ]
     },
     "metadata": {
      "needs_background": "light"
     },
     "output_type": "display_data"
    }
   ],
   "source": [
    "rng = np.random.default_rng(0)\n",
    "\n",
    "\n",
    "iterations = 200\n",
    "n_trials = 300\n",
    "N, K = 10, 5\n",
    "\n",
    "\n",
    "score_tracker = np.empty((n_trials, iterations+1))\n",
    "env = NK_landscape(N, K)\n",
    "env.brute_force_max()\n",
    "\n",
    "for i in range(n_trials):\n",
    "    score_tracker[i] = SHC(env, iterations, rng)\n",
    "    if i%50 == 0:\n",
    "        print(i)\n",
    "    \n",
    "plt.plot(score_tracker.mean(axis=0))\n",
    "plt.xlabel(\"iterations\")\n",
    "plt.ylabel(\"Normalized score\")\n",
    "plt.title(\"SHC of a single agent\")"
   ]
  },
  {
   "cell_type": "code",
   "execution_count": 370,
   "id": "4960d379",
   "metadata": {},
   "outputs": [],
   "source": [
    "# Hill Climbing + random exploration\n",
    "\n",
    "def SHC_exploration(env, iterations, rng):\n",
    "    state = np.round(rng.random(env.N)).astype(int)\n",
    "\n",
    "    score = env.get_scaled_fitness(state)\n",
    "    # print(f\"Start fitness / state: {score} / {state}\")\n",
    "\n",
    "    # iterations = 300\n",
    "    all_scores = np.zeros(iterations+1)\n",
    "    all_scores[0] = score\n",
    "\n",
    "    for i in range(iterations):\n",
    "        new_state = state\n",
    "        digit = rng.integers(0, env.N)\n",
    "        \n",
    "        # Random exploration\n",
    "        if 0.2 >= rng.random():\n",
    "            new_state = np.round(rng.random(env.N)).astype(int)\n",
    "            new_score = env.get_scaled_fitness(new_state)\n",
    "            \n",
    "            if new_score > score:\n",
    "                state = new_state\n",
    "                score = new_score\n",
    "                continue\n",
    "        # SHC\n",
    "        else:\n",
    "            if state[digit] == 1:\n",
    "                new_state[digit] = 0\n",
    "            else:\n",
    "                new_state[digit] = 1\n",
    "            new_score = env.get_scaled_fitness(new_state)\n",
    "\n",
    "            # if new_score >= score:\n",
    "            if rng.random() <= softmax(new_score, score, 15):\n",
    "                state = new_state\n",
    "                score = new_score\n",
    "\n",
    "        all_scores[i+1] = score\n",
    "        # print(f\"{i}: {score}\")\n",
    "    # print(f\"End   fitness / state: {score} / {state}\")\n",
    "\n",
    "    return all_scores\n"
   ]
  },
  {
   "cell_type": "code",
   "execution_count": 371,
   "id": "c110f050",
   "metadata": {},
   "outputs": [
    {
     "name": "stdout",
     "output_type": "stream",
     "text": [
      "0\n",
      "50\n",
      "100\n",
      "150\n",
      "200\n",
      "250\n"
     ]
    },
    {
     "data": {
      "text/plain": [
       "Text(0.5, 1.0, 'SHC with random exploration of a single agent')"
      ]
     },
     "execution_count": 371,
     "metadata": {},
     "output_type": "execute_result"
    },
    {
     "data": {
      "image/png": "[encoded data removed]",
      "text/plain": [
       "<Figure size 432x288 with 1 Axes>"
      ]
     },
     "metadata": {
      "needs_background": "light"
     },
     "output_type": "display_data"
    }
   ],
   "source": [
    "rng = np.random.default_rng(0)\n",
    "\n",
    "\n",
    "iterations = 200\n",
    "n_trials = 300\n",
    "N, K = 10, 5\n",
    "\n",
    "\n",
    "score_tracker2 = np.empty((n_trials, iterations+1))\n",
    "env = NK_landscape(N, K)\n",
    "env.brute_force_max()\n",
    "\n",
    "for i in range(n_trials):\n",
    "    score_tracker2[i] = SHC_exploration(env, iterations, rng)\n",
    "    if i%50 == 0:\n",
    "        print(i)\n",
    "    \n",
    "plt.plot(score_tracker2.mean(axis=0))\n",
    "plt.xlabel(\"iterations\")\n",
    "plt.ylabel(\"Normalized score\")\n",
    "plt.title(\"SHC with random exploration of a single agent\")"
   ]
  },
  {
   "cell_type": "code",
   "execution_count": 372,
   "id": "6a001886",
   "metadata": {},
   "outputs": [
    {
     "data": {
      "text/plain": [
       "(0.8432902155887232, 0.7897810945273631)"
      ]
     },
     "execution_count": 372,
     "metadata": {},
     "output_type": "execute_result"
    }
   ],
   "source": [
    "score_tracker.mean(), score_tracker2.mean()"
   ]
  },
  {
   "cell_type": "code",
   "execution_count": null,
   "id": "0ee52c9f",
   "metadata": {},
   "outputs": [],
   "source": []
  },
  {
   "cell_type": "code",
   "execution_count": null,
   "id": "bc9bfa09",
   "metadata": {},
   "outputs": [],
   "source": []
  },
  {
   "cell_type": "markdown",
   "id": "b4fff9b6",
   "metadata": {},
   "source": [
    "### Save some landscapes to a file"
   ]
  },
  {
   "cell_type": "code",
   "execution_count": 59,
   "id": "d5942f07",
   "metadata": {},
   "outputs": [],
   "source": [
    "class NK_landscape_loaded(NK_landscape):\n",
    "    \n",
    "    def __init__(self, N, K, fitness_dict):\n",
    "        assert N >= K+1\n",
    "        \n",
    "        self.N = N\n",
    "        self.K = K\n",
    "\n",
    "        \n",
    "        self.max_value = None\n",
    "        self.min_value = None\n",
    "        \n",
    "        self.fitness_dict = fitness_dict\n",
    "        self.init_min_max()\n",
    "                \n",
    "    \n",
    "    def f(self, state):\n",
    "        raise NotImplementedError(\"Only dictionary in loaded nk landscape\")\n",
    "        \n",
    "    \n",
    "    def init_min_max(self):\n",
    "        self.max_value = max(self.fitness_dict.values())\n",
    "        self.min_value = min(self.fitness_dict.values())\n",
    "        "
   ]
  },
  {
   "cell_type": "code",
   "execution_count": 52,
   "id": "6306f277",
   "metadata": {},
   "outputs": [],
   "source": [
    "import json\n",
    "import pickle "
   ]
  },
  {
   "cell_type": "code",
   "execution_count": 50,
   "id": "b54f9bb0",
   "metadata": {},
   "outputs": [
    {
     "data": {
      "text/plain": [
       "dict_keys([0, 1, 2, 3, 4, 5, 6, 7, 8, 9, 10, 11, 12, 13, 14, 15, 16, 17, 18, 19, 20, 21, 22, 23, 24, 25, 26, 27, 28, 29])"
      ]
     },
     "execution_count": 50,
     "metadata": {},
     "output_type": "execute_result"
    }
   ],
   "source": [
    "landscapes.keys()"
   ]
  },
  {
   "cell_type": "code",
   "execution_count": 48,
   "id": "fa7aaf82",
   "metadata": {
    "collapsed": true
   },
   "outputs": [
    {
     "name": "stdout",
     "output_type": "stream",
     "text": [
      "0\n",
      "1\n",
      "2\n",
      "3\n",
      "4\n",
      "5\n",
      "6\n",
      "7\n",
      "8\n",
      "9\n",
      "10\n",
      "11\n",
      "12\n",
      "13\n",
      "14\n",
      "15\n",
      "16\n",
      "17\n",
      "18\n",
      "19\n",
      "20\n",
      "21\n",
      "22\n",
      "23\n",
      "24\n",
      "25\n",
      "26\n",
      "27\n",
      "28\n",
      "29\n"
     ]
    },
    {
     "ename": "TypeError",
     "evalue": "key 0 is not a string",
     "output_type": "error",
     "traceback": [
      "\u001b[1;31m---------------------------------------------------------------------------\u001b[0m",
      "\u001b[1;31mTypeError\u001b[0m                                 Traceback (most recent call last)",
      "\u001b[1;32m<ipython-input-48-bfbec7387fa1>\u001b[0m in \u001b[0;36m<module>\u001b[1;34m\u001b[0m\n\u001b[0;32m     13\u001b[0m \u001b[1;33m\u001b[0m\u001b[0m\n\u001b[0;32m     14\u001b[0m \u001b[1;32mwith\u001b[0m \u001b[0mopen\u001b[0m\u001b[1;33m(\u001b[0m\u001b[0mfile\u001b[0m\u001b[1;33m,\u001b[0m \u001b[1;34m'w'\u001b[0m\u001b[1;33m)\u001b[0m \u001b[1;32mas\u001b[0m \u001b[0mf\u001b[0m\u001b[1;33m:\u001b[0m\u001b[1;33m\u001b[0m\u001b[0m\n\u001b[1;32m---> 15\u001b[1;33m     \u001b[0mjson\u001b[0m\u001b[1;33m.\u001b[0m\u001b[0mdump\u001b[0m\u001b[1;33m(\u001b[0m\u001b[0mlandscapes\u001b[0m\u001b[1;33m,\u001b[0m \u001b[0mf\u001b[0m\u001b[1;33m)\u001b[0m\u001b[1;33m\u001b[0m\u001b[0m\n\u001b[0m",
      "\u001b[1;32m~\\AppData\\Local\\Continuum\\anaconda3\\lib\\json\\__init__.py\u001b[0m in \u001b[0;36mdump\u001b[1;34m(obj, fp, skipkeys, ensure_ascii, check_circular, allow_nan, cls, indent, separators, default, sort_keys, **kw)\u001b[0m\n\u001b[0;32m    177\u001b[0m     \u001b[1;31m# could accelerate with writelines in some versions of Python, at\u001b[0m\u001b[1;33m\u001b[0m\u001b[1;33m\u001b[0m\u001b[0m\n\u001b[0;32m    178\u001b[0m     \u001b[1;31m# a debuggability cost\u001b[0m\u001b[1;33m\u001b[0m\u001b[1;33m\u001b[0m\u001b[0m\n\u001b[1;32m--> 179\u001b[1;33m     \u001b[1;32mfor\u001b[0m \u001b[0mchunk\u001b[0m \u001b[1;32min\u001b[0m \u001b[0miterable\u001b[0m\u001b[1;33m:\u001b[0m\u001b[1;33m\u001b[0m\u001b[0m\n\u001b[0m\u001b[0;32m    180\u001b[0m         \u001b[0mfp\u001b[0m\u001b[1;33m.\u001b[0m\u001b[0mwrite\u001b[0m\u001b[1;33m(\u001b[0m\u001b[0mchunk\u001b[0m\u001b[1;33m)\u001b[0m\u001b[1;33m\u001b[0m\u001b[0m\n\u001b[0;32m    181\u001b[0m \u001b[1;33m\u001b[0m\u001b[0m\n",
      "\u001b[1;32m~\\AppData\\Local\\Continuum\\anaconda3\\lib\\json\\encoder.py\u001b[0m in \u001b[0;36m_iterencode\u001b[1;34m(o, _current_indent_level)\u001b[0m\n\u001b[0;32m    428\u001b[0m             \u001b[1;32myield\u001b[0m \u001b[1;32mfrom\u001b[0m \u001b[0m_iterencode_list\u001b[0m\u001b[1;33m(\u001b[0m\u001b[0mo\u001b[0m\u001b[1;33m,\u001b[0m \u001b[0m_current_indent_level\u001b[0m\u001b[1;33m)\u001b[0m\u001b[1;33m\u001b[0m\u001b[0m\n\u001b[0;32m    429\u001b[0m         \u001b[1;32melif\u001b[0m \u001b[0misinstance\u001b[0m\u001b[1;33m(\u001b[0m\u001b[0mo\u001b[0m\u001b[1;33m,\u001b[0m \u001b[0mdict\u001b[0m\u001b[1;33m)\u001b[0m\u001b[1;33m:\u001b[0m\u001b[1;33m\u001b[0m\u001b[0m\n\u001b[1;32m--> 430\u001b[1;33m             \u001b[1;32myield\u001b[0m \u001b[1;32mfrom\u001b[0m \u001b[0m_iterencode_dict\u001b[0m\u001b[1;33m(\u001b[0m\u001b[0mo\u001b[0m\u001b[1;33m,\u001b[0m \u001b[0m_current_indent_level\u001b[0m\u001b[1;33m)\u001b[0m\u001b[1;33m\u001b[0m\u001b[0m\n\u001b[0m\u001b[0;32m    431\u001b[0m         \u001b[1;32melse\u001b[0m\u001b[1;33m:\u001b[0m\u001b[1;33m\u001b[0m\u001b[0m\n\u001b[0;32m    432\u001b[0m             \u001b[1;32mif\u001b[0m \u001b[0mmarkers\u001b[0m \u001b[1;32mis\u001b[0m \u001b[1;32mnot\u001b[0m \u001b[1;32mNone\u001b[0m\u001b[1;33m:\u001b[0m\u001b[1;33m\u001b[0m\u001b[0m\n",
      "\u001b[1;32m~\\AppData\\Local\\Continuum\\anaconda3\\lib\\json\\encoder.py\u001b[0m in \u001b[0;36m_iterencode_dict\u001b[1;34m(dct, _current_indent_level)\u001b[0m\n\u001b[0;32m    374\u001b[0m                 \u001b[1;32mcontinue\u001b[0m\u001b[1;33m\u001b[0m\u001b[0m\n\u001b[0;32m    375\u001b[0m             \u001b[1;32melse\u001b[0m\u001b[1;33m:\u001b[0m\u001b[1;33m\u001b[0m\u001b[0m\n\u001b[1;32m--> 376\u001b[1;33m                 \u001b[1;32mraise\u001b[0m \u001b[0mTypeError\u001b[0m\u001b[1;33m(\u001b[0m\u001b[1;34m\"key \"\u001b[0m \u001b[1;33m+\u001b[0m \u001b[0mrepr\u001b[0m\u001b[1;33m(\u001b[0m\u001b[0mkey\u001b[0m\u001b[1;33m)\u001b[0m \u001b[1;33m+\u001b[0m \u001b[1;34m\" is not a string\"\u001b[0m\u001b[1;33m)\u001b[0m\u001b[1;33m\u001b[0m\u001b[0m\n\u001b[0m\u001b[0;32m    377\u001b[0m             \u001b[1;32mif\u001b[0m \u001b[0mfirst\u001b[0m\u001b[1;33m:\u001b[0m\u001b[1;33m\u001b[0m\u001b[0m\n\u001b[0;32m    378\u001b[0m                 \u001b[0mfirst\u001b[0m \u001b[1;33m=\u001b[0m \u001b[1;32mFalse\u001b[0m\u001b[1;33m\u001b[0m\u001b[0m\n",
      "\u001b[1;31mTypeError\u001b[0m: key 0 is not a string"
     ]
    }
   ],
   "source": [
    "N = 10\n",
    "K = 5\n",
    "\n",
    "landscapes = {}\n",
    "\n",
    "for seed in np.arange(30):\n",
    "    rng = np.random.default_rng(seed)\n",
    "    env = NK_landscape(N, K)\n",
    "    landscapes[seed] = env.fitness_dict\n",
    "    print(seed)\n",
    "\n",
    "file = 'N10K5_30.json' \n",
    "\n",
    "with open(file, 'w') as f: \n",
    "    json.dump(landscapes, f)"
   ]
  },
  {
   "cell_type": "code",
   "execution_count": 54,
   "id": "51491460",
   "metadata": {},
   "outputs": [],
   "source": [
    "file = 'N10K5_30.pkl' \n",
    "\n",
    "with open(file, 'wb') as f:\n",
    "    pickle.dump(landscapes, f)\n",
    "        "
   ]
  },
  {
   "cell_type": "code",
   "execution_count": 56,
   "id": "9ae50820",
   "metadata": {},
   "outputs": [],
   "source": [
    "with open(file, 'rb') as f:\n",
    "    data = pickle.load(f)"
   ]
  },
  {
   "cell_type": "code",
   "execution_count": 58,
   "id": "320dc884",
   "metadata": {},
   "outputs": [
    {
     "data": {
      "text/plain": [
       "dict_keys([0, 1, 2, 3, 4, 5, 6, 7, 8, 9, 10, 11, 12, 13, 14, 15, 16, 17, 18, 19, 20, 21, 22, 23, 24, 25, 26, 27, 28, 29])"
      ]
     },
     "execution_count": 58,
     "metadata": {},
     "output_type": "execute_result"
    }
   ],
   "source": [
    "data.keys()"
   ]
  },
  {
   "cell_type": "code",
   "execution_count": null,
   "id": "833bfdc9",
   "metadata": {},
   "outputs": [],
   "source": []
  },
  {
   "cell_type": "code",
   "execution_count": 62,
   "id": "d71326f1",
   "metadata": {},
   "outputs": [
    {
     "data": {
      "text/plain": [
       "0.45"
      ]
     },
     "execution_count": 62,
     "metadata": {},
     "output_type": "execute_result"
    }
   ],
   "source": [
    "nk = NK_landscape_loaded(10, 5, data[0])\n",
    "state = np.round(rng.random(env.N)).astype(int)\n",
    "nk.get_scaled_fitness(state)"
   ]
  },
  {
   "cell_type": "code",
   "execution_count": null,
   "id": "07797ab4",
   "metadata": {},
   "outputs": [],
   "source": []
  }
 ],
 "metadata": {
  "kernelspec": {
   "display_name": "Python 3",
   "language": "python",
   "name": "python3"
  },
  "language_info": {
   "codemirror_mode": {
    "name": "ipython",
    "version": 3
   },
   "file_extension": ".py",
   "mimetype": "text/x-python",
   "name": "python",
   "nbconvert_exporter": "python",
   "pygments_lexer": "ipython3",
   "version": "3.6.5"
  }
 },
 "nbformat": 4,
 "nbformat_minor": 5
}
