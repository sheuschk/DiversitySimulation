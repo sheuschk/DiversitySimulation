{
 "cells": [
  {
   "cell_type": "markdown",
   "id": "69ced8c7",
   "metadata": {},
   "source": [
    "# Collective search on NK landscapes"
   ]
  },
  {
   "cell_type": "code",
   "execution_count": null,
   "id": "daff3cfd",
   "metadata": {},
   "outputs": [],
   "source": []
  },
  {
   "cell_type": "code",
   "execution_count": 81,
   "id": "4e36580e",
   "metadata": {},
   "outputs": [],
   "source": [
    "import numpy as np\n",
    "# import pandas as pd\n",
    "import matplotlib.pyplot as plt\n",
    "from itertools import product\n",
    "import pickle"
   ]
  },
  {
   "cell_type": "code",
   "execution_count": 86,
   "id": "b78d1cd4",
   "metadata": {},
   "outputs": [],
   "source": [
    "class NK_landscape():\n",
    "    \n",
    "    def __init__(self, N=8, K=3, C = None, dependencies = None):\n",
    "        assert N >= K+1\n",
    "        \n",
    "        self.N = N\n",
    "        self.K = K\n",
    "        \n",
    "        if C is None or dependencies is None:\n",
    "            self.initialize_C()\n",
    "            self.initialize_dependencies()\n",
    "        else:\n",
    "            self.dependencies = dependencies\n",
    "            self.C = C\n",
    "\n",
    "        \n",
    "        self.combinations = np.array(list(product([0,1], repeat=K+1)))\n",
    "        self.max_value = None\n",
    "        self.min_value = None\n",
    "        \n",
    "        self.fitness_dict = {}\n",
    "        \n",
    "        self.init_values()\n",
    "        \n",
    "    \n",
    "    def initialize_dependencies(self):\n",
    "        \"\"\"[:,0] is connected with [:,1] --> [0,1] would mean node 0 has fluence on node 1\"\"\"\n",
    "        depend = np.zeros((self.N, self.K+1))\n",
    "        x = np.arange(self.N)\n",
    "        depend[:,0] = x\n",
    "        for _ in range(self.K):\n",
    "            depend[:,_+1] = np.roll(x,_+1)\n",
    "\n",
    "        self.dependencies = depend.astype(int)\n",
    "    \n",
    "    def initialize_C(self):\n",
    "        self.C = np.random.random((self.N,2**(self.K+1))).round(1)\n",
    "\n",
    "    def f(self, state):\n",
    "        assert len(state) == self.N\n",
    "        solution = []\n",
    "        for i in range(len(self.dependencies)):\n",
    "            for j, comb in enumerate(self.combinations):\n",
    "                if ([state[self.dependencies[i][_]] for _ in range(self.K+1)] == comb).all():\n",
    "                    solution.append(self.C[i][j])\n",
    "        \n",
    "        return solution, round(np.array(solution).mean(), 2)\n",
    "    \n",
    "    def init_values(self):\n",
    "        max_val = 0\n",
    "        min_val = 2\n",
    "        for sol in np.array(list(product([0,1], repeat=self.N))):\n",
    "            key = int(\"\".join(map(str, sol)), 2)\n",
    "            value = self.f(sol)[1]\n",
    "            self.fitness_dict[key] = value\n",
    "          \n",
    "            if max_val < value:\n",
    "                max_val = value\n",
    "            if min_val > value:\n",
    "                min_val = value\n",
    "        self.max_value = max_val\n",
    "        self.min_value = min_val\n",
    "        \n",
    "       \n",
    "    def get_scaled_fitness(self, state):\n",
    "        key = int(\"\".join(map(str, state)), 2)\n",
    "        value = self.fitness_dict[key]\n",
    "        return np.round((value - self.min_value) / (self.max_value - self.min_value), 2)"
   ]
  },
  {
   "cell_type": "code",
   "execution_count": 87,
   "id": "2281d17f",
   "metadata": {},
   "outputs": [],
   "source": [
    "class NK_landscape_loaded(NK_landscape):\n",
    "    \n",
    "    def __init__(self, N, K, fitness_dict):\n",
    "        assert N >= K+1\n",
    "        \n",
    "        self.N = N\n",
    "        self.K = K\n",
    "\n",
    "        \n",
    "        self.max_value = None\n",
    "        self.min_value = None\n",
    "        \n",
    "        self.fitness_dict = fitness_dict\n",
    "        self.init_min_max()\n",
    "                \n",
    "    \n",
    "    def f(self, state):\n",
    "        raise NotImplementedError(\"Only dictionary in loaded nk landscape\")\n",
    "        \n",
    "    \n",
    "    def init_min_max(self):\n",
    "        self.max_value = max(self.fitness_dict.values())\n",
    "        self.min_value = min(self.fitness_dict.values())\n",
    "        "
   ]
  },
  {
   "cell_type": "code",
   "execution_count": null,
   "id": "9d6a1769",
   "metadata": {},
   "outputs": [],
   "source": [
    "file = 'N10K5_30.pkl' # N=10, K=5, 30 landscapes (0-29 )\n",
    "# with open(file, 'rb') as f:\n",
    "    # landscapes = pickle.load(f)"
   ]
  },
  {
   "cell_type": "code",
   "execution_count": null,
   "id": "2eaa506e",
   "metadata": {},
   "outputs": [],
   "source": []
  },
  {
   "cell_type": "code",
   "execution_count": null,
   "id": "3c9d2a9c",
   "metadata": {},
   "outputs": [],
   "source": []
  },
  {
   "cell_type": "markdown",
   "id": "12bab5d0",
   "metadata": {},
   "source": [
    "### Collective Hill Climbing\n",
    "\n",
    "Several changes to the current state are assessed and a softmax decides which gets implemented\n",
    "\n",
    "- No real agents yet\n",
    "- Not voting\n",
    "- No features\n"
   ]
  },
  {
   "cell_type": "code",
   "execution_count": 66,
   "id": "e2f728fe",
   "metadata": {},
   "outputs": [],
   "source": [
    "def softmax(values, b=5, axis=0):\n",
    "    p = np.exp(values * b) / np.sum(np.exp(values * b), axis).reshape(-1,1)\n",
    "    if axis == 0:\n",
    "        return p[0]\n",
    "    return np.exp(values * b) / np.sum(np.exp(values * b), axis).reshape(-1,1)\n",
    "\n",
    "def bit_switch(digit, state):\n",
    "    if state[digit] == 1:\n",
    "        state[digit] = 0\n",
    "    else:\n",
    "        state[digit] = 1\n",
    "    return state"
   ]
  },
  {
   "cell_type": "code",
   "execution_count": 118,
   "id": "cc7ebee6",
   "metadata": {},
   "outputs": [],
   "source": [
    "rng = np.random.default_rng(0)\n"
   ]
  },
  {
   "cell_type": "code",
   "execution_count": 67,
   "id": "dd03f971",
   "metadata": {},
   "outputs": [],
   "source": [
    "iterations = 100\n",
    "N, K = 10, 5\n",
    "\n",
    "n_agents = 7\n",
    "\n",
    "env = NK_landscape(N, K)\n"
   ]
  },
  {
   "cell_type": "code",
   "execution_count": 70,
   "id": "fba5011b",
   "metadata": {},
   "outputs": [
    {
     "data": {
      "text/plain": [
       "array([0, 0, 1, 1, 1, 0, 1, 0, 1, 1])"
      ]
     },
     "execution_count": 70,
     "metadata": {},
     "output_type": "execute_result"
    }
   ],
   "source": [
    "state = np.round(rng.random(env.N)).astype(int)\n",
    "state"
   ]
  },
  {
   "cell_type": "code",
   "execution_count": null,
   "id": "8b521df8",
   "metadata": {},
   "outputs": [],
   "source": []
  },
  {
   "cell_type": "code",
   "execution_count": null,
   "id": "aea9d238",
   "metadata": {},
   "outputs": [],
   "source": []
  },
  {
   "cell_type": "code",
   "execution_count": 76,
   "id": "363c9963",
   "metadata": {},
   "outputs": [],
   "source": [
    "def run(env, iterations, rng):\n",
    "    \"\"\"Consider Multiple changes and softmax with annealing for choice\"\"\"\n",
    "    state = np.round(rng.random(env.N)).astype(int)\n",
    "    score = env.get_scaled_fitness(state)\n",
    "    state, score\n",
    "\n",
    "\n",
    "    all_scores = np.empty(iterations+1)\n",
    "    all_scores[0] = score\n",
    "\n",
    "    for i in range(iterations):\n",
    "        # every agents changes a random bit\n",
    "        digits = rng.integers(0, N, n_agents)\n",
    "\n",
    "        # Evaluate changes\n",
    "        search_states = np.array([bit_switch(digit, state.copy()) for digit in digits])\n",
    "        scores = np.array([env.get_scaled_fitness(search_state) for search_state in search_states])\n",
    "        # Softmax decides which to implement\n",
    "        p_proposals = softmax(scores, ((i+1)/iterations)*30 )\n",
    "        # print(p_proposals)\n",
    "        change_digit = rng.choice(np.arange(n_agents), p=p_proposals)\n",
    "\n",
    "        # if scores[change_digit] >= score:\n",
    "        state = search_states[change_digit]\n",
    "        score = scores[change_digit]\n",
    "\n",
    "        all_scores[i+1] = score\n",
    "    \n",
    "    return all_scores\n"
   ]
  },
  {
   "cell_type": "code",
   "execution_count": 161,
   "id": "7c3d2837",
   "metadata": {},
   "outputs": [
    {
     "name": "stdout",
     "output_type": "stream",
     "text": [
      "0\n",
      "50\n",
      "100\n",
      "150\n",
      "200\n",
      "250\n"
     ]
    }
   ],
   "source": [
    "rng = np.random.default_rng(0)\n",
    "\n",
    "\n",
    "iterations = 100\n",
    "n_trials = 300\n",
    "N, K = 10, 5\n",
    "\n",
    "\n",
    "score_tracker = np.empty((n_trials, iterations+1))\n",
    "env = NK_landscape(N, K)\n",
    "env.brute_force_max()\n",
    "\n",
    "for i in range(n_trials):\n",
    "    score_tracker[i] = run(env, iterations, rng)\n",
    "    if i%50 == 0:\n",
    "        print(i)"
   ]
  },
  {
   "cell_type": "code",
   "execution_count": 167,
   "id": "eb83021e",
   "metadata": {},
   "outputs": [
    {
     "data": {
      "text/plain": [
       "Text(0.5, 1.0, 'Considering Multiple changes')"
      ]
     },
     "execution_count": 167,
     "metadata": {},
     "output_type": "execute_result"
    },
    {
     "data": {
      "image/png": "[encoded data removed]",
      "text/plain": [
       "<Figure size 432x288 with 1 Axes>"
      ]
     },
     "metadata": {
      "needs_background": "light"
     },
     "output_type": "display_data"
    }
   ],
   "source": [
    "plt.plot(score_tracker.mean(axis=0))\n",
    "plt.xlabel(\"iterations\")\n",
    "plt.ylabel(\"Normalized score\")\n",
    "plt.title(\"Considering Multiple changes\")"
   ]
  },
  {
   "cell_type": "code",
   "execution_count": null,
   "id": "c922a95e",
   "metadata": {},
   "outputs": [],
   "source": []
  },
  {
   "cell_type": "markdown",
   "id": "15bb9128",
   "metadata": {},
   "source": [
    "## Information receiving Collective Search\n",
    "\n",
    "#### Agents Features\n",
    "**Information distribution for agents**\n",
    "Agents have a personality feature which corresponds to the bits they are can change $\\rho \\in [0,1]$ sampled from $\\mathbf{U}(0,1)$. The bit is sampled from $\\mathbf{N}(\\rho, 0.2)$, rounded and multiplied by 10. This means with $\\rho = 0.2$ a gaussian with mean 0.2 is sampled and the result (likely 0.2) is used to define the bit (which would be 2)\n",
    "\n",
    "\n",
    "**Communication ability**\n",
    "Agents have a feature $\\gamma$ which is the probability of receiving information about the proposed change of another agent. This means agents with high $\\gamma$ have more knowledge of possible improvements.\n",
    "\n",
    "\n",
    "**Performance Judgement**\n",
    "Additional every agent has an attribute $\\eta$ which models the competency of leading. After agents collect their information they assess which change they would propose if they are to decide the change. Some exploit their knowledge and choose the best, whereas others may have the information but do not know how to use it.\n",
    "\n",
    "\n",
    "#### Schedule\n",
    "1. Every agents makes local search in their knowledge area\n",
    "2. Agents communicate by receiving information of others\n",
    "3. Everyone Votes for one Agent to propose a change, based on their social influence\n",
    "4. Changes to the team performance is made\n",
    "5. Agents reinforce (positive or negative) the social influence of the speaker based on the performance difference\n",
    "\n",
    "**Optimization**\n",
    "- Stochatic Hill Climbing with inverse temperature\n",
    "\n",
    "**Learning**\n",
    "- Agents with high communication and good judgement should bring better proposals to the team and therefore emerge as leaders over time\n",
    "- Rescola Wagner RL based on performance differences"
   ]
  },
  {
   "cell_type": "markdown",
   "id": "4a263ef1",
   "metadata": {},
   "source": [
    "Implementation Steps:\n",
    "* [x] Agents draw a change randomly and softmax over the solutions decide which one gets picked\n",
    "* [ ] Add communication feature and always draw the same agent (n-1 agents random feature, 1 agent set high or low)\n",
    "    * Feature: Probability of receiving information\n",
    "    * [ ] Check difference in performance between high and low feature agent \n",
    "(* [ ] Test Skill feature as well)\n",
    "* [ ] Introduce weights to estimate social influence\n",
    "    * [ ] Add feature based RL\n",
    "    * [ ] Unbounded/ Bounded RL\n",
    "* [ ] Introduce information distribution based on feature"
   ]
  },
  {
   "cell_type": "markdown",
   "id": "03798138",
   "metadata": {},
   "source": [
    "#### Load nk landscapes form file"
   ]
  },
  {
   "cell_type": "code",
   "execution_count": 90,
   "id": "45e30fe0",
   "metadata": {},
   "outputs": [],
   "source": [
    "file = 'N10K5_30.pkl' # N=10, K=5, 30 landscapes (0-29 )\n",
    "with open(file, 'rb') as f:\n",
    "    landscapes = pickle.load(f)"
   ]
  },
  {
   "cell_type": "code",
   "execution_count": 91,
   "id": "f0efd43d",
   "metadata": {},
   "outputs": [],
   "source": [
    "rng = np.random.default_rng(0)"
   ]
  },
  {
   "cell_type": "code",
   "execution_count": 92,
   "id": "ce0cbba3",
   "metadata": {},
   "outputs": [],
   "source": [
    "def run_f(env, f_i, iterations, rng):\n",
    "    \"\"\"Test if Communication feature makes a difference in performance\"\"\"\n",
    "    # Initialize solution\n",
    "    state = np.round(rng.random(env.N)).astype(int)\n",
    "    score = env.get_scaled_fitness(state)\n",
    "    state, score\n",
    "\n",
    "\n",
    "    all_scores = np.empty(iterations+1)\n",
    "    all_scores[0] = score\n",
    "    \n",
    "    agents_index = np.arange(n_agents)\n",
    "    \n",
    "\n",
    "    for i in range(iterations):\n",
    "        # Changes of agents\n",
    "        digits = rng.integers(0, N, n_agents)\n",
    "\n",
    "        # Evaluation\n",
    "        search_states = np.array([bit_switch(digit, state.copy()) for digit in digits])\n",
    "        scores = np.array([env.get_scaled_fitness(search_state) for search_state in search_states])\n",
    "        \n",
    "        # Communication\n",
    "        communication_index = rng.random(n_agents) <= f_i\n",
    "        scores = scores[communication_index]\n",
    "        search_states = search_states[communication_index]\n",
    "        \n",
    "        if len(scores) == 0:\n",
    "            all_scores[i+1] = score\n",
    "            continue\n",
    "        \n",
    "        # Same agent draws from its solutions\n",
    "        p_proposals = softmax(scores, ((i+1)/iterations)*30 )\n",
    "        change_digit = rng.choice(np.arange(len(scores)), p=p_proposals)\n",
    "\n",
    "        # if scores[change_digit] >= score:\n",
    "        state = search_states[change_digit]\n",
    "        score = scores[change_digit]\n",
    "\n",
    "        all_scores[i+1] = score\n",
    "    \n",
    "    return all_scores\n"
   ]
  },
  {
   "cell_type": "code",
   "execution_count": 99,
   "id": "31c00422",
   "metadata": {},
   "outputs": [
    {
     "name": "stdout",
     "output_type": "stream",
     "text": [
      "0\n",
      "50\n",
      "100\n",
      "150\n",
      "200\n",
      "250\n",
      "300\n",
      "350\n",
      "400\n",
      "450\n"
     ]
    }
   ],
   "source": [
    "rng = np.random.default_rng(0)\n",
    "iterations = 100\n",
    "n_trials = 500\n",
    "N, K = 10, 5\n",
    "\n",
    "n_agents = 7\n",
    "\n",
    "# Communication feature of one agent\n",
    "f_high = 0.8\n",
    "f_low = 0.2\n",
    "score_f_high = np.empty((n_trials, iterations+1))\n",
    "score_f_low = np.empty((n_trials, iterations+1))\n",
    "\n",
    "\n",
    "for i in range(n_trials):\n",
    "    landscapes[rng.integers(0, 30)]\n",
    "    env = NK_landscape_loaded(N, K, landscapes[rng.integers(0,30)])\n",
    "    \n",
    "    score_f_high[i] = run_f(env, f_high, iterations, rng)\n",
    "    score_f_low[i] = run_f(env, f_low, iterations, rng)\n",
    "    if i%50 == 0:\n",
    "        print(i)\n",
    "     "
   ]
  },
  {
   "cell_type": "code",
   "execution_count": 100,
   "id": "048679a1",
   "metadata": {},
   "outputs": [
    {
     "data": {
      "text/plain": [
       "Text(0.5, 1.0, 'Team Perfomance - Decider receives options with with P=f')"
      ]
     },
     "execution_count": 100,
     "metadata": {},
     "output_type": "execute_result"
    },
    {
     "data": {
      "image/png": "[encoded data removed]",
      "text/plain": [
       "<Figure size 432x288 with 1 Axes>"
      ]
     },
     "metadata": {
      "needs_background": "light"
     },
     "output_type": "display_data"
    }
   ],
   "source": [
    "plt.plot(score_f_high.mean(axis=0), label=\"f=0.8\")\n",
    "plt.plot(score_f_low.mean(axis=0), label=\"f=0.2\")\n",
    "plt.legend()\n",
    "plt.xlabel(\"iterations\")\n",
    "plt.ylabel(\"Normalized score\")\n",
    "plt.title(\"Team Perfomance - Decider receives options with with P=f\")"
   ]
  },
  {
   "cell_type": "code",
   "execution_count": null,
   "id": "4c41feac",
   "metadata": {},
   "outputs": [],
   "source": []
  },
  {
   "cell_type": "code",
   "execution_count": 104,
   "id": "67800534",
   "metadata": {},
   "outputs": [],
   "source": [
    "def run_f_t(env, f_i, t_i, iterations, rng):\n",
    "    \"\"\"Test if Communication feature makes a difference in performance\"\"\"\n",
    "    # Initialize solution\n",
    "    state = np.round(rng.random(env.N)).astype(int)\n",
    "    score = env.get_scaled_fitness(state)\n",
    "    state, score\n",
    "\n",
    "\n",
    "    all_scores = np.empty(iterations+1)\n",
    "    all_scores[0] = score\n",
    "    \n",
    "    agents_index = np.arange(n_agents)\n",
    "    \n",
    "\n",
    "    for i in range(iterations):\n",
    "        # Changes of agents\n",
    "        digits = rng.integers(0, N, n_agents)\n",
    "\n",
    "        # Evaluation\n",
    "        search_states = np.array([bit_switch(digit, state.copy()) for digit in digits])\n",
    "        scores = np.array([env.get_scaled_fitness(search_state) for search_state in search_states])\n",
    "        \n",
    "        # Communication\n",
    "        communication_index = rng.random(n_agents) <= f_i\n",
    "        scores = scores[communication_index]\n",
    "        search_states = search_states[communication_index]\n",
    "        \n",
    "        if len(scores) == 0:\n",
    "            all_scores[i+1] = score\n",
    "            continue\n",
    "        \n",
    "        # Same agent draws from its solutions\n",
    "        p_proposals = softmax(scores, ((i+1)/iterations) * t_i) # ((i+1)/iterations)*30 )\n",
    "        change_digit = rng.choice(np.arange(len(scores)), p=p_proposals)\n",
    "\n",
    "        # if scores[change_digit] >= score:\n",
    "        state = search_states[change_digit]\n",
    "        score = scores[change_digit]\n",
    "\n",
    "        all_scores[i+1] = score\n",
    "    \n",
    "    return all_scores\n"
   ]
  },
  {
   "cell_type": "code",
   "execution_count": null,
   "id": "5a7699b2",
   "metadata": {},
   "outputs": [],
   "source": []
  },
  {
   "cell_type": "code",
   "execution_count": 101,
   "id": "e94fd69f",
   "metadata": {},
   "outputs": [
    {
     "name": "stdout",
     "output_type": "stream",
     "text": [
      "Start\n",
      "0\n",
      "50\n",
      "100\n",
      "150\n",
      "200\n",
      "250\n",
      "End\n"
     ]
    }
   ],
   "source": [
    "rng = np.random.default_rng(1)\n",
    "iterations = 80\n",
    "n_trials = 300\n",
    "N, K = 10, 5\n",
    "\n",
    "n_agents = 7\n",
    "\n",
    "\n",
    "# Communication feature of one agent\n",
    "f = 0.8\n",
    "t_low = 5\n",
    "t_high = 20\n",
    "score_t_high = np.empty((n_trials, iterations+1))\n",
    "score_t_low = np.empty((n_trials, iterations+1))\n",
    "\n",
    "print(\"Start\")\n",
    "for i in range(n_trials):\n",
    "    landscapes[rng.integers(0,30)]\n",
    "    env = NK_landscape_loaded(N, K, landscapes[rng.integers(0,30)])\n",
    "\n",
    "    score_t_high[i] = run_f_t(env, f, t_high, iterations, rng)\n",
    "    score_t_low[i] = run_f_t(env, f, t_low, iterations, rng)\n",
    "    if i%50 == 0:\n",
    "        print(i)\n",
    "print(\"End\")"
   ]
  },
  {
   "cell_type": "code",
   "execution_count": 102,
   "id": "19fd4b40",
   "metadata": {},
   "outputs": [
    {
     "data": {
      "text/plain": [
       "Text(0.5, 1.0, 'Team Perfomance - Inv. Temp of decider (f=0.8)')"
      ]
     },
     "execution_count": 102,
     "metadata": {},
     "output_type": "execute_result"
    },
    {
     "data": {
      "image/png": "[encoded data removed]",
      "text/plain": [
       "<Figure size 432x288 with 1 Axes>"
      ]
     },
     "metadata": {
      "needs_background": "light"
     },
     "output_type": "display_data"
    }
   ],
   "source": [
    "plt.plot(score_t_high.mean(axis=0), label=\"t=20\")\n",
    "plt.plot(score_t_low.mean(axis=0), label=\"t=5\")\n",
    "plt.legend()\n",
    "plt.xlabel(\"iterations\")\n",
    "plt.ylabel(\"Normalized score\")\n",
    "plt.title(\"Team Perfomance - Inv. Temp of decider (f=0.8)\")"
   ]
  },
  {
   "cell_type": "code",
   "execution_count": null,
   "id": "4c3e590b",
   "metadata": {},
   "outputs": [],
   "source": []
  },
  {
   "cell_type": "markdown",
   "id": "925483a1",
   "metadata": {},
   "source": [
    "### Check correlations of f and e"
   ]
  },
  {
   "cell_type": "code",
   "execution_count": 121,
   "id": "bbb2b342",
   "metadata": {},
   "outputs": [],
   "source": [
    "from scipy.stats.stats import pearsonr\n",
    "import seaborn as sns"
   ]
  },
  {
   "cell_type": "code",
   "execution_count": 160,
   "id": "f09a7d8a",
   "metadata": {},
   "outputs": [
    {
     "name": "stdout",
     "output_type": "stream",
     "text": [
      "Start\n",
      "0\n",
      "100\n",
      "200\n",
      "300\n",
      "400\n",
      "End\n"
     ]
    }
   ],
   "source": [
    "rng = np.random.default_rng(1)\n",
    "iterations = 80\n",
    "n_trials = 500\n",
    "N, K = 10, 5\n",
    "\n",
    "n_agents = 7\n",
    "\n",
    "\n",
    "# Communication feature of one agent\n",
    "results = np.empty((n_trials, 3))\n",
    "f = 0.8\n",
    "t = 30\n",
    "print(\"Start\")\n",
    "for i in range(n_trials):\n",
    "    landscapes[rng.integers(0,30)]\n",
    "    env = NK_landscape_loaded(N, K, landscapes[rng.integers(0,30)])\n",
    "    \n",
    "    f, t = rng.random(2)\n",
    "    # f = rng.random()\n",
    "    run_scores = run_f_t(env, f, t, iterations, rng)\n",
    "    \n",
    "    results[i] = [f, t, run_scores.mean()]\n",
    "    \n",
    "    if i%100 == 0:\n",
    "        print(i)\n",
    "print(\"End\")"
   ]
  },
  {
   "cell_type": "code",
   "execution_count": 167,
   "id": "7882ccf9",
   "metadata": {},
   "outputs": [
    {
     "name": "stdout",
     "output_type": "stream",
     "text": [
      "Corr f and mean:  (0.01397270459684648, 0.7552895123737139)\n",
      "Corr t and mean:  (0.07914966609640008, 0.07702990508638823)\n"
     ]
    },
    {
     "data": {
      "text/plain": [
       "[<matplotlib.lines.Line2D at 0x1e939b72710>]"
      ]
     },
     "execution_count": 167,
     "metadata": {},
     "output_type": "execute_result"
    },
    {
     "data": {
      "image/png": "[encoded data removed]",
      "text/plain": [
       "<Figure size 864x288 with 2 Axes>"
      ]
     },
     "metadata": {
      "needs_background": "light"
     },
     "output_type": "display_data"
    }
   ],
   "source": [
    "fig, axs = plt.subplots(1,2, figsize=(12,4))\n",
    "\n",
    "x = results[:,0]\n",
    "y = results[:,2]\n",
    "print(\"Corr f and mean: \", pearsonr(x, y))\n",
    "axs[0].scatter(x, y)\n",
    "m, c = np.polyfit(x, y, 1)\n",
    "axs[0].plot(x, m*x + c, 'r', label='Fitted line')\n",
    "axs[0].set_title(\"f: Communication probability both f and t\")\n",
    "\n",
    "\n",
    "x = results[:,1]\n",
    "y = results[:,2]\n",
    "print(\"Corr t and mean: \", pearsonr(x, y))\n",
    "axs[1].scatter(x, y)\n",
    "m, c = np.polyfit(x, y, 1)\n",
    "axs[1].set_title(\"t: Communication quality both f and t\")\n",
    "axs[1].plot(x, m*x + c, 'r')"
   ]
  },
  {
   "cell_type": "markdown",
   "id": "f72a1880",
   "metadata": {},
   "source": [
    "### Only using communication probability f"
   ]
  },
  {
   "cell_type": "code",
   "execution_count": 168,
   "id": "b33ae7a2",
   "metadata": {},
   "outputs": [
    {
     "name": "stdout",
     "output_type": "stream",
     "text": [
      "Start\n",
      "0\n",
      "100\n",
      "200\n",
      "300\n",
      "400\n",
      "End\n"
     ]
    }
   ],
   "source": [
    "rng = np.random.default_rng(1)\n",
    "iterations = 80\n",
    "n_trials = 500\n",
    "N, K = 10, 5\n",
    "\n",
    "n_agents = 7\n",
    "\n",
    "\n",
    "# Communication feature of one agent\n",
    "results = np.empty((n_trials, 2))\n",
    "f = 0.8\n",
    "t = 30\n",
    "print(\"Start\")\n",
    "for i in range(n_trials):\n",
    "    landscapes[rng.integers(0,30)]\n",
    "    env = NK_landscape_loaded(N, K, landscapes[rng.integers(0,30)])\n",
    "    \n",
    "    f = rng.random()\n",
    "    run_scores = run_f_t(env, f, t, iterations, rng)\n",
    "    \n",
    "    results[i] = [f, run_scores.mean()]\n",
    "    \n",
    "    if i%100 == 0:\n",
    "        print(i)\n",
    "print(\"End\")"
   ]
  },
  {
   "cell_type": "code",
   "execution_count": 169,
   "id": "bfd8dd6f",
   "metadata": {},
   "outputs": [
    {
     "name": "stdout",
     "output_type": "stream",
     "text": [
      "Corr t and mean:  (0.7762960672037016, 7.253765625556705e-102)\n"
     ]
    },
    {
     "data": {
      "text/plain": [
       "[<matplotlib.lines.Line2D at 0x1e939c25400>]"
      ]
     },
     "execution_count": 169,
     "metadata": {},
     "output_type": "execute_result"
    },
    {
     "data": {
      "image/png": "[encoded data removed]",
      "text/plain": [
       "<Figure size 432x288 with 1 Axes>"
      ]
     },
     "metadata": {
      "needs_background": "light"
     },
     "output_type": "display_data"
    }
   ],
   "source": [
    "x = results[:,0]\n",
    "y = results[:,1]\n",
    "print(\"Corr t and mean: \", pearsonr(x, y))\n",
    "plt.scatter(x, y)\n",
    "m, c = np.polyfit(x, y, 1)\n",
    "plt.title(\"Only f (t=30)\")\n",
    "plt.plot(x, m*x + c, 'r')"
   ]
  },
  {
   "cell_type": "markdown",
   "id": "6dbd5de9",
   "metadata": {},
   "source": [
    "Clear correlation between communication and mean score\n",
    "\n",
    "If the same agent with a high communication rate would be leader the performance would be good compared to low communication\n",
    "\n",
    "--> Kick out temperature t as parameter as it only damages the quality of Communication probability"
   ]
  },
  {
   "cell_type": "code",
   "execution_count": null,
   "id": "af13ea4a",
   "metadata": {},
   "outputs": [],
   "source": []
  },
  {
   "cell_type": "code",
   "execution_count": null,
   "id": "e926868e",
   "metadata": {},
   "outputs": [],
   "source": []
  },
  {
   "cell_type": "markdown",
   "id": "6890c2cc",
   "metadata": {},
   "source": [
    "### First simple RL (without feature based RL)\n",
    "f is now called gamma"
   ]
  },
  {
   "cell_type": "code",
   "execution_count": 291,
   "id": "4b324f21",
   "metadata": {},
   "outputs": [],
   "source": [
    "def run_voting(env, gammas, iterations, rng):\n",
    "    \"\"\"Test if Communication feature makes a difference in performance\"\"\"\n",
    "    # Initialize solution\n",
    "    state = np.round(rng.random(env.N)).astype(int)\n",
    "    score = env.get_scaled_fitness(state)\n",
    "    state, score\n",
    "\n",
    "\n",
    "    all_scores = np.empty(iterations+1)\n",
    "    all_scores[0] = score\n",
    "    \n",
    "    agents_index = np.arange(n_agents)\n",
    "    \n",
    "    t = 30\n",
    "    social_influence = np.zeros((n_agents, n_agents))\n",
    "\n",
    "    for i in range(iterations):\n",
    "        # Changes of agents\n",
    "        digits = rng.integers(0, N, n_agents)\n",
    "\n",
    "        # Evaluation\n",
    "        search_states = np.array([bit_switch(digit, state.copy()) for digit in digits])\n",
    "        scores = np.array([env.get_scaled_fitness(search_state) for search_state in search_states])\n",
    "        \n",
    "        # Communication\n",
    "        all_agent_scores = dict()\n",
    "        all_agent_states = dict()\n",
    "        for agent_i in range(n_agents):\n",
    "            communication_index = rng.random(n_agents) <= gammas[agent_i]\n",
    "            all_agent_scores[agent_i] = scores[communication_index]\n",
    "            all_agent_states[agent_i] = search_states[communication_index]\n",
    "        \n",
    "        # Vote # TODO sofmax along axis\n",
    "        p_votings = softmax(social_influence, 5, axis=1) # TODO: Which exploitation to use?\n",
    "        votes = []\n",
    "        for p in p_votings:\n",
    "            votes.append(rng.choice(np.arange(n_agents), p=p))\n",
    "        \n",
    "        vote_agent_index, vote_count = np.unique(np.array(votes), return_counts=True)\n",
    "        speaker = list(vote_count).index(max(vote_count))        # TODO: Always returns first index (if tie always the same gets chosen)\n",
    "        \n",
    "        # Applying solution\n",
    "        if len(all_agent_scores[speaker]) == 0:\n",
    "            # TODO Social update (if nothing happens)\n",
    "            social_influence[:,speaker] = social_influence[:,speaker] + 0.2 * (score * 0.9 - score)\n",
    "            all_scores[i+1] = score\n",
    "            continue\n",
    "        \n",
    "        # Speaker draws from its known solutions\n",
    "        scores = all_agent_scores[speaker]\n",
    "        p_proposals = softmax(scores, ((i+1)/iterations) * t)\n",
    "        change_digit = rng.choice(np.arange(len(scores)), p=p_proposals)\n",
    "\n",
    "        # Update social influence\n",
    "        \n",
    "        social_influence[:,speaker] = social_influence[:,speaker] + 0.2 * (scores[change_digit] - score)\n",
    "        \n",
    "        state = all_agent_states[speaker][change_digit]\n",
    "        score = scores[change_digit]\n",
    "        \n",
    "        \n",
    "        all_scores[i+1] = score\n",
    "    \n",
    "    return social_influence.mean(axis=0)\n"
   ]
  },
  {
   "cell_type": "code",
   "execution_count": null,
   "id": "4bdfdbd0",
   "metadata": {},
   "outputs": [],
   "source": []
  },
  {
   "cell_type": "code",
   "execution_count": 302,
   "id": "0f81e1cf",
   "metadata": {},
   "outputs": [
    {
     "name": "stdout",
     "output_type": "stream",
     "text": [
      "Start\n",
      "0\n",
      "100\n",
      "200\n",
      "300\n",
      "400\n",
      "End\n"
     ]
    }
   ],
   "source": [
    "rng = np.random.default_rng(1)\n",
    "iterations = 80\n",
    "n_trials = 500\n",
    "N, K = 10, 5\n",
    "\n",
    "n_agents = 7\n",
    "\n",
    "\n",
    "# Communication feature of one agent\n",
    "results = np.empty((n_trials*n_agents, 2))\n",
    "\n",
    "\n",
    "print(\"Start\")\n",
    "for i in range(n_trials):\n",
    "    landscapes[rng.integers(0,30)]\n",
    "    env = NK_landscape_loaded(N, K, landscapes[rng.integers(0,30)])\n",
    "    \n",
    "    gammas = rng.random(n_agents)\n",
    "    social_influence = run_voting(env, gammas, iterations, rng)\n",
    "    \n",
    "    results[i*n_agents : i*n_agents + n_agents][:,0] = gammas\n",
    "    results[i*n_agents : i*n_agents + n_agents][:,1] = social_influence \n",
    "    \n",
    "    if i%100 == 0:\n",
    "        print(i)\n",
    "print(\"End\")"
   ]
  },
  {
   "cell_type": "code",
   "execution_count": 303,
   "id": "0d738766",
   "metadata": {},
   "outputs": [
    {
     "name": "stdout",
     "output_type": "stream",
     "text": [
      "(0.5324635250104425, 1.4390258765586134e-255)\n"
     ]
    },
    {
     "data": {
      "image/png": "[encoded data removed]",
      "text/plain": [
       "<Figure size 432x288 with 1 Axes>"
      ]
     },
     "metadata": {
      "needs_background": "light"
     },
     "output_type": "display_data"
    }
   ],
   "source": [
    "x = results[:,0]\n",
    "plt.scatter(x, results[:,1])\n",
    "m, c = np.polyfit(x,  results[:,1], 1)\n",
    "plt.title(\"Influence of gamma onto ones social influence\")\n",
    "plt.plot(x, m*x + c, 'r')\n",
    "plt.xlabel(\"Size of Gamma\")\n",
    "plt.ylabel(\"Mean Social influence\")\n",
    "print(pearsonr(x, results[:,1]))"
   ]
  },
  {
   "cell_type": "code",
   "execution_count": null,
   "id": "724036ed",
   "metadata": {},
   "outputs": [],
   "source": []
  },
  {
   "cell_type": "code",
   "execution_count": null,
   "id": "be1f69a0",
   "metadata": {},
   "outputs": [],
   "source": []
  },
  {
   "cell_type": "code",
   "execution_count": null,
   "id": "66f18065",
   "metadata": {},
   "outputs": [],
   "source": []
  },
  {
   "cell_type": "code",
   "execution_count": null,
   "id": "263299b8",
   "metadata": {},
   "outputs": [],
   "source": []
  },
  {
   "cell_type": "code",
   "execution_count": null,
   "id": "1b168d29",
   "metadata": {},
   "outputs": [],
   "source": []
  },
  {
   "cell_type": "code",
   "execution_count": null,
   "id": "9dbccda5",
   "metadata": {},
   "outputs": [],
   "source": []
  }
 ],
 "metadata": {
  "kernelspec": {
   "display_name": "Python 3",
   "language": "python",
   "name": "python3"
  },
  "language_info": {
   "codemirror_mode": {
    "name": "ipython",
    "version": 3
   },
   "file_extension": ".py",
   "mimetype": "text/x-python",
   "name": "python",
   "nbconvert_exporter": "python",
   "pygments_lexer": "ipython3",
   "version": "3.6.5"
  }
 },
 "nbformat": 4,
 "nbformat_minor": 5
}
