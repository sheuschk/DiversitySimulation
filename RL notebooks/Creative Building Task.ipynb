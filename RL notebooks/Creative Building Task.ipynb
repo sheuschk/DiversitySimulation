{
 "cells": [
  {
   "cell_type": "markdown",
   "id": "05d442be",
   "metadata": {},
   "source": [
    "## Creative building task"
   ]
  },
  {
   "cell_type": "markdown",
   "id": "0581b9bf",
   "metadata": {},
   "source": [
    "Environment\n",
    "\n",
    "- [ ] Create example categories\n",
    "- [ ] Create example building blocks\n",
    "- [ ] Create example payoff\n",
    "- [ ] Test correlations of payoffs\n",
    "\n",
    "Agents\n",
    "- [ ] One Agent try and error learning \n"
   ]
  },
  {
   "cell_type": "markdown",
   "id": "81ffaf6a",
   "metadata": {},
   "source": []
  },
  {
   "cell_type": "code",
   "execution_count": 1,
   "id": "2bf2afc8",
   "metadata": {},
   "outputs": [
    {
     "name": "stderr",
     "output_type": "stream",
     "text": [
      "In C:\\Users\\simon\\AppData\\Local\\Continuum\\anaconda3\\lib\\site-packages\\matplotlib\\mpl-data\\stylelib\\_classic_test.mplstyle: \n",
      "The text.latex.preview rcparam was deprecated in Matplotlib 3.3 and will be removed two minor releases later.\n",
      "In C:\\Users\\simon\\AppData\\Local\\Continuum\\anaconda3\\lib\\site-packages\\matplotlib\\mpl-data\\stylelib\\_classic_test.mplstyle: \n",
      "The mathtext.fallback_to_cm rcparam was deprecated in Matplotlib 3.3 and will be removed two minor releases later.\n",
      "In C:\\Users\\simon\\AppData\\Local\\Continuum\\anaconda3\\lib\\site-packages\\matplotlib\\mpl-data\\stylelib\\_classic_test.mplstyle: Support for setting the 'mathtext.fallback_to_cm' rcParam is deprecated since 3.3 and will be removed two minor releases later; use 'mathtext.fallback : 'cm' instead.\n",
      "In C:\\Users\\simon\\AppData\\Local\\Continuum\\anaconda3\\lib\\site-packages\\matplotlib\\mpl-data\\stylelib\\_classic_test.mplstyle: \n",
      "The validate_bool_maybe_none function was deprecated in Matplotlib 3.3 and will be removed two minor releases later.\n",
      "In C:\\Users\\simon\\AppData\\Local\\Continuum\\anaconda3\\lib\\site-packages\\matplotlib\\mpl-data\\stylelib\\_classic_test.mplstyle: \n",
      "The savefig.jpeg_quality rcparam was deprecated in Matplotlib 3.3 and will be removed two minor releases later.\n",
      "In C:\\Users\\simon\\AppData\\Local\\Continuum\\anaconda3\\lib\\site-packages\\matplotlib\\mpl-data\\stylelib\\_classic_test.mplstyle: \n",
      "The keymap.all_axes rcparam was deprecated in Matplotlib 3.3 and will be removed two minor releases later.\n",
      "In C:\\Users\\simon\\AppData\\Local\\Continuum\\anaconda3\\lib\\site-packages\\matplotlib\\mpl-data\\stylelib\\_classic_test.mplstyle: \n",
      "The animation.avconv_path rcparam was deprecated in Matplotlib 3.3 and will be removed two minor releases later.\n",
      "In C:\\Users\\simon\\AppData\\Local\\Continuum\\anaconda3\\lib\\site-packages\\matplotlib\\mpl-data\\stylelib\\_classic_test.mplstyle: \n",
      "The animation.avconv_args rcparam was deprecated in Matplotlib 3.3 and will be removed two minor releases later.\n"
     ]
    }
   ],
   "source": [
    "import numpy as np\n",
    "# import pandas as pd\n",
    "import matplotlib.pyplot as plt"
   ]
  },
  {
   "cell_type": "code",
   "execution_count": 2,
   "id": "a860a927",
   "metadata": {},
   "outputs": [],
   "source": [
    "rng = np.random.default_rng(0)"
   ]
  },
  {
   "cell_type": "code",
   "execution_count": null,
   "id": "2f363822",
   "metadata": {},
   "outputs": [],
   "source": []
  },
  {
   "cell_type": "markdown",
   "id": "946b3c9f",
   "metadata": {},
   "source": [
    "### Bulding Blocks (Monster)\n",
    "\n",
    "**Parts**\n",
    "- Head\n",
    "- Body\n",
    "- Character\n",
    "- Movement\n",
    "- Supernatural ability\n",
    "\n",
    "**Payoff of Parts**\n",
    "- Scariness\n",
    "- Entertainment\n",
    "- Comedic"
   ]
  },
  {
   "cell_type": "code",
   "execution_count": 3,
   "id": "67ee806a",
   "metadata": {},
   "outputs": [
    {
     "data": {
      "text/plain": [
       "[<matplotlib.lines.Line2D at 0x1e17d521748>]"
      ]
     },
     "execution_count": 3,
     "metadata": {},
     "output_type": "execute_result"
    },
    {
     "data": {
      "image/png": "[encoded data removed]",
      "text/plain": [
       "<Figure size 432x288 with 1 Axes>"
      ]
     },
     "metadata": {
      "needs_background": "light"
     },
     "output_type": "display_data"
    }
   ],
   "source": [
    "# Unequal part distribution\n",
    "from scipy.stats import norm\n",
    "x_range = np.linspace(0,1)\n",
    "plt.plot(x_range, norm.pdf(x_range, 0, 0.5))\n"
   ]
  },
  {
   "cell_type": "code",
   "execution_count": 4,
   "id": "d9ba20ac",
   "metadata": {},
   "outputs": [
    {
     "data": {
      "text/plain": [
       "(array([209., 242., 191., 185., 142., 124., 117.,  72.,  55.,  40.]),\n",
       " array([4.44312501e-04, 1.00375072e-01, 2.00305832e-01, 3.00236592e-01,\n",
       "        4.00167352e-01, 5.00098112e-01, 6.00028871e-01, 6.99959631e-01,\n",
       "        7.99890391e-01, 8.99821151e-01, 9.99751911e-01]),\n",
       " <BarContainer object of 10 artists>)"
      ]
     },
     "execution_count": 4,
     "metadata": {},
     "output_type": "execute_result"
    },
    {
     "data": {
      "image/png": "[encoded data removed]",
      "text/plain": [
       "<Figure size 432x288 with 1 Axes>"
      ]
     },
     "metadata": {
      "needs_background": "light"
     },
     "output_type": "display_data"
    }
   ],
   "source": [
    "x_amount = rng.normal(0, 0.5, 3000)\n",
    "x_amount = x_amount[0 <= x_amount]\n",
    "x_amount = x_amount[x_amount <= 1]\n",
    "plt.hist(x_amount)\n"
   ]
  },
  {
   "cell_type": "code",
   "execution_count": 5,
   "id": "cdeac9a4",
   "metadata": {},
   "outputs": [
    {
     "data": {
      "text/plain": [
       "''"
      ]
     },
     "execution_count": 5,
     "metadata": {},
     "output_type": "execute_result"
    },
    {
     "data": {
      "image/png": "[encoded data removed]",
      "text/plain": [
       "<Figure size 936x288 with 3 Axes>"
      ]
     },
     "metadata": {
      "needs_background": "light"
     },
     "output_type": "display_data"
    }
   ],
   "source": [
    "n_parts = 10\n",
    "heads = x_amount[rng.integers(0, len(x_amount), n_parts)]\n",
    "bodies = x_amount[rng.integers(0, len(x_amount), n_parts)]\n",
    "ability = x_amount[rng.integers(0, len(x_amount), n_parts)]\n",
    "\n",
    "fig, ax = plt.subplots(1,3, figsize=(13,4))\n",
    "x = np.arange(1, n_parts+1)\n",
    "ax[0].set_xticks(x)\n",
    "ax[1].set_xticks(x)\n",
    "ax[2].set_xticks(x)\n",
    "\n",
    "ax[0].bar(x, height=heads)\n",
    "ax[1].bar(x, height=bodies)\n",
    "ax[2].bar(x, height=ability)\n",
    ";"
   ]
  },
  {
   "cell_type": "code",
   "execution_count": 6,
   "id": "394063ba",
   "metadata": {},
   "outputs": [
    {
     "data": {
      "text/plain": [
       "''"
      ]
     },
     "execution_count": 6,
     "metadata": {},
     "output_type": "execute_result"
    },
    {
     "data": {
      "image/png": "[encoded data removed]",
      "text/plain": [
       "<Figure size 936x288 with 3 Axes>"
      ]
     },
     "metadata": {
      "needs_background": "light"
     },
     "output_type": "display_data"
    }
   ],
   "source": [
    "# Starting of with one payoff per part\n",
    "n_parts = 5\n",
    "heads = rng.random(n_parts)\n",
    "bodies = rng.random(n_parts)\n",
    "ability = rng.random(n_parts)\n",
    "\n",
    "fig, ax = plt.subplots(1,3, figsize=(13,4))\n",
    "x = np.arange(1, n_parts+1)\n",
    "ax[0].set_xticks(x)\n",
    "ax[1].set_xticks(x)\n",
    "ax[2].set_xticks(x)\n",
    "\n",
    "ax[0].bar(x, height=heads)\n",
    "ax[1].bar(x, height=bodies)\n",
    "ax[2].bar(x, height=ability)\n",
    ";"
   ]
  },
  {
   "cell_type": "code",
   "execution_count": 7,
   "id": "98ce4e9b",
   "metadata": {},
   "outputs": [],
   "source": [
    "heads = np.stack((x, heads), axis=-1)\n",
    "bodies = np.stack((x, bodies), axis=-1)\n",
    "ability = np.stack((x, ability), axis=-1)"
   ]
  },
  {
   "cell_type": "code",
   "execution_count": 8,
   "id": "52393cc7",
   "metadata": {},
   "outputs": [
    {
     "data": {
      "text/plain": [
       "(array([[1.        , 0.91738742],\n",
       "        [2.        , 0.47855613],\n",
       "        [1.        , 0.26758124]]),\n",
       " 1.6635247864145337)"
      ]
     },
     "execution_count": 8,
     "metadata": {},
     "output_type": "execute_result"
    }
   ],
   "source": [
    "monster = np.vstack((rng.choice(heads), rng.choice(bodies), rng.choice(ability)))\n",
    "m_payoff = monster[:,1].sum()\n",
    "monster, m_payoff"
   ]
  },
  {
   "cell_type": "code",
   "execution_count": 9,
   "id": "4d595e56",
   "metadata": {},
   "outputs": [],
   "source": [
    "# For later use\n",
    "class Monster():\n",
    "    \n",
    "    def __init__(self, n_blocks=10):\n",
    "        self.head : np.array() = np.zeros(2) \n",
    "        self.body : np.array() = np.zeros(2)\n",
    "        self.ability : np.array() = np.zeros(2)\n",
    "        \n",
    "        self.all_blocks: np.array() = None\n",
    "        self._create_blocks(n_blocks)\n",
    "        self._init_min_monster()\n",
    "    \n",
    "    def _create_blocks(self, n_blocks, normal_dist=True):\n",
    "        x = np.arange(n_blocks)\n",
    "        if normal_dist is True: # Payoff Gauß distributed\n",
    "            x_amount = rng.normal(0, 0.5, 3000)\n",
    "            x_amount = x_amount[0 <= x_amount]\n",
    "            x_amount = x_amount[x_amount <= 1]\n",
    "            # TODO: Not create 3000 but just rng.normal the needed amount and clip\n",
    "            heads = np.stack((x, x_amount[rng.integers(0, len(x_amount), n_blocks)]), axis=-1)\n",
    "            bodies = np.stack((x, x_amount[rng.integers(0, len(x_amount), n_blocks)]), axis=-1)\n",
    "            ability = np.stack((x, x_amount[rng.integers(0, len(x_amount), n_blocks)]), axis=-1)\n",
    "            \n",
    "        else: # Payoff Uniform distributed\n",
    "            heads = np.stack((x, rng.random(n_blocks)), axis=-1)\n",
    "            bodies = np.stack((x, rng.random(n_blocks)), axis=-1)\n",
    "            ability = np.stack((x, rng.random(n_blocks)), axis=-1)\n",
    "        \n",
    "        self.all_blocks = np.stack((heads, bodies, ability))\n",
    "    \n",
    "    def _init_min_monster(self):\n",
    "        self.head = self.all_blocks[0][(self.all_blocks[0]==self.all_blocks[0].min(axis=0))[:,1]][0]\n",
    "        self.body = self.all_blocks[1][(self.all_blocks[1]==self.all_blocks[1].min(axis=0))[:,1]][0]\n",
    "        self.ability = self.all_blocks[2][(self.all_blocks[2]==self.all_blocks[2].min(axis=0))[:,1]][0]\n",
    "        \n",
    "    def get_payoff(self):\n",
    "        return self.head[1] + self.body[1] + self.ability[1]\n",
    "    \n",
    "    def get_build(self):\n",
    "        return np.array([self.head[0], self.body[0], self.ability[0]])\n",
    "        \n",
    "    def evaluate_proposal(self, proposal):\n",
    "        if proposal[0] == 0:\n",
    "            return proposal[1][1] + self.body[1] + self.ability[1]\n",
    "        if proposal[0] == 1:\n",
    "            return self.head[1] + proposal[1][1] + self.ability[1]\n",
    "        if proposal[0] == 2:\n",
    "            return self.head[1] + self.body[1] + proposal[1][1]\n",
    "        \n",
    "    def update_block(self, proposal):\n",
    "        if proposal[0] == 0:\n",
    "            self.head = proposal[1]\n",
    "        if proposal[0] == 1:\n",
    "            self.body = proposal[1]\n",
    "        if proposal[0] == 2:\n",
    "            self.ability = proposal[1]\n",
    "    "
   ]
  },
  {
   "cell_type": "code",
   "execution_count": 10,
   "id": "cdf9cb5b",
   "metadata": {},
   "outputs": [
    {
     "data": {
      "text/plain": [
       "0.24348005207615556"
      ]
     },
     "execution_count": 10,
     "metadata": {},
     "output_type": "execute_result"
    }
   ],
   "source": [
    "# all_blocks = np.stack((heads, bodies, ability))\n",
    "\n",
    "m = Monster(n_blocks=5)\n",
    "m.get_payoff()"
   ]
  },
  {
   "cell_type": "code",
   "execution_count": null,
   "id": "7cecb2bc",
   "metadata": {},
   "outputs": [],
   "source": []
  },
  {
   "cell_type": "code",
   "execution_count": null,
   "id": "d1abeab9",
   "metadata": {},
   "outputs": [],
   "source": []
  },
  {
   "cell_type": "markdown",
   "id": "89f15749",
   "metadata": {},
   "source": [
    "### Agents"
   ]
  },
  {
   "cell_type": "markdown",
   "id": "58205a22",
   "metadata": {},
   "source": [
    "* [ ] Discover necessary attributes\n",
    "* [ ] Suitable diversity measure\n",
    "* [ ] Transform diversity into knowledge\n",
    "* [ ] Basic cooperation to solve task"
   ]
  },
  {
   "cell_type": "code",
   "execution_count": 4,
   "id": "0614caca",
   "metadata": {},
   "outputs": [],
   "source": [
    "def softmax(values, b=1):\n",
    "    return np.exp(values * b)/ np.exp(values * b).sum()"
   ]
  },
  {
   "cell_type": "code",
   "execution_count": null,
   "id": "368d4582",
   "metadata": {},
   "outputs": [],
   "source": []
  },
  {
   "cell_type": "code",
   "execution_count": 12,
   "id": "8c1616a5",
   "metadata": {},
   "outputs": [
    {
     "data": {
      "text/plain": [
       "''"
      ]
     },
     "execution_count": 12,
     "metadata": {},
     "output_type": "execute_result"
    },
    {
     "data": {
      "image/png": "[encoded data removed]",
      "text/plain": [
       "<Figure size 1008x288 with 3 Axes>"
      ]
     },
     "metadata": {
      "needs_background": "light"
     },
     "output_type": "display_data"
    }
   ],
   "source": [
    "fig, ax = plt.subplots(1,3, figsize=(14,4), sharex=True)\n",
    "for i in range(3):\n",
    "    ax[i].set_xticks(np.arange(3))\n",
    "x_data = np.linspace(0,3,200)\n",
    "scale = 1\n",
    "ax[0].plot(x_data, norm.pdf(x_data, 0.5, scale))\n",
    "ax[1].plot(x_data, norm.pdf(x_data, 1.5, scale))\n",
    "ax[2].plot(x_data, norm.pdf(x_data, 2.5, scale))\n",
    "# ax[0].plot(np.clip(rng.normal(0.5, scale, 1000),0,2))\n",
    "# ax[1].plot(np.clip(rng.normal(1, scale, 1000),0,2))\n",
    "# ax[2].plot(np.clip(rng.normal(1.5, scale, 1000),0,2))\n",
    ";"
   ]
  },
  {
   "cell_type": "code",
   "execution_count": null,
   "id": "4746377b",
   "metadata": {},
   "outputs": [],
   "source": []
  },
  {
   "cell_type": "code",
   "execution_count": 13,
   "id": "ba7a539a",
   "metadata": {},
   "outputs": [],
   "source": [
    "# Create 3 agents (0.5, 1, 1.5)\n",
    "scale = 0.7\n",
    "means = [0.5, 1.5, 2.5]\n",
    "\n",
    "sample_n_blocks = 5\n",
    "x_range = np.linspace(0, 3, 100)\n",
    "# Every agent has a repertoire of 8 parts (one for every category + 5 special ones)\n",
    "# Agent 0\n",
    "p = softmax(norm.pdf(x_range, means[0], scale))\n",
    "sampled_block_types = rng.choice(x_range, p=p, size=sample_n_blocks)\n",
    "\n",
    "\n"
   ]
  },
  {
   "cell_type": "code",
   "execution_count": 14,
   "id": "fc254fb9",
   "metadata": {},
   "outputs": [
    {
     "data": {
      "text/plain": [
       "Text(0.5, 1.0, 'Example diversity of a single agent')"
      ]
     },
     "execution_count": 14,
     "metadata": {},
     "output_type": "execute_result"
    },
    {
     "data": {
      "image/png": "[encoded data removed]",
      "text/plain": [
       "<Figure size 432x288 with 1 Axes>"
      ]
     },
     "metadata": {
      "needs_background": "light"
     },
     "output_type": "display_data"
    }
   ],
   "source": [
    "plt.plot(x_range, norm.pdf(x_range, means[0], scale))\n",
    "plt.xticks([0,1,2,3])\n",
    "plt.xlabel(\"Category\")\n",
    "plt.ylabel(\"$\\propto$ Probabilty for choosing a category\")\n",
    "plt.title(\"Example diversity of a single agent\")"
   ]
  },
  {
   "cell_type": "code",
   "execution_count": 15,
   "id": "b58bc995",
   "metadata": {},
   "outputs": [
    {
     "data": {
      "text/plain": [
       "array([0.90909091, 2.84848485, 1.3030303 , 0.78787879, 0.54545455])"
      ]
     },
     "execution_count": 15,
     "metadata": {},
     "output_type": "execute_result"
    }
   ],
   "source": [
    "sampled_block_types"
   ]
  },
  {
   "cell_type": "code",
   "execution_count": null,
   "id": "9ec26505",
   "metadata": {},
   "outputs": [],
   "source": []
  },
  {
   "cell_type": "code",
   "execution_count": 16,
   "id": "75c636e1",
   "metadata": {},
   "outputs": [],
   "source": [
    "class Agent:\n",
    "    \n",
    "    def __init__(self, diversity_mean, scale, decision_probability, monster, n_blocks=5):\n",
    "        # self.rng = ...\n",
    "        self.diversity_mean = diversity_mean\n",
    "        self.diversity_scale = scale\n",
    "        self.decision_probability = decision_probability\n",
    "        \n",
    "        self.heads = None\n",
    "        self.bodies = None\n",
    "        self.abilities = None\n",
    "        \n",
    "        self.proposal = None\n",
    "        self.proposal_evaluations = []\n",
    "        \n",
    "        self._initialize_block_knowledge(monster, n_blocks)\n",
    "    \n",
    "    def _initialize_block_knowledge(self, monster, sample_n_blocks=5):\n",
    "        # mandatory 1 block per category?\n",
    "        x_range = np.linspace(0, 3, 30) # N_data_points = n_blocks\n",
    "        p = softmax(norm.pdf(x_range, self.diversity_mean, self.diversity_scale), b=5)\n",
    "        sampled_block_types = rng.choice(x_range, p=p, size=sample_n_blocks, replace=False)\n",
    "        \n",
    "        n_heads = np.sum(sampled_block_types<1)\n",
    "        n_abilities = np.sum(sampled_block_types>2) \n",
    "        n_bodies = sample_n_blocks - n_abilities - n_heads\n",
    "        \n",
    "        self.heads = rng.choice(monster.all_blocks[0], n_heads, replace=False)\n",
    "        self.bodies = rng.choice(monster.all_blocks[1], n_bodies, replace=False)\n",
    "        self.abilities = rng.choice(monster.all_blocks[2], n_abilities, replace=False)\n",
    "  \n",
    "    def choose_proposal(self):\n",
    "        if self.decision_probability >= rng.random():\n",
    "            block_type = rng.integers(3)\n",
    "            if block_type == 0 and len(self.heads)!= 0:\n",
    "                self.proposal = [block_type, rng.choice(self.heads, p=softmax(self.heads[:,1]))]\n",
    "            if block_type == 1 and len(self.bodies)!= 0:\n",
    "                self.proposal = [block_type, rng.choice(self.bodies, p=softmax(self.bodies[:,1]))]\n",
    "            if block_type == 2 and len(self.abilities)!= 0:\n",
    "                self.proposal = [block_type, rng.choice(self.abilities, p=softmax(self.abilities[:,1]))]\n",
    "        else:\n",
    "            self.proposal = None\n",
    "    \n",
    "    def get_proposal_evaluations(self):\n",
    "        return np.array(self.proposal_evaluations, dtype=object)\n",
    "    \n",
    "    def set_proposal_evaluations(self, evaluation):\n",
    "        self.proposal_evaluations.append(evaluation)\n",
    "    \n",
    "    def reset_proposal_evaluations(self):\n",
    "        self.proposal_evaluations = []\n",
    "        \n",
    "\n",
    "        \n"
   ]
  },
  {
   "cell_type": "code",
   "execution_count": 17,
   "id": "93e97538",
   "metadata": {},
   "outputs": [],
   "source": [
    "decision_probability = 0.5  # 1. Iteration all have the same"
   ]
  },
  {
   "cell_type": "code",
   "execution_count": 18,
   "id": "fb3561e3",
   "metadata": {},
   "outputs": [
    {
     "data": {
      "text/plain": [
       "(array([[2.        , 0.18822234],\n",
       "        [6.        , 0.83373914]]),\n",
       " array([[2.        , 0.55769683],\n",
       "        [3.        , 0.03451226],\n",
       "        [6.        , 0.08170868]]),\n",
       " array([], shape=(0, 2), dtype=float64))"
      ]
     },
     "execution_count": 18,
     "metadata": {},
     "output_type": "execute_result"
    }
   ],
   "source": [
    "monster = Monster(n_blocks=10)\n",
    "\n",
    "a0 = Agent(means[0], scale, decision_probability, monster)\n",
    "a1 = Agent(means[1], scale, decision_probability, monster)\n",
    "a2 = Agent(means[2], scale, decision_probability, monster)\n",
    "agents = np.array([a0, a1, a2])\n",
    "a1.heads, a1.bodies, a1.abilities"
   ]
  },
  {
   "cell_type": "code",
   "execution_count": null,
   "id": "d15acef0",
   "metadata": {},
   "outputs": [],
   "source": []
  },
  {
   "cell_type": "code",
   "execution_count": null,
   "id": "e64dd127",
   "metadata": {},
   "outputs": [],
   "source": []
  },
  {
   "cell_type": "code",
   "execution_count": null,
   "id": "e7e321a3",
   "metadata": {},
   "outputs": [],
   "source": []
  },
  {
   "cell_type": "markdown",
   "id": "865acde3",
   "metadata": {},
   "source": [
    "### Information distribution\n",
    "\n",
    "- Some agents propose a change to the monster\n",
    "- Each agent vote on which part they may want to exchange\n",
    "- Hinder information flow through the group:\n",
    "    - Not every agent knows of every solution\n",
    "    - Information about performance may be incorrectly communicated\n",
    "- \n",
    "\n",
    "**What social networks may represent:**\n",
    "- Communication paths\n",
    "- Social influence path\n",
    "- Probability of receiving information\n",
    "- Uncertainty of information (Information theory/ Encoder-Channel-Decoder)\n",
    "\n",
    "**Ideas**:\n",
    "- Inforamtion needs to wander through the group. Every iteration, the information may travel one person forward"
   ]
  },
  {
   "cell_type": "code",
   "execution_count": 19,
   "id": "088388e8",
   "metadata": {},
   "outputs": [
    {
     "name": "stdout",
     "output_type": "stream",
     "text": [
      "Initial (min) payoff: 0.04228389729881683 with build [8. 0. 6.]\n"
     ]
    }
   ],
   "source": [
    "# Set up a monster to start with\n",
    "# monster = Monster(n_blocks=10)\n",
    "print(f\"Initial (min) payoff: {monster.get_payoff()} with build {monster.get_build()}\")\n"
   ]
  },
  {
   "cell_type": "code",
   "execution_count": 20,
   "id": "35280de9",
   "metadata": {},
   "outputs": [
    {
     "name": "stdout",
     "output_type": "stream",
     "text": [
      "[[1.         0.32909304 0.06150983]\n",
      " [0.75583806 1.         0.44197957]\n",
      " [0.97357104 0.15087157 1.        ]]\n"
     ]
    }
   ],
   "source": [
    "# Social connections\n",
    "# net = np.ones((3,3), dtype=int)\n",
    "net = rng.random((3,3))\n",
    "np.fill_diagonal(net, 1) # Remember their own ideas\n",
    "print(net)"
   ]
  },
  {
   "cell_type": "code",
   "execution_count": 21,
   "id": "3ed9e55c",
   "metadata": {},
   "outputs": [
    {
     "name": "stdout",
     "output_type": "stream",
     "text": [
      "None\n",
      "[0, array([6.        , 0.83373914])]\n",
      "[1, array([8.        , 0.28703897])]\n"
     ]
    }
   ],
   "source": [
    "# Proposing\n",
    "\n",
    "# Decide if and which block they want to propose for change (based on softmax)\n",
    "proposals = []\n",
    "for a in agents:\n",
    "    a.choose_proposal()\n",
    "    print(a.proposal)"
   ]
  },
  {
   "cell_type": "code",
   "execution_count": 22,
   "id": "0cad0a82",
   "metadata": {},
   "outputs": [
    {
     "data": {
      "text/plain": [
       "array([[ True, False, False],\n",
       "       [False,  True,  True],\n",
       "       [ True, False,  True]])"
      ]
     },
     "execution_count": 22,
     "metadata": {},
     "output_type": "execute_result"
    }
   ],
   "source": [
    "net > rng.random(3)"
   ]
  },
  {
   "cell_type": "code",
   "execution_count": 23,
   "id": "36a8a105",
   "metadata": {},
   "outputs": [],
   "source": [
    "# Current solution \n",
    "current_payoff = monster.get_payoff()\n",
    "\n",
    "# Communicate the proposal to others\n",
    "for i,a in enumerate(agents):\n",
    "    a.reset_proposal_evaluations()\n",
    "\n",
    "for i,a in enumerate(agents):\n",
    "    if a.proposal is not None:\n",
    "        proposal_evaluation = monster.evaluate_proposal(a.proposal)\n",
    "        net[i] > rng.random(3)\n",
    "        for ag in agents[net[i] > rng.random(3)]:\n",
    "            ag.set_proposal_evaluations([i, proposal_evaluation])\n",
    "    \n",
    "        "
   ]
  },
  {
   "cell_type": "code",
   "execution_count": 24,
   "id": "144cbd2b",
   "metadata": {},
   "outputs": [
    {
     "name": "stdout",
     "output_type": "stream",
     "text": [
      "[[2, 0.29810567826405354]]\n",
      "[[1, 0.8682626031561048]]\n",
      "[[2, 0.29810567826405354]]\n"
     ]
    }
   ],
   "source": [
    "for a in agents:\n",
    "    print(a.proposal_evaluations)"
   ]
  },
  {
   "cell_type": "code",
   "execution_count": 25,
   "id": "e83a22bb",
   "metadata": {},
   "outputs": [
    {
     "data": {
      "text/plain": [
       "2"
      ]
     },
     "execution_count": 25,
     "metadata": {},
     "output_type": "execute_result"
    }
   ],
   "source": [
    "# Voting\n",
    "votes = np.zeros(3)\n",
    "for i, a in enumerate(agents):\n",
    "    vote_for_agent =rng.choice(a.get_proposal_evaluations()[:,0], p=softmax(a.get_proposal_evaluations()[:,1].astype(float)))\n",
    "    votes[vote_for_agent] += 1\n",
    "\n",
    "winner_proposal = votes.argmax()\n",
    "winner_proposal"
   ]
  },
  {
   "cell_type": "code",
   "execution_count": 26,
   "id": "8f8e850f",
   "metadata": {},
   "outputs": [
    {
     "name": "stdout",
     "output_type": "stream",
     "text": [
      "[1, array([8.        , 0.28703897])]\n"
     ]
    }
   ],
   "source": [
    "# Applying vote\n",
    "print(agents[winner_proposal].proposal)\n",
    "if monster.evaluate_proposal(agents[winner_proposal].proposal) > monster.get_payoff():\n",
    "    monster.update_block(agents[winner_proposal].proposal)"
   ]
  },
  {
   "cell_type": "code",
   "execution_count": 27,
   "id": "33617603",
   "metadata": {},
   "outputs": [
    {
     "name": "stdout",
     "output_type": "stream",
     "text": [
      "After one iteration payoff: 0.29810567826405354 with build [8. 8. 6.]\n"
     ]
    }
   ],
   "source": [
    "print(f\"After one iteration payoff: {monster.get_payoff()} with build {monster.get_build()}\")"
   ]
  },
  {
   "cell_type": "code",
   "execution_count": null,
   "id": "f5db8e58",
   "metadata": {},
   "outputs": [],
   "source": []
  },
  {
   "cell_type": "code",
   "execution_count": null,
   "id": "405945ce",
   "metadata": {},
   "outputs": [],
   "source": []
  },
  {
   "cell_type": "markdown",
   "id": "ac5b9fc6",
   "metadata": {},
   "source": [
    "**Multiple iterations**"
   ]
  },
  {
   "cell_type": "code",
   "execution_count": 28,
   "id": "4f846a57",
   "metadata": {},
   "outputs": [],
   "source": [
    "def run_simulation(rng, iterations=30, n_agents=6, n_blocks=5, scale=0.7, decision_probability=0.5 , prints=False, blocks_per_category=10):\n",
    "\n",
    "    # Set up a monster to start with\n",
    "    monster = Monster(blocks_per_category)\n",
    "    if prints:\n",
    "        print(f\"Initial (min) payoff: {round(monster.get_payoff(), 4)} with build {monster.get_build()}\")\n",
    "\n",
    "    # Set up agents\n",
    "    means = rng.random(n_agents) * 3  # [0.5, 1.5, 2.5 , 1, 0, 3];\n",
    "    agents = np.array([Agent(means[_], scale, decision_probability, monster, n_blocks) for _ in range(n_agents)])\n",
    "\n",
    "    # Probability of information distribution\n",
    "    net = rng.random((n_agents, n_agents))  # np.ones((n_agents, n_agents), dtype=int)\n",
    "    np.fill_diagonal(net, 1) # Remember their own ideas\n",
    "\n",
    "    \n",
    "    # Temp\n",
    "    \n",
    "    \n",
    "    # Run\n",
    "    monster_value_tracker = np.zeros(iterations+1)\n",
    "    monster_value_tracker[0] = monster.get_payoff()\n",
    "    for it in range(iterations):\n",
    "\n",
    "        # Prepare proposals\n",
    "        proposals = []\n",
    "        for a in agents:\n",
    "            a.choose_proposal()\n",
    "\n",
    "        # Distribute Info about proposals\n",
    "        for a in agents:\n",
    "            a.reset_proposal_evaluations()\n",
    "\n",
    "        for i, a in enumerate(agents):\n",
    "            if a.proposal is not None:\n",
    "                proposal_evaluation = monster.evaluate_proposal(a.proposal)\n",
    "                for ag in agents[net[i] > rng.random(n_agents)]: # agents[net[i].astype(bool)]:\n",
    "                    ag.set_proposal_evaluations([i, proposal_evaluation])\n",
    "\n",
    "        # Voting\n",
    "        votes = np.zeros(n_agents)\n",
    "        for i, a in enumerate(agents):\n",
    "            proposal_evaluations = a.get_proposal_evaluations()\n",
    "            if len(proposal_evaluations) != 0:\n",
    "                vote_for_agent =rng.choice(\n",
    "                    proposal_evaluations[:,0],\n",
    "                    p=softmax(proposal_evaluations[:,1].astype(float))\n",
    "                )\n",
    "                votes[vote_for_agent] += 1\n",
    "        winner_proposal = votes.argmax()\n",
    "\n",
    "        # Applying vote\n",
    "        if votes.sum() > 0 and monster.evaluate_proposal(agents[winner_proposal].proposal) > monster.get_payoff():\n",
    "            monster.update_block(agents[winner_proposal].proposal)\n",
    "\n",
    "        monster_value_tracker[it+1] = monster.get_payoff()\n",
    "        if iterations <=20 and prints:\n",
    "            print(f\"Iteration {it} payoff: {round(monster.get_payoff(),4)}; build {monster.get_build()}\")\n",
    "        \n",
    "    return monster_value_tracker, net"
   ]
  },
  {
   "cell_type": "code",
   "execution_count": 29,
   "id": "8eef9b31",
   "metadata": {},
   "outputs": [
    {
     "name": "stdout",
     "output_type": "stream",
     "text": [
      "Initial (min) payoff: 0.1548 with build [8. 3. 8.]\n"
     ]
    },
    {
     "data": {
      "text/plain": [
       "''"
      ]
     },
     "execution_count": 29,
     "metadata": {},
     "output_type": "execute_result"
    },
    {
     "data": {
      "image/png": "[encoded data removed]",
      "text/plain": [
       "<Figure size 432x288 with 1 Axes>"
      ]
     },
     "metadata": {
      "needs_background": "light"
     },
     "output_type": "display_data"
    }
   ],
   "source": [
    "seed = np.random.randint(100)\n",
    "rng = np.random.default_rng(seed)\n",
    "\n",
    "iterations = 30\n",
    "\n",
    "n_agents = 7\n",
    "n_blocks = 7\n",
    "scale = 0.5; \n",
    "decision_probability=0.3\n",
    "blocks_per_category  = 10\n",
    "prints = True\n",
    "\n",
    "values, net = run_simulation(rng, iterations, n_agents, n_blocks, scale, decision_probability, prints, blocks_per_category)\n",
    "\n",
    "plt.ylabel(\"Team Payoff\")\n",
    "plt.xlabel(\"iteration\")\n",
    "# plt.plot(np.ones(iterations+1) * all_blocks.max(axis=1)[:,1].sum(), label=\"max\")\n",
    "plt.plot(values, label=\"Monster\");\n",
    "plt.legend()\n",
    ";"
   ]
  },
  {
   "cell_type": "code",
   "execution_count": 30,
   "id": "0a9efbb0",
   "metadata": {},
   "outputs": [
    {
     "data": {
      "text/plain": [
       "''"
      ]
     },
     "execution_count": 30,
     "metadata": {},
     "output_type": "execute_result"
    },
    {
     "data": {
      "image/png": "[encoded data removed]",
      "text/plain": [
       "<Figure size 432x288 with 1 Axes>"
      ]
     },
     "metadata": {
      "needs_background": "light"
     },
     "output_type": "display_data"
    }
   ],
   "source": [
    "rng = np.random.default_rng(0)\n",
    "\n",
    "n_simulations = 2000\n",
    "iterations = 30\n",
    "\n",
    "n_agents = 7\n",
    "n_blocks = 7\n",
    "scale = 0.5; \n",
    "decision_probability=0.5\n",
    "\n",
    "all_values = np.zeros((n_simulations, iterations+1))\n",
    "for i_sim in range(n_simulations):\n",
    "    all_values[i_sim],  _ = run_simulation(rng, iterations, n_agents, n_blocks, scale, decision_probability)\n",
    "\n",
    "\n",
    "plt.title(\"Mean team performance\")\n",
    "plt.ylabel(\"Team Payoff\")\n",
    "plt.xlabel(\"iteration\")\n",
    "# plt.plot(np.ones(iterations+1) * all_blocks.max(axis=1)[:,1].sum(), label=\"max\")\n",
    "plt.plot(all_values.mean(axis=0), label=\"Monster\");\n",
    "plt.legend()\n",
    ";"
   ]
  },
  {
   "cell_type": "code",
   "execution_count": null,
   "id": "fce28963",
   "metadata": {},
   "outputs": [],
   "source": []
  },
  {
   "cell_type": "code",
   "execution_count": null,
   "id": "2c65254e",
   "metadata": {},
   "outputs": [],
   "source": []
  },
  {
   "cell_type": "code",
   "execution_count": null,
   "id": "04d552b8",
   "metadata": {},
   "outputs": [],
   "source": []
  },
  {
   "cell_type": "code",
   "execution_count": null,
   "id": "3eb48457",
   "metadata": {},
   "outputs": [],
   "source": []
  },
  {
   "cell_type": "code",
   "execution_count": null,
   "id": "ae99e0e0",
   "metadata": {},
   "outputs": [],
   "source": []
  },
  {
   "cell_type": "code",
   "execution_count": null,
   "id": "04379e73",
   "metadata": {},
   "outputs": [],
   "source": []
  },
  {
   "cell_type": "code",
   "execution_count": null,
   "id": "2f97cc46",
   "metadata": {},
   "outputs": [],
   "source": []
  },
  {
   "cell_type": "code",
   "execution_count": null,
   "id": "ea07640b",
   "metadata": {},
   "outputs": [],
   "source": []
  },
  {
   "cell_type": "code",
   "execution_count": null,
   "id": "2e8db1ce",
   "metadata": {},
   "outputs": [],
   "source": []
  },
  {
   "cell_type": "code",
   "execution_count": null,
   "id": "772fa76e",
   "metadata": {},
   "outputs": [],
   "source": []
  },
  {
   "cell_type": "code",
   "execution_count": null,
   "id": "9824c67e",
   "metadata": {},
   "outputs": [],
   "source": []
  },
  {
   "cell_type": "code",
   "execution_count": null,
   "id": "852437ab",
   "metadata": {},
   "outputs": [],
   "source": []
  },
  {
   "cell_type": "code",
   "execution_count": null,
   "id": "2e785d25",
   "metadata": {},
   "outputs": [],
   "source": []
  },
  {
   "cell_type": "code",
   "execution_count": 115,
   "id": "78218f65",
   "metadata": {},
   "outputs": [
    {
     "data": {
      "text/plain": [
       "''"
      ]
     },
     "execution_count": 115,
     "metadata": {},
     "output_type": "execute_result"
    },
    {
     "data": {
      "image/png": "[encoded data removed]",
      "text/plain": [
       "<Figure size 432x288 with 1 Axes>"
      ]
     },
     "metadata": {
      "needs_background": "light"
     },
     "output_type": "display_data"
    }
   ],
   "source": [
    "rng = np.random.default_rng(0)\n",
    "\n",
    "n_simulations = 200\n",
    "iterations = 30\n",
    "\n",
    "n_agents = 8\n",
    "n_blocks = 8\n",
    "scale = 0.7; \n",
    "decision_probability=0.7\n",
    "\n",
    "all_values_2 = np.zeros((n_simulations, iterations+1))\n",
    "for i_sim in range(n_simulations):\n",
    "    all_values_2[i_sim], _ = run_simulation(rng, iterations, n_agents, n_blocks, scale, decision_probability)\n",
    "##############\n",
    "\n",
    "n_agents = 8\n",
    "n_blocks = 8\n",
    "scale = 0.7; \n",
    "decision_probability=0.3\n",
    "\n",
    "all_values_3 = np.zeros((n_simulations, iterations+1))\n",
    "for i_sim in range(n_simulations):\n",
    "    all_values_3[i_sim], _ = run_simulation(rng, iterations, n_agents, n_blocks, scale, decision_probability)\n",
    "####################\n",
    "\n",
    "n_agents = 8\n",
    "n_blocks = 4\n",
    "scale = 0.7; \n",
    "decision_probability=0.5\n",
    "\n",
    "all_values_4 = np.zeros((n_simulations, iterations+1))\n",
    "for i_sim in range(n_simulations):\n",
    "    all_values_4[i_sim], _ = run_simulation(rng, iterations, n_agents, n_blocks, scale, decision_probability)\n",
    "########################\n",
    "    \n",
    "n_agents = 5\n",
    "n_blocks = 5\n",
    "scale = 0.5; \n",
    "decision_probability=0.5\n",
    "\n",
    "all_values_5 = np.zeros((n_simulations, iterations+1))\n",
    "for i_sim in range(n_simulations):\n",
    "    all_values_5[i_sim], _ = run_simulation(rng, iterations, n_agents, n_blocks, scale, decision_probability)\n",
    "############################\n",
    "\n",
    "plt.title(\"Mean team performance\")\n",
    "plt.ylabel(\"Team Payoff\")\n",
    "plt.xlabel(\"iteration\")\n",
    "# plt.plot(np.ones(iterations+1) * all_blocks.max(axis=1)[:,1].sum(), label=\"max\")\n",
    "plt.plot(all_values.mean(axis=0), label=\"Other sim\");\n",
    "plt.plot(all_values_2.mean(axis=0), label=\"Big decisive team\");\n",
    "plt.plot(all_values_3.mean(axis=0), label=\"Big undecisive team\");\n",
    "plt.plot(all_values_4.mean(axis=0), label=\"Big no blocks team\");\n",
    "plt.plot(all_values_5.mean(axis=0), label=\"All 5 team\");\n",
    "\n",
    "plt.legend()\n",
    ";"
   ]
  },
  {
   "cell_type": "code",
   "execution_count": null,
   "id": "73ea28d5",
   "metadata": {},
   "outputs": [],
   "source": []
  },
  {
   "cell_type": "code",
   "execution_count": null,
   "id": "e763290e",
   "metadata": {},
   "outputs": [],
   "source": []
  },
  {
   "cell_type": "markdown",
   "id": "3a692454",
   "metadata": {},
   "source": [
    "#### Dynamic social learning\n",
    "Open questions:\n",
    "- Should learning be based:\n",
    "    - solely on behavioural data/ outcome\n",
    "    - also on discrete features (having high XY -> positive reinforcement)\n",
    "- How to build a objective activity & performance data basis to learn on\n",
    "    - Communication is central component, but impacted by the social network which should be reinforced\n",
    "\n",
    "Parameters:\n",
    "- Some form of activity (biased by network connection)\n",
    "- maybe directly see other agents attributes (discrete)(how many blocks, probability for activity, diversity)\n",
    "- diversity parameter\n",
    "- Quality of proposals (softmax inverse temperature?) \n",
    "\n",
    "\n",
    "Algorithms/ Techniques:\n",
    "- Regression task (Baysian)\n",
    "    - What would be the label?\n",
    "    - Learn from payoff and amount of proposed changes?\n",
    "    - Activity from other agents as data points \n",
    "    - Potential loss to minimize?\n",
    "        - Some form of communication cost? (length of travel?)\n",
    "- Maximum Likelihood/ Maximum a posteriori\n",
    "    - P(activity| trust_parameters) \n",
    "    - Diversity to bias prior?\n",
    "    - Is data iid?\n",
    "    - MAP searches for the most likely $\\theta$ given data. And is used to train predictors\n",
    "        - We don't want to predict activity --> we want reinforcement of communication based on activity\n",
    "- Reinforcement learning\n",
    "    - Communication or voting success as feedback\n",
    "    - Q-learning on activity as clue\n",
    "        - ability to scale lr based on diversity\n",
    "    - can RL integrate discrete features which would not impact behaviour?\n",
    "        \n",
    "- Bayes Network\n",
    "\n",
    "\n",
    "    \n",
    "\n",
    "Theory:\n",
    "- Connections to leaders should get a high value (high probability/ trust/...)\n",
    "- Positive correlations of \n",
    "    - MTL attribute\n",
    "    - skill/ competence\n",
    "    - communication (quantity/ quality)\n",
    "- Leaders need to gather & distribute information\n",
    "    - Connections in both directions high\n",
    "    \n",
    "    \n",
    "- Low social values would indicate ostracism\n",
    "    - No one trusts this agent and no one wants to listen to this agent\n",
    "\n",
    "Network:\n",
    "- Incoming and outgoing connections\n",
    "\n",
    "| s | A1 | A2 | A3 |  \n",
    "|---|---|---|---|\n",
    "| A1 | 1 | 0 | 0 |  \n",
    "| A2 | 0 | 1 | 0 |  \n",
    "| A3 | 0 | 0 | 1 |  \n",
    "\n",
    "- $s_{1,2}$: \n",
    "    - if high: Agent 1 is likely to communicate information to Agent 2\n",
    "--> Only one matrix: Leaders need to convince others to give them information and at the same time be talkative to get own values high\n",
    "\n",
    "Adaption of matrix values underlies:\n",
    "- The agents talkativness/ willigness to distribute its information\n",
    "- Reinforcement of the receiver to want information from an individual \n",
    "--> Each matrix value is impacted by sender and receiver: willingness to send and willigness to receive\n",
    "    "
   ]
  },
  {
   "cell_type": "code",
   "execution_count": null,
   "id": "9f12b7c9",
   "metadata": {},
   "outputs": [],
   "source": []
  },
  {
   "cell_type": "code",
   "execution_count": null,
   "id": "3ea2ec48",
   "metadata": {},
   "outputs": [],
   "source": []
  },
  {
   "cell_type": "markdown",
   "id": "9b805b8a",
   "metadata": {},
   "source": [
    "#### Alternative communication & voting"
   ]
  },
  {
   "cell_type": "code",
   "execution_count": null,
   "id": "23afb520",
   "metadata": {},
   "outputs": [],
   "source": []
  },
  {
   "cell_type": "code",
   "execution_count": null,
   "id": "b045615d",
   "metadata": {},
   "outputs": [],
   "source": []
  },
  {
   "cell_type": "code",
   "execution_count": null,
   "id": "e4c14ea2",
   "metadata": {},
   "outputs": [],
   "source": []
  },
  {
   "cell_type": "markdown",
   "id": "667d6745",
   "metadata": {},
   "source": [
    "##### Alternative Monster payoff\n",
    "* Relating building blocks to each other\n",
    "* One category = one dimension\n",
    "* Agents can have perfect knowledge in one dimension (having a 1D utility function) but imperfect knowledge in the others\n",
    "\n",
    "* --> Learn how the information feature correlates to the performance changes\n",
    "\n",
    "Environment optimization algorithm:\n",
    "* Hill climbing as team? \n",
    "    * proposals by evaluating neighbouring solutions for one dimension and proposing change in it\n",
    "    * 5*5*5 = 125 possible solutions changing only to neighbours\n",
    "    \n",
    "\n",
    "Difficulty is the information distribution\n"
   ]
  },
  {
   "cell_type": "code",
   "execution_count": 5,
   "id": "fbd7cce5",
   "metadata": {},
   "outputs": [],
   "source": [
    "from scipy.stats import multivariate_normal"
   ]
  },
  {
   "cell_type": "code",
   "execution_count": 37,
   "id": "8e6cdc14",
   "metadata": {},
   "outputs": [],
   "source": [
    "grid_size = 5  # Solution space"
   ]
  },
  {
   "cell_type": "code",
   "execution_count": 38,
   "id": "f5793ad1",
   "metadata": {},
   "outputs": [
    {
     "data": {
      "text/plain": [
       "<mpl_toolkits.mplot3d.art3d.Poly3DCollection at 0x1e17f67e0f0>"
      ]
     },
     "execution_count": 38,
     "metadata": {},
     "output_type": "execute_result"
    },
    {
     "data": {
      "image/png": "[encoded data removed]",
      "text/plain": [
       "<Figure size 576x576 with 1 Axes>"
      ]
     },
     "metadata": {
      "needs_background": "light"
     },
     "output_type": "display_data"
    }
   ],
   "source": [
    "x = y = np.linspace(0, 1, grid_size)\n",
    "xx, yy = np.meshgrid(x, y)\n",
    "pos = np.dstack((xx, yy))\n",
    "\n",
    "means = [0.3, .7]\n",
    "cov = [[0.3, 0.1], [0.3, 0.4]]\n",
    "\n",
    "prob = multivariate_normal(means, cov)\n",
    "fitness_m = prob.pdf(pos) \n",
    "fitness_m = fitness_m * (1 / fitness_m.max())\n",
    "# print(fitness_m.pdf(pos))\n",
    "\n",
    "fig = plt.figure(figsize=(8, 8))\n",
    "ax = plt.axes(projection=\"3d\")\n",
    "ax.plot_surface(xx, yy, fitness_m, linewidth=0, cmap='jet', shade=\"false\")"
   ]
  },
  {
   "cell_type": "code",
   "execution_count": null,
   "id": "25316463",
   "metadata": {},
   "outputs": [],
   "source": []
  },
  {
   "cell_type": "code",
   "execution_count": null,
   "id": "910ed1f0",
   "metadata": {},
   "outputs": [],
   "source": []
  },
  {
   "cell_type": "code",
   "execution_count": null,
   "id": "637ddf9a",
   "metadata": {},
   "outputs": [],
   "source": []
  },
  {
   "cell_type": "markdown",
   "id": "8ed4f0f4",
   "metadata": {},
   "source": [
    "#### NK landscape\n",
    "\n",
    "Example from https://link.springer.com/article/10.1186/s41469-018-0039-0"
   ]
  },
  {
   "cell_type": "code",
   "execution_count": 221,
   "id": "64d88a31",
   "metadata": {},
   "outputs": [],
   "source": [
    "from itertools import product\n",
    "import networkx as nx"
   ]
  },
  {
   "cell_type": "code",
   "execution_count": 212,
   "id": "cc74ce1a",
   "metadata": {},
   "outputs": [
    {
     "name": "stdout",
     "output_type": "stream",
     "text": [
      "[[1 0 1]\n",
      " [1 1 0]\n",
      " [0 1 1]]\n"
     ]
    }
   ],
   "source": [
    "# Interaction matrix\n",
    "K = 1\n",
    "N = 3\n",
    "assert K+1 <= N\n",
    "I = np.array([[1,0,1],[1,1,0],[0,1,1]])\n",
    "\n",
    "print(I)"
   ]
  },
  {
   "cell_type": "code",
   "execution_count": 190,
   "id": "e85fe113",
   "metadata": {},
   "outputs": [
    {
     "data": {
      "text/plain": [
       "array([[0, 0],\n",
       "       [0, 1],\n",
       "       [1, 0],\n",
       "       [1, 1]])"
      ]
     },
     "execution_count": 190,
     "metadata": {},
     "output_type": "execute_result"
    }
   ],
   "source": [
    "combs = np.array(list(product([0,1], repeat=K+1)))\n",
    "combs"
   ]
  },
  {
   "cell_type": "code",
   "execution_count": null,
   "id": "17e76eca",
   "metadata": {},
   "outputs": [],
   "source": []
  },
  {
   "cell_type": "code",
   "execution_count": 166,
   "id": "17c0aa56",
   "metadata": {},
   "outputs": [
    {
     "data": {
      "text/plain": [
       "array([[0.9, 0.5, 0.3, 0.7],\n",
       "       [0.8, 0. , 0. , 0.3],\n",
       "       [0.1, 0.5, 0.2, 0.9]])"
      ]
     },
     "execution_count": 166,
     "metadata": {},
     "output_type": "execute_result"
    }
   ],
   "source": [
    "C = np.zeros((N, len(combs),))\n",
    "# Values from example\n",
    "C[0] = np.array([0.9, .5, .3, .7])\n",
    "C[1] = np.array([0.8, 0, 0, 0.3])\n",
    "C[2] = np.array([.1, .5, .2, .9])\n",
    "C"
   ]
  },
  {
   "cell_type": "code",
   "execution_count": 216,
   "id": "45692a5c",
   "metadata": {},
   "outputs": [],
   "source": [
    "def create_C(N, K):\n",
    "    C = np.random.random((N,2**(K+1))).round(1)\n",
    "    return C"
   ]
  },
  {
   "cell_type": "code",
   "execution_count": 217,
   "id": "74ef78ca",
   "metadata": {},
   "outputs": [
    {
     "data": {
      "text/plain": [
       "array([[0.4, 0. , 0.7, 0.7],\n",
       "       [0.9, 0.3, 0.1, 0.6],\n",
       "       [0.8, 0.9, 0.8, 0.5]])"
      ]
     },
     "execution_count": 217,
     "metadata": {},
     "output_type": "execute_result"
    }
   ],
   "source": [
    "create_C(N, K)"
   ]
  },
  {
   "cell_type": "code",
   "execution_count": 375,
   "id": "5b7d4cd7",
   "metadata": {},
   "outputs": [],
   "source": [
    "# TODO: Dependencies are always in same direction (make it random)\n",
    "def create_dependency(N, K):\n",
    "    \"\"\"[:,0] is connected with [:,1] --> [0,1] would mean node 0 is has fluence on node 1\"\"\"\n",
    "    assert N >= K+1\n",
    "    depend = np.zeros((N*K, 2))\n",
    "    x = np.arange(N)\n",
    "    for _ in range(K):\n",
    "        depend[:,0][N*_: N*_ +N] = x\n",
    "        depend[:,1][N*_: N*_ +N] = np.roll(x,_+1)\n",
    "\n",
    "    return depend.astype(int)"
   ]
  },
  {
   "cell_type": "code",
   "execution_count": 376,
   "id": "29fda79a",
   "metadata": {},
   "outputs": [
    {
     "data": {
      "text/plain": [
       "array([[0, 2, 0],\n",
       "       [2, 0, 0],\n",
       "       [1, 1, 0]])"
      ]
     },
     "execution_count": 376,
     "metadata": {},
     "output_type": "execute_result"
    }
   ],
   "source": [
    "K=2\n",
    "G = nx.random_k_out_graph(N, K, 1, self_loops=False)\n",
    "nx.to_numpy_array(G).astype(int)"
   ]
  },
  {
   "cell_type": "code",
   "execution_count": null,
   "id": "a23e8b24",
   "metadata": {},
   "outputs": [],
   "source": []
  },
  {
   "cell_type": "code",
   "execution_count": 377,
   "id": "909967fa",
   "metadata": {},
   "outputs": [
    {
     "data": {
      "text/plain": [
       "array([[0, 3],\n",
       "       [1, 0],\n",
       "       [2, 1],\n",
       "       [3, 2],\n",
       "       [0, 2],\n",
       "       [1, 3],\n",
       "       [2, 0],\n",
       "       [3, 1]])"
      ]
     },
     "execution_count": 377,
     "metadata": {},
     "output_type": "execute_result"
    }
   ],
   "source": [
    "N = 4\n",
    "K = 2\n",
    "create_dependency(N, K)"
   ]
  },
  {
   "cell_type": "code",
   "execution_count": null,
   "id": "fca99aaf",
   "metadata": {},
   "outputs": [],
   "source": []
  },
  {
   "cell_type": "code",
   "execution_count": 378,
   "id": "9982645a",
   "metadata": {},
   "outputs": [],
   "source": [
    "def f(v, conns, C):\n",
    "    solution = []\n",
    "    for i in range(len(conns)):\n",
    "        for j, comb in enumerate(combs):\n",
    "            if ([v[conns[i][0]], v[conns[i][1]]] == comb).all():\n",
    "                solution.append(C[i][j])\n",
    "    return solution, round(np.array(solution).mean(), 2)"
   ]
  },
  {
   "cell_type": "code",
   "execution_count": 379,
   "id": "1214eb50",
   "metadata": {},
   "outputs": [
    {
     "data": {
      "text/plain": [
       "([0.9, 0.3, 0.0], 0.4)"
      ]
     },
     "execution_count": 379,
     "metadata": {},
     "output_type": "execute_result"
    }
   ],
   "source": [
    "v = np.array([1, 0, 0])\n",
    "f(v, conns, C)"
   ]
  },
  {
   "cell_type": "code",
   "execution_count": 383,
   "id": "8ee7588c",
   "metadata": {},
   "outputs": [],
   "source": [
    "N = 3\n",
    "K = 2\n",
    "C = create_C(N, K)\n",
    "conns = create_dependency(N, K)"
   ]
  },
  {
   "cell_type": "code",
   "execution_count": 384,
   "id": "70bd8434",
   "metadata": {},
   "outputs": [
    {
     "ename": "IndexError",
     "evalue": "index 3 is out of bounds for axis 0 with size 3",
     "output_type": "error",
     "traceback": [
      "\u001b[1;31m---------------------------------------------------------------------------\u001b[0m",
      "\u001b[1;31mIndexError\u001b[0m                                Traceback (most recent call last)",
      "\u001b[1;32m<ipython-input-384-0995a3172786>\u001b[0m in \u001b[0;36m<module>\u001b[1;34m\u001b[0m\n\u001b[0;32m      1\u001b[0m \u001b[0mv\u001b[0m \u001b[1;33m=\u001b[0m \u001b[0mnp\u001b[0m\u001b[1;33m.\u001b[0m\u001b[0marray\u001b[0m\u001b[1;33m(\u001b[0m\u001b[1;33m[\u001b[0m\u001b[1;36m0\u001b[0m\u001b[1;33m,\u001b[0m \u001b[1;36m1\u001b[0m\u001b[1;33m,\u001b[0m \u001b[1;36m0\u001b[0m\u001b[1;33m]\u001b[0m\u001b[1;33m)\u001b[0m\u001b[1;33m\u001b[0m\u001b[0m\n\u001b[1;32m----> 2\u001b[1;33m \u001b[0mf\u001b[0m\u001b[1;33m(\u001b[0m\u001b[0mv\u001b[0m\u001b[1;33m,\u001b[0m \u001b[0mconns\u001b[0m\u001b[1;33m,\u001b[0m \u001b[0mC\u001b[0m\u001b[1;33m)\u001b[0m\u001b[1;33m\u001b[0m\u001b[0m\n\u001b[0m",
      "\u001b[1;32m<ipython-input-378-9e92dc712527>\u001b[0m in \u001b[0;36mf\u001b[1;34m(v, conns, C)\u001b[0m\n\u001b[0;32m      4\u001b[0m         \u001b[1;32mfor\u001b[0m \u001b[0mj\u001b[0m\u001b[1;33m,\u001b[0m \u001b[0mcomb\u001b[0m \u001b[1;32min\u001b[0m \u001b[0menumerate\u001b[0m\u001b[1;33m(\u001b[0m\u001b[0mcombs\u001b[0m\u001b[1;33m)\u001b[0m\u001b[1;33m:\u001b[0m\u001b[1;33m\u001b[0m\u001b[0m\n\u001b[0;32m      5\u001b[0m             \u001b[1;32mif\u001b[0m \u001b[1;33m(\u001b[0m\u001b[1;33m[\u001b[0m\u001b[0mv\u001b[0m\u001b[1;33m[\u001b[0m\u001b[0mconns\u001b[0m\u001b[1;33m[\u001b[0m\u001b[0mi\u001b[0m\u001b[1;33m]\u001b[0m\u001b[1;33m[\u001b[0m\u001b[1;36m0\u001b[0m\u001b[1;33m]\u001b[0m\u001b[1;33m]\u001b[0m\u001b[1;33m,\u001b[0m \u001b[0mv\u001b[0m\u001b[1;33m[\u001b[0m\u001b[0mconns\u001b[0m\u001b[1;33m[\u001b[0m\u001b[0mi\u001b[0m\u001b[1;33m]\u001b[0m\u001b[1;33m[\u001b[0m\u001b[1;36m1\u001b[0m\u001b[1;33m]\u001b[0m\u001b[1;33m]\u001b[0m\u001b[1;33m]\u001b[0m \u001b[1;33m==\u001b[0m \u001b[0mcomb\u001b[0m\u001b[1;33m)\u001b[0m\u001b[1;33m.\u001b[0m\u001b[0mall\u001b[0m\u001b[1;33m(\u001b[0m\u001b[1;33m)\u001b[0m\u001b[1;33m:\u001b[0m\u001b[1;33m\u001b[0m\u001b[0m\n\u001b[1;32m----> 6\u001b[1;33m                 \u001b[0msolution\u001b[0m\u001b[1;33m.\u001b[0m\u001b[0mappend\u001b[0m\u001b[1;33m(\u001b[0m\u001b[0mC\u001b[0m\u001b[1;33m[\u001b[0m\u001b[0mi\u001b[0m\u001b[1;33m]\u001b[0m\u001b[1;33m[\u001b[0m\u001b[0mj\u001b[0m\u001b[1;33m]\u001b[0m\u001b[1;33m)\u001b[0m\u001b[1;33m\u001b[0m\u001b[0m\n\u001b[0m\u001b[0;32m      7\u001b[0m     \u001b[1;32mreturn\u001b[0m \u001b[0msolution\u001b[0m\u001b[1;33m,\u001b[0m \u001b[0mround\u001b[0m\u001b[1;33m(\u001b[0m\u001b[0mnp\u001b[0m\u001b[1;33m.\u001b[0m\u001b[0marray\u001b[0m\u001b[1;33m(\u001b[0m\u001b[0msolution\u001b[0m\u001b[1;33m)\u001b[0m\u001b[1;33m.\u001b[0m\u001b[0mmean\u001b[0m\u001b[1;33m(\u001b[0m\u001b[1;33m)\u001b[0m\u001b[1;33m,\u001b[0m \u001b[1;36m2\u001b[0m\u001b[1;33m)\u001b[0m\u001b[1;33m\u001b[0m\u001b[0m\n",
      "\u001b[1;31mIndexError\u001b[0m: index 3 is out of bounds for axis 0 with size 3"
     ]
    }
   ],
   "source": [
    "v = np.array([0, 1, 0])\n",
    "f(v, conns, C)"
   ]
  },
  {
   "cell_type": "code",
   "execution_count": 382,
   "id": "a12fb74d",
   "metadata": {},
   "outputs": [
    {
     "data": {
      "text/plain": [
       "(array([[0.8, 0.7, 0.3, 0.3],\n",
       "        [0.5, 0.4, 0.1, 0.2],\n",
       "        [0.4, 0.9, 0.4, 0.8]]),\n",
       " array([[0, 2],\n",
       "        [1, 0],\n",
       "        [2, 1]]))"
      ]
     },
     "execution_count": 382,
     "metadata": {},
     "output_type": "execute_result"
    }
   ],
   "source": [
    "C, conns"
   ]
  },
  {
   "cell_type": "markdown",
   "id": "2722dde9",
   "metadata": {},
   "source": [
    "How to understand it:\n",
    "- Dependencies show which nodes are connected [0,1] means node zero impacts one\n",
    "- C displays the value of connections\n",
    "    - The first row is for the first node and the value of all its connections"
   ]
  },
  {
   "cell_type": "code",
   "execution_count": null,
   "id": "76271884",
   "metadata": {},
   "outputs": [],
   "source": []
  }
 ],
 "metadata": {
  "kernelspec": {
   "display_name": "Python 3",
   "language": "python",
   "name": "python3"
  },
  "language_info": {
   "codemirror_mode": {
    "name": "ipython",
    "version": 3
   },
   "file_extension": ".py",
   "mimetype": "text/x-python",
   "name": "python",
   "nbconvert_exporter": "python",
   "pygments_lexer": "ipython3",
   "version": "3.6.5"
  }
 },
 "nbformat": 4,
 "nbformat_minor": 5
}
