{
 "cells": [
  {
   "cell_type": "markdown",
   "id": "127006a5",
   "metadata": {},
   "source": [
    "# Adaption of CCN simulation"
   ]
  },
  {
   "cell_type": "markdown",
   "id": "560a4da9",
   "metadata": {},
   "source": [
    "## Change-log\n",
    "| Function | Detail | Date |\n",
    "| ---- | ------------ | - |\n",
    "| init_weights | sample them from prefect mean | 14.11 |\n",
    "|  |  |  |\n",
    "|  |  |  |"
   ]
  },
  {
   "cell_type": "code",
   "execution_count": null,
   "id": "45b0e8e0",
   "metadata": {},
   "outputs": [],
   "source": []
  },
  {
   "cell_type": "code",
   "execution_count": 3,
   "id": "5c54c391",
   "metadata": {},
   "outputs": [],
   "source": [
    "import argparse\n",
    "import sys\n",
    "import os\n",
    "import json\n",
    "import numpy as np\n",
    "\n",
    "from ccn_envs import create_env\n",
    "from datetime import datetime\n",
    "\n",
    "from scipy.special import softmax\n",
    "from scipy.stats import pearsonr\n",
    "\n",
    "import matplotlib.pyplot as plt\n",
    "import seaborn as sns\n",
    "\n",
    "import pickle"
   ]
  },
  {
   "cell_type": "markdown",
   "id": "d20fe4b5",
   "metadata": {},
   "source": [
    "## Helpers"
   ]
  },
  {
   "cell_type": "code",
   "execution_count": 4,
   "id": "a4356d7f",
   "metadata": {},
   "outputs": [],
   "source": [
    "def loss_fn(R_hat, R):\n",
    "    \"\"\"\n",
    "    Mean Squared error\n",
    "    R: Expected Rewards of all Agents\n",
    "    S: Label\n",
    "    \"\"\"\n",
    "    return 1/(len(R)) * np.sum(((R - R_hat) ** 2), axis=1)\n",
    "\n",
    "\n",
    "def loss_gradients(R_hat, F, R):\n",
    "    \"\"\"\n",
    "    Derivative of Mean Squared Error\n",
    "    OMEGA: All Weights\n",
    "    F: Feature matrix of all agents\n",
    "    S: Label\n",
    "    \"\"\"\n",
    "    dL = - 1 / (len(R)) * (R - (R_hat)) @ (2 * F)\n",
    "    return dL\n",
    "\n",
    "def clip_steps(position, grid_size):\n",
    "    return np.clip(position, 0, grid_size - 1)\n",
    "\n",
    "def draw_step(positions, prob_dist, rng):\n",
    "    \"\"\"@:return: (array [x1, x2]) the position\"\"\"\n",
    "    return rng.choice(positions, p=prob_dist)\n",
    "\n"
   ]
  },
  {
   "cell_type": "code",
   "execution_count": 5,
   "id": "b910b480",
   "metadata": {},
   "outputs": [],
   "source": [
    "weight_cols = [\"social imitation $\\gamma$\", \"random jumps $\\eta$\", \"noise $\\\\nu$\", \"privilege $\\\\rho$\"]"
   ]
  },
  {
   "cell_type": "code",
   "execution_count": 14,
   "id": "6a4249df",
   "metadata": {},
   "outputs": [],
   "source": [
    "rng = np.random.default_rng(0)"
   ]
  },
  {
   "cell_type": "markdown",
   "id": "ff8b891d",
   "metadata": {},
   "source": [
    "## Policy functions "
   ]
  },
  {
   "cell_type": "code",
   "execution_count": 6,
   "id": "ad948fa2",
   "metadata": {},
   "outputs": [],
   "source": [
    "# Starting positions\n",
    "def initialize_starting_position(env, n_agents, rho):\n",
    "    \"\"\"Init starting position based on last noise feature interpreted as quantile of fitness landscape\"\"\"\n",
    "    quantiles = np.quantile(env, rho)\n",
    "    all_positions = np.empty((n_agents, 2), dtype=int)\n",
    "    for i, q in enumerate(quantiles):\n",
    "        q_pos = np.where((np.round(q, 2) == np.round(env, 2)))\n",
    "        q_pos_index = rng.integers(0, len(q_pos[0]))\n",
    "        all_positions[i] = [q_pos[0][q_pos_index], q_pos[1][q_pos_index]]\n",
    "    S = env[all_positions[:, 0], all_positions[:, 1]]\n",
    "    return all_positions, S\n",
    "\n",
    "def initialize_starting_position_fair(env, n_agents):\n",
    "    \"\"\"Init starting position based on last noise feature interpreted as quantile of fitness landscape\"\"\"\n",
    "    all_positions = np.empty((n_agents, 2), dtype=int)\n",
    "    quantile = np.quantile(env, 0.2)\n",
    "\n",
    "    q_pos = np.where((np.round(quantile, 2) == np.round(env, 2)))\n",
    "    for i in range(n_agents):\n",
    "        q_pos_index = rng.integers(0, len(q_pos[0]))\n",
    "        all_positions[i] = [q_pos[0][q_pos_index], q_pos[1][q_pos_index]]\n",
    "    S = env[all_positions[:, 0], all_positions[:, 1]]\n",
    "    return all_positions, S\n",
    "\n",
    "\n",
    "def initialize_starting_position_random(env, n_agents):\n",
    "    \"\"\"Init starting position based on last noise feature interpreted as quantile of fitness landscape\"\"\"\n",
    "    all_positions = rng.integers(0,1000, size=(n_agents, 2))\n",
    "    S = env[all_positions[:, 0], all_positions[:, 1]]\n",
    "    return all_positions, S\n"
   ]
  },
  {
   "cell_type": "code",
   "execution_count": 147,
   "id": "2456749f",
   "metadata": {},
   "outputs": [],
   "source": [
    "def local_search(env: np.array, agent_value, eta: float, position: np.array, steps, grid_size, tau, rng):\n",
    "    \"\"\"Stochastic Hill climbing OR random step (only if better)\"\"\"\n",
    "    if eta >= rng.uniform(0, 1):\n",
    "        rand_pos = rng.integers(0, grid_size, 2)\n",
    "        rand_value = env[rand_pos[0]][rand_pos[1]]\n",
    "        if rand_value > agent_value:\n",
    "            return rand_pos.reshape(1, 2), np.array([1.]), False\n",
    "    neighbour_states = [[clip_steps(position[0]+s[0], grid_size), clip_steps(position[1]+s[1], grid_size)] for s in steps]\n",
    "    ind_values = np.array([env[p[0]][p[1]] for p in neighbour_states])\n",
    "    ind_values_pb = softmax((ind_values / tau))\n",
    "    return np.asarray(neighbour_states), ind_values_pb, agent_value == ind_values.max()\n",
    "\n",
    "\n",
    "def create_feature_vector(n_agents, noise_features=2, rng=None):\n",
    "    \"\"\"Feature matrix F (agents x features): F[agent_i] = [gamma, eta, noise, rho]\"\"\"\n",
    "    # Performance features\n",
    "    gammas = rng.uniform(0, 1, size=n_agents)\n",
    "    etas = rng.uniform(0, 1, size=n_agents)\n",
    "\n",
    "    # Noise features\n",
    "    f_noise = rng.choice(np.clip(rng.normal([0.3, 0.7], [0.1, 0.1], size=(n_agents, 2)), 0, 1).flat,\n",
    "                         size=(n_agents, noise_features))\n",
    "\n",
    "    # Add them together\n",
    "    F = np.concatenate((np.stack((gammas, etas), axis=1), f_noise), axis=1)\n",
    "    return F\n",
    "\n",
    "\n",
    "def create_roleModel_features(n_roleModels, noise_features=2, rng=None):\n",
    "    \"\"\"Feature matrix F (n_roleModels x features): F[agent_i] = [gamma, eta, n0, n1, ...]\"\"\"\n",
    "    # Performance features\n",
    "    gammas = np.clip(rng.normal(0.8, 0.05, size=n_roleModels), 0, 1)\n",
    "    etas = np.clip(rng.normal(0.8, 0.05, size=n_roleModels), 0, 1)\n",
    "\n",
    "    # Noise features\n",
    "    f_noise = np.concatenate((\n",
    "        rng.choice(np.clip(rng.normal([0.3, 0.7], [0.1, 0.1], size=(n_roleModels, 2)), 0, 1).flat,\n",
    "                   size=(n_roleModels, noise_features-1)),\n",
    "        np.clip(\n",
    "            rng.normal(0.3, 0.1, size=(n_roleModels, 1)),\n",
    "            0, 1)\n",
    "    ), axis=1)\n",
    "\n",
    "    # Add them together\n",
    "    F = np.concatenate((np.stack((gammas, etas), axis=1), f_noise), axis=1)\n",
    "    return F\n",
    "\n",
    "\n",
    "def initialize_role_models(env, n_roleModels):\n",
    "    \"\"\"Init less privileged agents, but explicitly good performance and traits\"\"\"\n",
    "    if env_type == \"NK\":\n",
    "        fitness_values = list(env.fitness_dict.values())\n",
    "        fitness_values = (fitness_values - min(fitness_values)) \n",
    "        fitness_values /= max(fitness_values)\n",
    "        max_values = np.sort(fitness_values)[-100:]\n",
    "        S = rng.choice(max_values, size=n_roleModels)\n",
    "        # quantile = np.quantile(fitness_values, 0.99)\n",
    "        # high_pos = np.where((np.round(quantile, 3) < np.round(fitness_values, 3)))[0]\n",
    "        # indexes = rng.choice(high_pos, size=n_roleModels)\n",
    "        # S = fitness_values[indexes]\n",
    "        # states = np.array([env.get_fitness(np.array(list(f'{i:020b}')).astype(int)) for i in index])\n",
    "        return S\n",
    "        \n",
    "    quantile = np.quantile(env, 0.9)\n",
    "    high_pos = np.where((np.round(quantile, 3) < np.round(env, 3)))\n",
    "    start_pos_index = rng.integers(0, len(high_pos[0]), n_roleModels)\n",
    "    all_positions = np.stack((high_pos[0][start_pos_index], high_pos[1][start_pos_index]), axis=1)\n",
    "    S = env[all_positions[:, 0], all_positions[:, 1]]\n",
    "    return S\n",
    "\n",
    "\n",
    "def intervention_gradient(W, F_rm, R_rm, b, n_roleModels, chosen_agents):\n",
    "    \"\"\"Calculate gradients for agents impacted by a mentor\"\"\"\n",
    "    roleModels = rng.integers(n_roleModels, size=len(chosen_agents))\n",
    "    R_hat_rm = W[chosen_agents] @ F_rm[roleModels].T + b\n",
    "    W_grad = np.zeros_like(W)\n",
    "    if len(R_hat_rm) > 0:\n",
    "        grad_rm = loss_gradients(R_hat_rm, F_rm[roleModels], R_rm[roleModels])\n",
    "        W_grad[chosen_agents] = grad_rm\n",
    "    return W_grad\n",
    "\n",
    "\n",
    "def run_intervention(n_roleModels, sigma, F, W, F_rm, R_rm, b, rng):\n",
    "    \"\"\"Run intervention which mentor impacts which less privileged agent\"\"\"\n",
    "    chosen_agents = np.where(F[:, -1] < 0.5)[0]\n",
    "    drawn_sigma = rng.random(size=len(chosen_agents))\n",
    "    chosen_agents = chosen_agents[np.where(drawn_sigma <= sigma)[0]]\n",
    "    return intervention_gradient(W, F_rm, R_rm, b, n_roleModels, chosen_agents)\n",
    "\n",
    "\n",
    "def scale_eta(eta):\n",
    "    \"\"\"For eta in [0,1]\"\"\"\n",
    "    return 0.1 * eta\n",
    "\n",
    "\n",
    "def scale_gamma(gamma):\n",
    "    \"\"\"For gamma in [0,1]\"\"\"\n",
    "    return 0.1 * gamma\n"
   ]
  },
  {
   "cell_type": "code",
   "execution_count": null,
   "id": "1eb8cbc7",
   "metadata": {},
   "outputs": [],
   "source": []
  },
  {
   "cell_type": "markdown",
   "id": "4c4034ae",
   "metadata": {},
   "source": [
    "## NK function"
   ]
  },
  {
   "cell_type": "markdown",
   "id": "0949efb5",
   "metadata": {},
   "source": [
    "**Adjustements for nk**\n",
    "- Try with random exploration and K=1\n",
    "- Pertubation mechansims: To escape local optima (f.e. random jumps):\n",
    "    - random jumps are bad: Make them better by sampling specifically good positions\n",
    "    - give them more options to choose from for one iteration (like steepest ascent)\n",
    "    - Make a few following steps"
   ]
  },
  {
   "cell_type": "code",
   "execution_count": 8,
   "id": "3cb0e9e9",
   "metadata": {},
   "outputs": [],
   "source": [
    "from ccn_envs import create_env, NK_landscape_loaded"
   ]
  },
  {
   "cell_type": "code",
   "execution_count": 15,
   "id": "65b8f597",
   "metadata": {},
   "outputs": [],
   "source": [
    "file = \"N20K5_5.pkl\"\n",
    "\n",
    "with open(file, 'rb') as f:\n",
    "    landscapes = pickle.load(f)\n",
    "\n",
    "n_landscapes = int(str(file.split(\"_\")[1]).split(\".\")[0])\n",
    "N, K = str(file.split(\"_\")[0])[1:].split(\"K\")\n",
    "N, K = int(N), int(K)\n",
    "\n",
    "env_type = \"NK\"\n",
    "\n",
    "\n",
    "for i in range(n_landscapes):\n",
    "    keys = landscapes[i].keys()\n",
    "    values = np.array(list(landscapes[i].values()))\n",
    "    values = values **6\n",
    "    landscapes[i] = dict(zip(keys, values))\n",
    "\n",
    "\n",
    "env = NK_landscape_loaded(N, K, landscapes[rng.integers(0, n_landscapes)])\n",
    "tau = 0.05"
   ]
  },
  {
   "cell_type": "markdown",
   "id": "8debbefc",
   "metadata": {},
   "source": [
    "### Initializing on nk landscape"
   ]
  },
  {
   "cell_type": "code",
   "execution_count": 16,
   "id": "29356583",
   "metadata": {},
   "outputs": [],
   "source": [
    "def initialize_starting_position_NK_random(env, n_agents):\n",
    "    states = np.round(rng.random((n_agents, env.N))).astype(int)\n",
    "    scores = np.array([env.get_fitness(state) for state in states])\n",
    "    return states, scores\n",
    "\n",
    "def initialize_starting_position_NK_fair(env, n_agents):\n",
    "    fitness_values = list(env.fitness_dict.values())\n",
    "    fitness_values = (fitness_values - min(fitness_values)) \n",
    "    fitness_values /= max(fitness_values)\n",
    "    quantile = np.quantile(fitness_values, 0.2)\n",
    "    low_pos = np.where((np.round(quantile, 2) == np.round(fitness_values, 2)))[0]\n",
    "    index = rng.choice(low_pos, size=n_agents).astype(int)\n",
    "    S = fitness_values[index]\n",
    "    states = np.array([np.array(list(f'{i:020b}')).astype(int) for i in index])\n",
    "    return states, S\n",
    "\n",
    "def initialize_starting_position_NK(env, n_agents, rho):\n",
    "    fitness_values = list(env.fitness_dict.values())\n",
    "    fitness_values = (fitness_values - min(fitness_values)) \n",
    "    fitness_values /= max(fitness_values)\n",
    "    quantile = np.quantile(fitness_values, rho)\n",
    "    S = np.zeros(n_agents)\n",
    "    states = np.empty((n_agents, N)).astype(int)\n",
    "    for _, q in enumerate(quantile):\n",
    "        low_pos = np.where((np.round(q, 2) == np.round(fitness_values, 2)))[0]\n",
    "        if len(low_pos) == 0:\n",
    "            while len(low_pos) == 0:\n",
    "                low_pos = np.where((np.round(q, 2) == np.round(fitness_values, 2)))[0]\n",
    "        index = rng.choice(low_pos).astype(int)\n",
    "        S[_] = fitness_values[index]\n",
    "        states[_] = np.array(list(f'{index:020b}')).astype(int)\n",
    "    return states, S"
   ]
  },
  {
   "cell_type": "code",
   "execution_count": 17,
   "id": "9455c9a1",
   "metadata": {},
   "outputs": [
    {
     "data": {
      "text/plain": [
       "' # Plot the distribution of a starting position\\nn_agents = 300\\n\\nrho = rng.random(n_agents)\\n_, scores =  initialize_starting_position_NK(env, n_agents, rho)\\nplt.scatter(rho, scores)\\nprint(pearsonr(rho, scores))\\n'"
      ]
     },
     "execution_count": 17,
     "metadata": {},
     "output_type": "execute_result"
    }
   ],
   "source": [
    "\"\"\" # Plot the distribution of a starting position\n",
    "n_agents = 300\n",
    "\n",
    "rho = rng.random(n_agents)\n",
    "_, scores =  initialize_starting_position_NK(env, n_agents, rho)\n",
    "plt.scatter(rho, scores)\n",
    "print(pearsonr(rho, scores))\n",
    "\"\"\""
   ]
  },
  {
   "cell_type": "code",
   "execution_count": null,
   "id": "f8e17038",
   "metadata": {},
   "outputs": [],
   "source": []
  },
  {
   "cell_type": "markdown",
   "id": "32198f36",
   "metadata": {},
   "source": [
    "### Eta attribute for NK - SHC  "
   ]
  },
  {
   "cell_type": "code",
   "execution_count": 132,
   "id": "4bc17dba",
   "metadata": {},
   "outputs": [],
   "source": [
    "def bit_switch(state, digit):\n",
    "    if state[digit] == 1:\n",
    "        state[digit] = 0\n",
    "    else:\n",
    "        state[digit] = 1\n",
    "    return state\n",
    "    \n",
    "def local_search_nk_jump(env, state, score, eta):\n",
    "    if eta >= rng.uniform(0, 1):\n",
    "        random_states = [np.round(rng.random(env.N)).astype(int) for _ in range(5)]\n",
    "        random_scores = np.array([env.get_fitness(random_state) for random_state in random_states])\n",
    "        if max(random_scores) >= score:\n",
    "            return np.array([random_states[np.argmax(random_scores)]]), np.array([1.])\n",
    "    \n",
    "    digits = rng.choice(20, size=(3), replace=False)\n",
    "    neigh_states = np.zeros((len(digits) +1,N)).astype(int)\n",
    "    neigh_states[0] = state \n",
    "    neigh_states[1:] = np.array([bit_switch(state.copy(), digit) for digit in digits])\n",
    "    neigh_scores = np.array([env.get_fitness(ns) for ns in neigh_states])\n",
    "    neigh_pb = softmax((neigh_scores / tau))\n",
    "    return neigh_states, neigh_pb\n",
    "\n",
    "def local_search_nk(env, state, score, eta):\n",
    "    digits = rng.choice(20, size=(eta), replace=False)\n",
    "    neigh_states = np.zeros((len(digits) +1,N)).astype(int)\n",
    "    neigh_states[0] = state \n",
    "    neigh_states[1:] = np.array([bit_switch(state.copy(), digit) for digit in digits])\n",
    "    neigh_scores = np.array([env.get_fitness(ns) for ns in neigh_states])\n",
    "    neigh_pb = softmax((neigh_scores / tau))\n",
    "    return neigh_states, neigh_pb\n",
    "\n",
    "def local_search_nk_1n(env, state, score, eta):\n",
    "    eta_n = 3 if eta >= rng.uniform(0, 1) else 1\n",
    "        \n",
    "    digits = rng.choice(20, size=(eta_n), replace=False)\n",
    "    neigh_states = np.zeros((len(digits) +1,N)).astype(int)\n",
    "    neigh_states[0] = state \n",
    "    neigh_states[1:] = np.array([bit_switch(state.copy(), digit) for digit in digits])\n",
    "    neigh_scores = np.array([env.get_fitness(ns) for ns in neigh_states])\n",
    "    neigh_pb = softmax((neigh_scores / tau))\n",
    "        \n",
    "        \n",
    "    return neigh_states, neigh_pb\n",
    "   "
   ]
  },
  {
   "cell_type": "code",
   "execution_count": 115,
   "id": "929c5cf7",
   "metadata": {},
   "outputs": [],
   "source": [
    "def SHC(env, iterations = 150, eta=0.05):\n",
    "    state = np.round(rng.random(env.N)).astype(int)\n",
    "    score = env.get_fitness(state)\n",
    "    \n",
    "    all_scores = np.zeros(iterations+1)\n",
    "    all_scores[0] = score\n",
    "    for i in range(iterations):\n",
    "        neigh_states, neigh_pb = local_search_nk_1n(env, state, score, eta)\n",
    "        state = draw_step(neigh_states, neigh_pb, rng)\n",
    "        score = env.get_fitness(state)\n",
    "        all_scores[i+1] = score\n",
    "    \n",
    "    return all_scores, state\n"
   ]
  },
  {
   "cell_type": "code",
   "execution_count": 122,
   "id": "6d79d8af",
   "metadata": {},
   "outputs": [
    {
     "name": "stdout",
     "output_type": "stream",
     "text": [
      "Iteration: 100\n",
      "Iteration: 200\n",
      "Iteration: 300\n",
      "Iteration: 400\n",
      "Iteration: 500\n",
      "Mean score of last states 0.62828\n"
     ]
    },
    {
     "data": {
      "text/plain": [
       "[<matplotlib.lines.Line2D at 0x1de32004b00>]"
      ]
     },
     "execution_count": 122,
     "metadata": {},
     "output_type": "execute_result"
    },
    {
     "data": {
      "image/png": "[encoded data removed]",
      "text/plain": [
       "<Figure size 432x288 with 1 Axes>"
      ]
     },
     "metadata": {
      "needs_background": "light"
     },
     "output_type": "display_data"
    }
   ],
   "source": [
    "iterations    = 150\n",
    "score_counter = np.zeros(iterations+1)\n",
    "n_trials = 500\n",
    "\n",
    "eta_corr = np.zeros((n_trials, 2))\n",
    "check_states = []\n",
    "for _ in range(n_trials):\n",
    "    eta = rng.random()\n",
    "    eta_s = eta**2\n",
    "    # eta_s = int(np.round(np.clip(eta*3, 1, 20)))\n",
    "    \n",
    "    all_scores, state = SHC(env, iterations, eta_s)\n",
    "    score_counter += all_scores\n",
    "    eta_corr[_] = [all_scores.mean(), eta]\n",
    "    \n",
    "    check_states.append(env.get_fitness(state))\n",
    "    \n",
    "    if (_+1) % 100 == 0:\n",
    "        print(\"Iteration:\", _+1)\n",
    "\n",
    "if n_trials ==1:\n",
    "    print(eta, eta_s)\n",
    "print(\"Mean score of last states\", np.array(check_states).mean())\n",
    "score_counter /= n_trials\n",
    "plt.plot(score_counter)"
   ]
  },
  {
   "cell_type": "code",
   "execution_count": 123,
   "id": "d23d7439",
   "metadata": {},
   "outputs": [
    {
     "name": "stdout",
     "output_type": "stream",
     "text": [
      "(0.26833256264828975, 1.0790727810913094e-09)\n"
     ]
    },
    {
     "data": {
      "text/plain": [
       "Text(0, 0.5, 'Mean score')"
      ]
     },
     "execution_count": 123,
     "metadata": {},
     "output_type": "execute_result"
    },
    {
     "data": {
      "image/png": "[encoded data removed]",
      "text/plain": [
       "<Figure size 432x288 with 1 Axes>"
      ]
     },
     "metadata": {
      "needs_background": "light"
     },
     "output_type": "display_data"
    }
   ],
   "source": [
    "print(pearsonr(eta_corr[:,0], eta_corr[:,1]))\n",
    "plt.scatter(eta_corr[:,1], eta_corr[:,0])\n",
    "plt.xlabel(\"Eta size\")\n",
    "plt.ylabel(\"Mean score\")"
   ]
  },
  {
   "cell_type": "code",
   "execution_count": null,
   "id": "6f362d21",
   "metadata": {},
   "outputs": [],
   "source": []
  },
  {
   "cell_type": "markdown",
   "id": "fc676e2e",
   "metadata": {},
   "source": [
    "## Simulation"
   ]
  },
  {
   "cell_type": "markdown",
   "id": "40d8ce9b",
   "metadata": {},
   "source": [
    "### Ideas for adjustement\n",
    "* Always sample one agent to trust and only adjust social values for this agent (follow this agent)\n",
    "    * Think of social imitation every iteration, just don't do it every time\n",
    "    * Privilege would not break as easily, as privileged agents are chosen more often\n",
    "* Enhance SHC by not taking a single solution but considering k solutions + softmax\n",
    "* All NK Landscapes seem disributed equally independent of K; Are the values scaled correctly?"
   ]
  },
  {
   "cell_type": "code",
   "execution_count": 192,
   "id": "5ae87670",
   "metadata": {},
   "outputs": [],
   "source": [
    "def run_simulation(grid_size, n_agents, intervention, F, lr, max_iter, env, all_steps,\n",
    "                   R_scale, beta, tau, intervention_start, sigma, rng):\n",
    "    \"\"\"Implements one full simulation run\"\"\"\n",
    "\n",
    "    gammas = scale_gamma(F[:, 0])\n",
    "    if env_type != \"NK\":\n",
    "        etas = scale_eta(F[:, 1])\n",
    "    else:\n",
    "        etas = np.clip(F[:, 1]*3, 1, 20).astype(int)\n",
    "        # etas = F[:, 1]**2\n",
    "    rho = F[:, -1]\n",
    "\n",
    "    # Init agents based on privilege\n",
    "    if env_type != \"NK\":\n",
    "        all_positions, S = initialize_starting_position(env, n_agents, rho)\n",
    "        # all_positions, S = initialize_starting_position_random(env, n_agents)\n",
    "    else:\n",
    "        all_positions, S = initialize_starting_position_NK(env, n_agents, rho)\n",
    "        # all_positions, S = initialize_starting_position_NK_fair(env, n_agents)\n",
    "        # all_positions, S = initialize_starting_position_NK_random(env, n_agents)\n",
    "\n",
    "        \n",
    "    # Trait Learning\n",
    "    W = rng.normal((max(S)-min(S))*0.25, 0.1, (n_agents, 4))  # *F.mean()/4\n",
    "    # W = rng.normal(S.mean()*0.25, 0.1, (n_agents, 4))  # *F.mean()/4\n",
    "    \n",
    "    A = W @ F.T\n",
    "\n",
    "    # Simulation tracking variables\n",
    "    intermediate_positions = np.zeros_like(all_positions)\n",
    "    intermediate_S = np.zeros_like(S)\n",
    "    S_history = np.empty((max_iter, n_agents))\n",
    "    S_history[0] = S\n",
    "    R = S\n",
    "\n",
    "    W_history = np.empty((max_iter, F.shape[1]))\n",
    "    W_history[0] = W.mean(axis=0)\n",
    "\n",
    "    iteration = 1\n",
    "    while iteration < max_iter:\n",
    "\n",
    "        # 0. Calculate social values\n",
    "        Y = softmax((A/A.sum(axis=1)) / tau, axis=1)\n",
    "\n",
    "        for agent_index in range(n_agents):\n",
    "            # 1. Social learning\n",
    "            if gammas[agent_index] >= rng.random():\n",
    "                next_position = draw_step(all_positions, Y[agent_index], rng)\n",
    "                if env_type != \"NK\":\n",
    "                    next_S = env[next_position[0]][next_position[1]]\n",
    "                else:\n",
    "                    next_S = env.get_fitness(next_position)\n",
    "            \n",
    "            else:\n",
    "                # 2. Local search\n",
    "                if env_type != \"NK\":\n",
    "                    positions, p_dist, use_social = local_search(env, S[agent_index], etas[agent_index],\n",
    "                                                             all_positions[agent_index], all_steps,\n",
    "                                                             grid_size, tau, rng)\n",
    "                    next_position = draw_step(positions, p_dist, rng)\n",
    "                    next_S = env[next_position[0]][next_position[1]]\n",
    "                else:\n",
    "                    positions, p_dist = local_search_nk(env, all_positions[agent_index], S[agent_index],\n",
    "                                                              etas[agent_index])\n",
    "                    next_position = draw_step(positions, p_dist, rng)\n",
    "                    next_S = env.get_fitness(next_position)\n",
    "\n",
    "            # 3. safe values to update after all agents are through\n",
    "            intermediate_positions[agent_index] = next_position\n",
    "            intermediate_S[agent_index] = next_S\n",
    "            \n",
    "        # 4. Optimize W\n",
    "        R_decay = R_scale[-iteration:] / R_scale[-iteration:].sum()\n",
    "        R = R_decay @ S_history[:iteration]\n",
    "        \n",
    "        b = R.min()\n",
    "        R_hat = W @ F.T + b\n",
    "        grad = loss_gradients(R_hat, F, R)  # TODO: Check if gradients are for correct objective R_hat = W*F + b \n",
    "        W -= (lr * grad.T).T\n",
    "\n",
    "        # 4.1 Gradient of intervention\n",
    "        if intervention is True:\n",
    "            # if (intervention_start < iteration):\n",
    "            if (intervention_start < iteration <= intervention_start+5):\n",
    "                grad_rm = run_intervention(n_roleModels, sigma, F, W, F_rm, R_rm, b, rng)\n",
    "                W -= lr * grad_rm\n",
    "\n",
    "        W_history[iteration] = W.mean(axis=0)\n",
    "        A += beta * (W @ F.T - A)\n",
    "        \n",
    "        # 5. All agents walk at the same time\n",
    "        S = intermediate_S\n",
    "        all_positions = intermediate_positions\n",
    "        S_history[iteration] = S\n",
    "\n",
    "        iteration += 1\n",
    "\n",
    "    loss = loss_fn(R_hat, R)\n",
    "    return S_history, W, A, loss, W_history\n",
    "\n"
   ]
  },
  {
   "cell_type": "markdown",
   "id": "6d031048",
   "metadata": {},
   "source": [
    "**Changes todo**:\n",
    "* Weight init\n",
    "* Gradient size\n"
   ]
  },
  {
   "cell_type": "markdown",
   "id": "5216d475",
   "metadata": {},
   "source": [
    "## Run simulation"
   ]
  },
  {
   "cell_type": "code",
   "execution_count": 203,
   "id": "bc1bf54a",
   "metadata": {},
   "outputs": [],
   "source": [
    "# Prepare setup of environment\n",
    "file = \"N20K5_5.pkl\"  # K=1,2,5,10 for N=20\n",
    "\n",
    "with open(file, 'rb') as f:\n",
    "    landscapes = pickle.load(f)\n",
    "\n",
    "n_landscapes = int(str(file.split(\"_\")[1]).split(\".\")[0])\n",
    "N, K = str(file.split(\"_\")[0])[1:].split(\"K\")\n",
    "N, K = int(N), int(K)\n",
    "\n",
    "for i in range(n_landscapes):\n",
    "    keys = landscapes[i].keys()\n",
    "    values = np.array(list(landscapes[i].values()))\n",
    "    values = values ** 6\n",
    "    landscapes[i] = dict(zip(keys, values))\n",
    "\n",
    "env_names = [\"MasonWatts\", \"Ackley\", \"DropWave\"]\n"
   ]
  },
  {
   "cell_type": "code",
   "execution_count": 204,
   "id": "d158a8e9",
   "metadata": {},
   "outputs": [],
   "source": [
    "def run(total_simulations, intervention, env_type):\n",
    "    sys.stdout.write(f'\\nSimulation is starting: Environment: {env_type} Intervention: {intervention} \\n')\n",
    "    rng = np.random.default_rng(seed)\n",
    "    # Create environment\n",
    "    if env_type != \"NK\":\n",
    "        envs = [create_env(env_n, grid_size)[0] for env_n in env_names]\n",
    "    else:\n",
    "        envs = landscapes\n",
    "    \n",
    "    # Setup for intevention\n",
    "    if intervention is True:\n",
    "        F_rm = create_roleModel_features(n_roleModels, noise_features, rng)\n",
    "        if env_type == \"NK\":\n",
    "            env = NK_landscape_loaded(N, K, envs[rng.integers(0, n_landscapes)])\n",
    "            R_rm = initialize_role_models(env, n_roleModels)\n",
    "\n",
    "\n",
    "    # Result saving\n",
    "    all_results = np.empty((total_simulations * n_agents, 13))  # Second param: How many vars to track\n",
    "    W_results = np.zeros((max_iterations, 4))\n",
    "\n",
    "    S_results = np.zeros(max_iterations)\n",
    "\n",
    "\n",
    "    # Start running simulations\n",
    "    sys.stdout.write(f\"\\nIn total {total_simulations} simulations\")\n",
    "    for _ in range(total_simulations):\n",
    "        \n",
    "        # Choose landscape\n",
    "        if env_type == \"NK\":\n",
    "            env = NK_landscape_loaded(N, K, envs[rng.integers(0, n_landscapes)])\n",
    "        else:\n",
    "            env = envs[rng.integers(0, len(envs))]\n",
    "            if intervention is True:\n",
    "                R_rm = initialize_role_models(env, n_roleModels)\n",
    "\n",
    "        # Create traits\n",
    "        F = create_feature_vector(n_agents=n_agents, noise_features=noise_features, rng=rng)\n",
    "        \n",
    "        S_history, W, A, loss, W_history = run_simulation(grid_size=grid_size, n_agents=n_agents, intervention=intervention,\n",
    "                                                          F=F, lr=lr, max_iter=max_iterations,\n",
    "                                                          env=env, all_steps=all_steps, R_scale=R_scale,\n",
    "                                                          beta=beta, tau=tau, intervention_start=intervention_start,\n",
    "                                                          sigma=sigma, rng=rng)\n",
    "        \n",
    "        run_results = np.concatenate((F,\n",
    "                                      W,\n",
    "                                      S_history.max(axis=0).reshape(n_agents, 1),\n",
    "                                      S_history.mean(axis=0).reshape(n_agents, 1),\n",
    "                                      S_history[0].reshape(n_agents, 1),\n",
    "                                      loss.reshape(n_agents, 1),\n",
    "                                      A.mean(axis=0).reshape(n_agents, 1),\n",
    "                                      ), axis=1)\n",
    "\n",
    "        all_results[_*n_agents: _*n_agents+n_agents] = run_results\n",
    "        W_results += W_history\n",
    "        S_results += S_history.mean(axis=1)\n",
    "\n",
    "        if (_+1) % 100 == 0:\n",
    "            sys.stdout.write(f\"\\n Simulation: {_+1}\")\n",
    "\n",
    "    W_results /= total_simulations\n",
    "    S_results /= total_simulations\n",
    "    sys.stdout.write(f\"\\nFinished successfully \\n\")\n",
    "    return W_results, S_results, all_results"
   ]
  },
  {
   "cell_type": "code",
   "execution_count": 210,
   "id": "9b1d9168",
   "metadata": {},
   "outputs": [],
   "source": [
    "# Simulation parameter\n",
    "seed = 0\n",
    "\n",
    "grid_size = 1000\n",
    "total_simulations = 2000\n",
    "max_iterations = 150\n",
    "n_agents = 7\n",
    "\n",
    "\n",
    "all_steps = np.array([[i, j] for i in np.arange(-1, 2) for j in np.arange(-1, 2)])\n",
    "\n",
    "lr = 0.1\n",
    "noise_features = 2  # Number of noise features (keep to 2)\n",
    "beta = 0.5  # Learning rate for social influence matrix A\n",
    "tau = 0.01  # Exploitation for social and individual optimization\n",
    "\n",
    "\n",
    "intervention = False\n",
    "n_roleModels = 2\n",
    "sigma = 0.2  # Probability for mentor connections during continuous intervention\n",
    "intervention_start = 50\n",
    "\n",
    "# Label scaling\n",
    "lambda_scale = 0.9  # Label decay\n",
    "R_scale = lambda_scale ** np.arange(max_iterations - 1, -1, -1)\n",
    "\n",
    "\n",
    "env_type = \"NK\" # 2D\n"
   ]
  },
  {
   "cell_type": "code",
   "execution_count": null,
   "id": "44b7a5a6",
   "metadata": {},
   "outputs": [
    {
     "name": "stdout",
     "output_type": "stream",
     "text": [
      "\n",
      "Simulation is starting: Environment: NK Intervention: False \n",
      "\n",
      "In total 2000 simulations"
     ]
    }
   ],
   "source": [
    "# intervention = True\n",
    "# W_results_int, S_results_int, all_results_int = run(total_simulations, intervention, env_type)\n",
    "\n",
    "\n",
    "intervention = False\n",
    "W_results, S_results, all_results = run(total_simulations, intervention, env_type)"
   ]
  },
  {
   "cell_type": "code",
   "execution_count": 215,
   "id": "a17fc9ca",
   "metadata": {},
   "outputs": [],
   "source": []
  },
  {
   "cell_type": "code",
   "execution_count": null,
   "id": "06c13ffb",
   "metadata": {},
   "outputs": [],
   "source": [
    "with open('intervention.npy', 'wb') as f:\n",
    "    np.save(f, W_results_int)\n",
    "    np.save(f, S_results_int)\n",
    "    np.save(f, all_results_int)\n",
    "\n",
    "with open('no_intervention.npy', 'wb') as f:\n",
    "    np.save(f, W_results)\n",
    "    np.save(f, S_results)\n",
    "    np.save(f, all_results)\n",
    "    \n",
    "\"\"\"\n",
    "with open('test.npy', 'rb') as f:\n",
    "    a = np.load(f)\n",
    "    b = np.load(f)\n",
    "\"\"\""
   ]
  },
  {
   "cell_type": "code",
   "execution_count": 214,
   "id": "76b422bc",
   "metadata": {},
   "outputs": [
    {
     "data": {
      "text/plain": [
       "(4900, 13)"
      ]
     },
     "execution_count": 214,
     "metadata": {},
     "output_type": "execute_result"
    }
   ],
   "source": [
    "all_results.shape"
   ]
  },
  {
   "cell_type": "code",
   "execution_count": null,
   "id": "e3eb9b03",
   "metadata": {},
   "outputs": [],
   "source": [
    "colors = [\"royalblue\", \"gold\", \"darkorchid\", \"forestgreen\"]\n",
    "\n",
    "fig, axs = plt.subplots(1,3, figsize=(16,4))\n",
    "axs[0].plot(S_results_int, color=\"blue\")\n",
    "axs[0].set_xlabel(\"Iteration\")\n",
    "axs[0].set_ylabel(\"Mean Score\")\n",
    "axs[0].set_title(\"Performance\")\n",
    "\n",
    "\n",
    "W_norm_int = W_results_int/ W_results_int.sum(axis=1).reshape(-1,1)\n",
    "for (i, weight_name), color in zip(enumerate(weight_cols), colors):\n",
    "    axs[1].plot(W_norm_int[:,i], label=weight_name, color=color)\n",
    "axs[1].set_title(\"Relative Weights\")\n",
    "axs[1].axvline(x=intervention_start, color=\"black\", linestyle='dashed')\n",
    "\n",
    "\n",
    "axs[2].set_title(\"Absolute Weights\")\n",
    "for (i, weight_name), color in zip(enumerate(weight_cols), colors):\n",
    "    axs[2].plot(W_results_int[:,i], label=weight_name, color=color)\n",
    "axs[2].axvline(x=intervention_start, color=\"black\", linestyle='dashed')\n",
    "axs[2].legend()\n",
    "\n",
    "\n",
    "# Add usual weights\n",
    "# fig, axs = plt.subplots(1,3, figsize=(16,4))\n",
    "axs[0].plot(S_results, linestyle=\"dashed\", color=\"blue\")\n",
    "\n",
    "W_norm = W_results/ W_results.sum(axis=1).reshape(-1,1)\n",
    "for (i, weight_name), color in zip(enumerate(weight_cols), colors):\n",
    "    axs[1].plot(W_norm[:,i], label=weight_name, linestyle=\"dashed\", color=color)\n",
    "\n",
    "for (i, weight_name), color in zip(enumerate(weight_cols), colors):\n",
    "    axs[2].plot(W_results[:,i], label=weight_name, linestyle=\"dashed\", color=color)\n"
   ]
  },
  {
   "cell_type": "code",
   "execution_count": 184,
   "id": "57247a2e",
   "metadata": {},
   "outputs": [
    {
     "data": {
      "text/plain": [
       "array([0.63225714, 0.49804733, 0.07789442])"
      ]
     },
     "execution_count": 184,
     "metadata": {},
     "output_type": "execute_result"
    }
   ],
   "source": [
    "# Max, Mean, Start Value\n",
    "print(\"Max, Mean, Start Value\")\n",
    "print(all_results[:,8:11].mean(axis=0))\n",
    "print(all_results_int[:,8:11].mean(axis=0))\n"
   ]
  },
  {
   "cell_type": "code",
   "execution_count": 186,
   "id": "9d407356",
   "metadata": {},
   "outputs": [
    {
     "data": {
      "text/plain": [
       "[(0.11348519628214362, 1.845112728980899e-07),\n",
       " (0.11697334711290865, 7.630107647024503e-08),\n",
       " (-0.005297813830679276, 0.8082893410597719),\n",
       " (0.03924922849053694, 0.07213778082302533)]"
      ]
     },
     "execution_count": 186,
     "metadata": {},
     "output_type": "execute_result"
    }
   ],
   "source": [
    "print(\"Corr of Feature and mean agent score\")\n",
    "print(\"Normal      \", [pearsonr(all_results[:,i], all_results[:,9]) for i in range(4)])\n",
    "print(\"Intervention\", [pearsonr(all_results[:,i], all_results[:,9]) for i in range(4)])"
   ]
  },
  {
   "cell_type": "code",
   "execution_count": 173,
   "id": "c57a433e",
   "metadata": {},
   "outputs": [
    {
     "name": "stdout",
     "output_type": "stream",
     "text": [
      "(0.813213000464743, 0.0)\n"
     ]
    },
    {
     "data": {
      "text/plain": [
       "<matplotlib.collections.PathCollection at 0x1de356cae10>"
      ]
     },
     "execution_count": 173,
     "metadata": {},
     "output_type": "execute_result"
    },
    {
     "data": {
      "image/png": "[encoded data removed]",
      "text/plain": [
       "<Figure size 432x288 with 1 Axes>"
      ]
     },
     "metadata": {
      "needs_background": "light"
     },
     "output_type": "display_data"
    }
   ],
   "source": [
    "# Correlation: start value - privilege  \n",
    "print(pearsonr(all_results[:,3], all_results[:,10]))\n",
    "plt.scatter(all_results[:,3], all_results[:,10])"
   ]
  },
  {
   "cell_type": "code",
   "execution_count": null,
   "id": "49665ff1",
   "metadata": {},
   "outputs": [],
   "source": []
  },
  {
   "cell_type": "code",
   "execution_count": null,
   "id": "cf7f8046",
   "metadata": {},
   "outputs": [],
   "source": []
  },
  {
   "cell_type": "code",
   "execution_count": null,
   "id": "282f4965",
   "metadata": {},
   "outputs": [],
   "source": []
  },
  {
   "cell_type": "markdown",
   "id": "45183c1e",
   "metadata": {},
   "source": [
    "### Explore 2D landscapes distribution"
   ]
  },
  {
   "cell_type": "code",
   "execution_count": 483,
   "id": "b9178e96",
   "metadata": {},
   "outputs": [],
   "source": [
    "envs = [\"MasonWatts\", \"Ackley\", \"DropWave\"]\n",
    "\n",
    "MW, _ = create_env(\"MasonWatts\", 1000)\n",
    "ACK, _ = create_env(\"Ackley\", 1000)\n",
    "DW, _ = create_env(\"DropWave\", 1000)"
   ]
  },
  {
   "cell_type": "code",
   "execution_count": 502,
   "id": "fead2206",
   "metadata": {},
   "outputs": [
    {
     "data": {
      "text/plain": [
       "(array([532856., 264240.,  97456.,  42480.,  26968.,  12656.,  10556.,\n",
       "          8516.,   2072.,   2200.]),\n",
       " array([0. , 0.1, 0.2, 0.3, 0.4, 0.5, 0.6, 0.7, 0.8, 0.9, 1. ]),\n",
       " <BarContainer object of 10 artists>)"
      ]
     },
     "execution_count": 502,
     "metadata": {},
     "output_type": "execute_result"
    },
    {
     "data": {
      "image/png": "[encoded data removed]",
      "text/plain": [
       "<Figure size 1152x288 with 3 Axes>"
      ]
     },
     "metadata": {
      "needs_background": "light"
     },
     "output_type": "display_data"
    }
   ],
   "source": [
    "fig, axs = plt.subplots(1,3, figsize=(16,4))\n",
    "\n",
    "axs[0].hist((MW).flat)\n",
    "axs[1].hist(ACK.flat)\n",
    "axs[2].hist(DW.flat)"
   ]
  },
  {
   "cell_type": "code",
   "execution_count": 506,
   "id": "b6320bc2",
   "metadata": {},
   "outputs": [
    {
     "data": {
      "text/plain": [
       "(0.27424043006953464, 0.09638651913948465, 0.13256320525959128)"
      ]
     },
     "execution_count": 506,
     "metadata": {},
     "output_type": "execute_result"
    }
   ],
   "source": [
    "MW.mean(), ACK.mean(), DW.mean()"
   ]
  },
  {
   "cell_type": "code",
   "execution_count": 505,
   "id": "459d3249",
   "metadata": {},
   "outputs": [
    {
     "data": {
      "text/plain": [
       "(0.09008276409252265, 0.10745094384746584, 0.14906804281736985)"
      ]
     },
     "execution_count": 505,
     "metadata": {},
     "output_type": "execute_result"
    }
   ],
   "source": [
    "MW.std(), ACK.std(), DW.std()"
   ]
  },
  {
   "cell_type": "code",
   "execution_count": null,
   "id": "2fbe5a8b",
   "metadata": {},
   "outputs": [],
   "source": []
  },
  {
   "cell_type": "markdown",
   "id": "cb3765e6",
   "metadata": {},
   "source": [
    "### Check nk landscpaes"
   ]
  },
  {
   "cell_type": "code",
   "execution_count": 494,
   "id": "9cee0b5a",
   "metadata": {},
   "outputs": [],
   "source": [
    "def norm_nk(env):\n",
    "    nk_values = np.array(list(env.values()))**6\n",
    "    nk_values = (nk_values - min(nk_values)) / max(nk_values - min(nk_values))\n",
    "    return nk_values"
   ]
  },
  {
   "cell_type": "code",
   "execution_count": 495,
   "id": "0f66ac49",
   "metadata": {},
   "outputs": [
    {
     "data": {
      "text/plain": [
       "(array([7.78827e+05, 2.24347e+05, 3.57530e+04, 7.70900e+03, 1.49000e+03,\n",
       "        3.24000e+02, 9.40000e+01, 2.40000e+01, 6.00000e+00, 2.00000e+00]),\n",
       " array([0. , 0.1, 0.2, 0.3, 0.4, 0.5, 0.6, 0.7, 0.8, 0.9, 1. ]),\n",
       " <BarContainer object of 10 artists>)"
      ]
     },
     "execution_count": 495,
     "metadata": {},
     "output_type": "execute_result"
    },
    {
     "data": {
      "image/png": "[encoded data removed]",
      "text/plain": [
       "<Figure size 1152x288 with 3 Axes>"
      ]
     },
     "metadata": {
      "needs_background": "light"
     },
     "output_type": "display_data"
    }
   ],
   "source": [
    "file1 = \"N20K1_5.pkl\"\n",
    "file5 = \"N20K5_5.pkl\"\n",
    "file10 = \"N20K10_5.pkl\"\n",
    "\n",
    "with open(file1, 'rb') as f:\n",
    "    landscapes = pickle.load(f)\n",
    "nk_values1 = norm_nk(landscapes[0])\n",
    "with open(file5, 'rb') as f:\n",
    "    landscapes = pickle.load(f)\n",
    "nk_values5 = norm_nk(landscapes[0])\n",
    "with open(file10, 'rb') as f:\n",
    "    landscapes = pickle.load(f)\n",
    "nk_values10 = norm_nk(landscapes[0])\n",
    "\n",
    "fig, axs = plt.subplots(1,3, figsize=(16,4))\n",
    "\n",
    "axs[0].hist(nk_values1)\n",
    "axs[1].hist(nk_values5)\n",
    "axs[2].hist(nk_values10)"
   ]
  },
  {
   "cell_type": "code",
   "execution_count": 500,
   "id": "13749e2c",
   "metadata": {},
   "outputs": [
    {
     "data": {
      "text/plain": [
       "(0.12657871622234346, 0.07980918268476872, 0.07617407102498946)"
      ]
     },
     "execution_count": 500,
     "metadata": {},
     "output_type": "execute_result"
    }
   ],
   "source": [
    "nk_values1.mean(), nk_values5.mean(), nk_values10.mean()"
   ]
  },
  {
   "cell_type": "code",
   "execution_count": 501,
   "id": "d7e32766",
   "metadata": {},
   "outputs": [
    {
     "data": {
      "text/plain": [
       "(0.08789977016736514, 0.062203533667093996, 0.060569186697489466)"
      ]
     },
     "execution_count": 501,
     "metadata": {},
     "output_type": "execute_result"
    }
   ],
   "source": [
    "nk_values1.std(), nk_values5.std(), nk_values10.std()"
   ]
  },
  {
   "cell_type": "code",
   "execution_count": null,
   "id": "d8e3f632",
   "metadata": {},
   "outputs": [],
   "source": []
  },
  {
   "cell_type": "markdown",
   "id": "999a2c61",
   "metadata": {},
   "source": [
    "#### Check modality"
   ]
  },
  {
   "cell_type": "code",
   "execution_count": 14,
   "id": "4d8ea0e8",
   "metadata": {},
   "outputs": [],
   "source": [
    "from itertools import product"
   ]
  },
  {
   "cell_type": "code",
   "execution_count": 35,
   "id": "6c1d3ef3",
   "metadata": {},
   "outputs": [],
   "source": [
    "rng = np.random.default_rng(0)\n",
    "tau=0.01\n"
   ]
  },
  {
   "cell_type": "code",
   "execution_count": 19,
   "id": "bd87aba6",
   "metadata": {},
   "outputs": [],
   "source": [
    "def check_modality(env):\n",
    "    states = np.array(list(product([0,1], repeat=env.N)))\n",
    "    peak_counter = 0\n",
    "    peak_states = []\n",
    "    for state in states:\n",
    "        score = env.get_fitness(state)\n",
    "        \n",
    "        for index in range(env.N):\n",
    "            if score < env.get_fitness(bit_switch(state.copy(), index)):\n",
    "                break\n",
    "            if index == (env.N - 1):\n",
    "                peak_counter += 1\n",
    "                peak_states.append(state)\n",
    "    return peak_counter, peak_states"
   ]
  },
  {
   "cell_type": "code",
   "execution_count": 20,
   "id": "c61ad9bf",
   "metadata": {},
   "outputs": [],
   "source": [
    "file = \"N20K10_5.pkl\"\n",
    "\n",
    "with open(file, 'rb') as f:\n",
    "    landscapes = pickle.load(f)\n",
    "    \n",
    "N, K = str(file.split(\"_\")[0])[1:].split(\"K\")\n",
    "N, K = int(N), int(K)"
   ]
  },
  {
   "cell_type": "code",
   "execution_count": 21,
   "id": "ab36afe0",
   "metadata": {},
   "outputs": [
    {
     "name": "stdout",
     "output_type": "stream",
     "text": [
      "20 10\n"
     ]
    }
   ],
   "source": [
    "env = NK_landscape_loaded(N, K, landscapes[0])\n",
    "print(env.N, env.K)"
   ]
  },
  {
   "cell_type": "code",
   "execution_count": 22,
   "id": "e63c1a04",
   "metadata": {},
   "outputs": [
    {
     "data": {
      "text/plain": [
       "13177"
      ]
     },
     "execution_count": 22,
     "metadata": {},
     "output_type": "execute_result"
    }
   ],
   "source": [
    "peak_counter, peak_states = check_modality(env)\n",
    "peak_counter"
   ]
  },
  {
   "cell_type": "code",
   "execution_count": 42,
   "id": "13541bb7",
   "metadata": {},
   "outputs": [
    {
     "name": "stdout",
     "output_type": "stream",
     "text": [
      "0.76\n"
     ]
    }
   ],
   "source": [
    "peak_state = peak_states[1]\n",
    "print(env.get_fitness(peak_state))"
   ]
  },
  {
   "cell_type": "code",
   "execution_count": 43,
   "id": "0216afd2",
   "metadata": {},
   "outputs": [
    {
     "name": "stdout",
     "output_type": "stream",
     "text": [
      "0.72\n",
      "0.64\n",
      "0.5\n",
      "0.45\n",
      "0.66\n",
      "0.62\n",
      "0.57\n",
      "0.59\n",
      "0.67\n",
      "0.48\n",
      "0.5\n",
      "0.52\n",
      "0.66\n",
      "0.71\n",
      "0.66\n",
      "0.52\n",
      "0.66\n",
      "0.52\n",
      "0.6\n",
      "0.5\n"
     ]
    }
   ],
   "source": [
    "for index in range(env.N):\n",
    "    print(env.get_fitness(bit_switch(peak_state.copy(), index)))"
   ]
  },
  {
   "cell_type": "code",
   "execution_count": 44,
   "id": "c5d44572",
   "metadata": {},
   "outputs": [],
   "source": [
    "def HC_steep(env, iterations = 150, eta=0.05, state=None):\n",
    "    if state is None:\n",
    "        state = np.round(rng.random(env.N)).astype(int)\n",
    "    score = env.get_fitness(state)\n",
    "    \n",
    "    all_scores = np.zeros(iterations+1)\n",
    "    all_scores[0] = score\n",
    "    for i in range(iterations):\n",
    "        neigh_states, neigh_pb = local_search_nk(env, state, score, eta)\n",
    "        state = neigh_states[np.argmax(neigh_pb)]\n",
    "        score = env.get_fitness(state)\n",
    "        all_scores[i+1] = score\n",
    "    \n",
    "    return all_scores, state\n",
    "        \n",
    "    \n",
    "    "
   ]
  },
  {
   "cell_type": "code",
   "execution_count": 45,
   "id": "f7e55c8c",
   "metadata": {},
   "outputs": [
    {
     "data": {
      "text/plain": [
       "[<matplotlib.lines.Line2D at 0x25f68de9e80>]"
      ]
     },
     "execution_count": 45,
     "metadata": {},
     "output_type": "execute_result"
    },
    {
     "data": {
      "image/png": "[encoded data removed]",
      "text/plain": [
       "<Figure size 432x288 with 1 Axes>"
      ]
     },
     "metadata": {
      "needs_background": "light"
     },
     "output_type": "display_data"
    }
   ],
   "source": [
    "tau=0.01\n",
    "all_scores, state = HC_steep(env, 100, 3, peak_state)\n",
    "plt.plot(all_scores)"
   ]
  },
  {
   "cell_type": "code",
   "execution_count": null,
   "id": "ef950b74",
   "metadata": {},
   "outputs": [],
   "source": []
  },
  {
   "cell_type": "code",
   "execution_count": null,
   "id": "d26b7c48",
   "metadata": {},
   "outputs": [],
   "source": []
  },
  {
   "cell_type": "markdown",
   "id": "1046f414",
   "metadata": {},
   "source": [
    "## Unused code"
   ]
  },
  {
   "cell_type": "markdown",
   "id": "3a4a57fe",
   "metadata": {},
   "source": [
    "Policy where agents choose one leader and only learn traits from this leader"
   ]
  },
  {
   "cell_type": "code",
   "execution_count": 31,
   "id": "17658f5e",
   "metadata": {},
   "outputs": [],
   "source": [
    "def run_simulation_1Agent(grid_size, n_agents, intervention, F, lr, max_iter, env, all_steps,\n",
    "                   R_scale, beta, tau, intervention_start, sigma, rng):\n",
    "    \"\"\"Implements one full simulation run\"\"\"\n",
    "\n",
    "    gammas = scale_gamma(F[:, 0])\n",
    "    etas = scale_eta(F[:, 1])\n",
    "    rho = F[:, -1]\n",
    "\n",
    "    # Init agents based on privilege\n",
    "    if env_type != \"NK\":\n",
    "        all_positions, S = initialize_starting_position(env, n_agents, rho)\n",
    "        # all_positions, S = initialize_starting_position_random(env, n_agents)\n",
    "    else:\n",
    "        all_positions, S = initialize_starting_position_NK(env, n_agents, rho)\n",
    "        \n",
    "    # Trait Learning\n",
    "    W = rng.normal((max(S)-min(S))*0.5, 0.1, (n_agents, 4))\n",
    "    A = W @ F.T\n",
    "\n",
    "    # Simulation tracking variables\n",
    "    intermediate_positions = np.zeros_like(all_positions)\n",
    "    intermediate_S = np.zeros_like(S)\n",
    "    S_history = np.empty((max_iter, n_agents))\n",
    "    S_history[0] = S\n",
    "    R = S\n",
    "\n",
    "    W_history = np.empty((max_iter, F.shape[1]))\n",
    "    W_history[0] = W.mean(axis=0)\n",
    "\n",
    "    iteration = 1\n",
    "    while iteration < max_iter:\n",
    "\n",
    "        # 0. Calculate social values\n",
    "        b = R.min()\n",
    "        R_hat = W @ F.T + b\n",
    "        Y = softmax((A/A.sum(axis=1)) / tau, axis=1)\n",
    "\n",
    "        leaders = np.zeros(n_agents, dtype=int)\n",
    "        for agent_index in range(n_agents):\n",
    "            # 1. Social learning\n",
    "            leaders[agent_index] = rng.choice(np.arange(n_agents), p=Y[agent_index]).astype(int)\n",
    "            if gammas[agent_index] >= rng.random():\n",
    "                next_position = all_positions[leaders[agent_index]]\n",
    "                if env_type != \"NK\":\n",
    "                    next_S = env[next_position[0]][next_position[1]]\n",
    "                else:\n",
    "                    next_S = env.get_fitness(next_position)\n",
    "            else:\n",
    "                # 2. Local search\n",
    "                if env_type != \"NK\":\n",
    "                    positions, p_dist, use_social = local_search(env, S[agent_index], etas[agent_index],\n",
    "                                                             all_positions[agent_index], all_steps,\n",
    "                                                             grid_size, tau, rng)\n",
    "                \n",
    "                    next_position = draw_step(positions, p_dist, rng)\n",
    "                    next_S = env[next_position[0]][next_position[1]]\n",
    "                else:\n",
    "                    next_position, next_S = local_search_nk(env, all_positions[agent_index], S[agent_index], etas[agent_index])\n",
    "            \n",
    "            # 3. safe values to update after all agents are through\n",
    "            intermediate_positions[agent_index] = next_position\n",
    "            intermediate_S[agent_index] = next_S\n",
    "            \n",
    "        # 4. Optimize W\n",
    "        R_decay = R_scale[-iteration:] / R_scale[-iteration:].sum()\n",
    "        R = R_decay @ S_history[:iteration]        \n",
    "        grad = loss_gradients(R_hat[leaders], F[leaders], R[leaders])\n",
    "        W -= (lr * grad.T).T\n",
    "\n",
    "        # 4.1 Gradient of intervention\n",
    "        if intervention is True:\n",
    "            if (intervention_start < iteration):\n",
    "                grad_rm = run_intervention(n_roleModels, sigma, F, W, F_rm, R_rm, b, rng)\n",
    "                W -= lr * grad_rm\n",
    "\n",
    "        W_history[iteration] = W.mean(axis=0)\n",
    "        A += beta * (W @ F.T - A)\n",
    "        \n",
    "        # 5. All agents walk at the same time\n",
    "        S = intermediate_S\n",
    "        all_positions = intermediate_positions\n",
    "        S_history[iteration] = S\n",
    "\n",
    "        iteration += 1\n",
    "\n",
    "    loss = loss_fn(R_hat, R)\n",
    "    return S_history, W, A, loss, W_history\n",
    "\n",
    "\n"
   ]
  },
  {
   "cell_type": "code",
   "execution_count": null,
   "id": "d0e7aa8c",
   "metadata": {},
   "outputs": [],
   "source": []
  }
 ],
 "metadata": {
  "kernelspec": {
   "display_name": "Python 3",
   "language": "python",
   "name": "python3"
  },
  "language_info": {
   "codemirror_mode": {
    "name": "ipython",
    "version": 3
   },
   "file_extension": ".py",
   "mimetype": "text/x-python",
   "name": "python",
   "nbconvert_exporter": "python",
   "pygments_lexer": "ipython3",
   "version": "3.6.5"
  }
 },
 "nbformat": 4,
 "nbformat_minor": 5
}
