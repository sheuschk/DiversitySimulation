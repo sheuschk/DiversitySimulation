{
 "cells": [
  {
   "cell_type": "markdown",
   "id": "127006a5",
   "metadata": {},
   "source": [
    "# Adaption of CCN simulation"
   ]
  },
  {
   "cell_type": "markdown",
   "id": "560a4da9",
   "metadata": {},
   "source": [
    "## Change-log\n",
    "| Function | Detail | Date |\n",
    "| ---- | ------------ | - |\n",
    "| init_weights | sample them from prefect mean | 14.11 |\n",
    "|  |  |  |\n",
    "|  |  |  |"
   ]
  },
  {
   "cell_type": "code",
   "execution_count": null,
   "id": "45b0e8e0",
   "metadata": {},
   "outputs": [],
   "source": []
  },
  {
   "cell_type": "code",
   "execution_count": 3,
   "id": "5c54c391",
   "metadata": {},
   "outputs": [],
   "source": [
    "import argparse\n",
    "import sys\n",
    "import os\n",
    "import json\n",
    "import numpy as np\n",
    "\n",
    "from ccn_envs import create_env\n",
    "from datetime import datetime\n",
    "\n",
    "from scipy.special import softmax\n",
    "\n",
    "import matplotlib.pyplot as plt\n",
    "import seaborn as sns\n",
    " "
   ]
  },
  {
   "cell_type": "markdown",
   "id": "d20fe4b5",
   "metadata": {},
   "source": [
    "## Helpers"
   ]
  },
  {
   "cell_type": "code",
   "execution_count": 4,
   "id": "a4356d7f",
   "metadata": {},
   "outputs": [],
   "source": [
    "def loss_fn(R_hat, R):\n",
    "    \"\"\"\n",
    "    Mean Squared error\n",
    "    R: Expected Rewards of all Agents\n",
    "    S: Label\n",
    "    \"\"\"\n",
    "    return 1/(len(R)) * np.sum(((R - R_hat) ** 2), axis=1)\n",
    "\n",
    "\n",
    "def loss_gradients(R_hat, F, R):\n",
    "    \"\"\"\n",
    "    Derivative of Mean Squared Error\n",
    "    OMEGA: All Weights\n",
    "    F: Feature matrix of all agents\n",
    "    S: Label\n",
    "    \"\"\"\n",
    "    dL = - 1 / (len(R)) * (R - (R_hat)) @ (2 * F)\n",
    "    return dL\n",
    "\n",
    "def clip_steps(position, grid_size):\n",
    "    return np.clip(position, 0, grid_size - 1)\n",
    "\n",
    "def draw_step(positions, prob_dist, rng):\n",
    "    \"\"\"@:return: (array [x1, x2]) the position\"\"\"\n",
    "    return rng.choice(positions, p=prob_dist)\n",
    "\n"
   ]
  },
  {
   "cell_type": "code",
   "execution_count": null,
   "id": "b910b480",
   "metadata": {},
   "outputs": [],
   "source": []
  },
  {
   "cell_type": "code",
   "execution_count": null,
   "id": "6a4249df",
   "metadata": {},
   "outputs": [],
   "source": []
  },
  {
   "cell_type": "markdown",
   "id": "ff8b891d",
   "metadata": {},
   "source": [
    "## Policy functions "
   ]
  },
  {
   "cell_type": "code",
   "execution_count": 21,
   "id": "ad948fa2",
   "metadata": {},
   "outputs": [],
   "source": [
    "# Starting positions\n",
    "def initialize_starting_position(fitness_m, n_agents, rho):\n",
    "    \"\"\"Init starting position based on last noise feature interpreted as quantile of fitness landscape\"\"\"\n",
    "    quantiles = np.quantile(fitness_m, rho)\n",
    "    all_positions = np.empty((n_agents, 2), dtype=int)\n",
    "    for i, q in enumerate(quantiles):\n",
    "        q_pos = np.where((np.round(q, 2) == np.round(fitness_m, 2)))\n",
    "        q_pos_index = rng.integers(0, len(q_pos[0]))\n",
    "        all_positions[i] = [q_pos[0][q_pos_index], q_pos[1][q_pos_index]]\n",
    "    S = fitness_m[all_positions[:, 0], all_positions[:, 1]]\n",
    "    return all_positions, S\n",
    "\n",
    "def initialize_starting_position_fair(fitness_m, n_agents):\n",
    "    \"\"\"Init starting position based on last noise feature interpreted as quantile of fitness landscape\"\"\"\n",
    "    all_positions = np.empty((n_agents, 2), dtype=int)\n",
    "    quantile = np.quantile(fitness_m, 0.2)\n",
    "\n",
    "    q_pos = np.where((np.round(quantile, 2) == np.round(fitness_m, 2)))\n",
    "    for i in range(n_agents):\n",
    "        q_pos_index = rng.integers(0, len(q_pos[0]))\n",
    "        all_positions[i] = [q_pos[0][q_pos_index], q_pos[1][q_pos_index]]\n",
    "    S = fitness_m[all_positions[:, 0], all_positions[:, 1]]\n",
    "    return all_positions, S\n",
    "\n",
    "\n",
    "def initialize_starting_position_random(fitness_m, n_agents):\n",
    "    \"\"\"Init starting position based on last noise feature interpreted as quantile of fitness landscape\"\"\"\n",
    "    all_positions = rng.integers(0,1000, size=(n_agents, 2))\n",
    "    S = fitness_m[all_positions[:, 0], all_positions[:, 1]]\n",
    "    return all_positions, S\n"
   ]
  },
  {
   "cell_type": "code",
   "execution_count": 19,
   "id": "2456749f",
   "metadata": {},
   "outputs": [],
   "source": [
    "def local_search(env: np.array, agent_value, eta: float, position: np.array, steps, grid_size, tau, rng):\n",
    "    \"\"\"Stochastic Hill climbing OR random step (only if better)\"\"\"\n",
    "    if eta >= rng.uniform(0, 1):\n",
    "        rand_pos = rng.integers(0, grid_size, 2)\n",
    "        rand_value = env[rand_pos[0]][rand_pos[1]]\n",
    "        if rand_value > agent_value:\n",
    "            return rand_pos.reshape(1, 2), np.array([1.]), False\n",
    "    neighbour_states = [[clip_steps(position[0]+s[0], grid_size), clip_steps(position[1]+s[1], grid_size)] for s in steps]\n",
    "    ind_values = np.array([env[p[0]][p[1]] for p in neighbour_states])\n",
    "    ind_values_pb = softmax((ind_values / tau))\n",
    "    return np.asarray(neighbour_states), ind_values_pb, agent_value == ind_values.max()\n",
    "\n",
    "\n",
    "def create_feature_vector(n_agents, noise_features=2, rng=None):\n",
    "    \"\"\"Feature matrix F (agents x features): F[agent_i] = [gamma, eta, noise, rho]\"\"\"\n",
    "    # Performance features\n",
    "    gammas = rng.uniform(0, 1, size=n_agents)\n",
    "    etas = rng.uniform(0, 1, size=n_agents)\n",
    "\n",
    "    # Noise features\n",
    "    f_noise = rng.choice(np.clip(rng.normal([0.3, 0.7], [0.1, 0.1], size=(n_agents, 2)), 0, 1).flat,\n",
    "                         size=(n_agents, noise_features))\n",
    "\n",
    "    # Add them together\n",
    "    F = np.concatenate((np.stack((gammas, etas), axis=1), f_noise), axis=1)\n",
    "    return F\n",
    "\n",
    "\n",
    "def create_roleModel_features(n_roleModels, noise_features=2, rng=None):\n",
    "    \"\"\"Feature matrix F (n_roleModels x features): F[agent_i] = [gamma, eta, n0, n1, ...]\"\"\"\n",
    "    # Performance features\n",
    "    gammas = np.clip(rng.normal(0.8, 0.05, size=n_roleModels), 0, 1)\n",
    "    etas = np.clip(rng.normal(0.8, 0.05, size=n_roleModels), 0, 1)\n",
    "\n",
    "    # Noise features\n",
    "    f_noise = np.concatenate((\n",
    "        rng.choice(np.clip(rng.normal([0.3, 0.7], [0.1, 0.1], size=(n_roleModels, 2)), 0, 1).flat,\n",
    "                   size=(n_roleModels, noise_features-1)),\n",
    "        np.clip(\n",
    "            rng.normal(0.3, 0.1, size=(n_roleModels, 1)),\n",
    "            0, 1)\n",
    "    ), axis=1)\n",
    "\n",
    "    # Add them together\n",
    "    F = np.concatenate((np.stack((gammas, etas), axis=1), f_noise), axis=1)\n",
    "    return F\n",
    "\n",
    "\n",
    "def initialize_role_models(fitness_m, n_roleModels):\n",
    "    \"\"\"Init less privileged agents, but explicitly good performance and traits\"\"\"\n",
    "    if env_type == \"NK\":\n",
    "        fitness_values = list(fitness_m.fitness_dict.values())\n",
    "        fitness_values = (fitness_values - min(fitness_values)) \n",
    "        fitness_values /= max(fitness_values)\n",
    "        quantile = np.quantile(fitness_values, 0.9)\n",
    "        high_pos = np.where((np.round(quantile, 3) < np.round(fitness_values, 3)))[0]\n",
    "        indexes = rng.choice(high_pos, size=n_roleModels)\n",
    "        S = fitness_values[indexes]\n",
    "        # states = np.array([env.get_scaled_fitness(np.array(list(f'{i:020b}')).astype(int)) for i in index])\n",
    "        return S\n",
    "        \n",
    "    quantile = np.quantile(fitness_m, 0.9)\n",
    "    high_pos = np.where((np.round(quantile, 3) < np.round(fitness_m, 3)))\n",
    "    start_pos_index = rng.integers(0, len(high_pos[0]), n_roleModels)\n",
    "    all_positions = np.stack((high_pos[0][start_pos_index], high_pos[1][start_pos_index]), axis=1)\n",
    "    S = fitness_m[all_positions[:, 0], all_positions[:, 1]]\n",
    "    return S\n",
    "\n",
    "\n",
    "def intervention_gradient(OMEGA, F_rm, R_rm, b, n_roleModels, chosen_agents):\n",
    "    \"\"\"Calculate gradients for agents impacted by a mentor\"\"\"\n",
    "    roleModels = rng.integers(n_roleModels, size=len(chosen_agents))\n",
    "    R_hat_rm = OMEGA[chosen_agents] @ F_rm[roleModels].T + b\n",
    "    W_grad = np.zeros_like(OMEGA)\n",
    "    if len(R_hat_rm) > 0:\n",
    "        grad_rm = loss_gradients(R_hat_rm, F_rm[roleModels], R_rm[roleModels])\n",
    "        W_grad[chosen_agents] = grad_rm\n",
    "    return W_grad\n",
    "\n",
    "\n",
    "def run_intervention(n_roleModels, sigma, F, W, F_rm, R_rm, b, rng):\n",
    "    \"\"\"Run intervention which mentor impacts which less privileged agent\"\"\"\n",
    "    chosen_agents = np.where(F[:, -1] < 0.5)[0]\n",
    "    drawn_sigma = rng.random(size=len(chosen_agents))\n",
    "    chosen_agents = chosen_agents[np.where(drawn_sigma <= sigma)[0]]\n",
    "    return intervention_gradient(W, F_rm, R_rm, b, n_roleModels, chosen_agents)\n",
    "\n",
    "\n",
    "def scale_eta(eta):\n",
    "    \"\"\"For eta in [0,1]\"\"\"\n",
    "    return 0.1 * eta\n",
    "\n",
    "\n",
    "def scale_gamma(gamma):\n",
    "    \"\"\"For gamma in [0,1]\"\"\"\n",
    "    return 0.1 * gamma\n"
   ]
  },
  {
   "cell_type": "code",
   "execution_count": null,
   "id": "1eb8cbc7",
   "metadata": {},
   "outputs": [],
   "source": []
  },
  {
   "cell_type": "markdown",
   "id": "4c4034ae",
   "metadata": {},
   "source": [
    "### NK function"
   ]
  },
  {
   "cell_type": "code",
   "execution_count": 1,
   "id": "3cb0e9e9",
   "metadata": {},
   "outputs": [],
   "source": [
    "from ccn_envs import create_env, NK_landscape_loaded"
   ]
  },
  {
   "cell_type": "code",
   "execution_count": 5,
   "id": "29356583",
   "metadata": {},
   "outputs": [],
   "source": [
    "def initialize_starting_position_NK_random(env, n_agents):\n",
    "    states = np.round(rng.random((n_agents, env.N))).astype(int)\n",
    "    scores = np.array([env.get_scaled_fitness(state) for state in states])\n",
    "    return states, scores\n",
    "\n",
    "def initialize_starting_position_NK_fair(env, n_agents):\n",
    "    fitness_values = list(env.fitness_dict.values())\n",
    "    fitness_values = (fitness_values - min(fitness_values)) \n",
    "    fitness_values /= max(fitness_values)\n",
    "    quantile = np.quantile(fitness_values, 0.2)\n",
    "    low_pos = np.where((np.round(quantile, 3) > np.round(fitness_values, 3)))[0]\n",
    "    index = rng.choice(low_pos, size=n_agents).astype(int)\n",
    "    S = fitness_values[index]\n",
    "    states = np.array([np.array(list(f'{i:020b}')).astype(int) for i in index])\n",
    "    return states, S\n",
    "\n",
    "def initialize_starting_position_NK(env, n_agents, rho):\n",
    "    fitness_values = list(env.fitness_dict.values())\n",
    "    fitness_values = (fitness_values - min(fitness_values)) \n",
    "    fitness_values /= max(fitness_values)\n",
    "    quantile = np.quantile(fitness_values, rho)\n",
    "    S = np.zeros(n_agents)\n",
    "    states = np.empty((n_agents, N)).astype(int)\n",
    "    for _, q in enumerate(quantile):\n",
    "        low_pos = np.where((np.round(q, 1) == np.round(fitness_values, 1)))[0]\n",
    "        index = rng.choice(low_pos).astype(int)\n",
    "        S[_] = fitness_values[index]\n",
    "        states[_] = np.array(list(f'{index:020b}')).astype(int)\n",
    "    return states, S"
   ]
  },
  {
   "cell_type": "code",
   "execution_count": 6,
   "id": "4bc17dba",
   "metadata": {},
   "outputs": [],
   "source": [
    "def local_search_nk(env, state, score, eta):\n",
    "    if eta >= rng.uniform(0, 1):\n",
    "        random_state = np.round(rng.random(env.N)).astype(int)\n",
    "        if env.get_scaled_fitness(random_state) > score:\n",
    "            return random_state, env.get_scaled_fitness(random_state)\n",
    "    \n",
    "    digit = rng.integers(0, env.N)\n",
    "    new_state = state.copy()\n",
    "    if state[digit] == 1:\n",
    "        new_state[digit] = 0\n",
    "    else:\n",
    "        new_state[digit] = 1\n",
    "    new_score = env.get_scaled_fitness(new_state)\n",
    "    if new_score > score: \n",
    "        return new_state, env.get_scaled_fitness(state)\n",
    "    return state, score\n",
    "    "
   ]
  },
  {
   "cell_type": "markdown",
   "id": "fc676e2e",
   "metadata": {},
   "source": [
    "## Simulation"
   ]
  },
  {
   "cell_type": "markdown",
   "id": "40d8ce9b",
   "metadata": {},
   "source": [
    "### Ideas for adjustement\n",
    "* Always sample one agent to trust and only adjust social values for this agent (follow this agent)\n",
    "    * Think of social imitation every iteration, just don't do it every time\n",
    "    * Privilege would not break as easily, as privileged agents are chosen more often"
   ]
  },
  {
   "cell_type": "code",
   "execution_count": 111,
   "id": "5ae87670",
   "metadata": {},
   "outputs": [],
   "source": [
    "def run_simulation(grid_size, n_agents, intervention, F, lr, max_iter, fitness_m, all_steps,\n",
    "                   R_scale, beta, tau, intervention_start, sigma, rng):\n",
    "    \"\"\"Implements one full simulation run\"\"\"\n",
    "\n",
    "    gammas = scale_gamma(F[:, 0])\n",
    "    etas = scale_eta(F[:, 1])\n",
    "    rho = F[:, -1]\n",
    "\n",
    "    # Init agents based on privilege\n",
    "    if env_type != \"NK\":\n",
    "        all_positions, S = initialize_starting_position(fitness_m, n_agents, rho)\n",
    "        # all_positions, S = initialize_starting_position_random(fitness_m, n_agents)\n",
    "    else:\n",
    "        all_positions, S = initialize_starting_position_NK(fitness_m, n_agents, rho)\n",
    "        \n",
    "    # Trait Learning\n",
    "    W = rng.normal((max(S)-min(S))*0.5, 0.1, (n_agents, 4))  # *F.mean()/4\n",
    "    A = W @ F.T\n",
    "\n",
    "    # Simulation tracking variables\n",
    "    intermediate_positions = np.zeros_like(all_positions)\n",
    "    intermediate_S = np.zeros_like(S)\n",
    "    S_history = np.empty((max_iter, n_agents))\n",
    "    S_history[0] = S\n",
    "    R = S\n",
    "\n",
    "    W_history = np.empty((max_iter, F.shape[1]))\n",
    "    W_history[0] = W.mean(axis=0)\n",
    "\n",
    "    iteration = 1\n",
    "    while iteration < max_iter:\n",
    "\n",
    "        # 0. Calculate social values\n",
    "        b = R.min()\n",
    "        R_hat = W @ F.T + b\n",
    "        Y = softmax((A/A.sum(axis=1)) / tau, axis=1)\n",
    "\n",
    "        for agent_index in range(n_agents):\n",
    "            # 1. Social learning\n",
    "            if gammas[agent_index] >= rng.random():\n",
    "                next_position = draw_step(all_positions, Y[agent_index], rng)\n",
    "                if env_type != \"NK\":\n",
    "                    next_S = fitness_m[next_position[0]][next_position[1]]\n",
    "                else:\n",
    "                    next_S = fitness_m.get_scaled_fitness(next_position)\n",
    "            else:\n",
    "                # 2. Local search\n",
    "                if env_type != \"NK\":\n",
    "                    positions, p_dist, use_social = local_search(fitness_m, S[agent_index], etas[agent_index],\n",
    "                                                             all_positions[agent_index], all_steps,\n",
    "                                                             grid_size, tau, rng)\n",
    "                \n",
    "                    next_position = draw_step(positions, p_dist, rng)\n",
    "                    next_S = fitness_m[next_position[0]][next_position[1]]\n",
    "                else:\n",
    "                    next_position, next_S = local_search_nk(fitness_m, all_positions[agent_index], S[agent_index], etas[agent_index])\n",
    "            \n",
    "            # 3. safe values to update after all agents are through\n",
    "            intermediate_positions[agent_index] = next_position\n",
    "            intermediate_S[agent_index] = next_S\n",
    "            \n",
    "        # 4. Optimize W\n",
    "        R_decay = R_scale[-iteration:] / R_scale[-iteration:].sum()\n",
    "        R = R_decay @ S_history[:iteration]\n",
    "        grad = loss_gradients(R_hat, F, R)\n",
    "        W -= (lr * grad.T).T\n",
    "\n",
    "        # 4.1 Gradient of intervention\n",
    "        if intervention is True:\n",
    "            if (intervention_start < iteration):\n",
    "                grad_rm = run_intervention(n_roleModels, sigma, F, W, F_rm, R_rm, b, rng)\n",
    "                W -= lr * grad_rm\n",
    "\n",
    "        W_history[iteration] = W.mean(axis=0)\n",
    "        A += beta * (W @ F.T - A)\n",
    "        \n",
    "        # 5. All agents walk at the same time\n",
    "        S = intermediate_S\n",
    "        all_positions = intermediate_positions\n",
    "        S_history[iteration] = S\n",
    "\n",
    "        iteration += 1\n",
    "\n",
    "    loss = loss_fn(R_hat, R)\n",
    "    return S_history, W, A, loss, W_history\n",
    "\n"
   ]
  },
  {
   "cell_type": "code",
   "execution_count": 112,
   "id": "3577cdec",
   "metadata": {},
   "outputs": [],
   "source": [
    "def run_simulation_1Agent(grid_size, n_agents, intervention, F, lr, max_iter, fitness_m, all_steps,\n",
    "                   R_scale, beta, tau, intervention_start, sigma, rng):\n",
    "    \"\"\"Implements one full simulation run\"\"\"\n",
    "\n",
    "    gammas = scale_gamma(F[:, 0])\n",
    "    etas = scale_eta(F[:, 1])\n",
    "    rho = F[:, -1]\n",
    "\n",
    "    # Init agents based on privilege\n",
    "    if env_type != \"NK\":\n",
    "        all_positions, S = initialize_starting_position(fitness_m, n_agents, rho)\n",
    "        # all_positions, S = initialize_starting_position_random(fitness_m, n_agents)\n",
    "    else:\n",
    "        all_positions, S = initialize_starting_position_NK(fitness_m, n_agents, rho)\n",
    "        \n",
    "    # Trait Learning\n",
    "    W = rng.normal((max(S)-min(S))*0.5, 0.1, (n_agents, 4))\n",
    "    A = W @ F.T\n",
    "\n",
    "    # Simulation tracking variables\n",
    "    intermediate_positions = np.zeros_like(all_positions)\n",
    "    intermediate_S = np.zeros_like(S)\n",
    "    S_history = np.empty((max_iter, n_agents))\n",
    "    S_history[0] = S\n",
    "    R = S\n",
    "\n",
    "    W_history = np.empty((max_iter, F.shape[1]))\n",
    "    W_history[0] = W.mean(axis=0)\n",
    "\n",
    "    iteration = 1\n",
    "    while iteration < max_iter:\n",
    "\n",
    "        # 0. Calculate social values\n",
    "        b = R.min()\n",
    "        R_hat = W @ F.T + b\n",
    "        Y = softmax((A/A.sum(axis=1)) / tau, axis=1)\n",
    "\n",
    "        leaders = np.zeros(n_agents, dtype=int)\n",
    "        for agent_index in range(n_agents):\n",
    "            # 1. Social learning\n",
    "            leaders[agent_index] = rng.choice(np.arange(n_agents), p=Y[agent_index]).astype(int)\n",
    "            if gammas[agent_index] >= rng.random():\n",
    "                next_position = all_positions[leaders[agent_index]]\n",
    "                if env_type != \"NK\":\n",
    "                    next_S = fitness_m[next_position[0]][next_position[1]]\n",
    "                else:\n",
    "                    next_S = fitness_m.get_scaled_fitness(next_position)\n",
    "            else:\n",
    "                # 2. Local search\n",
    "                if env_type != \"NK\":\n",
    "                    positions, p_dist, use_social = local_search(fitness_m, S[agent_index], etas[agent_index],\n",
    "                                                             all_positions[agent_index], all_steps,\n",
    "                                                             grid_size, tau, rng)\n",
    "                \n",
    "                    next_position = draw_step(positions, p_dist, rng)\n",
    "                    next_S = fitness_m[next_position[0]][next_position[1]]\n",
    "                else:\n",
    "                    next_position, next_S = local_search_nk(fitness_m, all_positions[agent_index], S[agent_index], etas[agent_index])\n",
    "            \n",
    "            # 3. safe values to update after all agents are through\n",
    "            intermediate_positions[agent_index] = next_position\n",
    "            intermediate_S[agent_index] = next_S\n",
    "            \n",
    "        # 4. Optimize W\n",
    "        R_decay = R_scale[-iteration:] / R_scale[-iteration:].sum()\n",
    "        R = R_decay @ S_history[:iteration]        \n",
    "        grad = loss_gradients(R_hat[leaders], F[leaders], R[leaders])\n",
    "        W -= (lr * grad.T).T\n",
    "\n",
    "        # 4.1 Gradient of intervention\n",
    "        if intervention is True:\n",
    "            if (intervention_start < iteration):\n",
    "                grad_rm = run_intervention(n_roleModels, sigma, F, W, F_rm, R_rm, b, rng)\n",
    "                W -= lr * grad_rm\n",
    "\n",
    "        W_history[iteration] = W.mean(axis=0)\n",
    "        A += beta * (W @ F.T - A)\n",
    "        \n",
    "        # 5. All agents walk at the same time\n",
    "        S = intermediate_S\n",
    "        all_positions = intermediate_positions\n",
    "        S_history[iteration] = S\n",
    "\n",
    "        iteration += 1\n",
    "\n",
    "    loss = loss_fn(R_hat, R)\n",
    "    return S_history, W, A, loss, W_history\n",
    "\n"
   ]
  },
  {
   "cell_type": "markdown",
   "id": "6d031048",
   "metadata": {},
   "source": [
    "**Changes todo**:\n",
    "* Weight init\n",
    "* Gradient size\n"
   ]
  },
  {
   "cell_type": "markdown",
   "id": "5216d475",
   "metadata": {},
   "source": [
    "## Run simulation"
   ]
  },
  {
   "cell_type": "code",
   "execution_count": 80,
   "id": "40a14273",
   "metadata": {},
   "outputs": [],
   "source": [
    "import pickle"
   ]
  },
  {
   "cell_type": "code",
   "execution_count": 160,
   "id": "bc1bf54a",
   "metadata": {},
   "outputs": [],
   "source": [
    "# file = \"N20K5_5.pkl\"\n",
    "file = \"N20K2_5.pkl\"\n",
    "\n",
    "with open(file, 'rb') as f:\n",
    "    landscapes = pickle.load(f)\n",
    "\n",
    "n_landscapes = int(str(file.split(\"_\")[1]).split(\".\")[0])\n",
    "N, K = str(file.split(\"_\")[0])[1:].split(\"K\")\n",
    "N, K = int(N), int(K)\n",
    "\n",
    "env_type = \"NK\""
   ]
  },
  {
   "cell_type": "code",
   "execution_count": 9,
   "id": "c1240f8c",
   "metadata": {},
   "outputs": [],
   "source": [
    "env_type = \"2D\"\n",
    "envs = [\"MasonWatts\", \"Ackley\", \"DropWave\"]\n"
   ]
  },
  {
   "cell_type": "code",
   "execution_count": 113,
   "id": "e42621f1",
   "metadata": {},
   "outputs": [],
   "source": [
    "# Simulation parameter\n",
    "seed = 0\n",
    "\n",
    "grid_size = 1000\n",
    "total_simulations = 300\n",
    "max_iterations = 150\n",
    "n_agents = 7\n",
    "\n",
    "\n",
    "all_steps = np.array([[i, j] for i in np.arange(-1, 2) for j in np.arange(-1, 2)])\n",
    "\n",
    "lr = 0.1\n",
    "noise_features = 2  # Number of noise features (keep to 2)\n",
    "beta = 0.5  # Learning rate for social influence matrix A\n",
    "tau = 0.01  # Exploitation for social and individual optimization\n",
    "\n",
    "\n",
    "intervention = False\n",
    "n_roleModels = 2\n",
    "sigma = 0.2  # Probability for mentor connections during continuous intervention\n",
    "intervention_start = 50\n",
    "\n",
    "# Label scaling\n",
    "lambda_scale = 0.9  # Label decay\n",
    "R_scale = lambda_scale ** np.arange(max_iterations - 1, -1, -1)\n"
   ]
  },
  {
   "cell_type": "code",
   "execution_count": 114,
   "id": "d158a8e9",
   "metadata": {},
   "outputs": [
    {
     "name": "stdout",
     "output_type": "stream",
     "text": [
      "\n",
      "Simulation is starting: 2D \n",
      "\n",
      "In total 300 simulations\n",
      " Simulation: 100\n",
      " Simulation: 200\n",
      " Simulation: 300\n",
      "Finished successfully"
     ]
    }
   ],
   "source": [
    "rng = np.random.default_rng(seed)\n",
    "\n",
    "sys.stdout.write(f'\\nSimulation is starting: {env_type} \\n')\n",
    "# Create environment\n",
    "if env_type != \"NK\":\n",
    "    fitness_matrices = [create_env(env, grid_size)[0] for env in envs]\n",
    "else:\n",
    "    fitness_matrices = landscapes\n",
    "\n",
    "if intervention is True:\n",
    "    F_rm = create_roleModel_features(n_roleModels, noise_features, rng)\n",
    "    R_rm = initialize_role_models(fitness_m, n_roleModels)\n",
    "\n",
    "    \n",
    "# result saving\n",
    "all_results = np.empty((total_simulations * n_agents, 13))  # Second param: How many vars to track\n",
    "W_results = np.zeros((max_iterations, 4))\n",
    "\n",
    "S_results = np.zeros(max_iterations)\n",
    "\n",
    "# Start simulations\n",
    "sys.stdout.write(f\"\\nIn total {total_simulations} simulations\")\n",
    "for _ in range(total_simulations):\n",
    "    # Create traits\n",
    "    if env_type == \"NK\":\n",
    "        fitness_m = NK_landscape_loaded(N, K, fitness_matrices[rng.integers(len(envs))])\n",
    "    else:\n",
    "        fitness_m, env_title = create_env(envs[rng.integers(0, len(envs))], grid_size)\n",
    "    F = create_feature_vector(n_agents=n_agents, noise_features=noise_features, rng=rng)\n",
    "\n",
    "    S_history, W, A, loss, W_history = run_simulation_1Agent(grid_size=grid_size, n_agents=n_agents, intervention=intervention,\n",
    "                                                      F=F, lr=lr, max_iter=max_iterations,\n",
    "                                                      fitness_m=fitness_m, all_steps=all_steps, R_scale=R_scale,\n",
    "                                                      beta=beta, tau=tau, intervention_start=intervention_start,\n",
    "                                                      sigma=sigma, rng=rng)\n",
    "\n",
    "    run_results = np.concatenate((F,\n",
    "                                  W,\n",
    "                                  S_history.max(axis=0).reshape(n_agents, 1),\n",
    "                                  S_history.mean(axis=0).reshape(n_agents, 1),\n",
    "                                  S_history[0].reshape(n_agents, 1),\n",
    "                                  loss.reshape(n_agents, 1),\n",
    "                                  A.mean(axis=0).reshape(n_agents, 1),\n",
    "                                  ), axis=1)\n",
    "\n",
    "    all_results[_*n_agents: _*n_agents+n_agents] = run_results\n",
    "\n",
    "    W_results += W_history\n",
    "    S_results += S_history.mean(axis=1)\n",
    "\n",
    "    if (_+1) % 100 == 0:\n",
    "        sys.stdout.write(f\"\\n Simulation: {_+1}\")\n",
    "\n",
    "W_results /= total_simulations\n",
    "S_results /= total_simulations\n",
    "sys.stdout.write(f\"\\nFinished successfully\")\n"
   ]
  },
  {
   "cell_type": "code",
   "execution_count": null,
   "id": "d4fc60f2",
   "metadata": {},
   "outputs": [],
   "source": []
  },
  {
   "cell_type": "code",
   "execution_count": 140,
   "id": "cc755355",
   "metadata": {},
   "outputs": [
    {
     "data": {
      "text/plain": [
       "array([0.51439776, 0.36942364, 0.16677019])"
      ]
     },
     "execution_count": 140,
     "metadata": {},
     "output_type": "execute_result"
    }
   ],
   "source": [
    "# Max, Mean, Start Value\n",
    "all_results[:,8:11].mean(axis=0)"
   ]
  },
  {
   "cell_type": "code",
   "execution_count": 146,
   "id": "a188e9e8",
   "metadata": {},
   "outputs": [
    {
     "data": {
      "text/plain": [
       "Text(0, 0.5, 'Mean Score')"
      ]
     },
     "execution_count": 146,
     "metadata": {},
     "output_type": "execute_result"
    },
    {
     "data": {
      "image/png": "[encoded data removed]",
      "text/plain": [
       "<Figure size 864x288 with 2 Axes>"
      ]
     },
     "metadata": {
      "needs_background": "light"
     },
     "output_type": "display_data"
    }
   ],
   "source": [
    "fig, axs = plt.subplots(1,2, figsize=(12,4))\n",
    "axs[0].plot(S_results)\n",
    "axs[0].set_xlabel(\"Iteration\")\n",
    "axs[0].set_ylabel(\"Mean Score\")\n",
    "\n"
   ]
  },
  {
   "cell_type": "code",
   "execution_count": 117,
   "id": "326d2def",
   "metadata": {},
   "outputs": [],
   "source": [
    "from scipy.stats import pearsonr"
   ]
  },
  {
   "cell_type": "code",
   "execution_count": 118,
   "id": "051aec9b",
   "metadata": {},
   "outputs": [
    {
     "data": {
      "text/plain": [
       "[(0.01428451815322495, 0.5129555937025555),\n",
       " (0.1647562593546935, 3.017674885121075e-14),\n",
       " (0.04807674336799003, 0.027586618717034064),\n",
       " (0.07705850839239323, 0.0004086740054009852)]"
      ]
     },
     "execution_count": 118,
     "metadata": {},
     "output_type": "execute_result"
    }
   ],
   "source": [
    "[pearsonr(all_results[:,i], all_results[:,9]) for i in range(4)]"
   ]
  },
  {
   "cell_type": "markdown",
   "id": "81962a32",
   "metadata": {},
   "source": [
    "## Visualize"
   ]
  },
  {
   "cell_type": "code",
   "execution_count": 119,
   "id": "230431de",
   "metadata": {},
   "outputs": [],
   "source": [
    "weight_cols = [\"social imitation $\\gamma$\", \"random jumps $\\eta$\", \"noise $\\\\nu$\", \"privilege $\\\\rho$\"]"
   ]
  },
  {
   "cell_type": "code",
   "execution_count": 120,
   "id": "8c1287a2",
   "metadata": {},
   "outputs": [
    {
     "data": {
      "text/plain": [
       "<matplotlib.legend.Legend at 0x176703defd0>"
      ]
     },
     "execution_count": 120,
     "metadata": {},
     "output_type": "execute_result"
    },
    {
     "data": {
      "image/png": "[encoded data removed]",
      "text/plain": [
       "<Figure size 432x288 with 1 Axes>"
      ]
     },
     "metadata": {
      "needs_background": "light"
     },
     "output_type": "display_data"
    }
   ],
   "source": [
    "W_norm = W_results/ W_results.sum(axis=1).reshape(-1,1)\n",
    "for i, col in enumerate(weight_cols):\n",
    "    plt.plot(W_norm[:,i], label=col)\n",
    "plt.legend()"
   ]
  },
  {
   "cell_type": "code",
   "execution_count": 121,
   "id": "a8a7ec7e",
   "metadata": {},
   "outputs": [
    {
     "data": {
      "text/plain": [
       "array([[0.06830053, 0.07089511, 0.07494537, 0.07236452],\n",
       "       [0.06938103, 0.07168299, 0.07552624, 0.07545407],\n",
       "       [0.07082826, 0.07272493, 0.07673449, 0.07861872],\n",
       "       [0.07265289, 0.07435595, 0.07821618, 0.08192772],\n",
       "       [0.07452551, 0.07603934, 0.07987119, 0.0852467 ],\n",
       "       [0.07636014, 0.07803678, 0.08165635, 0.08854141],\n",
       "       [0.07817556, 0.07973685, 0.08326271, 0.09160563],\n",
       "       [0.07954604, 0.08117479, 0.08450153, 0.09427715],\n",
       "       [0.08126603, 0.08315421, 0.08606731, 0.09712584],\n",
       "       [0.08293663, 0.08514373, 0.08780455, 0.0999599 ],\n",
       "       [0.08488605, 0.08708648, 0.08976461, 0.10277517],\n",
       "       [0.08661819, 0.08897693, 0.09134991, 0.10507498],\n",
       "       [0.08823195, 0.09071165, 0.09301042, 0.10743212],\n",
       "       [0.0896221 , 0.09230715, 0.0946219 , 0.10961462],\n",
       "       [0.09078309, 0.09402587, 0.09600377, 0.11156026],\n",
       "       [0.09213846, 0.09533766, 0.09752819, 0.11352896],\n",
       "       [0.09293822, 0.09650503, 0.09845025, 0.11505075],\n",
       "       [0.09430756, 0.09819924, 0.09984797, 0.11684536],\n",
       "       [0.09534093, 0.0999238 , 0.10123014, 0.11859444],\n",
       "       [0.09592199, 0.10128839, 0.10203681, 0.11975006],\n",
       "       [0.09642196, 0.10233283, 0.10273532, 0.1208713 ],\n",
       "       [0.0966556 , 0.10285551, 0.10290562, 0.12147244],\n",
       "       [0.09708682, 0.10407794, 0.1034201 , 0.12223767],\n",
       "       [0.09741108, 0.10512836, 0.10384   , 0.12293411],\n",
       "       [0.09769578, 0.10591494, 0.10426632, 0.12363097],\n",
       "       [0.0972165 , 0.10602584, 0.10411471, 0.12375662],\n",
       "       [0.09790235, 0.10744031, 0.104808  , 0.1246065 ],\n",
       "       [0.09870083, 0.10901636, 0.10567916, 0.125735  ],\n",
       "       [0.09920002, 0.10989596, 0.10618907, 0.12645216],\n",
       "       [0.09998525, 0.11113722, 0.10687852, 0.12726622],\n",
       "       [0.1004177 , 0.11200784, 0.10759372, 0.1280274 ],\n",
       "       [0.10079503, 0.11264814, 0.10761118, 0.12834609],\n",
       "       [0.10164293, 0.11406789, 0.10833058, 0.12925694],\n",
       "       [0.10192951, 0.11470552, 0.10865025, 0.12973352],\n",
       "       [0.10255844, 0.11594609, 0.10938232, 0.13060905],\n",
       "       [0.10277511, 0.11680628, 0.10997376, 0.13138921],\n",
       "       [0.10303473, 0.11772055, 0.11039315, 0.1317043 ],\n",
       "       [0.10295091, 0.11794477, 0.10999339, 0.13178413],\n",
       "       [0.10295196, 0.11820152, 0.11002681, 0.1319379 ],\n",
       "       [0.10304993, 0.11883103, 0.11035791, 0.13208863],\n",
       "       [0.10360837, 0.12005084, 0.11100509, 0.1324657 ],\n",
       "       [0.1040408 , 0.12100239, 0.11140725, 0.13297051],\n",
       "       [0.10465711, 0.12182182, 0.11195282, 0.13344074],\n",
       "       [0.10598036, 0.12351063, 0.11309596, 0.13439541],\n",
       "       [0.10679315, 0.12476339, 0.1140883 , 0.13506104],\n",
       "       [0.10692278, 0.12521874, 0.11422378, 0.13509156],\n",
       "       [0.10768254, 0.12613122, 0.11490943, 0.1357937 ],\n",
       "       [0.10863512, 0.12782014, 0.11592095, 0.13667679],\n",
       "       [0.10940643, 0.12930111, 0.11699497, 0.13751585],\n",
       "       [0.11062461, 0.13104748, 0.11852236, 0.13878411],\n",
       "       [0.11144221, 0.13217797, 0.11919958, 0.1393861 ],\n",
       "       [0.11210384, 0.13342015, 0.11990464, 0.14013265],\n",
       "       [0.11287247, 0.13431876, 0.12060848, 0.1408454 ],\n",
       "       [0.1134662 , 0.13544561, 0.12122735, 0.14158525],\n",
       "       [0.11365567, 0.13573179, 0.12140555, 0.14189411],\n",
       "       [0.11392375, 0.13610704, 0.12130485, 0.14212561],\n",
       "       [0.11434315, 0.13655603, 0.12122726, 0.14224385],\n",
       "       [0.11501033, 0.13811636, 0.12217237, 0.14339564],\n",
       "       [0.11559086, 0.139384  , 0.12289832, 0.14410795],\n",
       "       [0.11660619, 0.14050561, 0.12344032, 0.14461964],\n",
       "       [0.11753715, 0.14147809, 0.12421147, 0.14539711],\n",
       "       [0.11851363, 0.14274424, 0.12524532, 0.14615452],\n",
       "       [0.11910463, 0.14398288, 0.12618386, 0.1470722 ],\n",
       "       [0.11980611, 0.14495844, 0.12692437, 0.14764226],\n",
       "       [0.12021507, 0.14547702, 0.12748858, 0.14822156],\n",
       "       [0.12093949, 0.1464779 , 0.12821976, 0.14903644],\n",
       "       [0.12129152, 0.14733098, 0.12838617, 0.14947336],\n",
       "       [0.12186144, 0.14852579, 0.12897408, 0.15014564],\n",
       "       [0.12295202, 0.14998951, 0.12998137, 0.15112039],\n",
       "       [0.12328031, 0.1503833 , 0.1303166 , 0.15145281],\n",
       "       [0.12342141, 0.15056623, 0.13033292, 0.15128672],\n",
       "       [0.12352874, 0.15085121, 0.13050691, 0.15145761],\n",
       "       [0.12387759, 0.15169678, 0.13085924, 0.15188381],\n",
       "       [0.12448843, 0.15264222, 0.13150811, 0.1525177 ],\n",
       "       [0.12502193, 0.15361368, 0.1321873 , 0.15301519],\n",
       "       [0.12516534, 0.1540309 , 0.13222303, 0.1528135 ],\n",
       "       [0.12509562, 0.15443434, 0.13223536, 0.15281163],\n",
       "       [0.12533604, 0.15505017, 0.1323416 , 0.15290461],\n",
       "       [0.12516867, 0.15544755, 0.13217576, 0.15289334],\n",
       "       [0.12508145, 0.15571917, 0.13220221, 0.15254958],\n",
       "       [0.12487083, 0.15622304, 0.132064  , 0.15246976],\n",
       "       [0.1245958 , 0.15656652, 0.1319531 , 0.15230124],\n",
       "       [0.12448443, 0.15657477, 0.13151718, 0.15198699],\n",
       "       [0.1245567 , 0.15711251, 0.13146928, 0.15186966],\n",
       "       [0.12435957, 0.15706659, 0.13084949, 0.15134741],\n",
       "       [0.12405619, 0.15702817, 0.13039231, 0.15104291],\n",
       "       [0.12370222, 0.15697788, 0.12992388, 0.15081306],\n",
       "       [0.12400385, 0.15798167, 0.13027033, 0.15114531],\n",
       "       [0.1242074 , 0.15877483, 0.13040499, 0.15112763],\n",
       "       [0.12402167, 0.15868446, 0.12987895, 0.15056208],\n",
       "       [0.12337551, 0.15830722, 0.12905168, 0.15000436],\n",
       "       [0.12324872, 0.15882308, 0.12907466, 0.14980106],\n",
       "       [0.1235511 , 0.15974617, 0.1294039 , 0.14999013],\n",
       "       [0.12373556, 0.16041913, 0.12958839, 0.15007107],\n",
       "       [0.12407414, 0.16114118, 0.12985989, 0.1501473 ],\n",
       "       [0.12371292, 0.16123179, 0.12966894, 0.14983725],\n",
       "       [0.12426961, 0.16207946, 0.13036298, 0.15027696],\n",
       "       [0.12446737, 0.16312635, 0.13075831, 0.15055256],\n",
       "       [0.12358957, 0.16276995, 0.13001684, 0.14958017],\n",
       "       [0.1237978 , 0.1633599 , 0.13047534, 0.14955762],\n",
       "       [0.12392707, 0.16359248, 0.13086573, 0.1495827 ],\n",
       "       [0.12364094, 0.16357067, 0.13057577, 0.14910889],\n",
       "       [0.12369054, 0.1638105 , 0.13065823, 0.1487765 ],\n",
       "       [0.12374487, 0.1641578 , 0.13082057, 0.14884243],\n",
       "       [0.12347206, 0.16408453, 0.13069148, 0.14849541],\n",
       "       [0.12286418, 0.16370163, 0.13016511, 0.14783291],\n",
       "       [0.12267794, 0.16385991, 0.13011173, 0.14771679],\n",
       "       [0.12305187, 0.16453605, 0.13068235, 0.14793004],\n",
       "       [0.12282383, 0.16463605, 0.13081653, 0.14780162],\n",
       "       [0.12169456, 0.164159  , 0.13005604, 0.14713463],\n",
       "       [0.12101995, 0.16365269, 0.1293644 , 0.14657039],\n",
       "       [0.12118764, 0.16405125, 0.12967021, 0.1466823 ],\n",
       "       [0.12145418, 0.16437145, 0.13003331, 0.14694686],\n",
       "       [0.12113396, 0.16427016, 0.12974237, 0.14670436],\n",
       "       [0.12105759, 0.16436541, 0.12946798, 0.14670485],\n",
       "       [0.12060439, 0.16400488, 0.12883367, 0.14638628],\n",
       "       [0.1205597 , 0.16407239, 0.12858141, 0.14635803],\n",
       "       [0.12096937, 0.16442367, 0.12902022, 0.14654036],\n",
       "       [0.12093411, 0.16432682, 0.12878111, 0.1464415 ],\n",
       "       [0.12100778, 0.1641311 , 0.128372  , 0.14632645],\n",
       "       [0.1211585 , 0.16429358, 0.12847404, 0.1463527 ],\n",
       "       [0.12113136, 0.16466029, 0.12878222, 0.14648757],\n",
       "       [0.12122396, 0.16488754, 0.12838212, 0.14644081],\n",
       "       [0.12153321, 0.16523368, 0.12865361, 0.14661074],\n",
       "       [0.12164436, 0.16551233, 0.12872501, 0.14659072],\n",
       "       [0.12178425, 0.16575711, 0.128842  , 0.14663087],\n",
       "       [0.12188927, 0.16588689, 0.12871865, 0.14660983],\n",
       "       [0.12209928, 0.16603544, 0.12884805, 0.14673162],\n",
       "       [0.12181027, 0.16596481, 0.12869169, 0.14656569],\n",
       "       [0.1214167 , 0.16561173, 0.12810057, 0.14609694],\n",
       "       [0.12116094, 0.16557168, 0.12814207, 0.14616039],\n",
       "       [0.12109403, 0.16571815, 0.12820928, 0.14605905],\n",
       "       [0.1205804 , 0.16505761, 0.12733883, 0.14528845],\n",
       "       [0.12041193, 0.16488238, 0.12715569, 0.14496359],\n",
       "       [0.12027964, 0.1648794 , 0.12700226, 0.14489709],\n",
       "       [0.12004535, 0.16492265, 0.12676806, 0.14478809],\n",
       "       [0.1200392 , 0.16482581, 0.12652409, 0.1444817 ],\n",
       "       [0.11923351, 0.1641683 , 0.12544869, 0.14336985],\n",
       "       [0.1188798 , 0.16415574, 0.12512876, 0.14303691],\n",
       "       [0.11843042, 0.1641595 , 0.12482719, 0.14262052],\n",
       "       [0.11847279, 0.16423356, 0.1247981 , 0.14238674],\n",
       "       [0.11835121, 0.164231  , 0.12484116, 0.14214817],\n",
       "       [0.1183033 , 0.16407388, 0.1242971 , 0.14168376],\n",
       "       [0.11813199, 0.16410754, 0.12399389, 0.14150519],\n",
       "       [0.11834538, 0.16454988, 0.12428198, 0.14172204],\n",
       "       [0.11796059, 0.16411125, 0.1236601 , 0.14110965],\n",
       "       [0.11785515, 0.16406203, 0.12351179, 0.14097961],\n",
       "       [0.11782316, 0.16404979, 0.1232518 , 0.14062281],\n",
       "       [0.11815151, 0.16469284, 0.12374719, 0.14102592],\n",
       "       [0.1180876 , 0.16495315, 0.12382013, 0.14101463]])"
      ]
     },
     "execution_count": 121,
     "metadata": {},
     "output_type": "execute_result"
    }
   ],
   "source": [
    "W_results # / W_results.sum(axis=1).reshape(-1,1)"
   ]
  },
  {
   "cell_type": "code",
   "execution_count": 122,
   "id": "688e89f4",
   "metadata": {},
   "outputs": [
    {
     "data": {
      "text/plain": [
       "[<matplotlib.lines.Line2D at 0x1767048b588>,\n",
       " <matplotlib.lines.Line2D at 0x1767048b5f8>,\n",
       " <matplotlib.lines.Line2D at 0x1767048b6a0>,\n",
       " <matplotlib.lines.Line2D at 0x1767048b748>]"
      ]
     },
     "execution_count": 122,
     "metadata": {},
     "output_type": "execute_result"
    },
    {
     "data": {
      "image/png": "[encoded data removed]",
      "text/plain": [
       "<Figure size 432x288 with 1 Axes>"
      ]
     },
     "metadata": {
      "needs_background": "light"
     },
     "output_type": "display_data"
    }
   ],
   "source": [
    "plt.plot(W_results)"
   ]
  },
  {
   "cell_type": "code",
   "execution_count": 125,
   "id": "9d407356",
   "metadata": {},
   "outputs": [
    {
     "data": {
      "text/plain": [
       "0.14325276741136778"
      ]
     },
     "execution_count": 125,
     "metadata": {},
     "output_type": "execute_result"
    }
   ],
   "source": [
    "np.sum(W_results[0] * 0.5)"
   ]
  },
  {
   "cell_type": "code",
   "execution_count": 142,
   "id": "c57a433e",
   "metadata": {},
   "outputs": [
    {
     "data": {
      "text/plain": [
       "0.0005142644903601838"
      ]
     },
     "execution_count": 142,
     "metadata": {},
     "output_type": "execute_result"
    }
   ],
   "source": [
    "min(all_results[:,10])"
   ]
  },
  {
   "cell_type": "code",
   "execution_count": null,
   "id": "b9178e96",
   "metadata": {},
   "outputs": [],
   "source": []
  },
  {
   "cell_type": "code",
   "execution_count": null,
   "id": "fead2206",
   "metadata": {},
   "outputs": [],
   "source": []
  },
  {
   "cell_type": "code",
   "execution_count": null,
   "id": "39db2a32",
   "metadata": {},
   "outputs": [],
   "source": []
  },
  {
   "cell_type": "code",
   "execution_count": null,
   "id": "e2cebdeb",
   "metadata": {},
   "outputs": [],
   "source": []
  }
 ],
 "metadata": {
  "kernelspec": {
   "display_name": "Python 3",
   "language": "python",
   "name": "python3"
  },
  "language_info": {
   "codemirror_mode": {
    "name": "ipython",
    "version": 3
   },
   "file_extension": ".py",
   "mimetype": "text/x-python",
   "name": "python",
   "nbconvert_exporter": "python",
   "pygments_lexer": "ipython3",
   "version": "3.6.5"
  }
 },
 "nbformat": 4,
 "nbformat_minor": 5
}
