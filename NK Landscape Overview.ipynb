{
 "cells": [
  {
   "cell_type": "markdown",
   "id": "e91df935",
   "metadata": {},
   "source": [
    "# NK landscape\n",
    "\n",
    "- Calculates all possible values in advance **Can take really long for high N**\n",
    "- Best use: \n",
    "    - Calculate needed amount of environments and save them in a file\n",
    "    - While working only load them and use the dictionary\n",
    "\n",
    "\n",
    "Changes (if landscape is not reused):\n",
    "- If payoff needs to be scaled: Implement Branch and Bound algorithm to find optimum & minumum\n",
    "- Calculate fitness every time (slow)\n",
    "\n",
    "Bugs:\n",
    "- Dependencies are not random. The same components are connected every time (np.roll command)\n",
    "\n",
    "\n",
    "Implemented based on theory description in: https://link.springer.com/article/10.1186/s41469-018-0039-0 "
   ]
  },
  {
   "cell_type": "code",
   "execution_count": 15,
   "id": "6bc8d396",
   "metadata": {},
   "outputs": [],
   "source": [
    "import numpy as np\n",
    "from itertools import product"
   ]
  },
  {
   "cell_type": "code",
   "execution_count": 16,
   "id": "43e8554d",
   "metadata": {},
   "outputs": [],
   "source": [
    "class NK_landscape():\n",
    "    \n",
    "    def __init__(self, N=10, K=5, C = None, dependencies = None):\n",
    "        \"\"\"\n",
    "        Calculates a dictionary with values for every possible state. \n",
    "        Payoff is scaled form 0-1\n",
    "        C: Table with values for every combination of connected components \n",
    "        fitness_dict: keys are the base10 converted states, values the fitness payoff \n",
    "        \"\"\"\n",
    "        assert N >= K+1\n",
    "        \n",
    "        self.N = N\n",
    "        self.K = K\n",
    "        \n",
    "        if C is None or dependencies is None:\n",
    "            self.initialize_C()\n",
    "            self.initialize_dependencies()\n",
    "        else:\n",
    "            self.dependencies = dependencies\n",
    "            self.C = C\n",
    "\n",
    "        \n",
    "        self.combinations = np.array(list(product([0,1], repeat=K+1)))\n",
    "        self.max_value = None\n",
    "        self.min_value = None\n",
    "        \n",
    "        self.fitness_dict = {}\n",
    "        self.init_values()\n",
    "        \n",
    "    \n",
    "    def initialize_dependencies(self):\n",
    "        \"\"\"[:,0] is connected with [:,1] --> [0,1] would mean node 0 has fluence on node 1\"\"\"\n",
    "        depend = np.zeros((self.N, self.K+1))\n",
    "        x = np.arange(self.N)\n",
    "        depend[:,0] = x\n",
    "        for _ in range(self.K):\n",
    "            depend[:,_+1] = np.roll(x,_+1)  # TODO: Create random connections between dimensions\n",
    "\n",
    "        self.dependencies = depend.astype(int)\n",
    "    \n",
    "    def initialize_C(self):\n",
    "        self.C = np.random.random((self.N,2**(self.K+1))).round(1)\n",
    "\n",
    "    def f(self, state):\n",
    "        \"\"\"Checks all connected dimensions for the combination they are currently in and adds the value\"\"\"\n",
    "        assert len(state) == self.N\n",
    "        solution = np.empty(len(state))\n",
    "        for i in range(len(self.dependencies)): \n",
    "            solution[i] = self.C[i, int(\"\".join(map(str, state[self.dependencies[i]])), 2)]\n",
    "        return round(solution.mean(), 2)\n",
    "    \n",
    "    def init_values(self):\n",
    "        \"\"\"Creates a dictionary mapping all states to their payoff\"\"\"\n",
    "        max_val = 0\n",
    "        min_val = 2\n",
    "        for sol in np.array(list(product([0,1], repeat=self.N))):\n",
    "            key = int(\"\".join(map(str, sol)), 2)\n",
    "            value = self.f(sol)\n",
    "            self.fitness_dict[key] = value\n",
    "          \n",
    "            if max_val < value:\n",
    "                max_val = value\n",
    "            if min_val > value:\n",
    "                min_val = value\n",
    "        self.max_value = max_val\n",
    "        self.min_value = min_val\n",
    "        \n",
    "    \n",
    "    def get_scaled_fitness_new_calculation(self, state):\n",
    "        \"\"\"Use if min max are known, but not all values are generated\"\"\"\n",
    "        assert self.max_value != None\n",
    "        return np.round((self.f(state) - self.min_value) / (self.max_value - self.min_value), 2)\n",
    "    \n",
    "    def get_scaled_fitness(self, state):\n",
    "        key = int(\"\".join(map(str, state)), 2)\n",
    "        value = self.fitness_dict[key]\n",
    "        return np.round((value - self.min_value) / (self.max_value - self.min_value), 2)"
   ]
  },
  {
   "cell_type": "code",
   "execution_count": 17,
   "id": "8761f559",
   "metadata": {},
   "outputs": [],
   "source": [
    "class NK_landscape_loaded(NK_landscape):\n",
    "    \n",
    "    def __init__(self, N, K, fitness_dict):\n",
    "        assert N >= K+1\n",
    "        \n",
    "        self.N = N\n",
    "        self.K = K\n",
    "\n",
    "        \n",
    "        self.max_value = None\n",
    "        self.min_value = None\n",
    "        \n",
    "        self.fitness_dict = fitness_dict\n",
    "        self.init_min_max()\n",
    "                \n",
    "    \n",
    "    def f(self, state):\n",
    "        raise NotImplementedError(\"Only dictionary in loaded nk landscape\")\n",
    "        \n",
    "    \n",
    "    def init_min_max(self):\n",
    "        self.max_value = max(self.fitness_dict.values())\n",
    "        self.min_value = min(self.fitness_dict.values())\n",
    "        "
   ]
  },
  {
   "cell_type": "code",
   "execution_count": null,
   "id": "97f2dcfa",
   "metadata": {},
   "outputs": [],
   "source": []
  },
  {
   "cell_type": "code",
   "execution_count": null,
   "id": "2e105f3b",
   "metadata": {},
   "outputs": [],
   "source": []
  },
  {
   "cell_type": "markdown",
   "id": "004acccb",
   "metadata": {},
   "source": [
    "### Calculate and save performance table"
   ]
  },
  {
   "cell_type": "code",
   "execution_count": 18,
   "id": "37639f2b",
   "metadata": {},
   "outputs": [],
   "source": [
    "import pickle "
   ]
  },
  {
   "cell_type": "code",
   "execution_count": 22,
   "id": "d37c1048",
   "metadata": {},
   "outputs": [
    {
     "name": "stdout",
     "output_type": "stream",
     "text": [
      "0\n",
      "1\n",
      "2\n",
      "3\n",
      "4\n"
     ]
    }
   ],
   "source": [
    "N = 10\n",
    "K = 5\n",
    "\n",
    "n_envs = 20\n",
    "\n",
    "landscapes = {}\n",
    "\n",
    "for seed in np.arange(n_envs):\n",
    "    rng = np.random.default_rng(seed)\n",
    "    env = NK_landscape(N, K)\n",
    "    landscapes[seed] = env.fitness_dict\n",
    "    if seed % 10 == 0:\n",
    "        print(seed)\n",
    "\n",
    "file = f'N{N}K{K}_{n_envs}.pkl' \n",
    "\n",
    "with open(file, 'wb') as f:\n",
    "    pickle.dump(landscapes, f)\n"
   ]
  },
  {
   "cell_type": "code",
   "execution_count": 20,
   "id": "15e003bb",
   "metadata": {},
   "outputs": [],
   "source": [
    "with open(file, 'rb') as f:\n",
    "    data = pickle.load(f)"
   ]
  },
  {
   "cell_type": "code",
   "execution_count": 21,
   "id": "04dd030f",
   "metadata": {},
   "outputs": [
    {
     "data": {
      "text/plain": [
       "0.58"
      ]
     },
     "execution_count": 21,
     "metadata": {},
     "output_type": "execute_result"
    }
   ],
   "source": [
    "# Example load\n",
    "nk = NK_landscape_loaded(N, K, data[0])\n",
    "state = np.round(rng.random(env.N)).astype(int)\n",
    "nk.get_scaled_fitness(state)"
   ]
  },
  {
   "cell_type": "code",
   "execution_count": null,
   "id": "2d18f342",
   "metadata": {},
   "outputs": [],
   "source": []
  }
 ],
 "metadata": {
  "kernelspec": {
   "display_name": "Python 3",
   "language": "python",
   "name": "python3"
  },
  "language_info": {
   "codemirror_mode": {
    "name": "ipython",
    "version": 3
   },
   "file_extension": ".py",
   "mimetype": "text/x-python",
   "name": "python",
   "nbconvert_exporter": "python",
   "pygments_lexer": "ipython3",
   "version": "3.6.5"
  }
 },
 "nbformat": 4,
 "nbformat_minor": 5
}
