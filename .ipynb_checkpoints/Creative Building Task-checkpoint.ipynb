{
 "cells": [
  {
   "cell_type": "markdown",
   "id": "05d442be",
   "metadata": {},
   "source": [
    "## Creative building task"
   ]
  },
  {
   "cell_type": "markdown",
   "id": "0581b9bf",
   "metadata": {},
   "source": [
    "Environment\n",
    "\n",
    "- [ ] Create example categories\n",
    "- [ ] Create example building blocks\n",
    "- [ ] Create example payoff\n",
    "- [ ] Test correlations of payoffs\n",
    "\n",
    "Agents\n",
    "- [ ] One Agent try and error learning \n"
   ]
  },
  {
   "cell_type": "markdown",
   "id": "81ffaf6a",
   "metadata": {},
   "source": []
  },
  {
   "cell_type": "code",
   "execution_count": 2,
   "id": "2bf2afc8",
   "metadata": {},
   "outputs": [],
   "source": [
    "import numpy as np\n",
    "# import pandas as pd\n",
    "import matplotlib.pyplot as plt"
   ]
  },
  {
   "cell_type": "code",
   "execution_count": 3,
   "id": "a860a927",
   "metadata": {},
   "outputs": [],
   "source": [
    "rng = np.random.default_rng(0)"
   ]
  },
  {
   "cell_type": "code",
   "execution_count": null,
   "id": "2f363822",
   "metadata": {},
   "outputs": [],
   "source": []
  },
  {
   "cell_type": "markdown",
   "id": "946b3c9f",
   "metadata": {},
   "source": [
    "### Bulding Blocks (Monster)\n",
    "\n",
    "**Parts**\n",
    "- Head\n",
    "- Body\n",
    "- Character\n",
    "- Movement\n",
    "- Supernatural ability\n",
    "\n",
    "**Payoff of Parts**\n",
    "- Scariness\n",
    "- Entertainment\n",
    "- Comedic"
   ]
  },
  {
   "cell_type": "code",
   "execution_count": null,
   "id": "67ee806a",
   "metadata": {},
   "outputs": [],
   "source": []
  },
  {
   "cell_type": "code",
   "execution_count": 4,
   "id": "394063ba",
   "metadata": {},
   "outputs": [
    {
     "data": {
      "text/plain": [
       "''"
      ]
     },
     "execution_count": 4,
     "metadata": {},
     "output_type": "execute_result"
    },
    {
     "data": {
      "image/png": "[encoded data removed]",
      "text/plain": [
       "<Figure size 936x288 with 3 Axes>"
      ]
     },
     "metadata": {
      "needs_background": "light"
     },
     "output_type": "display_data"
    }
   ],
   "source": [
    "# Starting of with one payoff per part\n",
    "n_parts = 5\n",
    "heads = rng.random(n_parts)\n",
    "bodies = rng.random(n_parts)\n",
    "ability = rng.random(n_parts)\n",
    "\n",
    "fig, ax = plt.subplots(1,3, figsize=(13,4))\n",
    "x = np.arange(1, n_parts+1)\n",
    "ax[0].set_xticks(x)\n",
    "ax[1].set_xticks(x)\n",
    "ax[2].set_xticks(x)\n",
    "\n",
    "ax[0].bar(x, height=heads)\n",
    "ax[1].bar(x, height=bodies)\n",
    "ax[2].bar(x, height=ability)\n",
    ";"
   ]
  },
  {
   "cell_type": "code",
   "execution_count": 5,
   "id": "98ce4e9b",
   "metadata": {},
   "outputs": [],
   "source": [
    "heads = np.stack((x, heads), axis=-1)\n",
    "bodies = np.stack((x, bodies), axis=-1)\n",
    "ability = np.stack((x, ability), axis=-1)"
   ]
  },
  {
   "cell_type": "code",
   "execution_count": 6,
   "id": "52393cc7",
   "metadata": {},
   "outputs": [
    {
     "data": {
      "text/plain": [
       "(array([[5.        , 0.81327024],\n",
       "        [1.        , 0.91275558],\n",
       "        [1.        , 0.81585355]]),\n",
       " 2.541879370599526)"
      ]
     },
     "execution_count": 6,
     "metadata": {},
     "output_type": "execute_result"
    }
   ],
   "source": [
    "monster = np.vstack((rng.choice(heads), rng.choice(bodies), rng.choice(ability)))\n",
    "m_payoff = monster[:,1].sum()\n",
    "monster, m_payoff"
   ]
  },
  {
   "cell_type": "code",
   "execution_count": 585,
   "id": "4d595e56",
   "metadata": {},
   "outputs": [],
   "source": [
    "# For later use\n",
    "class Monster():\n",
    "    \n",
    "    def __init__(self, all_blocks):\n",
    "        self.head : np.array() = np.zeros(2) \n",
    "        self.body : np.array() = np.zeros(2)\n",
    "        self.ability : np.array() = np.zeros(2)\n",
    "        \n",
    "        self.all_blocks = all_blocks\n",
    "        \n",
    "    def _init_min_monster(self):\n",
    "        self.head = self.all_blocks[0][(self.all_blocks[0]==self.all_blocks[0].min(axis=0))[:,1]][0]\n",
    "        self.body = self.all_blocks[1][(self.all_blocks[1]==self.all_blocks[1].min(axis=0))[:,1]][0]\n",
    "        self.ability = self.all_blocks[2][(self.all_blocks[2]==self.all_blocks[2].min(axis=0))[:,1]][0]\n",
    "        \n",
    "    def get_payoff(self):\n",
    "        return self.head[1] + self.body[1] + self.ability[1]\n",
    "    \n",
    "    def get_build(self):\n",
    "        return np.array([self.head[0], self.body[0], self.ability[0]])\n",
    "        \n",
    "    def evaluate_proposal(self, proposal):\n",
    "        if proposal[0] == 0:\n",
    "            return proposal[1][1] + self.body[1] + self.ability[1]\n",
    "        if proposal[0] == 1:\n",
    "            return self.head[1] + proposal[1][1] + self.ability[1]\n",
    "        if proposal[0] == 2:\n",
    "            return self.head[1] + self.body[1] + proposal[1][1]\n",
    "        \n",
    "    def update_block(self, proposal):\n",
    "        if proposal[0] == 0:\n",
    "            self.head = proposal[1]\n",
    "        if proposal[0] == 1:\n",
    "            self.body = proposal[1]\n",
    "        if proposal[0] == 2:\n",
    "            self.ability = proposal[1]\n",
    "        "
   ]
  },
  {
   "cell_type": "code",
   "execution_count": 577,
   "id": "cdf9cb5b",
   "metadata": {},
   "outputs": [
    {
     "data": {
      "text/plain": [
       "0.21608461543983348"
      ]
     },
     "execution_count": 577,
     "metadata": {},
     "output_type": "execute_result"
    }
   ],
   "source": [
    "all_blocks = np.stack((heads, bodies, ability))\n",
    "\n",
    "m = Monster(all_blocks)\n",
    "m._init_min_monster()\n",
    "m.get_payoff()"
   ]
  },
  {
   "cell_type": "code",
   "execution_count": null,
   "id": "7cecb2bc",
   "metadata": {},
   "outputs": [],
   "source": []
  },
  {
   "cell_type": "code",
   "execution_count": null,
   "id": "d1abeab9",
   "metadata": {},
   "outputs": [],
   "source": []
  },
  {
   "cell_type": "markdown",
   "id": "c175e9a1",
   "metadata": {},
   "source": [
    "#### Building a monster by trial and error"
   ]
  },
  {
   "cell_type": "code",
   "execution_count": 7,
   "id": "1040fc15",
   "metadata": {},
   "outputs": [],
   "source": [
    "def softmax(values, b=1):\n",
    "    return np.exp(values * b)/ np.exp(values * b).sum()"
   ]
  },
  {
   "cell_type": "code",
   "execution_count": 8,
   "id": "8e4cef65",
   "metadata": {},
   "outputs": [
    {
     "data": {
      "text/plain": [
       "array([[5.        , 0.81327024],\n",
       "       [1.        , 0.91275558],\n",
       "       [1.        , 0.81585355]])"
      ]
     },
     "execution_count": 8,
     "metadata": {},
     "output_type": "execute_result"
    }
   ],
   "source": [
    "# Optimization through random exploration\n",
    "monster"
   ]
  },
  {
   "cell_type": "code",
   "execution_count": 122,
   "id": "11911b6c",
   "metadata": {},
   "outputs": [],
   "source": [
    "def optimize_monster(monster, iterations: 20):\n",
    "\n",
    "    values = np.zeros(iterations+1)\n",
    "    values[0] = monster[:,1].sum()\n",
    "\n",
    "    changes = []\n",
    "    for i in range(iterations):\n",
    "        block_type = rng.integers(3)\n",
    "        p_blocks = softmax(all_blocks[block_type][:,1])\n",
    "        block_number = rng.choice(x, p= p_blocks)-1\n",
    "        if monster[block_type][1] < all_blocks[block_type, block_number][1]:\n",
    "            changes.append(i)\n",
    "            monster[block_type] = all_blocks[block_type, block_number]\n",
    "        values[i+1] = monster[:,1].sum()\n",
    "    return values, changes\n"
   ]
  },
  {
   "cell_type": "code",
   "execution_count": 123,
   "id": "3caa65f0",
   "metadata": {},
   "outputs": [
    {
     "data": {
      "text/plain": [
       "<matplotlib.legend.Legend at 0x23fd6a419b0>"
      ]
     },
     "execution_count": 123,
     "metadata": {},
     "output_type": "execute_result"
    },
    {
     "data": {
      "image/png": "[encoded data removed]",
      "text/plain": [
       "<Figure size 432x288 with 1 Axes>"
      ]
     },
     "metadata": {
      "needs_background": "light"
     },
     "output_type": "display_data"
    }
   ],
   "source": [
    "all_blocks = np.stack((heads, bodies, ability))\n",
    "iterations = 20\n",
    "\n",
    "monster = np.vstack((rng.choice(heads), rng.choice(bodies), rng.choice(ability)))\n",
    "values, changes = optimize_monster(monster, iterations)\n",
    "\n",
    "plt.plot(values, label=\"monster value\")\n",
    "plt.scatter(changes, values[changes], label=\"changes\", marker=\"x\", c=\"red\")\n",
    "plt.plot(np.ones(iterations+1) * all_blocks.max(axis=1)[:,1].sum(), label=\"max\")\n",
    "plt.legend()"
   ]
  },
  {
   "cell_type": "code",
   "execution_count": 130,
   "id": "47438648",
   "metadata": {},
   "outputs": [],
   "source": [
    "all_values = np.zeros((1000, iterations+1))\n",
    "\n",
    "for j in range(1000):\n",
    "    monster = np.vstack((rng.choice(heads), rng.choice(bodies), rng.choice(ability)))\n",
    "    values, _ = optimize_monster(monster, iterations)\n",
    "    all_values[j] = values\n"
   ]
  },
  {
   "cell_type": "code",
   "execution_count": 136,
   "id": "06618795",
   "metadata": {},
   "outputs": [
    {
     "data": {
      "text/plain": [
       "<matplotlib.legend.Legend at 0x23fd6b77b38>"
      ]
     },
     "execution_count": 136,
     "metadata": {},
     "output_type": "execute_result"
    },
    {
     "data": {
      "image/png": "[encoded data removed]",
      "text/plain": [
       "<Figure size 432x288 with 1 Axes>"
      ]
     },
     "metadata": {
      "needs_background": "light"
     },
     "output_type": "display_data"
    }
   ],
   "source": [
    "all_values.mean(axis=0)\n",
    "\n",
    "plt.plot(all_values.mean(axis=0), label=\"monster value\")\n",
    "plt.plot(np.ones(iterations+1) * all_blocks.max(axis=1)[:,1].sum(), label=\"max possible value\")\n",
    "plt.title(\"Mean value of 1000 trial&error optimizations\")\n",
    "plt.legend()"
   ]
  },
  {
   "cell_type": "markdown",
   "id": "89f15749",
   "metadata": {},
   "source": [
    "### Agents"
   ]
  },
  {
   "cell_type": "markdown",
   "id": "58205a22",
   "metadata": {},
   "source": [
    "* [ ] Discover necessary attributes\n",
    "* [ ] Suitable diversity measure\n",
    "* [ ] Transform diversity into knowledge\n",
    "* [ ] Basic cooperation to solve task"
   ]
  },
  {
   "cell_type": "code",
   "execution_count": 10,
   "id": "368d4582",
   "metadata": {},
   "outputs": [],
   "source": [
    "from scipy.stats import norm"
   ]
  },
  {
   "cell_type": "code",
   "execution_count": 11,
   "id": "8c1616a5",
   "metadata": {},
   "outputs": [
    {
     "data": {
      "text/plain": [
       "''"
      ]
     },
     "execution_count": 11,
     "metadata": {},
     "output_type": "execute_result"
    },
    {
     "data": {
      "image/png": "[encoded data removed]",
      "text/plain": [
       "<Figure size 1008x288 with 3 Axes>"
      ]
     },
     "metadata": {
      "needs_background": "light"
     },
     "output_type": "display_data"
    }
   ],
   "source": [
    "fig, ax = plt.subplots(1,3, figsize=(14,4), sharex=True)\n",
    "for i in range(3):\n",
    "    ax[i].set_xticks(np.arange(3))\n",
    "x_data = np.linspace(0,3,200)\n",
    "scale= 1\n",
    "ax[0].plot(x_data, norm.pdf(x_data, 0.5, scale))\n",
    "ax[1].plot(x_data, norm.pdf(x_data, 1.5, scale))\n",
    "ax[2].plot(x_data, norm.pdf(x_data, 2.5, scale))\n",
    "# ax[0].plot(np.clip(rng.normal(0.5, scale, 1000),0,2))\n",
    "# ax[1].plot(np.clip(rng.normal(1, scale, 1000),0,2))\n",
    "# ax[2].plot(np.clip(rng.normal(1.5, scale, 1000),0,2))\n",
    ";"
   ]
  },
  {
   "cell_type": "code",
   "execution_count": 12,
   "id": "4746377b",
   "metadata": {},
   "outputs": [],
   "source": [
    "# Create 3x10 blocks (10 different heads, bodies, ...)\n",
    "n_parts = 10\n",
    "x = np.arange(10)\n",
    "heads = np.stack((x, rng.random(n_parts)), axis=-1)\n",
    "bodies = np.stack((x, rng.random(n_parts)), axis=-1)\n",
    "ability = np.stack((x, rng.random(n_parts)), axis=-1)\n",
    "\n",
    "all_blocks = np.stack((heads, bodies, ability))\n"
   ]
  },
  {
   "cell_type": "code",
   "execution_count": 292,
   "id": "ba7a539a",
   "metadata": {},
   "outputs": [],
   "source": [
    "# Create 3 agents (0.5, 1, 1.5)\n",
    "scale = 0.7\n",
    "means = [0.5, 1.5, 2.5]\n",
    "\n",
    "sample_n_blocks = 5\n",
    "x_range= np.linspace(0, 3, 100)\n",
    "# Every agent has a repertoire of 8 parts (one for every category + 5 special ones)\n",
    "# Agent 0\n",
    "p = softmax(norm.pdf(x_range, means[0], scale))\n",
    "sampled_block_types = rng.choice(x_range, p=p, size=sample_n_blocks)\n",
    "\n",
    "\n"
   ]
  },
  {
   "cell_type": "code",
   "execution_count": 293,
   "id": "fc254fb9",
   "metadata": {},
   "outputs": [
    {
     "data": {
      "text/plain": [
       "[<matplotlib.lines.Line2D at 0x23fd5fd5f98>]"
      ]
     },
     "execution_count": 293,
     "metadata": {},
     "output_type": "execute_result"
    },
    {
     "data": {
      "image/png": "[encoded data removed]",
      "text/plain": [
       "<Figure size 432x288 with 1 Axes>"
      ]
     },
     "metadata": {
      "needs_background": "light"
     },
     "output_type": "display_data"
    }
   ],
   "source": [
    "plt.plot(x_range, norm.pdf(x_range, means[0], scale))"
   ]
  },
  {
   "cell_type": "code",
   "execution_count": 15,
   "id": "b58bc995",
   "metadata": {},
   "outputs": [
    {
     "data": {
      "text/plain": [
       "array([2.81818182, 1.09090909, 2.06060606, 1.18181818, 1.27272727])"
      ]
     },
     "execution_count": 15,
     "metadata": {},
     "output_type": "execute_result"
    }
   ],
   "source": [
    "sampled_block_types"
   ]
  },
  {
   "cell_type": "code",
   "execution_count": null,
   "id": "9ec26505",
   "metadata": {},
   "outputs": [],
   "source": []
  },
  {
   "cell_type": "code",
   "execution_count": 627,
   "id": "75c636e1",
   "metadata": {},
   "outputs": [],
   "source": [
    "class Agent:\n",
    "    \n",
    "    def __init__(self, diversity_mean, scale, decision_probability, n_blocks=5):\n",
    "        # self.rng = ...\n",
    "        self.diversity_mean = diversity_mean\n",
    "        self.diversity_scale = scale\n",
    "        self.decision_probability = decision_probability\n",
    "        \n",
    "        self.heads = None\n",
    "        self.bodies = None\n",
    "        self.abilities = None\n",
    "        \n",
    "        self.proposal = None\n",
    "        self.proposal_evaluations = []\n",
    "        \n",
    "        self.initialize_block_knowledge(n_blocks)\n",
    "    \n",
    "    def initialize_block_knowledge(self, sample_n_blocks=5):\n",
    "        # mandatory 1 block per category?\n",
    "        x_range = np.linspace(0, 3, 30) # N_data_points = n_blocks\n",
    "        p = softmax(norm.pdf(x_range, self.diversity_mean, self.diversity_scale), b=5)\n",
    "        sampled_block_types = rng.choice(x_range, p=p, size=sample_n_blocks, replace=False)\n",
    "        \n",
    "        n_heads = np.sum(sampled_block_types<1)\n",
    "        n_abilities = np.sum(sampled_block_types>2) \n",
    "        n_bodies = sample_n_blocks - n_abilities - n_heads\n",
    "        \n",
    "        self.heads = rng.choice(all_blocks[0], n_heads, replace=False)\n",
    "        self.bodies = rng.choice(all_blocks[1], n_bodies, replace=False)\n",
    "        self.abilities = rng.choice(all_blocks[2], n_abilities, replace=False)\n",
    "  \n",
    "    def choose_proposal(self):\n",
    "        if proposal_probability >= rng.random():\n",
    "            block_type = rng.integers(3)\n",
    "            if block_type == 0 and len(self.heads)!= 0:\n",
    "                self.proposal = [block_type, rng.choice(self.heads, p=softmax(self.heads[:,1]))]\n",
    "            if block_type == 1 and len(self.bodies)!= 0:\n",
    "                self.proposal = [block_type, rng.choice(self.bodies, p=softmax(self.bodies[:,1]))]\n",
    "            if block_type == 2 and len(self.abilities)!= 0:\n",
    "                self.proposal = [block_type, rng.choice(self.abilities, p=softmax(self.abilities[:,1]))]\n",
    "        else:\n",
    "            self.proposal = None\n",
    "    \n",
    "    def get_proposal_evaluations(self):\n",
    "        return np.array(self.proposal_evaluations, dtype=object)\n",
    "    \n",
    "    def set_proposal_evaluations(self, evaluation):\n",
    "        self.proposal_evaluations.append(evaluation)\n",
    "    \n",
    "    def reset_proposal_evaluations(self):\n",
    "        self.proposal_evaluations = []\n",
    "        \n",
    "\n",
    "        \n"
   ]
  },
  {
   "cell_type": "code",
   "execution_count": 492,
   "id": "93e97538",
   "metadata": {},
   "outputs": [],
   "source": [
    "decision_probability = 0.5  # 1. Iteration all have the same"
   ]
  },
  {
   "cell_type": "code",
   "execution_count": 493,
   "id": "fb3561e3",
   "metadata": {},
   "outputs": [
    {
     "data": {
      "text/plain": [
       "(array([[9.        , 0.79632427]]),\n",
       " array([[1.        , 0.0520213 ],\n",
       "        [3.        , 0.19851304]]),\n",
       " array([[0.        , 0.36511017],\n",
       "        [5.        , 0.95459049]]))"
      ]
     },
     "execution_count": 493,
     "metadata": {},
     "output_type": "execute_result"
    }
   ],
   "source": [
    "a0 = Agent(means[0], scale, decision_probability)\n",
    "a1 = Agent(means[1], scale, decision_probability)\n",
    "a2 = Agent(means[2], scale, decision_probability)\n",
    "agents = np.array([a0, a1, a2])\n",
    "a1.heads, a1.bodies, a1.abilities"
   ]
  },
  {
   "cell_type": "code",
   "execution_count": 380,
   "id": "d15acef0",
   "metadata": {},
   "outputs": [],
   "source": []
  },
  {
   "cell_type": "code",
   "execution_count": null,
   "id": "e64dd127",
   "metadata": {},
   "outputs": [],
   "source": []
  },
  {
   "cell_type": "code",
   "execution_count": null,
   "id": "e7e321a3",
   "metadata": {},
   "outputs": [],
   "source": []
  },
  {
   "cell_type": "markdown",
   "id": "865acde3",
   "metadata": {},
   "source": [
    "### Information distribution\n",
    "\n",
    "- Some agents propose a change to the monster\n",
    "- Each agent vote on which part they may want to exchange\n",
    "- Hinder information flow through the group:\n",
    "    - Not every agent knows of every solution\n",
    "    - Information about performance may be incorrectly communicated\n",
    "- \n",
    "\n",
    "**What social networks may represent:**\n",
    "- Communication paths\n",
    "- Social influence path\n",
    "- Probability of receiving information\n",
    "- Uncertainty of information (Information theory/ Encoder-Channel-Decoder)\n",
    "\n",
    "**Ideas**:\n",
    "- Inforamtion needs to wander through the group. Every iteration, the information may travel one person forward"
   ]
  },
  {
   "cell_type": "code",
   "execution_count": 598,
   "id": "088388e8",
   "metadata": {},
   "outputs": [
    {
     "name": "stdout",
     "output_type": "stream",
     "text": [
      "Initial (min) payoff: 0.21608461543983348 with build [5. 1. 1.]\n"
     ]
    }
   ],
   "source": [
    "# Set up a monster to start with\n",
    "m = Monster(all_blocks)\n",
    "m._init_min_monster()\n",
    "print(f\"Initial (min) payoff: {m.get_payoff()} with build {m.get_build()}\")\n"
   ]
  },
  {
   "cell_type": "code",
   "execution_count": 599,
   "id": "35280de9",
   "metadata": {},
   "outputs": [
    {
     "name": "stdout",
     "output_type": "stream",
     "text": [
      "[[1 1 1]\n",
      " [1 1 1]\n",
      " [1 1 1]]\n"
     ]
    }
   ],
   "source": [
    "# Social connections\n",
    "net = np.ones((3,3), dtype=int)\n",
    "# np.fill_diagonal(net, 1) # Remember their own ideas\n",
    "print(net)"
   ]
  },
  {
   "cell_type": "code",
   "execution_count": 600,
   "id": "3ed9e55c",
   "metadata": {},
   "outputs": [
    {
     "name": "stdout",
     "output_type": "stream",
     "text": [
      "[0, array([9.        , 0.79632427])]\n",
      "None\n",
      "[2, array([8.        , 0.62021345])]\n"
     ]
    }
   ],
   "source": [
    "# Proposing\n",
    "\n",
    "# Decide if and which block they want to propose for change (based on softmax)\n",
    "proposals = []\n",
    "for a in agents:\n",
    "    a.choose_proposal()\n",
    "    print(a.proposal)"
   ]
  },
  {
   "cell_type": "code",
   "execution_count": null,
   "id": "0cad0a82",
   "metadata": {},
   "outputs": [],
   "source": []
  },
  {
   "cell_type": "code",
   "execution_count": 601,
   "id": "36a8a105",
   "metadata": {},
   "outputs": [],
   "source": [
    "# Current solution \n",
    "current_payoff = m.get_payoff()\n",
    "\n",
    "# Communicate the proposal to others\n",
    "for i,a in enumerate(agents):\n",
    "    a.reset_proposal_evaluations()\n",
    "\n",
    "for i,a in enumerate(agents):\n",
    "    if a.proposal is not None:\n",
    "        proposal_evaluation = m.evaluate_proposal(a.proposal)\n",
    "        for ag in agents[net[i].astype(bool)]:\n",
    "            ag.set_proposal_evaluations([i, proposal_evaluation])\n",
    "    \n",
    "        "
   ]
  },
  {
   "cell_type": "code",
   "execution_count": null,
   "id": "144cbd2b",
   "metadata": {},
   "outputs": [],
   "source": []
  },
  {
   "cell_type": "code",
   "execution_count": 602,
   "id": "e83a22bb",
   "metadata": {},
   "outputs": [
    {
     "data": {
      "text/plain": [
       "0"
      ]
     },
     "execution_count": 602,
     "metadata": {},
     "output_type": "execute_result"
    }
   ],
   "source": [
    "# Voting\n",
    "votes = np.zeros(3)\n",
    "for i, a in enumerate(agents):\n",
    "    vote_for_agent =rng.choice(a.get_proposal_evaluations()[:,0], p=softmax(a.get_proposal_evaluations()[:,1].astype(float)))\n",
    "    votes[vote_for_agent] += 1\n",
    "\n",
    "winner_proposal = votes.argmax()\n",
    "winner_proposal"
   ]
  },
  {
   "cell_type": "code",
   "execution_count": 603,
   "id": "8f8e850f",
   "metadata": {},
   "outputs": [
    {
     "name": "stdout",
     "output_type": "stream",
     "text": [
      "[0, array([9.        , 0.79632427])]\n"
     ]
    }
   ],
   "source": [
    "# Applying vote\n",
    "print(agents[winner_proposal].proposal)\n",
    "if m.evaluate_proposal(agents[winner_proposal].proposal) > m.get_payoff():\n",
    "    m.update_block(agents[winner_proposal].proposal)"
   ]
  },
  {
   "cell_type": "code",
   "execution_count": 605,
   "id": "33617603",
   "metadata": {},
   "outputs": [
    {
     "name": "stdout",
     "output_type": "stream",
     "text": [
      "After one iteration (min) payoff: 0.9538408509219334 with build [9. 1. 1.]\n"
     ]
    }
   ],
   "source": [
    "print(f\"After one iteration payoff: {m.get_payoff()} with build {m.get_build()}\")"
   ]
  },
  {
   "cell_type": "code",
   "execution_count": null,
   "id": "f5db8e58",
   "metadata": {},
   "outputs": [],
   "source": []
  },
  {
   "cell_type": "markdown",
   "id": "ac5b9fc6",
   "metadata": {},
   "source": [
    "**Multiple iterations**"
   ]
  },
  {
   "cell_type": "code",
   "execution_count": 702,
   "id": "4f846a57",
   "metadata": {},
   "outputs": [],
   "source": [
    "def run_simulation(rng, iterations=30, n_agents=6, n_blocks=5, scale=0.7, decision_probability=0.5 , prints=False):\n",
    "\n",
    "    # Set up a monster to start with\n",
    "    monster = Monster(all_blocks)\n",
    "    monster._init_min_monster()\n",
    "    if prints:\n",
    "        print(f\"Initial (min) payoff: {round(monster.get_payoff(), 4)} with build {monster.get_build()}\")\n",
    "\n",
    "    # Set up agents\n",
    "    means = rng.random(n_agents) * 3  # [0.5, 1.5, 2.5 , 1, 0, 3];\n",
    "    agents = np.array([Agent(means[_], scale, decision_probability, n_blocks) for _ in range(n_agents)])\n",
    "\n",
    "    # Social connections\n",
    "    net = np.ones((n_agents, n_agents), dtype=int)\n",
    "\n",
    "    # Run\n",
    "    monster_value_tracker = np.zeros(iterations+1)\n",
    "    monster_value_tracker[0] = monster.get_payoff()\n",
    "    for it in range(iterations):\n",
    "\n",
    "        # Prepare proposals\n",
    "        proposals = []\n",
    "        for a in agents:\n",
    "            a.choose_proposal()\n",
    "\n",
    "        # Distribute Info about proposals\n",
    "        for a in agents:\n",
    "            a.reset_proposal_evaluations()\n",
    "\n",
    "        for i, a in enumerate(agents):\n",
    "            if a.proposal is not None:\n",
    "                proposal_evaluation = monster.evaluate_proposal(a.proposal)\n",
    "                for ag in agents[net[i].astype(bool)]:\n",
    "                    ag.set_proposal_evaluations([i, proposal_evaluation])\n",
    "\n",
    "        # Voting\n",
    "        votes = np.zeros(n_agents)\n",
    "        for i, a in enumerate(agents):\n",
    "            proposal_evaluations = a.get_proposal_evaluations()\n",
    "            if len(proposal_evaluations) != 0:\n",
    "                vote_for_agent =rng.choice(\n",
    "                    proposal_evaluations[:,0],\n",
    "                    p=softmax(proposal_evaluations[:,1].astype(float))\n",
    "                )\n",
    "                votes[vote_for_agent] += 1\n",
    "        winner_proposal = votes.argmax()\n",
    "\n",
    "        # Applying vote\n",
    "        if votes.sum() > 0 and monster.evaluate_proposal(agents[winner_proposal].proposal) > monster.get_payoff():\n",
    "            monster.update_block(agents[winner_proposal].proposal)\n",
    "\n",
    "        monster_value_tracker[it+1] = monster.get_payoff()\n",
    "        if iterations <=20 and prints:\n",
    "            print(f\"Iteration {it} payoff: {round(monster.get_payoff(),4)}; build {monster.get_build()}\")\n",
    "        \n",
    "    return monster_value_tracker"
   ]
  },
  {
   "cell_type": "code",
   "execution_count": 703,
   "id": "8eef9b31",
   "metadata": {},
   "outputs": [
    {
     "name": "stdout",
     "output_type": "stream",
     "text": [
      "Initial (min) payoff: 0.2161 with build [5. 1. 1.]\n"
     ]
    },
    {
     "data": {
      "text/plain": [
       "''"
      ]
     },
     "execution_count": 703,
     "metadata": {},
     "output_type": "execute_result"
    },
    {
     "data": {
      "image/png": "[encoded data removed]",
      "text/plain": [
       "<Figure size 432x288 with 1 Axes>"
      ]
     },
     "metadata": {
      "needs_background": "light"
     },
     "output_type": "display_data"
    }
   ],
   "source": [
    "seed = np.random.randint(100)\n",
    "rng = np.random.default_rng(seed)\n",
    "\n",
    "iterations = 30\n",
    "\n",
    "n_agents = 6\n",
    "n_blocks = 6\n",
    "scale = 0.7; \n",
    "decision_probability=0.5\n",
    "\n",
    "values = run_simulation(rng, iterations, n_agents, n_blocks, scale, decision_probability, prints=True)\n",
    "\n",
    "plt.ylabel(\"Team Payoff\")\n",
    "plt.xlabel(\"iteration\")\n",
    "plt.plot(np.ones(iterations+1) * all_blocks.max(axis=1)[:,1].sum(), label=\"max\")\n",
    "plt.plot(values, label=\"Monster\");\n",
    "plt.legend()\n",
    ";"
   ]
  },
  {
   "cell_type": "code",
   "execution_count": null,
   "id": "b417bd78",
   "metadata": {},
   "outputs": [],
   "source": []
  },
  {
   "cell_type": "code",
   "execution_count": 707,
   "id": "0a9efbb0",
   "metadata": {},
   "outputs": [
    {
     "data": {
      "text/plain": [
       "''"
      ]
     },
     "execution_count": 707,
     "metadata": {},
     "output_type": "execute_result"
    },
    {
     "data": {
      "image/png": "[encoded data removed]",
      "text/plain": [
       "<Figure size 432x288 with 1 Axes>"
      ]
     },
     "metadata": {
      "needs_background": "light"
     },
     "output_type": "display_data"
    }
   ],
   "source": [
    "rng = np.random.default_rng(0)\n",
    "\n",
    "n_simulations = 1000\n",
    "iterations = 30\n",
    "\n",
    "n_agents = 6\n",
    "n_blocks = 6\n",
    "scale = 0.7; \n",
    "decision_probability=0.5\n",
    "\n",
    "all_values = np.zeros((n_simulations, iterations+1))\n",
    "for i_sim in range(n_simulations):\n",
    "    all_values[i_sim] = run_simulation(rng, iterations, n_agents, n_blocks, scale, decision_probability)\n",
    "\n",
    "\n",
    "plt.title(\"Mean team performance\")\n",
    "plt.ylabel(\"Team Payoff\")\n",
    "plt.xlabel(\"iteration\")\n",
    "plt.plot(np.ones(iterations+1) * all_blocks.max(axis=1)[:,1].sum(), label=\"max\")\n",
    "plt.plot(all_values.mean(axis=0), label=\"Monster\");\n",
    "plt.legend()\n",
    ";"
   ]
  },
  {
   "cell_type": "code",
   "execution_count": 708,
   "id": "15198973",
   "metadata": {},
   "outputs": [
    {
     "data": {
      "text/plain": [
       "''"
      ]
     },
     "execution_count": 708,
     "metadata": {},
     "output_type": "execute_result"
    },
    {
     "data": {
      "image/png": "[encoded data removed]",
      "text/plain": [
       "<Figure size 432x288 with 1 Axes>"
      ]
     },
     "metadata": {
      "needs_background": "light"
     },
     "output_type": "display_data"
    }
   ],
   "source": [
    "rng = np.random.default_rng(0)\n",
    "\n",
    "n_simulations = 1000\n",
    "iterations = 30\n",
    "\n",
    "n_agents = 7\n",
    "n_blocks = 8\n",
    "scale = 0.7; \n",
    "decision_probability=0.7\n",
    "\n",
    "all_values_new = np.zeros((n_simulations, iterations+1))\n",
    "for i_sim in range(n_simulations):\n",
    "    all_values_new[i_sim] = run_simulation(rng, iterations, n_agents, n_blocks, scale, decision_probability)\n",
    "\n",
    "\n",
    "plt.title(\"Mean team performance\")\n",
    "plt.ylabel(\"Team Payoff\")\n",
    "plt.xlabel(\"iteration\")\n",
    "plt.plot(np.ones(iterations+1) * all_blocks.max(axis=1)[:,1].sum(), label=\"max\")\n",
    "plt.plot(all_values_new.mean(axis=0), label=\"Small undecisive team\");\n",
    "plt.plot(all_values_new.mean(axis=0), label=\"Big decisive team\");\n",
    "\n",
    "plt.legend()\n",
    ";"
   ]
  },
  {
   "cell_type": "code",
   "execution_count": null,
   "id": "36c4244f",
   "metadata": {},
   "outputs": [],
   "source": []
  },
  {
   "cell_type": "code",
   "execution_count": null,
   "id": "ff4dc2f7",
   "metadata": {},
   "outputs": [],
   "source": []
  },
  {
   "cell_type": "code",
   "execution_count": null,
   "id": "78218f65",
   "metadata": {},
   "outputs": [],
   "source": []
  },
  {
   "cell_type": "code",
   "execution_count": null,
   "id": "f5793ad1",
   "metadata": {},
   "outputs": [],
   "source": []
  }
 ],
 "metadata": {
  "kernelspec": {
   "display_name": "Python 3",
   "language": "python",
   "name": "python3"
  },
  "language_info": {
   "codemirror_mode": {
    "name": "ipython",
    "version": 3
   },
   "file_extension": ".py",
   "mimetype": "text/x-python",
   "name": "python",
   "nbconvert_exporter": "python",
   "pygments_lexer": "ipython3",
   "version": "3.6.5"
  }
 },
 "nbformat": 4,
 "nbformat_minor": 5
}
