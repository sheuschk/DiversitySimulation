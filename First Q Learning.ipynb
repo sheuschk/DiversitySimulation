{
 "cells": [
  {
   "cell_type": "markdown",
   "id": "8ad4af70",
   "metadata": {},
   "source": [
    "### First own grid RL implementation"
   ]
  },
  {
   "cell_type": "code",
   "execution_count": 3,
   "id": "f8f76feb",
   "metadata": {},
   "outputs": [],
   "source": [
    "import numpy as np\n",
    "import matplotlib.pyplot as plt"
   ]
  },
  {
   "cell_type": "code",
   "execution_count": 237,
   "id": "a4d8670f",
   "metadata": {},
   "outputs": [],
   "source": [
    "class environment():\n",
    "    \n",
    "    def __init__(self):\n",
    "        self.final_state = None\n",
    "        self.env = self.get_borderWorld()\n",
    "        \n",
    "    \n",
    "    def get_step(self, state, action):\n",
    "        \"Actions: 0->Up, 1->Right, 2->Down, 3->Left\"\n",
    "        max_grid_size = self.env.shape[1]\n",
    "        state_coordinates = np.array([int(state/max_grid_size), int(state%max_grid_size)])\n",
    "        \n",
    "        if action == 0:\n",
    "            next_state_coordinates = state_coordinates + [-1, 0]\n",
    "        if action == 1:\n",
    "            next_state_coordinates = state_coordinates + [0, 1]\n",
    "        if action == 2:\n",
    "            next_state_coordinates = state_coordinates + [1, 0]\n",
    "        if action == 3:\n",
    "            next_state_coordinates = state_coordinates + [0, -1]\n",
    "        \n",
    "        next_state_coordinates = self.check_state(next_state_coordinates)\n",
    "        \n",
    "        reward = self.env[next_state_coordinates[0], next_state_coordinates[1]]\n",
    "        \n",
    "        next_state = next_state_coordinates[0] * max_grid_size + next_state_coordinates[1]\n",
    "                                     \n",
    "        return reward, next_state\n",
    "    \n",
    "    def get_n_states(self):\n",
    "        return self.env.shape[0] * self.env.shape[1]\n",
    "        \n",
    "    \n",
    "    def get_borderWorld(self):\n",
    "        grid = np.zeros((5,5))\n",
    "        grid[0,4] = 100\n",
    "        self.final_state = 4\n",
    "        grid[0:4,2] = -100\n",
    "        \n",
    "        return grid\n",
    "    \n",
    "    def check_state(self, state):\n",
    "        # Check borders of grid (Stay on same position)\n",
    "        if state[0] < 0:\n",
    "            state[0] = 0\n",
    "        if state[1] < 0:\n",
    "            state[1] = 0\n",
    "            \n",
    "        max_size = self.env.shape\n",
    "        if state[0] >= max_size[0]:\n",
    "            state[0] = max_size[0]-1\n",
    "        if state[1] >= max_size[1]:\n",
    "            state[1] = max_size[1]-1\n",
    "                                     \n",
    "        return state\n",
    "    \n",
    "    def plot_grid(self, grid=None):\n",
    "        if grid is None:\n",
    "            grid = self.env\n",
    "        fig, ax = plt.subplots()\n",
    "        im = ax.imshow(grid)\n",
    "        for i in range(grid.shape[0]):\n",
    "            for j in range(grid.shape[0]):\n",
    "                if i==0 and j==0:\n",
    "                    ax.text(j, i, \"Start\", ha=\"center\", va=\"center\", color=\"w\")\n",
    "                else:\n",
    "                    ax.text(j, i, round(grid[i, j], 1), ha=\"center\", va=\"center\", color=\"w\")\n",
    "        plt.title(\"Grid Rewards\")\n",
    "        fig.tight_layout()\n",
    "        plt.show()"
   ]
  },
  {
   "cell_type": "code",
   "execution_count": 265,
   "id": "755ff012",
   "metadata": {},
   "outputs": [
    {
     "data": {
      "text/plain": [
       "array([4., 3., 2., 1., 0.])"
      ]
     },
     "execution_count": 265,
     "metadata": {},
     "output_type": "execute_result"
    }
   ],
   "source": [
    "np.linspace(4,0, 5)"
   ]
  },
  {
   "cell_type": "code",
   "execution_count": 273,
   "id": "8d7d9fbf",
   "metadata": {},
   "outputs": [],
   "source": [
    "def quiver_plot(q_values):\n",
    "    dim_x = dim_y = 5\n",
    "    X, Y = np.meshgrid(np.arange(5), np.arange(5))\n",
    "    X = X + np.ones_like(X) * 0.5\n",
    "    Y = Y + np.ones_like(Y) * 0.5\n",
    "    plt.xlim([0, dim_x])\n",
    "    plt.ylim([0, dim_y])\n",
    "    \n",
    "    amax = np.reshape(q_values.argmax(axis=1), (dim_y,dim_x))\n",
    "    amax = amax[::-1,:]\n",
    "    U = np.zeros(X.shape)\n",
    "    V = np.zeros(X.shape)\n",
    "\n",
    "    V[amax==0] = 1\n",
    "    U[amax==1] = 1\n",
    "    V[amax==2] = -1\n",
    "    U[amax==3] = -1\n",
    "\n",
    "    plt.grid()\n",
    "    X[1:5,2] = None\n",
    "    X[4,4] = None\n",
    "\n",
    "    plt.text(0.2, 4.5, 'Start',fontsize=10)\n",
    "    plt.text(4.3, 4.3, 'Goal',fontsize=10)\n",
    "    plt.text(2.3, 4.5, 'Cliff',fontsize=10)\n",
    "    plt.text(2.3, 3.5, 'Cliff',fontsize=10)\n",
    "    plt.text(2.3, 2.5, 'Cliff',fontsize=10)\n",
    "    plt.text(2.3, 1.5, 'Cliff',fontsize=10)\n",
    "\n",
    "    plt.quiver(X,Y, U, V)"
   ]
  },
  {
   "cell_type": "code",
   "execution_count": 238,
   "id": "99ab73b7",
   "metadata": {},
   "outputs": [
    {
     "data": {
      "image/png": "[encoded data removed]",
      "text/plain": [
       "<Figure size 432x288 with 1 Axes>"
      ]
     },
     "metadata": {
      "needs_background": "light"
     },
     "output_type": "display_data"
    }
   ],
   "source": [
    "env = environment()\n",
    "env.plot_grid()"
   ]
  },
  {
   "cell_type": "code",
   "execution_count": 285,
   "id": "1d305d45",
   "metadata": {},
   "outputs": [],
   "source": [
    "def epsilon_greedy(values, epsilon = 0.2):\n",
    "    \"\"\"Action selection: epsilon greedy\"\"\"\n",
    "    if np.max(values) == 0 or np.random.random() <= epsilon:\n",
    "        return np.random.randint(len(values))\n",
    "    else:\n",
    "        return np.argmax(values)\n"
   ]
  },
  {
   "cell_type": "code",
   "execution_count": 174,
   "id": "c5e33a3f",
   "metadata": {},
   "outputs": [],
   "source": [
    "def q_learning(q_values, state, action, reward, next_state, alpha, gamma):\n",
    "    \"\"\"Q-Value update\"\"\"\n",
    "    q_sa = q_values[state, action]\n",
    "    \n",
    "    max_next_q = np.max(q_values[next_state])\n",
    "    \n",
    "    q_values[state, action] = q_sa + alpha * (reward + gamma * max_next_q - q_sa)\n",
    "    \n",
    "    return q_values"
   ]
  },
  {
   "cell_type": "code",
   "execution_count": 282,
   "id": "9457d98e",
   "metadata": {},
   "outputs": [],
   "source": [
    "n_episodes = 1000\n",
    "\n",
    "alpha = 0.1\n",
    "gamma = 0.9\n",
    "\n",
    "env = environment()\n",
    "q_values = np.zeros((env.get_n_states(), 4))\n",
    "\n",
    "for episode in range(n_episodes):\n",
    "    state = 0\n",
    "\n",
    "    while env.final_state != state:\n",
    "        # Action selection\n",
    "        action = epsilon_greedy(q_values[state])\n",
    "\n",
    "        # Take action\n",
    "        reward, next_state = env.get_step(state, action)\n",
    "\n",
    "        # Update Table\n",
    "        q_values = q_learning(q_values, state, action, reward, next_state, alpha, gamma)\n",
    "        \n",
    "        state = next_state\n"
   ]
  },
  {
   "cell_type": "markdown",
   "id": "f13cae33",
   "metadata": {},
   "source": [
    "Actions: 0->Up, 1->Right, 2->Down, 3->Left"
   ]
  },
  {
   "cell_type": "code",
   "execution_count": 283,
   "id": "dacefa1f",
   "metadata": {},
   "outputs": [
    {
     "data": {
      "image/png": "[encoded data removed]",
      "text/plain": [
       "<Figure size 432x288 with 1 Axes>"
      ]
     },
     "metadata": {
      "needs_background": "light"
     },
     "output_type": "display_data"
    },
    {
     "data": {
      "image/png": "[encoded data removed]",
      "text/plain": [
       "<Figure size 432x288 with 1 Axes>"
      ]
     },
     "metadata": {
      "needs_background": "light"
     },
     "output_type": "display_data"
    },
    {
     "data": {
      "image/png": "[encoded data removed]",
      "text/plain": [
       "<Figure size 432x288 with 1 Axes>"
      ]
     },
     "metadata": {
      "needs_background": "light"
     },
     "output_type": "display_data"
    }
   ],
   "source": [
    "env = environment()\n",
    "env.plot_grid()\n",
    "env.plot_grid(q_values.argmax(axis=1).reshape(5,5))\n",
    "quiver_plot(q_values)"
   ]
  },
  {
   "cell_type": "code",
   "execution_count": null,
   "id": "8ca39396",
   "metadata": {},
   "outputs": [],
   "source": []
  },
  {
   "cell_type": "markdown",
   "id": "376e7354",
   "metadata": {},
   "source": [
    "##### With Upper Confidence Bound Sampling"
   ]
  },
  {
   "cell_type": "code",
   "execution_count": 297,
   "id": "42d73275",
   "metadata": {},
   "outputs": [],
   "source": [
    "def upper_confidence_bound(N_s, Q_s, t, c):\n",
    "    if np.max(N_s) == 0:\n",
    "        return np.random.randint(4)\n",
    "    return np.argmax(Q_s + c * np.sqrt(np.log(t)/N_s))\n",
    "    "
   ]
  },
  {
   "cell_type": "code",
   "execution_count": 300,
   "id": "52f04026",
   "metadata": {},
   "outputs": [
    {
     "name": "stderr",
     "output_type": "stream",
     "text": [
      "C:\\Users\\simon\\AppData\\Local\\Continuum\\anaconda3\\lib\\site-packages\\ipykernel_launcher.py:4: RuntimeWarning: divide by zero encountered in log\n",
      "  after removing the cwd from sys.path.\n",
      "C:\\Users\\simon\\AppData\\Local\\Continuum\\anaconda3\\lib\\site-packages\\ipykernel_launcher.py:4: RuntimeWarning: invalid value encountered in sqrt\n",
      "  after removing the cwd from sys.path.\n"
     ]
    }
   ],
   "source": [
    "n_episodes = 1000\n",
    "\n",
    "alpha = 0.1\n",
    "gamma = 0.9\n",
    "c = 2\n",
    "\n",
    "env = environment()\n",
    "q_values = np.zeros((env.get_n_states(), 4))\n",
    "\n",
    "N = np.ones(q_values.shape)\n",
    "t = 0\n",
    "\n",
    "for episode in range(n_episodes):\n",
    "    state = 0\n",
    "\n",
    "    while env.final_state != state:\n",
    "        # Action selection\n",
    "        action = upper_confidence_bound(N[state], q_values[state], t, c)\n",
    "        N[state, action] += 1\n",
    "\n",
    "        # Take action\n",
    "        reward, next_state = env.get_step(state, action)\n",
    "\n",
    "        # Update Table\n",
    "        q_values = q_learning(q_values, state, action, reward, next_state, alpha, gamma)\n",
    "        \n",
    "        state = next_state\n",
    "        t += 1\n"
   ]
  },
  {
   "cell_type": "code",
   "execution_count": 301,
   "id": "18c44eca",
   "metadata": {},
   "outputs": [
    {
     "data": {
      "image/png": "[encoded data removed]",
      "text/plain": [
       "<Figure size 432x288 with 1 Axes>"
      ]
     },
     "metadata": {
      "needs_background": "light"
     },
     "output_type": "display_data"
    },
    {
     "data": {
      "image/png": "[encoded data removed]",
      "text/plain": [
       "<Figure size 432x288 with 1 Axes>"
      ]
     },
     "metadata": {
      "needs_background": "light"
     },
     "output_type": "display_data"
    },
    {
     "data": {
      "image/png": "[encoded data removed]",
      "text/plain": [
       "<Figure size 432x288 with 1 Axes>"
      ]
     },
     "metadata": {
      "needs_background": "light"
     },
     "output_type": "display_data"
    }
   ],
   "source": [
    "env.plot_grid()\n",
    "env.plot_grid(q_values.argmax(axis=1).reshape(5,5))\n",
    "quiver_plot(q_values)"
   ]
  },
  {
   "cell_type": "code",
   "execution_count": null,
   "id": "47f46168",
   "metadata": {},
   "outputs": [],
   "source": []
  },
  {
   "cell_type": "code",
   "execution_count": null,
   "id": "3dee8496",
   "metadata": {},
   "outputs": [],
   "source": []
  },
  {
   "cell_type": "markdown",
   "id": "dc2f7633",
   "metadata": {},
   "source": [
    "### k armed bandit\n"
   ]
  },
  {
   "cell_type": "code",
   "execution_count": 330,
   "id": "0dd55066",
   "metadata": {},
   "outputs": [],
   "source": [
    "def get_k_arms(k, runs=1000):\n",
    "    arm_means = np.random.normal(0, size=k)\n",
    "    # arm_rewards = np.random.normal(arm_means, size=(runs, k))\n",
    "    # arm_rewards = arm_rewards.reshape(k, runs)\n",
    "    return arm_means\n"
   ]
  },
  {
   "cell_type": "code",
   "execution_count": 400,
   "id": "7b003e61",
   "metadata": {},
   "outputs": [
    {
     "name": "stderr",
     "output_type": "stream",
     "text": [
      "C:\\Users\\simon\\AppData\\Local\\Continuum\\anaconda3\\lib\\site-packages\\ipykernel_launcher.py:4: RuntimeWarning: divide by zero encountered in log\n",
      "  after removing the cwd from sys.path.\n",
      "C:\\Users\\simon\\AppData\\Local\\Continuum\\anaconda3\\lib\\site-packages\\ipykernel_launcher.py:4: RuntimeWarning: invalid value encountered in sqrt\n",
      "  after removing the cwd from sys.path.\n"
     ]
    }
   ],
   "source": [
    "\n",
    "n_runs = 100\n",
    "\n",
    "alpha = 0.01\n",
    "gamma = 0.9\n",
    "c = 2\n",
    "\n",
    "# Init bandit machine\n",
    "k = 3\n",
    "arm_means = get_k_arms(k)\n",
    "\n",
    "q_values = np.zeros(k)\n",
    "q_values_time = np.zeros((n_runs, k))\n",
    "\n",
    "reward_values = np.zeros(n_runs)\n",
    "\n",
    "N = np.ones(k)\n",
    "for run in range(n_runs):\n",
    "    # Action selection\n",
    "    action = upper_confidence_bound(N, q_values, run, c)\n",
    "    # N[state, action] += 1\n",
    "    # action = epsilon_greedy(q_values, epsilon = 0.2)\n",
    "    \n",
    "    # Bandit\n",
    "    reward = np.random.normal(arm_means[action])\n",
    "    N[action] +=1\n",
    "    reward_values[run] = reward\n",
    "    \n",
    "    # Update Table\n",
    "    # q_values = q_learactionn)ing(q_values, state, action, reward, next_state, alpha, gamma)\n",
    "    q_values[action] = q_values[action] + alpha * (reward - q_values[action]) # 1/N[action]\n",
    "    \n",
    "    q_values_time[run] = q_values_time[run-1]\n",
    "    q_values_time[run, action] = q_values[action] + alpha * (reward - q_values[action]) # 1/N[action]\n",
    "\n"
   ]
  },
  {
   "cell_type": "code",
   "execution_count": 401,
   "id": "00a29fa2",
   "metadata": {},
   "outputs": [
    {
     "data": {
      "image/png": "[encoded data removed]",
      "text/plain": [
       "<Figure size 432x288 with 1 Axes>"
      ]
     },
     "metadata": {
      "needs_background": "light"
     },
     "output_type": "display_data"
    },
    {
     "data": {
      "text/plain": [
       "<matplotlib.legend.Legend at 0x14a15397748>"
      ]
     },
     "execution_count": 401,
     "metadata": {},
     "output_type": "execute_result"
    },
    {
     "data": {
      "image/png": "[encoded data removed]",
      "text/plain": [
       "<Figure size 432x288 with 1 Axes>"
      ]
     },
     "metadata": {
      "needs_background": "light"
     },
     "output_type": "display_data"
    }
   ],
   "source": [
    "plt.bar(np.arange(k), arm_means, label=\"machine\")\n",
    "plt.bar(np.arange(k), q_values, label=\"estimation\", width=0.5)\n",
    "plt.legend()\n",
    "plt.show()\n",
    "plt.plot(q_values_time)\n",
    "plt.legend(np.arange(k))"
   ]
  },
  {
   "cell_type": "code",
   "execution_count": null,
   "id": "23f02152",
   "metadata": {},
   "outputs": [],
   "source": []
  },
  {
   "cell_type": "code",
   "execution_count": null,
   "id": "c0476033",
   "metadata": {},
   "outputs": [],
   "source": []
  },
  {
   "cell_type": "code",
   "execution_count": null,
   "id": "f12b412d",
   "metadata": {},
   "outputs": [],
   "source": []
  },
  {
   "cell_type": "code",
   "execution_count": null,
   "id": "06063283",
   "metadata": {},
   "outputs": [],
   "source": []
  }
 ],
 "metadata": {
  "kernelspec": {
   "display_name": "Python 3",
   "language": "python",
   "name": "python3"
  },
  "language_info": {
   "codemirror_mode": {
    "name": "ipython",
    "version": 3
   },
   "file_extension": ".py",
   "mimetype": "text/x-python",
   "name": "python",
   "nbconvert_exporter": "python",
   "pygments_lexer": "ipython3",
   "version": "3.6.5"
  }
 },
 "nbformat": 4,
 "nbformat_minor": 5
}
