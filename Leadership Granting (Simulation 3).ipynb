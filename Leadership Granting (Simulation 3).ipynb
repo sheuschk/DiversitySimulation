{
 "cells": [
  {
   "cell_type": "markdown",
   "id": "69ced8c7",
   "metadata": {},
   "source": [
    "# Collective search on NK landscapes"
   ]
  },
  {
   "cell_type": "markdown",
   "id": "3b2d6f31",
   "metadata": {},
   "source": [
    "\n",
    "\n",
    "\n",
    "\n",
    "\n",
    "This file has an appendix with functions used to develop the current simulation:\n",
    "* Individual optimization (SHC)\n",
    "* Features for optimization (gamma & eta seperate)\n",
    "* Decision making\n",
    "* Social influence learning (RWL approach + ideas)"
   ]
  },
  {
   "cell_type": "markdown",
   "id": "3cdfa5dd",
   "metadata": {},
   "source": [
    "## Simulation Schedule Overview\n",
    "\n",
    "* Problem space: nk Landscape\n",
    "* Team starts with a random solution state (f.e current portfolio) \n",
    "\n",
    "\n",
    "* **1. Individual optimization**\n",
    "    * Each individual tries to improve the current solution by looking up a neighbouring solution state\n",
    "    * Represents the thinking process like having ideas or try to engineer something to check a possible change\n",
    "    * Can result in an improvement, but can also worsen the current state and they were not able to think of something better\n",
    "    * Result: An idea what could be changed in the current state \n",
    "\n",
    "\n",
    "* **2. Information sharing**\n",
    "    * Everyone has an opinion and information based on their own thinking process (local search)\n",
    "    * A team is socially connected\n",
    "    * Information about possible changes are exchanged according to the value\n",
    "    * Not everyone can discuss their ideas with everyone (Time, Personal preferences, Skills, ...). \n",
    "        * Even if every idea would get presented to everyone, some ideas would not be understood, badly communicated, ...\n",
    "        * Social influence is already be at work here\n",
    "    * Result: Everyone has different but partially overlapping information about the ideas in the group\n",
    "\n",
    "\n",
    "* **3. Collective decision making**\n",
    "    * The team needs to go on and therefore try one of the ideas/ changes to their current state \n",
    "    * Different ways to come to a decision:\n",
    "        * Everyone could vote for one solution based on their knowledge\n",
    "        * Everyone could vote for one person to make a decision\n",
    "    * Result: One solution gets implemented, proposed by one agent (but maybe another agent has discovered it)\n",
    "    \n",
    "    \n",
    "* **4. Social influence: value function approximation**\n",
    "    * To optimize the workflow the team members need to learn who they can trust\n",
    "    * Having only a few agents who make/ propose good decisions is valuable for the whole team\n",
    "        * Saves cost in communication/ Enhances performance through better decisions/ Enhances performance by improving communication\n",
    "    * Agents should grant influence onto their decisions based on their experience\n",
    "        * Experience: Value (developement) of the solution state; Features of other Individuals\n",
    "    * Agents need to predict who would help the team\n",
    "    * *Requirements* for algorithm: \n",
    "        * Weights for features; Value of current state; Incremental adjustement; Prediction for different states\n",
    "    * Result: A social network of granting influence onto behaviour/ information\n",
    "\n",
    "\n",
    "**Questions**:\n",
    "* Incorporate uncertainty of information, communication may transfer false or changed information\n",
    "* Is there a need for a strategic information distribution f.e. based on a network structure, or with distinct rules?\n",
    "\n",
    "\n",
    "**Ideas**:\n",
    "* Build in personal satisfaction based on leader attributes: Leaders not only good for better decision, but also for a shared  vision and individual well-being\n"
   ]
  },
  {
   "cell_type": "markdown",
   "id": "bc96c40e",
   "metadata": {},
   "source": [
    "### TODO's\n",
    "* [ ] Adjust Similarity Matrix - Minority agents should not grant influen to everyone\n",
    "* [ ] Adjust update of simirity matrix - They can assign leadership to themselves\n",
    "    - Right now they need to assign leadership to someone else due to normalization\n",
    "* [ ] Leadership Matrix normalisation function\n",
    "* [ ] Reduce Complexity in communication\n",
    "* [ ] Re-Evaluate allyship implementation\n",
    "* [ ] Test on 3 different nk landscapes "
   ]
  },
  {
   "cell_type": "code",
   "execution_count": 2,
   "id": "4e36580e",
   "metadata": {},
   "outputs": [],
   "source": [
    "import numpy as np\n",
    "\n",
    "# import pandas as pd\n",
    "import matplotlib.pyplot as plt\n",
    "from itertools import product\n",
    "import pickle\n",
    "\n",
    "from scipy.stats.stats import pearsonr\n",
    "\n",
    "# import seaborn as sns\n",
    "\n",
    "from environments import NK_landscape_loaded\n",
    "\n",
    "rng = np.random.default_rng(0)"
   ]
  },
  {
   "cell_type": "code",
   "execution_count": 4,
   "id": "9d6a1769",
   "metadata": {},
   "outputs": [],
   "source": [
    "# file = 'N10K5_50.pkl' # N=10, K=5, 30 landscapes (0-29 )\n",
    "file = \"N20K5_5.pkl\"  # \"N20K2_5.pkl\"\n",
    "\n",
    "with open(file, \"rb\") as f:\n",
    "    landscapes = pickle.load(f)\n",
    "\n",
    "n_landscapes = int(str(file.split(\"_\")[1]).split(\".\")[0])\n",
    "N, K = str(file.split(\"_\")[0])[1:].split(\"K\")\n",
    "N, K = int(N), int(K)\n",
    "\n",
    "for i in range(n_landscapes):\n",
    "    keys = landscapes[i].keys()\n",
    "    values = np.array(list(landscapes[i].values()))\n",
    "    values = values ** 4\n",
    "    landscapes[i] = dict(zip(keys, values))"
   ]
  },
  {
   "cell_type": "markdown",
   "id": "38d2405b",
   "metadata": {},
   "source": [
    "#### Utils"
   ]
  },
  {
   "cell_type": "code",
   "execution_count": 5,
   "id": "a7d82e6f",
   "metadata": {},
   "outputs": [],
   "source": [
    "def softmax(values, b=5, axis=0):\n",
    "    p = np.exp(values * b) / np.sum(np.exp(values * b), axis).reshape(-1, 1)\n",
    "    if axis == 0:\n",
    "        return p[0]\n",
    "    return np.exp(values * b) / np.sum(np.exp(values * b), axis).reshape(-1, 1)\n",
    "\n",
    "\n",
    "def bit_switch(digit, state):\n",
    "    if state[digit] == 1:\n",
    "        state[digit] = 0\n",
    "    else:\n",
    "        state[digit] = 1\n",
    "    return state"
   ]
  },
  {
   "cell_type": "code",
   "execution_count": null,
   "id": "c922a95e",
   "metadata": {},
   "outputs": [],
   "source": []
  },
  {
   "cell_type": "markdown",
   "id": "15bb9128",
   "metadata": {},
   "source": [
    "## Leadership Features (Collective Search)"
   ]
  },
  {
   "cell_type": "code",
   "execution_count": 280,
   "id": "3cae5d6e",
   "metadata": {},
   "outputs": [],
   "source": [
    "def get_temp(i, max_i, eta):\n",
    "    # return ((i+1)/max_i) * eta * 20\n",
    "    return ((-1/(1+i*(eta*0.1)))+1)*20\n",
    "    # return 20 - 20*np.exp(-eta*0.1*i)"
   ]
  },
  {
   "cell_type": "code",
   "execution_count": 288,
   "id": "9466f008",
   "metadata": {},
   "outputs": [
    {
     "data": {
      "text/plain": [
       "[<matplotlib.lines.Line2D at 0x222fa3916a0>]"
      ]
     },
     "execution_count": 288,
     "metadata": {},
     "output_type": "execute_result"
    },
    {
     "data": {
      "image/png": "[encoded data removed]",
      "text/plain": [
       "<Figure size 1152x288 with 4 Axes>"
      ]
     },
     "metadata": {
      "needs_background": "light"
     },
     "output_type": "display_data"
    }
   ],
   "source": [
    "max_i = 150\n",
    "fig, axs = plt.subplots(1,4, figsize=(16,4))\n",
    "\n",
    "t = np.arange(max_i)\n",
    "etas = np.linspace(0.1,1, 10)\n",
    "temps = [((t+1)/max_i) * eta*20  for eta in etas]\n",
    "[axs[0].plot(t, temp, label=round(etas[i], 1)) for i, temp in enumerate(temps)];\n",
    "axs[0].plot(t, temps[4], label=round(etas[4], 1), c=\"r\", linewidth=3)\n",
    "axs[0].legend()\n",
    "\n",
    "\n",
    "temps = [20 - 20*np.exp(-eta*t*0.1) for eta in etas]\n",
    "[axs[1].plot(t, temp, label=round(etas[i], 1)) for i, temp in enumerate(temps)];\n",
    "axs[1].plot(t, temps[4], label=round(etas[4], 1), c=\"r\", linewidth=3)\n",
    "\n",
    "\n",
    "temps = [((-1/(1+t*(eta*0.1)))+1)*20 for eta in etas]\n",
    "[axs[2].plot(t, temp, label=round(etas[i], 1)) for i, temp in enumerate(temps)];\n",
    "axs[2].plot(t, temps[4], label=round(etas[4], 1), c=\"r\", linewidth=3)\n",
    "\n",
    "temps = [(1/(1+t*eta*0.1)) for eta in etas]\n",
    "[axs[3].plot(t, temp, label=round(etas[i], 1)) for i, temp in enumerate(temps)];\n",
    "axs[3].plot(t, temps[4], label=round(etas[4], 1), c=\"r\", linewidth=3)"
   ]
  },
  {
   "cell_type": "code",
   "execution_count": null,
   "id": "cfd1f765",
   "metadata": {},
   "outputs": [],
   "source": []
  },
  {
   "cell_type": "code",
   "execution_count": 282,
   "id": "67800534",
   "metadata": {},
   "outputs": [],
   "source": [
    "def run_gamma_eta(env, gamma, eta, iterations, rng):\n",
    "    \"\"\"Test if Communication feature makes a difference in performance\"\"\"\n",
    "    # Initialize solution\n",
    "    state = np.round(rng.random(env.N)).astype(int)\n",
    "    score = env.get_fitness(state)\n",
    "    \n",
    "    all_scores = np.empty(iterations+1)\n",
    "    all_scores[0] = score\n",
    "    \n",
    "    for i in range(iterations):\n",
    "        # Changes of agents\n",
    "        digits = rng.integers(0, N, n_agents)\n",
    "\n",
    "        # Evaluation\n",
    "        search_states = np.array([bit_switch(digit, state.copy()) for digit in digits])\n",
    "        search_scores = np.array([env.get_fitness(search_state) for search_state in search_states])\n",
    "        \n",
    "        # Communication\n",
    "        communication_index = rng.random(n_agents) <= gamma\n",
    "        communication_index[0] = True\n",
    "        scores = search_scores[communication_index]\n",
    "        search_states = search_states[communication_index]\n",
    "        \n",
    "        # Same agent draws from its solutions\n",
    "        p_proposals = softmax(scores, get_temp(i, iterations, eta))\n",
    "        change_digit = rng.choice(np.arange(len(scores)), p=p_proposals)\n",
    "\n",
    "        # if scores[change_digit] >= score:\n",
    "        state = search_states[change_digit]\n",
    "        score = scores[change_digit]\n",
    "\n",
    "        all_scores[i+1] = score\n",
    "    \n",
    "    return all_scores"
   ]
  },
  {
   "cell_type": "code",
   "execution_count": 283,
   "id": "e94fd69f",
   "metadata": {},
   "outputs": [
    {
     "name": "stdout",
     "output_type": "stream",
     "text": [
      "Start\n",
      "0\n",
      "100\n",
      "200\n",
      "300\n",
      "400\n",
      "End\n"
     ]
    }
   ],
   "source": [
    "rng = np.random.default_rng(1)\n",
    "iterations = 80\n",
    "n_trials = 500\n",
    "n_agents = 7\n",
    "\n",
    "results = np.empty((n_trials, 3))\n",
    "print(\"Start\")\n",
    "for i in range(n_trials):\n",
    "    env = NK_landscape_loaded(N, K, landscapes[rng.integers(0, n_landscapes)])\n",
    "    \n",
    "    gamma = rng.random()\n",
    "    eta = rng.random()\n",
    "    \n",
    "    run_scores = run_gamma_eta(env, gamma, eta, iterations, rng)\n",
    "    results[i] = [gamma, eta, run_scores.mean()]\n",
    "    \n",
    "    if i%100 == 0:\n",
    "        print(i)\n",
    "print(\"End\")"
   ]
  },
  {
   "cell_type": "code",
   "execution_count": 284,
   "id": "7882ccf9",
   "metadata": {
    "scrolled": false
   },
   "outputs": [
    {
     "name": "stdout",
     "output_type": "stream",
     "text": [
      "Corr gamma and mean:  (0.5406046856256805, 2.7397757883798218e-39)\n",
      "Corr t and mean:  (0.40755497472146446, 1.9765453339950666e-21)\n",
      "Corr gamma*t and mean:  (0.6844653788398818, 2.3363810034809255e-70)\n"
     ]
    },
    {
     "data": {
      "text/plain": [
       "[<matplotlib.lines.Line2D at 0x20c38386b70>]"
      ]
     },
     "execution_count": 284,
     "metadata": {},
     "output_type": "execute_result"
    },
    {
     "data": {
      "image/png": "[encoded data removed]",
      "text/plain": [
       "<Figure size 1152x288 with 3 Axes>"
      ]
     },
     "metadata": {
      "needs_background": "light"
     },
     "output_type": "display_data"
    }
   ],
   "source": [
    "fig, axs = plt.subplots(1, 3, figsize=(16,4))\n",
    "\n",
    "x = results[:,0]\n",
    "y = results[:,2]\n",
    "print(\"Corr gamma and mean: \", pearsonr(x, y))\n",
    "axs[0].scatter(x, y)\n",
    "m, c = np.polyfit(x, y, 1)\n",
    "axs[0].plot(x, m*x + c, 'r', label='Fitted line')\n",
    "axs[0].set_xlabel(\"gamma\")\n",
    "axs[0].set_ylabel(\"Mean Score\")\n",
    "axs[0].set_title(f\"gamma: Performance (gamma & t) (N{N}K{K})\")\n",
    "\n",
    "\n",
    "x = results[:,1]\n",
    "y = results[:,2]\n",
    "print(\"Corr t and mean: \", pearsonr(x, y))\n",
    "axs[1].scatter(x, y)\n",
    "m, c = np.polyfit(x, y, 1)\n",
    "axs[1].set_xlabel(\"t Exploitation\")\n",
    "axs[1].set_title(f\"t: Performance (gamma & t)  (N{N}K{K})\")\n",
    "axs[1].plot(x, m*x + c, 'r')\n",
    "\n",
    "\n",
    "x = results[:,0] * results[:,1]\n",
    "y = results[:,2]\n",
    "print(\"Corr gamma*t and mean: \", pearsonr(x, y))\n",
    "axs[2].scatter(x, y)\n",
    "m, c = np.polyfit(x, y, 1)\n",
    "axs[2].set_xlabel(\"gamma * t\")\n",
    "axs[2].set_title(f\"gamma*t: Performance (gamma & t)  (N{N}K{K})\")\n",
    "axs[2].plot(x, m*x + c, 'r')"
   ]
  },
  {
   "cell_type": "code",
   "execution_count": null,
   "id": "af13ea4a",
   "metadata": {},
   "outputs": [],
   "source": []
  },
  {
   "cell_type": "markdown",
   "id": "1d486e52",
   "metadata": {},
   "source": [
    "### Minority/ Majority information access\n",
    "* All features are sampled from the same distributions\n"
   ]
  },
  {
   "cell_type": "code",
   "execution_count": 456,
   "id": "32fe7ec4",
   "metadata": {},
   "outputs": [],
   "source": [
    "def scale_rho_fair(rho):\n",
    "    rho_r = (rho*10).astype(int) * 2  # np.trunc(rho*10) * 2\n",
    "    dims = np.zeros((len(rho), 2), dtype=int)\n",
    "    dims = np.array([rho_r, rho_r+1]).T\n",
    "    return dims\n",
    "\n",
    "def scale_rho_fair_big(rho):\n",
    "    rho_r = np.trunc(rho * 20 / 4)  # np.trunc(rho*10) * 2\n",
    "    dims = np.array([rho_r*4 + i for i in range(4)]).T\n",
    "    return dims.astype(int)"
   ]
  },
  {
   "cell_type": "code",
   "execution_count": 457,
   "id": "bdb01fd6",
   "metadata": {},
   "outputs": [
    {
     "data": {
      "image/png": "[encoded data removed]",
      "text/plain": [
       "<Figure size 432x288 with 1 Axes>"
      ]
     },
     "metadata": {
      "needs_background": "light"
     },
     "output_type": "display_data"
    }
   ],
   "source": [
    "rho = np.linspace(0,0.99,100)\n",
    "dims = scale_rho_fair_big(rho)\n",
    "plt.plot(rho, rho_r)\n",
    "[plt.plot([r]*4, dims[i]) for i,r in enumerate(rho)];"
   ]
  },
  {
   "cell_type": "code",
   "execution_count": 301,
   "id": "787e1f90",
   "metadata": {},
   "outputs": [
    {
     "data": {
      "text/plain": [
       "Text(0.5, 0, 'rho')"
      ]
     },
     "execution_count": 301,
     "metadata": {},
     "output_type": "execute_result"
    },
    {
     "data": {
      "image/png": "[encoded data removed]",
      "text/plain": [
       "<Figure size 864x288 with 2 Axes>"
      ]
     },
     "metadata": {
      "needs_background": "light"
     },
     "output_type": "display_data"
    }
   ],
   "source": [
    "n = 1000\n",
    "fig, axs = plt.subplots(1,2, figsize=(12,4))\n",
    "rs = rng.random(n)\n",
    "dims = scale_rho_fair(rs)\n",
    "axs[0].hist(dims.flatten())\n",
    "\n",
    "[axs[1].plot([r,r], dims[i], c=\"b\") for i,r in enumerate(rs)];\n",
    "axs[1].set_yticks(np.arange(0,20,2));\n",
    "axs[1].set_ylabel(\"Dimensions\")\n",
    "axs[1].set_xlabel(\"rho\")"
   ]
  },
  {
   "cell_type": "code",
   "execution_count": null,
   "id": "834e2174",
   "metadata": {},
   "outputs": [],
   "source": []
  },
  {
   "cell_type": "markdown",
   "id": "b99f70d6",
   "metadata": {},
   "source": [
    "## Simulation functions "
   ]
  },
  {
   "cell_type": "code",
   "execution_count": 302,
   "id": "9029c2fd",
   "metadata": {},
   "outputs": [],
   "source": [
    "def init_weights(f, score, n_agents, n_features, rng):\n",
    "    \"\"\"sample from gauß with mean for perfect estimation\"\"\"\n",
    "    w = np.ones(n_features) * ((score/n_features) / f.mean())\n",
    "    return rng.normal(w, 0.1, (n_agents, n_features))\n",
    "\n",
    "\n",
    "def speaker_gradients(w, f_i, new_score):\n",
    "    \"\"\"\n",
    "    Derivative of Mean Squared Error\n",
    "    f_i: features of speaker\n",
    "    w: Weights\n",
    "    \"\"\"\n",
    "    dL = -(new_score - w@f_i).reshape(-1,1) * f_i\n",
    "    return dL\n",
    "\n",
    "\n",
    "def get_individual_labels(etas, all_scores, speaker_score, speaker, temp):\n",
    "    \"\"\"Label: Normalized Speaker value compared with own choice\"\"\"\n",
    "    values = np.zeros(n_agents)\n",
    "    for agent_i in range(n_agents):\n",
    "        agent_scores = all_scores[agent_i]\n",
    "        p_ideas = softmax(agent_scores, temp * etas[agent_i])\n",
    "        values[agent_i] = rng.choice(agent_scores, p=p_ideas)\n",
    "    values[speaker] = speaker_score    \n",
    "    \n",
    "    return speaker_score - values # + values.min()\n",
    "\n",
    "\n",
    "def create_random_matrix(rho):\n",
    "    matrix = rng.random(len(rho)**2).reshape((len(rho), len(rho)))\n",
    "    matrix -= matrix.min(axis=1).reshape(-1,1)\n",
    "    matrix /= matrix.max(axis=1).reshape(-1,1)    \n",
    "    return matrix\n",
    "\n",
    "\n",
    "def create_fair_matrix(rho):\n",
    "    matrix = np.ones((len(rho), len(rho)))   \n",
    "    return matrix\n"
   ]
  },
  {
   "cell_type": "code",
   "execution_count": 303,
   "id": "918482f3",
   "metadata": {},
   "outputs": [],
   "source": [
    "def voting(state_prediction):\n",
    "    p_votings = softmax(state_prediction, 5, axis=1)\n",
    "    votes = np.array([rng.choice(n_agents, p=p) for p in p_votings])\n",
    "    vote_agent_index, vote_count = np.unique(np.array(votes), return_counts=True)\n",
    "    speaker = rng.choice(vote_agent_index[vote_count == max(vote_count)])\n",
    "    # speaker = list(vote_count).index(max(vote_count))        # TODO: Always returns first index (if tie always the same gets chosen)\n",
    "    return speaker"
   ]
  },
  {
   "cell_type": "code",
   "execution_count": 476,
   "id": "3a4cdb87",
   "metadata": {},
   "outputs": [],
   "source": [
    "def information_sharing_product(scores, search_states, gammas, leadership_matrix, rng):\n",
    "    all_agent_scores = dict()\n",
    "    all_agent_states = dict()\n",
    "    \n",
    "    for agent_i in range(len(gammas)):\n",
    "        info_exchange = (leadership_matrix[:,agent_i] * gammas[agent_i]) >= rng.random(len(gammas))\n",
    "        info_exchange[agent_i] = True\n",
    "        all_agent_scores[agent_i] = scores[info_exchange]\n",
    "        all_agent_states[agent_i] = search_states[info_exchange]\n",
    "        \n",
    "        # claim_information = gammas[agent_i] >= rng.random(len(gammas))\n",
    "        # claim_information[agent_i] = True\n",
    "        # grant_information = leadership_matrix[:,agent_i][claim_information] >= rng.random(claim_information.sum())\n",
    "        # all_agent_scores[agent_i] = scores[claim_information][grant_information]\n",
    "        # all_agent_states[agent_i] = search_states[claim_information][grant_information]\n",
    "    \n",
    "    return all_agent_scores, all_agent_states\n",
    "\n",
    "def information_sharing_sum(scores, search_states, gammas, leadership_matrix, rng):\n",
    "    all_agent_scores = dict()\n",
    "    all_agent_states = dict()\n",
    "    \n",
    "    for agent_i in range(len(gammas)):\n",
    "        claim_information = (gammas[agent_i]**2 + leadership_matrix[:,agent_i])/2\n",
    "        claim_information[agent_i] = 1\n",
    "        grant_information = claim_information >= rng.random(n_agents)\n",
    "\n",
    "        all_agent_scores[agent_i] = scores[grant_information]\n",
    "        all_agent_states[agent_i] = search_states[grant_information]\n",
    "    \n",
    "    return all_agent_scores, all_agent_states\n",
    "\n",
    "\n",
    "def sigmoid(x):\n",
    "    return 1/(1+np.exp(-10*(x-0.5)))\n",
    "\n",
    "def information_sharing_sigmoid(scores, search_states, gammas, leadership_matrix, rng):\n",
    "    all_agent_scores = dict()\n",
    "    all_agent_states = dict()\n",
    "    g = gammas * 0.5 + 0.5\n",
    "    \n",
    "    for agent_i in range(len(gammas)):\n",
    "        info_exchange = np.clip(g[agent_i]*leadership_matrix[:,agent_i],0,1)\n",
    "        info_exchange = sigmoid(info_exchange)\n",
    "        grant_information = info_exchange >= rng.random(n_agents)\n",
    "        grant_information[agent_i] = True\n",
    "\n",
    "        all_agent_scores[agent_i] = scores[grant_information]\n",
    "        all_agent_states[agent_i] = search_states[grant_information]\n",
    "    return all_agent_scores, all_agent_states\n",
    "\n"
   ]
  },
  {
   "cell_type": "markdown",
   "id": "14d27d65",
   "metadata": {},
   "source": [
    "#### Privilege & Intervention"
   ]
  },
  {
   "cell_type": "code",
   "execution_count": 493,
   "id": "dc66250c",
   "metadata": {},
   "outputs": [],
   "source": [
    "def information_sharing_allyship(scores, search_states, gammas, leadership_matrix, allyship, rng):\n",
    "    all_agent_scores = dict()\n",
    "    all_agent_states = dict()\n",
    "    g = gammas * 0.5 + 0.5\n",
    "    \n",
    "    if rng.random() <= 0.4:\n",
    "        allyship_matrix = leadership_matrix.copy()\n",
    "        for allies in allyship:\n",
    "            allyship_matrix[:,allies[0]] = leadership_matrix[:,allies[1]]\n",
    "            allyship_matrix[:,allies[1]] = leadership_matrix[:,allies[0]]\n",
    "    else:\n",
    "        allyship_matrix = leadership_matrix\n",
    "    \n",
    "    for agent_i in range(len(gammas)):\n",
    "        info_exchange = np.clip(g[agent_i]*allyship_matrix[:,agent_i],0,1)\n",
    "        \n",
    "        info_exchange = sigmoid(info_exchange)\n",
    "        grant_information = info_exchange >= rng.random(n_agents)\n",
    "        grant_information[agent_i] = True\n",
    "\n",
    "        all_agent_scores[agent_i] = scores[grant_information]\n",
    "        all_agent_states[agent_i] = search_states[grant_information]\n",
    "    return all_agent_scores, all_agent_states\n",
    "\n",
    "def initialize_allies(rho):\n",
    "    rho_sorted = rho.copy()\n",
    "    rho_sorted.sort()\n",
    "    minority_agents = np.where(rho <= 0.2)[0]\n",
    "    min_majority = rho_sorted[-len(minority_agents)]\n",
    "    majority_agents = np.where(rho >= min_majority)[0]    \n",
    "    allyship = np.zeros((len(minority_agents), 2))\n",
    "    for _, min_a in enumerate(minority_agents):\n",
    "        allyship[_] = np.array([min_a, rng.choice(majority_agents)])\n",
    "        \n",
    "    return allyship.astype(int)"
   ]
  },
  {
   "cell_type": "code",
   "execution_count": 494,
   "id": "3615706e",
   "metadata": {},
   "outputs": [
    {
     "data": {
      "text/plain": [
       "(array([0.04065415, 0.96666488, 0.08009636, 0.7658717 , 0.09918919,\n",
       "        0.15083384, 0.65120192]),\n",
       " array([[0, 3],\n",
       "        [2, 1],\n",
       "        [4, 1],\n",
       "        [5, 1]]))"
      ]
     },
     "execution_count": 494,
     "metadata": {},
     "output_type": "execute_result"
    }
   ],
   "source": [
    "rho = rng.random(7)\n",
    "allyship = initialize_allies(rho)\n",
    "rho, allyship"
   ]
  },
  {
   "cell_type": "code",
   "execution_count": 473,
   "id": "c812136e",
   "metadata": {},
   "outputs": [],
   "source": [
    "matrix = create_minority_matrix(rho)\n",
    "allyship_matrix = matrix.copy()\n",
    "for allies in allyship:\n",
    "    allyship_matrix[:,allies[0]] = matrix[:,allies[1]]\n",
    "    allyship_matrix[:,allies[1]] = matrix[:,allies[0]]"
   ]
  },
  {
   "cell_type": "code",
   "execution_count": 478,
   "id": "ec7ff088",
   "metadata": {},
   "outputs": [
    {
     "data": {
      "text/plain": [
       "<AxesSubplot:xlabel='Rho', ylabel='Rho'>"
      ]
     },
     "execution_count": 478,
     "metadata": {},
     "output_type": "execute_result"
    },
    {
     "data": {
      "image/png": "[encoded data removed]",
      "text/plain": [
       "<Figure size 864x288 with 4 Axes>"
      ]
     },
     "metadata": {
      "needs_background": "light"
     },
     "output_type": "display_data"
    }
   ],
   "source": [
    "fig, axs = plt.subplots(1,2,figsize=(12,4))\n",
    "plot_heatmap(matrix, rho, axs[0] ,\"\")\n",
    "plot_heatmap(allyship_matrix, rho, axs[1] ,\"\")"
   ]
  },
  {
   "cell_type": "code",
   "execution_count": null,
   "id": "9896fb64",
   "metadata": {},
   "outputs": [],
   "source": []
  },
  {
   "cell_type": "code",
   "execution_count": 479,
   "id": "3cbd6378",
   "metadata": {},
   "outputs": [],
   "source": [
    "def create_minority_matrix(rho):\n",
    "    # Scale rho into minority and majority groups\n",
    "    rho_scaled = rho.copy()\n",
    "    rho_max = rho > 0.2\n",
    "    rho_min = rho <= 0.2\n",
    "    rho_scaled[rho_max] = rho[rho_max] - 0.2\n",
    "    rho_scaled[rho_max] = rho[rho_max]/ rho[rho_max].max() # Normalize\n",
    "    rho_scaled[rho_max] = rho[rho_max] * 0.2 + 0.8\n",
    "        \n",
    "    \n",
    "    # similarity_matrix = np.zeros((len(rho), len(rho)))\n",
    "    similarity_matrix = 1 - np.array([np.sqrt((r - rho)**2) for r in rho_scaled])    \n",
    "    \n",
    "    # Create similarity scaled by rho\n",
    "    # TODO Get rid of scaling\n",
    "    similarity_matrix += rho*0.2  # .reshape(-1,1)\n",
    "    \n",
    "    # Normalize\n",
    "    # similarity_matrix -= similarity_matrix.min(axis=1).reshape(-1,1)\n",
    "    # np.fill_diagonal(similarity_matrix, 0)\n",
    "    similarity_matrix /= similarity_matrix.max(axis=1).reshape(-1,1)\n",
    "    # np.fill_diagonal(similarity_matrix, 1)    \n",
    "    return similarity_matrix"
   ]
  },
  {
   "cell_type": "code",
   "execution_count": null,
   "id": "777a7bde",
   "metadata": {},
   "outputs": [],
   "source": []
  },
  {
   "cell_type": "markdown",
   "id": "7216022a",
   "metadata": {},
   "source": [
    "## Simulation function"
   ]
  },
  {
   "cell_type": "code",
   "execution_count": 495,
   "id": "66f18065",
   "metadata": {},
   "outputs": [],
   "source": [
    "def leadership_granting(env, f, iterations, intervention, rng):\n",
    "    \"\"\"Test if Communication feature makes a difference in performance\"\"\"\n",
    "    # Initialize solution\n",
    "    lr = 0.1\n",
    "    \n",
    "    state = np.round(rng.random(env.N)).astype(int)\n",
    "    score = env.get_fitness(state)\n",
    "    \n",
    "    gammas = f[:,0]\n",
    "    etas = f[:,1]\n",
    "    rho_dimensions = scale_rho_fair_big(f[:,-1])\n",
    "    \n",
    "    # w = init_weights(f, score, n_agents, 4, rng)\n",
    "    w = rng.normal(0, 0.01, (n_agents, 4))\n",
    "    \n",
    "    score_tracker = np.empty(iterations+1)\n",
    "    score_tracker[0] = score\n",
    "    \n",
    "    weight_tracker = np.zeros((iterations+1, n_features))\n",
    "    weight_tracker[0] = w.mean(axis=0)\n",
    "    \n",
    "    agents_index = np.arange(n_agents)\n",
    "    \n",
    "    # leadership_matrix = rng.random((n_agents, n_agents))\n",
    "    # np.fill_diagonal(leadership_matrix, 1)\n",
    "    leadership_matrix = create_minority_matrix(f[:,-1])\n",
    "    # leadership_matrix = create_fair_matrix(f[:,-1])\n",
    "    \n",
    "    if intervention == True:\n",
    "        allyship = initialize_allies(f[:,-1])\n",
    "    \n",
    "    \n",
    "    for i in range(iterations):\n",
    "        state_prediction = np.inner(w, f)\n",
    "        \n",
    "        # Changes of agents\n",
    "        digits = rng.choice(rho_dimensions, axis=1).astype(int)\n",
    "        \n",
    "        # Evaluation\n",
    "        search_states = np.array([bit_switch(digit, state.copy()) for digit in digits])\n",
    "        scores = np.array([env.get_fitness(search_state) for search_state in search_states])\n",
    "        if i == 0:\n",
    "            w = np.ones((n_agents, n_features)) * (scores.std()/4)\n",
    "            weight_tracker[0] = w.mean(axis=0)\n",
    "        \n",
    "        # Information sharing/ Communication\n",
    "        if intervention == True:\n",
    "            all_agent_scores, all_agent_states = information_sharing_allyship(scores, search_states, gammas,\n",
    "                                                                              leadership_matrix, allyship, rng)\n",
    "        else:\n",
    "            all_agent_scores, all_agent_states = information_sharing_sigmoid(scores, search_states, gammas,\n",
    "                                                                             leadership_matrix, rng)\n",
    "         \n",
    "        # Voting\n",
    "        speaker = voting(state_prediction)\n",
    "       \n",
    "        # Speaker draws from its known solutions \n",
    "        speaker_scores = all_agent_scores[speaker]\n",
    "        temp = get_temp(i, iterations, etas[speaker])\n",
    "        p_proposals = softmax(speaker_scores, temp)\n",
    "        change_digit = rng.choice(np.arange(len(speaker_scores)), p=p_proposals)\n",
    "        \n",
    "        # Update belief about features (value function approximation)\n",
    "        v = get_individual_labels(etas, all_agent_scores, speaker_scores[change_digit], speaker, (i+1)/iterations)\n",
    "        \n",
    "        gradients = speaker_gradients(w, f[speaker], v)\n",
    "        w -= lr * gradients \n",
    "        \n",
    "        # Update leadership\n",
    "        leadership_matrix[:,speaker] += w @ f[speaker]  # v  # Alternatively directly by value\n",
    "        # Normalize\n",
    "        # TODO: Setting diagonal to 0 does not allow agents to grant themselves leadership (-> so they grant another agent leadership)\n",
    "        # np.fill_diagonal(leadership_matrix, 0)\n",
    "        # leadership_matrix -= leadership_matrix.min(axis=1).reshape(-1,1)\n",
    "        leadership_matrix /= leadership_matrix.max(axis=1).reshape(-1,1)\n",
    "        # np.fill_diagonal(leadership_matrix, 1)\n",
    "\n",
    "        # Update values\n",
    "        state = all_agent_states[speaker][change_digit]\n",
    "        score = speaker_scores[change_digit]\n",
    "        \n",
    "        score_tracker[i+1] = score\n",
    "        weight_tracker[i+1] = w.mean(axis=0)\n",
    "        \n",
    "    return state_prediction.mean(axis=0), w, weight_tracker, score_tracker, leadership_matrix\n"
   ]
  },
  {
   "cell_type": "code",
   "execution_count": 496,
   "id": "234f83bd",
   "metadata": {},
   "outputs": [],
   "source": [
    "def run_simulation(n_agents, n_trials, n_features, iterations, intervention, rng):\n",
    "    results = np.empty((n_trials * n_agents, n_features * 2 + 3))\n",
    "    all_leadership_scores = np.empty((n_trials * n_agents, n_agents))\n",
    "\n",
    "    all_weights = np.zeros((iterations + 1, n_features))\n",
    "    all_scores = np.zeros(iterations + 1)\n",
    "\n",
    "    print(f\"Start (N{N}K{K})\")\n",
    "    for i in range(n_trials):\n",
    "        env = NK_landscape_loaded(N, K, landscapes[rng.integers(0, n_landscapes)])\n",
    "\n",
    "        f = rng.random((n_agents, n_features))\n",
    "        while f[:,-1].min() > 0.2:\n",
    "            f = rng.random((n_agents, n_features))\n",
    "\n",
    "        (\n",
    "            state_prediction,\n",
    "            w,\n",
    "            weight_tracker,\n",
    "            score_tracker,\n",
    "            leadership_score,\n",
    "        ) = leadership_granting(env, f, iterations, intervention, rng)\n",
    "\n",
    "        # fmt: off\n",
    "        np.fill_diagonal(leadership_score, leadership_score.mean(axis=0))\n",
    "        results[i * n_agents : i * n_agents + n_agents][:, :n_features] = f\n",
    "        results[i * n_agents : i * n_agents + n_agents][:, n_features : n_features * 2] = w\n",
    "        results[i * n_agents : i * n_agents + n_agents][:, n_features * 2]              = state_prediction\n",
    "        results[i * n_agents : i * n_agents + n_agents][:, n_features * 2 + 1]          = score_tracker.mean()\n",
    "        results[i * n_agents : i * n_agents + n_agents][:, n_features * 2 + 2]          = leadership_score.T.mean(axis=1)\n",
    "\n",
    "        all_leadership_scores[i * n_agents : i * n_agents + n_agents] = leadership_score.T\n",
    "        # fmt: on\n",
    "\n",
    "        all_weights += weight_tracker\n",
    "        all_scores += score_tracker\n",
    "\n",
    "        if (i + 1) % 100 == 0:\n",
    "            print(i + 1)\n",
    "\n",
    "    all_weights = all_weights / n_trials\n",
    "    all_scores = all_scores / n_trials\n",
    "    print(\"End\")\n",
    "    return results, all_weights, all_scores, all_leadership_scores"
   ]
  },
  {
   "cell_type": "markdown",
   "id": "94f55c4c",
   "metadata": {},
   "source": [
    "## Results"
   ]
  },
  {
   "cell_type": "code",
   "execution_count": 421,
   "id": "ca77be00",
   "metadata": {},
   "outputs": [],
   "source": [
    "def plot_heatmap(matrix, x, ax, title):\n",
    "    ax.set_title(title)\n",
    "    im = ax.imshow(matrix)\n",
    "    fig.colorbar(im, ax=ax)\n",
    "    ax.set_xticks(np.arange(7))\n",
    "    ax.set_xticklabels(x.round(2))\n",
    "    ax.set_yticks(np.arange(7))\n",
    "    ax.set_yticklabels(x.round(2));\n",
    "    ax.set_xlabel(\"Rho\")\n",
    "    ax.set_ylabel(\"Rho\")\n",
    "    return ax"
   ]
  },
  {
   "cell_type": "code",
   "execution_count": 422,
   "id": "628770b6",
   "metadata": {},
   "outputs": [],
   "source": [
    "def plot_results(results, all_weights, all_scores, all_leadership_scores):\n",
    "    fig, axs = plt.subplots(3, 3, figsize=(16, 16))\n",
    "    labels = [\"communication\", \"competence\", \"noise\", \"privilege\"]\n",
    "    for i, l in enumerate(labels):\n",
    "        print(\n",
    "            f\"Correlation leadership score and {l}\", pearsonr(results[:, n_features * 2 +2], results[:, i])\n",
    "        )\n",
    "    print(\n",
    "            f\"Correlation leadership score and state prediction\", pearsonr(results[:, n_features * 2 +2], results[:, n_features * 2])\n",
    "        )\n",
    "    # print(\"\\n\",\n",
    "    #     ((all_leadership_scores == 0).sum() / 7 / (n_trials * n_agents) * 100).round(2),\n",
    "    #     \"% of agents are never voted as leaders \\n\",\n",
    "    # )\n",
    "\n",
    "    # Correlation_plots\n",
    "    x = results[:, 0] * results[:, 1]\n",
    "    y = results[:, n_features * 2]\n",
    "    axs[0, 0].scatter(x, y)\n",
    "    m, c = np.polyfit(x, y, 1)\n",
    "    axs[0, 0].set_title(f\"Influence of gamma*eta onto value prediction (N{N}K{K})\")\n",
    "    axs[0, 0].plot(x, m * x + c, \"r\")\n",
    "    axs[0, 0].set_xlabel(\"Size of gamma*eta\")\n",
    "    axs[0, 0].set_ylabel(\"Mean value prediction\")\n",
    "\n",
    "    # Score over time\n",
    "    axs[0, 1].plot(all_scores)\n",
    "    axs[0, 1].set_xlabel(\"Iterations\")\n",
    "    axs[0, 1].set_ylabel(f\"Mean Score (N{N}K{K})\")\n",
    "    axs[0, 1].set_title(\"Score over time\")\n",
    "\n",
    "\n",
    "    x = results[:, 3].reshape((n_trials, n_agents)).std(axis=1)  # std of rho in a team\n",
    "    y = results[:, n_features * 2 + 1].reshape((n_trials, n_agents)).mean(axis=1)\n",
    "    axs[0, 2].scatter(x, y)\n",
    "    m, c = np.polyfit(x, y, 1)\n",
    "    axs[0, 2].set_title(f\"Influence of rho variance onto mean score (N{N}K{K})\")\n",
    "    axs[0, 2].plot(x, m * x + c, \"r\")\n",
    "    axs[0, 2].set_xlabel(\"Rho Standard deviation\")\n",
    "    axs[0, 2].set_ylabel(\"Mean Team Score\")\n",
    "    print(\"Relation of rho std and the mean score of a team\", pearsonr(x, y))\n",
    "\n",
    "\n",
    "    # Weight size\n",
    "    matrix = all_leadership_scores[:7].T\n",
    "    # x= results[:7,0] * results[:7,1]\n",
    "    x = results[:7,3]\n",
    "    axs[1, 0] = plot_heatmap(matrix, x, axs[1,0], \"Example final social matrix of one team\")\n",
    "\n",
    "    # Weights over time\n",
    "    [axs[1, 1].plot(all_weights[:, i], label=labels[i]) for i in range(len(labels))]\n",
    "    axs[1, 1].legend()\n",
    "    axs[1, 1].set_xlabel(\"Iterations\")\n",
    "    axs[1, 1].set_ylabel(f\"Weight size (N{N}K{K})\")\n",
    "    axs[1, 1].set_title(\"Weights over time\")\n",
    "\n",
    "    rel_weights = all_weights / all_weights.sum(axis=1).reshape(-1,1)\n",
    "    [axs[1, 2].plot(rel_weights[2:, i], label=labels[i]) for i in range(len(labels))]\n",
    "    axs[1, 2].legend()\n",
    "    axs[1, 2].set_xlabel(\"Iterations\")\n",
    "    axs[1, 2].set_ylabel(f\"Relative Weight size (N{N}K{K})\")\n",
    "    axs[1, 2].set_title(\"Relative Weight size over time\")\n",
    "    \n",
    "    axs[2, 0].scatter(results[:,0]*results[:,1], results[:, n_features * 2 + 2])\n",
    "    axs[2, 0].set_ylabel(\"Mean leadership score\")\n",
    "    axs[2, 0].set_xlabel(\"gamma * eta\")\n",
    "    axs[2, 0].set_title(\"Influence on performance features onto leadership\")\n",
    "\n",
    "    axs[2, 1].scatter(results[:,3], results[:, n_features * 2 + 2])\n",
    "    axs[2, 1].set_ylabel(\"Mean leadership score\")\n",
    "    axs[2, 1].set_xlabel(\"rho\")\n",
    "    axs[2, 1].set_title(\"Influence of privilege onto leadership\")"
   ]
  },
  {
   "cell_type": "code",
   "execution_count": 486,
   "id": "b6f84dd0",
   "metadata": {},
   "outputs": [
    {
     "name": "stdout",
     "output_type": "stream",
     "text": [
      "Start (N20K5)\n"
     ]
    },
    {
     "ename": "KeyboardInterrupt",
     "evalue": "",
     "output_type": "error",
     "traceback": [
      "\u001b[1;31m---------------------------------------------------------------------------\u001b[0m",
      "\u001b[1;31mKeyboardInterrupt\u001b[0m                         Traceback (most recent call last)",
      "\u001b[1;32m<ipython-input-486-f0b8662572e0>\u001b[0m in \u001b[0;36m<module>\u001b[1;34m\u001b[0m\n\u001b[0;32m      7\u001b[0m \u001b[0mintervention\u001b[0m \u001b[1;33m=\u001b[0m \u001b[1;32mFalse\u001b[0m\u001b[1;33m\u001b[0m\u001b[0m\n\u001b[0;32m      8\u001b[0m \u001b[1;33m\u001b[0m\u001b[0m\n\u001b[1;32m----> 9\u001b[1;33m \u001b[0mresults\u001b[0m\u001b[1;33m,\u001b[0m \u001b[0mall_weights\u001b[0m\u001b[1;33m,\u001b[0m \u001b[0mall_scores\u001b[0m\u001b[1;33m,\u001b[0m \u001b[0mall_leadership_scores\u001b[0m \u001b[1;33m=\u001b[0m \u001b[0mrun_simulation\u001b[0m\u001b[1;33m(\u001b[0m\u001b[0mn_agents\u001b[0m\u001b[1;33m,\u001b[0m \u001b[0mn_trials\u001b[0m\u001b[1;33m,\u001b[0m \u001b[0mn_features\u001b[0m\u001b[1;33m,\u001b[0m \u001b[0miterations\u001b[0m\u001b[1;33m,\u001b[0m \u001b[0mintervention\u001b[0m\u001b[1;33m,\u001b[0m \u001b[0mrng\u001b[0m\u001b[1;33m)\u001b[0m\u001b[1;33m\u001b[0m\u001b[0m\n\u001b[0m",
      "\u001b[1;32m<ipython-input-485-1e6f8bcb2930>\u001b[0m in \u001b[0;36mrun_simulation\u001b[1;34m(n_agents, n_trials, n_features, iterations, intervention, rng)\u001b[0m\n\u001b[0;32m      8\u001b[0m     \u001b[0mprint\u001b[0m\u001b[1;33m(\u001b[0m\u001b[1;34mf\"Start (N{N}K{K})\"\u001b[0m\u001b[1;33m)\u001b[0m\u001b[1;33m\u001b[0m\u001b[0m\n\u001b[0;32m      9\u001b[0m     \u001b[1;32mfor\u001b[0m \u001b[0mi\u001b[0m \u001b[1;32min\u001b[0m \u001b[0mrange\u001b[0m\u001b[1;33m(\u001b[0m\u001b[0mn_trials\u001b[0m\u001b[1;33m)\u001b[0m\u001b[1;33m:\u001b[0m\u001b[1;33m\u001b[0m\u001b[0m\n\u001b[1;32m---> 10\u001b[1;33m         \u001b[0menv\u001b[0m \u001b[1;33m=\u001b[0m \u001b[0mNK_landscape_loaded\u001b[0m\u001b[1;33m(\u001b[0m\u001b[0mN\u001b[0m\u001b[1;33m,\u001b[0m \u001b[0mK\u001b[0m\u001b[1;33m,\u001b[0m \u001b[0mlandscapes\u001b[0m\u001b[1;33m[\u001b[0m\u001b[0mrng\u001b[0m\u001b[1;33m.\u001b[0m\u001b[0mintegers\u001b[0m\u001b[1;33m(\u001b[0m\u001b[1;36m0\u001b[0m\u001b[1;33m,\u001b[0m \u001b[0mn_landscapes\u001b[0m\u001b[1;33m)\u001b[0m\u001b[1;33m]\u001b[0m\u001b[1;33m)\u001b[0m\u001b[1;33m\u001b[0m\u001b[0m\n\u001b[0m\u001b[0;32m     11\u001b[0m \u001b[1;33m\u001b[0m\u001b[0m\n\u001b[0;32m     12\u001b[0m         \u001b[0mf\u001b[0m \u001b[1;33m=\u001b[0m \u001b[0mrng\u001b[0m\u001b[1;33m.\u001b[0m\u001b[0mrandom\u001b[0m\u001b[1;33m(\u001b[0m\u001b[1;33m(\u001b[0m\u001b[0mn_agents\u001b[0m\u001b[1;33m,\u001b[0m \u001b[0mn_features\u001b[0m\u001b[1;33m)\u001b[0m\u001b[1;33m)\u001b[0m\u001b[1;33m\u001b[0m\u001b[0m\n",
      "\u001b[1;32m~\\Projects\\MasterThesis\\environments.py\u001b[0m in \u001b[0;36m__init__\u001b[1;34m(self, N, K, fitness_dict)\u001b[0m\n\u001b[0;32m    253\u001b[0m \u001b[1;33m\u001b[0m\u001b[0m\n\u001b[0;32m    254\u001b[0m         \u001b[0mself\u001b[0m\u001b[1;33m.\u001b[0m\u001b[0mfitness_dict\u001b[0m \u001b[1;33m=\u001b[0m \u001b[0mfitness_dict\u001b[0m\u001b[1;33m\u001b[0m\u001b[0m\n\u001b[1;32m--> 255\u001b[1;33m         \u001b[0mself\u001b[0m\u001b[1;33m.\u001b[0m\u001b[0minit_min_max\u001b[0m\u001b[1;33m(\u001b[0m\u001b[1;33m)\u001b[0m\u001b[1;33m\u001b[0m\u001b[0m\n\u001b[0m\u001b[0;32m    256\u001b[0m \u001b[1;33m\u001b[0m\u001b[0m\n\u001b[0;32m    257\u001b[0m     \u001b[1;32mdef\u001b[0m \u001b[0mf\u001b[0m\u001b[1;33m(\u001b[0m\u001b[0mself\u001b[0m\u001b[1;33m,\u001b[0m \u001b[0mstate\u001b[0m\u001b[1;33m)\u001b[0m\u001b[1;33m:\u001b[0m\u001b[1;33m\u001b[0m\u001b[0m\n",
      "\u001b[1;32m~\\Projects\\MasterThesis\\environments.py\u001b[0m in \u001b[0;36minit_min_max\u001b[1;34m(self)\u001b[0m\n\u001b[0;32m    259\u001b[0m \u001b[1;33m\u001b[0m\u001b[0m\n\u001b[0;32m    260\u001b[0m     \u001b[1;32mdef\u001b[0m \u001b[0minit_min_max\u001b[0m\u001b[1;33m(\u001b[0m\u001b[0mself\u001b[0m\u001b[1;33m)\u001b[0m\u001b[1;33m:\u001b[0m\u001b[1;33m\u001b[0m\u001b[0m\n\u001b[1;32m--> 261\u001b[1;33m         \u001b[0mself\u001b[0m\u001b[1;33m.\u001b[0m\u001b[0mmax_value\u001b[0m \u001b[1;33m=\u001b[0m \u001b[0mmax\u001b[0m\u001b[1;33m(\u001b[0m\u001b[0mself\u001b[0m\u001b[1;33m.\u001b[0m\u001b[0mfitness_dict\u001b[0m\u001b[1;33m.\u001b[0m\u001b[0mvalues\u001b[0m\u001b[1;33m(\u001b[0m\u001b[1;33m)\u001b[0m\u001b[1;33m)\u001b[0m\u001b[1;33m\u001b[0m\u001b[0m\n\u001b[0m\u001b[0;32m    262\u001b[0m         \u001b[0mself\u001b[0m\u001b[1;33m.\u001b[0m\u001b[0mmin_value\u001b[0m \u001b[1;33m=\u001b[0m \u001b[0mmin\u001b[0m\u001b[1;33m(\u001b[0m\u001b[0mself\u001b[0m\u001b[1;33m.\u001b[0m\u001b[0mfitness_dict\u001b[0m\u001b[1;33m.\u001b[0m\u001b[0mvalues\u001b[0m\u001b[1;33m(\u001b[0m\u001b[1;33m)\u001b[0m\u001b[1;33m)\u001b[0m\u001b[1;33m\u001b[0m\u001b[0m\n\u001b[0;32m    263\u001b[0m \u001b[1;33m\u001b[0m\u001b[0m\n",
      "\u001b[1;31mKeyboardInterrupt\u001b[0m: "
     ]
    }
   ],
   "source": [
    "rng = np.random.default_rng(2)\n",
    "iterations = 150\n",
    "n_trials = 500\n",
    "n_agents   = 7\n",
    "n_features = 4\n",
    "\n",
    "intervention = False\n",
    "\n",
    "results, all_weights, all_scores, all_leadership_scores = run_simulation(n_agents, n_trials, n_features, iterations, intervention, rng)"
   ]
  },
  {
   "cell_type": "code",
   "execution_count": null,
   "id": "1aa38a10",
   "metadata": {},
   "outputs": [],
   "source": [
    "plot_results(results, all_weights, all_scores, all_leadership_scores)"
   ]
  },
  {
   "cell_type": "markdown",
   "id": "0272f5e3",
   "metadata": {},
   "source": [
    "### With Intervention"
   ]
  },
  {
   "cell_type": "code",
   "execution_count": null,
   "id": "46a82347",
   "metadata": {},
   "outputs": [
    {
     "name": "stdout",
     "output_type": "stream",
     "text": [
      "Start (N20K5)\n"
     ]
    }
   ],
   "source": [
    "rng = np.random.default_rng(22)\n",
    "iterations = 150\n",
    "n_trials = 500\n",
    "n_agents   = 7\n",
    "n_features = 4\n",
    "\n",
    "intervention = True\n",
    "\n",
    "results_int, all_weights_int, all_scores_int, all_leadership_scores_int = run_simulation(n_agents, n_trials, n_features, iterations, intervention, rng)"
   ]
  },
  {
   "cell_type": "code",
   "execution_count": null,
   "id": "ed7e1bdb",
   "metadata": {},
   "outputs": [],
   "source": [
    "plot_results(results_int, all_weights_int, all_scores_int, all_leadership_scores_int)"
   ]
  },
  {
   "cell_type": "code",
   "execution_count": null,
   "id": "08cda039",
   "metadata": {},
   "outputs": [],
   "source": []
  },
  {
   "cell_type": "code",
   "execution_count": null,
   "id": "b85a325f",
   "metadata": {},
   "outputs": [],
   "source": []
  },
  {
   "cell_type": "markdown",
   "id": "e28440c7",
   "metadata": {},
   "source": [
    "#### More detailed view on leadership matrix"
   ]
  },
  {
   "cell_type": "code",
   "execution_count": 405,
   "id": "a96ff684",
   "metadata": {},
   "outputs": [
    {
     "name": "stdout",
     "output_type": "stream",
     "text": [
      "[[0.19 0.86]\n",
      " [0.21 0.91]\n",
      " [0.14 0.6 ]\n",
      " [0.64 0.51]\n",
      " [0.77 0.9 ]\n",
      " [0.73 0.04]\n",
      " [0.73 0.69]]\n"
     ]
    },
    {
     "data": {
      "image/png": "[encoded data removed]",
      "text/plain": [
       "<Figure size 864x432 with 4 Axes>"
      ]
     },
     "metadata": {
      "needs_background": "light"
     },
     "output_type": "display_data"
    }
   ],
   "source": [
    "index1 = 49\n",
    "index2 = index1+7\n",
    "\n",
    "\n",
    "matrix = all_leadership_scores[index1:index2].T\n",
    "x = results[index1:index2,3]\n",
    "leadership_potential = results[index1:index2,0] * results[index1:index2,1]\n",
    "print(results[index1:index2,:2].round(2))\n",
    "\n",
    "\n",
    "fig, axs = plt.subplots(1,2, figsize=(12,6))\n",
    "plot_heatmap(matrix, x, axs[0], \"Final Leadership\")\n",
    "\n",
    "# Starting matrix\n",
    "matrix = create_minority_matrix(x)\n",
    "np.fill_diagonal(matrix, matrix.mean(axis=0))\n",
    "axs[1] = plot_heatmap(matrix, x, axs[1], r\"Initial Leadership ($ \\frac{\\gamma_i*\\eta_i}{\\gamma_j*\\eta_j} $)\")\n",
    "\n",
    "leadership_potential = results[index1:index2,0] * results[index1:index2,1]\n",
    "relative_leadership_potential = np.array([leadership_potential/lp for lp in leadership_potential])\n",
    "\n",
    "for i in range(7):\n",
    "    for j in range(7):\n",
    "        axs[1].text(j, i, relative_leadership_potential[i, j].round(1),\n",
    "                       ha=\"center\", va=\"center\", color=\"r\")\n",
    "\n",
    "# Leadership Potential describes the potential agent i can become leader compared to agent j\n",
    "# --> High value in a row means worse (gamma*eta) then the other agent \n",
    "# --> Agents should grant leadership to the agent with the higest value in their row\n",
    "# It is the same agent (highest gamma*eta), so one column "
   ]
  },
  {
   "cell_type": "code",
   "execution_count": null,
   "id": "cf093266",
   "metadata": {},
   "outputs": [],
   "source": []
  },
  {
   "cell_type": "markdown",
   "id": "b6cadd3b",
   "metadata": {},
   "source": [
    "\n",
    "Features with a higher variance have a lower weight naturally learned by the regression.\n",
    "- Why?\n",
    "\n",
    "Features with a lower mean have a lower weight\n",
    "- Why?"
   ]
  },
  {
   "cell_type": "code",
   "execution_count": null,
   "id": "91db5678",
   "metadata": {},
   "outputs": [],
   "source": []
  },
  {
   "cell_type": "markdown",
   "id": "dd3536ce",
   "metadata": {},
   "source": [
    "### Label for Leadership capability:\n",
    "Every algorithm needs some form of prediction error. How to measure the value of an agent?\n",
    "\n",
    "- The score itself\n",
    "    - All weights are highly positive as all features are needed to get the performance measure\n",
    "    - Use bias neuron (f#0 = 1)\n",
    "- The difference to the previous score\n",
    "    - extremly small value\n",
    "    - Scaling it higher?\n",
    "- Scaling to possible value\n",
    "    - Normalize so that the worst score of an agent would be 0 and best 1\n",
    "    - Reward is higher\n",
    "    - can be basis for every agent comparing its own solution with the agent\n",
    "- Every agent compares the voted answer with its own best possible answer\n",
    "    - Good agents don't vote others\n",
    "    - Bad ones don't vote for themselves\n",
    "    - leader_value - values --> leads to positive values if good choice (clip at 0 to say, bad agents just don't have a reward (no negative weights)\n",
    "   \n",
    "   \n",
    "$\\hat{R}_{S=i} = \\left\\{\n",
    "\\begin{aligned}\n",
    "R_{S=i} - R_{all} \\quad  \\hat{R}_{S=i} \\geq 0\\\\\n",
    "0 \\quad  \\hat{R}_{S=i} \\leq 0 \\\\\n",
    "\\end{aligned}\n",
    "\\right.$\n",
    "\n",
    "\n",
    "### Construction of Leadership Matrix\n",
    "* Based on predicted competence\n",
    "* Only update for voted leaders\n",
    "    * Only leaders are used to update social weights\n",
    "    * Leadership grows over time for specific individuals (voted repeatedly)\n",
    "* Gets adjusted every iteration after voting and updating beliefs\n",
    "\n",
    "Open Questions\n",
    "* Should it decay over time\n",
    "    * Agents which are not voted loose influence over time (like Leaky Neuron)\n",
    "* Scaling:\n",
    "    * Normalize scaling between 0-1\n",
    "    * Undefined scaling based on predicted competence\n",
    "    \n",
    "* Question: Is it a Communication or a Leadership Matrix\n",
    "    * For a leadership matrix, minority agents will have high connections for majority leaders\n",
    "    * For a communication matrix, minority agents will have high connections for other minority agents\n",
    "    \n",
    "* Math Modelling:\n",
    "    * Like CCN, continuosly updating. Update can be scaled by old value to downgrade if prediction gets worse. Otherwise it can keep growing to get a clear emergence\n",
    "        * $L_{T,i} = L_{T-1, i} + \\beta \\cdot \\hat{R_i}$\n"
   ]
  },
  {
   "cell_type": "markdown",
   "id": "59cd0c01",
   "metadata": {},
   "source": [
    "#### Initializing matrix\n",
    "* Based on simlarity\n",
    "* Or based on majority agents\n",
    "+ Include minority majority groups\n",
    "\n",
    "\n",
    "Math:  \n",
    "* $\\rho \\in U[0,1)$\n",
    "* rho > 0.2 = normalized beween 0.8 and 1\n",
    "* rho <= 0.2 stays between 0 and 0.2\n",
    "* $L_{i,j} = |\\rho_i - \\rho_j|^2 \\forall i \\ne j$\n",
    "* normalize $L$ and \n",
    "* $diag(L) = 1$ to ensure self communication\n",
    "\n",
    "+ Idea: Multiply by original rho\n",
    "    * &rarr; Scale similarity by privilege\n",
    "    "
   ]
  },
  {
   "cell_type": "code",
   "execution_count": 339,
   "id": "0ebc1f22",
   "metadata": {},
   "outputs": [
    {
     "data": {
      "text/plain": [
       "(array([0.76041275, 0.02088678, 0.34506037, 0.27186759, 0.99456712,\n",
       "        0.39427669, 0.46803576]),\n",
       " array([False,  True, False, False, False, False, False]))"
      ]
     },
     "execution_count": 339,
     "metadata": {},
     "output_type": "execute_result"
    }
   ],
   "source": [
    "rho = rng.random(7)\n",
    "minority_index = rho <= 0.2\n",
    "rho, minority_index"
   ]
  },
  {
   "cell_type": "code",
   "execution_count": 340,
   "id": "876f9f89",
   "metadata": {},
   "outputs": [
    {
     "data": {
      "text/plain": [
       "array([[1.        , 0.26047403, 0.58464762, 0.51145484, 0.76584563,\n",
       "        0.63386393, 0.70762301],\n",
       "       [0.26047403, 1.        , 0.67582641, 0.74901919, 0.02631966,\n",
       "        0.62661009, 0.55285102],\n",
       "       [0.58464762, 0.67582641, 1.        , 0.92680722, 0.35049325,\n",
       "        0.95078369, 0.87702461],\n",
       "       [0.51145484, 0.74901919, 0.92680722, 1.        , 0.27730046,\n",
       "        0.8775909 , 0.80383183],\n",
       "       [0.76584563, 0.02631966, 0.35049325, 0.27730046, 1.        ,\n",
       "        0.39970956, 0.47346864],\n",
       "       [0.63386393, 0.62661009, 0.95078369, 0.8775909 , 0.39970956,\n",
       "        1.        , 0.92624093],\n",
       "       [0.70762301, 0.55285102, 0.87702461, 0.80383183, 0.47346864,\n",
       "        0.92624093, 1.        ]])"
      ]
     },
     "execution_count": 340,
     "metadata": {},
     "output_type": "execute_result"
    }
   ],
   "source": [
    "similarity_matrix = 1 - np.array([np.sqrt((r - rho)**2) for r in rho])\n",
    "similarity_matrix"
   ]
  },
  {
   "cell_type": "code",
   "execution_count": 351,
   "id": "e37a7a9c",
   "metadata": {},
   "outputs": [],
   "source": [
    "def create_minority_matrix(rho):\n",
    "    # Scale rho into minority and majority groups\n",
    "    rho_original = rho.copy()\n",
    "    rho_max = rho > 0.2\n",
    "    rho_min = rho <= 0.2\n",
    "    rho[rho_max] = rho[rho_max] - 0.2\n",
    "    rho[rho_max] = rho[rho_max]/ rho[rho_max].max() # Normalize\n",
    "    rho[rho_max] = rho[rho_max] * 0.2 + 0.8\n",
    "        \n",
    "    \n",
    "    # similarity_matrix = np.zeros((len(rho), len(rho)))\n",
    "    similarity_matrix = 1 - np.array([np.sqrt((r - rho)**2) for r in rho])    \n",
    "    \n",
    "    # Create similarity scaled by rho\n",
    "    # similarity_matrix += 0.8*rho_original  # .reshape(-1,1)\n",
    "    \n",
    "    # Normalize\n",
    "    np.fill_diagonal(similarity_matrix, 0)\n",
    "    similarity_matrix -= similarity_matrix.min(axis=1)\n",
    "    similarity_matrix /= similarity_matrix.max(axis=1).reshape(-1,1)\n",
    "    np.fill_diagonal(similarity_matrix, 1)\n",
    "    \n",
    "    return similarity_matrix, rho"
   ]
  },
  {
   "cell_type": "code",
   "execution_count": 352,
   "id": "669d8833",
   "metadata": {},
   "outputs": [
    {
     "data": {
      "image/png": "[encoded data removed]",
      "text/plain": [
       "<Figure size 432x288 with 1 Axes>"
      ]
     },
     "metadata": {
      "needs_background": "light"
     },
     "output_type": "display_data"
    },
    {
     "data": {
      "text/plain": [
       "<matplotlib.colorbar.Colorbar at 0x222f1d49908>"
      ]
     },
     "execution_count": 352,
     "metadata": {},
     "output_type": "execute_result"
    },
    {
     "data": {
      "image/png": "[encoded data removed]",
      "text/plain": [
       "<Figure size 432x288 with 2 Axes>"
      ]
     },
     "metadata": {
      "needs_background": "light"
     },
     "output_type": "display_data"
    }
   ],
   "source": [
    "x = np.linspace(0, 0.99, 100)\n",
    "matrix, rho = create_minority_matrix(x.copy())\n",
    "plt.scatter(x, rho)\n",
    "plt.show()\n",
    "plt.imshow(matrix)\n",
    "plt.xticks(np.arange(0,101,10), labels=np.arange(0, 101,10)/100);\n",
    "plt.yticks(np.arange(0,101,10), labels=np.arange(0, 101,10)/100);\n",
    "plt.colorbar()"
   ]
  },
  {
   "cell_type": "code",
   "execution_count": null,
   "id": "d104d3d3",
   "metadata": {},
   "outputs": [],
   "source": []
  },
  {
   "cell_type": "code",
   "execution_count": null,
   "id": "d63c3939",
   "metadata": {},
   "outputs": [],
   "source": []
  },
  {
   "cell_type": "markdown",
   "id": "e29973b3",
   "metadata": {},
   "source": [
    "## Communication rules\n",
    "\n",
    "Communication process:\n",
    "* 2 step process:\n",
    "    * 1. Potential to receive info (gamma) 2. If asked, check if grant access to information (leadership)\n",
    "* Combined process: Potential and Granting get combined into one measurement\n",
    "    * Advantage Leadership can make up for good gamma \n",
    "    * Kombination of values important\n",
    "        * Add them: maybe normalize leadership and do (gamma + leadership) /2) Both are important\n",
    "        * Product: One is nothing without the other sigmoid(gamma * leadership)\n",
    "    * Problem: Even if voted leader once, it is as high as it gets\n",
    "* Including 3 variables:\n",
    "    * 1. Gamma; 2. Leadership; 3. Similarity\n",
    "    * Most realistic one\n",
    "    * Probably too complex for a basic model\n",
    "    \n",
    "How to model decision probabilities:\n",
    "* Softmax for a really competitive environemnt (only a few agents are chosen)\n",
    "* Linear relation ship: Normalize a product/ function between [0,1] --> Multiple high agents possible\n",
    "* Use a sigmoid function with a combination of variables (more complex, but still kinda ok)\n",
    "    \n",
    "\n",
    "\n",
    "\n",
    "Development of bias:\n",
    "1. Introduce a pre-initialised leadership network with a leader from a majority\n",
    "    * in general higher values for majority agents\n",
    "2. Constraint Communication by Leadership network\n",
    "    * Only information granting or also social connections\n",
    "    * Having a high value benefits the information intake\n",
    "    * Minority agents won't have as much information\n",
    "3. Performance based voting\n",
    "    * Random at first, but leader will get better result\n",
    "4. Learning that privilege is important for skill\n",
    "    * Minority agents get undermined almost completely\n",
    "    \n",
    "Possible Advancements:\n",
    "* Constraint communication from both sides:\n",
    "    * Agent is not willing to share if other agent is not like-minded\n",
    "    * Contradicts leadership value, where everyone is willing to share information with the leader\n",
    "    \n",
    "\n",
    "Possible intervention:\n",
    "* Use mentorship, where minority agents will use the leadership value of their mentor to get information\n",
    "    * They still need to get voted\n",
    "    \n",
    "\n",
    "Other ideas:\n",
    "* Constraint idea voting by leadership and communication by similarity\n",
    "    * Having similarity as a hard constraint can not be resolved by mentorship (only if modulated by learned features, so it can be unlearned)\n",
    "* Modelling similarity measure additionally to biased initialized leadership are two privileges in one simulation\n",
    "    * Hard to break if both groups don't want to make a connection\n",
    "* Switch simualtion from granting access to info to trying to influence others\n",
    "    * Agents try to get their information distributed as much as possible, but its a question if they can"
   ]
  },
  {
   "cell_type": "markdown",
   "id": "07f3b05a",
   "metadata": {},
   "source": [
    "#### Some Theory for Communication\n",
    "* It is easier to share common knowledge then individual\n",
    "    * This can be interpreted into: Majority agents with overlapping information sources are more likely to communicate\n",
    "    * Some studies in Citavi\n",
    "    * (For reviews see Stasser, 1999; Wittenbaum & Stasser, 1996; Wittenbaum et al., 2004) Surface-Level Diversity and Decision-Making in Groups: When Does Deep-Level Similarity Help?\n",
    "* Vertical and horizontal diversity impact each other \n",
    "    * Influence of privilege/ hierarchy onto handling heterogeneity of team members\n",
    "* Perceived competence increases the acceptance of claiming\n",
    "    * Perceived competence can correlate with vertical diversity (privilege)\n",
    "    * Paper: The relational nature of leadership identity construction: How and when it influences perceived leadership and decision-making\n",
    "* Communication and Trust is improved between like minded individuals\n"
   ]
  },
  {
   "cell_type": "code",
   "execution_count": 142,
   "id": "d24e30fe",
   "metadata": {},
   "outputs": [
    {
     "data": {
      "text/plain": [
       "[<matplotlib.lines.Line2D at 0x26e0f97a940>]"
      ]
     },
     "execution_count": 142,
     "metadata": {},
     "output_type": "execute_result"
    },
    {
     "data": {
      "image/png": "[encoded data removed]",
      "text/plain": [
       "<Figure size 432x288 with 1 Axes>"
      ]
     },
     "metadata": {
      "needs_background": "light"
     },
     "output_type": "display_data"
    }
   ],
   "source": [
    "x = np.linspace(0,1,100)\n",
    "sig = 1/(1+np.exp(-10*(x-0.5)))\n",
    "plt.plot(x, sig)"
   ]
  },
  {
   "cell_type": "code",
   "execution_count": 9,
   "id": "5b102cf8",
   "metadata": {},
   "outputs": [
    {
     "data": {
      "text/plain": [
       "array([0.72949656, 0.54362499, 0.93507242, 0.81585355, 0.0027385 ,\n",
       "       0.85740428, 0.03358558])"
      ]
     },
     "execution_count": 9,
     "metadata": {},
     "output_type": "execute_result"
    }
   ],
   "source": [
    "n_agents = 7\n",
    "gammas = rng.random(n_agents)\n",
    "gammas"
   ]
  },
  {
   "cell_type": "code",
   "execution_count": 10,
   "id": "aad23310",
   "metadata": {},
   "outputs": [
    {
     "data": {
      "text/plain": [
       "array([False,  True, False,  True,  True,  True,  True])"
      ]
     },
     "execution_count": 10,
     "metadata": {},
     "output_type": "execute_result"
    }
   ],
   "source": [
    "agent_i = 0\n",
    "communication_index = rng.random(n_agents) <= gammas[agent_i]\n",
    "communication_index"
   ]
  },
  {
   "cell_type": "code",
   "execution_count": 26,
   "id": "426363fc",
   "metadata": {},
   "outputs": [
    {
     "data": {
      "text/plain": [
       "array([0.        , 0.17559348, 0.57924596, 0.62380164, 0.04755332,\n",
       "       0.26128796, 0.01162752])"
      ]
     },
     "execution_count": 26,
     "metadata": {},
     "output_type": "execute_result"
    }
   ],
   "source": [
    "rho = rng.random(n_agents)\n",
    "dist = np.sqrt((rho[agent_i] - rho)**2)\n",
    "dist"
   ]
  },
  {
   "cell_type": "code",
   "execution_count": 37,
   "id": "8c7a27dc",
   "metadata": {},
   "outputs": [
    {
     "data": {
      "text/plain": [
       "array([0.35860024, 0.03305945, 0.11240551, 0.0985303 , 0.10291085,\n",
       "       1.03395754])"
      ]
     },
     "execution_count": 37,
     "metadata": {},
     "output_type": "execute_result"
    }
   ],
   "source": [
    "0.8/dist[1:]  * leadership[1:]"
   ]
  },
  {
   "cell_type": "code",
   "execution_count": 35,
   "id": "925ed242",
   "metadata": {},
   "outputs": [
    {
     "data": {
      "text/plain": [
       "array([0.08326441, 0.07870983, 0.02393694, 0.08764842, 0.0058568 ,\n",
       "       0.03361171, 0.01502795])"
      ]
     },
     "execution_count": 35,
     "metadata": {},
     "output_type": "execute_result"
    }
   ],
   "source": [
    "leadership = rng.random(n_agents)*0.1\n",
    "leadership"
   ]
  },
  {
   "cell_type": "code",
   "execution_count": null,
   "id": "525eb6ed",
   "metadata": {},
   "outputs": [],
   "source": []
  },
  {
   "cell_type": "code",
   "execution_count": null,
   "id": "3c3f7270",
   "metadata": {},
   "outputs": [],
   "source": []
  },
  {
   "cell_type": "markdown",
   "id": "ee55f8e3",
   "metadata": {},
   "source": [
    "### Allyship\n",
    "* [Allyship Theory](https://web.archive.org/web/20201105145810id_/https://www.emerald.com/insight/content/doi/10.1108/S1877-636120190000022008/full/pdf?title=allyship-as-a-diversity-and-inclusion-tool-in-the-workplace)\n",
    "\n",
    "\n",
    "Theory:\n",
    "- \"Ending suppression by supporting and advocating n behalf of the opressed\" \n",
    "- Majority agents who want to gain awarness of the situation of minority agents\n",
    "- To overcome the gap between the groups (opression)\n",
    "- \n",
    "\n",
    "\n",
    "Modelling ideas:\n",
    "- \"Leadership benefit\"\n",
    "    - Minority agents get the leadership value of their ally\n",
    "    - Result: They will have more information and learn that they can outperform others\n",
    "\n",
    "- \"Leadership switch\"\n",
    "    - Minority agent switches social influence with majority agent\n",
    "    - Result: Majority learns that itself performs worse, just baed on this switch. Minority experiences breaking bias\n",
    "    \n",
    "    \n",
    "Starting point:\n",
    "   - After leadership developed (f.e. 50 iterations)\n",
    "   - Directly from the start (once in a while f.e. P=0.2)\n",
    "    "
   ]
  },
  {
   "cell_type": "code",
   "execution_count": null,
   "id": "46a4aa51",
   "metadata": {},
   "outputs": [],
   "source": []
  },
  {
   "cell_type": "code",
   "execution_count": null,
   "id": "35487e25",
   "metadata": {},
   "outputs": [],
   "source": []
  },
  {
   "cell_type": "code",
   "execution_count": null,
   "id": "022a32ed",
   "metadata": {},
   "outputs": [],
   "source": []
  },
  {
   "cell_type": "code",
   "execution_count": null,
   "id": "2e1ec02c",
   "metadata": {},
   "outputs": [],
   "source": []
  },
  {
   "cell_type": "markdown",
   "id": "df04ca9c",
   "metadata": {},
   "source": [
    "### Voting mechanisms \n",
    "&rarr; Collective Decision Making with implications for leadership\n",
    "\n",
    "In this case a leader needs to propose a solution to have an efficient system.\n",
    "Team should not discuss it, but has a distinct communication phase\n",
    "Voting seems to be a reasonable and realistic choice. Alternatively some for agreement scales \n",
    "\n",
    "Followers grant leaders influence onto their social behaviour.\n",
    "\n",
    "Attributes usually mentioned with decision making\n",
    "- Credebility\n",
    "- Confidence\n",
    "\n",
    "Voting for:\n",
    "- Proposals\n",
    "- Leaders\n",
    "\n",
    "\n",
    "Information to base the decision on:\n",
    "- Mainly: Social influence or Proposal Value\n",
    "- Leaders: Social influence\n",
    "- Leaders: Proposal Value compared to current value\n",
    "- Proposals: Based on social influence of all proposers\n",
    "- Proposals: Based on their value \n",
    "\n",
    "Does this correspond to the type of leadership?\n",
    "\n",
    "Voting mechanisms\n",
    "- Majority vote\n",
    "- Special vote (see paper of reading group)\n",
    "\n",
    "- (votes over time if information spreads) "
   ]
  },
  {
   "cell_type": "code",
   "execution_count": null,
   "id": "e67ff7e6",
   "metadata": {},
   "outputs": [],
   "source": []
  },
  {
   "cell_type": "code",
   "execution_count": null,
   "id": "5266c411",
   "metadata": {},
   "outputs": [],
   "source": []
  },
  {
   "cell_type": "markdown",
   "id": "fb710cc2",
   "metadata": {},
   "source": [
    "### Introducing Privilege\n",
    "\n",
    "1. **Model Minorities**\n",
    "* Distribution of rho based on two distributions\n",
    "* Minorities with high rho or low?\n",
    "* Restrictions:\n",
    "    * Every team should inclue at least one minority agent but not more then 50% of the team\n",
    "    * Mean of rho should be 0.5\n",
    "* If there are always 2 out of 7 agents minority agents then: \n",
    "    * 0.75 * (2/7) + x *(5/7) = 0.5\n",
    "        * --> x = 2/5 \n",
    "\n",
    "\n",
    "\n",
    "\n",
    "2. **Policy & Initialisation changes**\n",
    "\n",
    "**Static social structures**:\n",
    "* Introduce a leadership/social_influence matrix which impacts informatin sharing or voting\n",
    "* Initialize with a given structure based on features and privilege\n",
    "* Incorporate snowball behaviour into policy -> Once someone has a fixed good position, it usually doe not lose the position anymore, based on the advantages it brings \n",
    "    * Real world: Restrict other or make use of ressources other don't have\n",
    "    * Simulation: More information or rules restricting info sharing (costly)\n",
    "    \n",
    "**Unfair communication policy**\n",
    "* Sharing information can make individuals vulnerable, that's why need to trust someone beforehand\n",
    "* Only grant access to information to other agents if they are like-minded --> have similar feature values\n",
    "* Possible good leaders and ideas from minorities will get ignored and even their information discarded\n",
    "    \n",
    "### Intervention\n",
    "* Mentors can boost the ressources and also reputation of an individual \n",
    "* Simulation: While communicating ideas and agents of minorities are now valued as they are associated with their Mentors\n",
    "    * Agents see and value the decision of an agent, because they value the mentor\n",
    "    * Should lead to unlearning the bias and have steady behaviour after mentors leave again"
   ]
  },
  {
   "cell_type": "code",
   "execution_count": null,
   "id": "a075cf5e",
   "metadata": {},
   "outputs": [],
   "source": []
  },
  {
   "cell_type": "code",
   "execution_count": null,
   "id": "c1565e65",
   "metadata": {},
   "outputs": [],
   "source": []
  },
  {
   "cell_type": "code",
   "execution_count": null,
   "id": "37417901",
   "metadata": {},
   "outputs": [],
   "source": []
  },
  {
   "cell_type": "code",
   "execution_count": null,
   "id": "49c76f06",
   "metadata": {},
   "outputs": [],
   "source": []
  },
  {
   "cell_type": "markdown",
   "id": "c5647a5f",
   "metadata": {},
   "source": [
    "## Old code"
   ]
  },
  {
   "cell_type": "markdown",
   "id": "54636c91",
   "metadata": {},
   "source": [
    "## Leadership Features (Collective Search)\n",
    "\n",
    "### Feature Ideas\n",
    "* **Information distribution for agents**\n",
    "Agents have a personality feature which corresponds to the bits they can change $\\rho \\in [0,1]$ sampled from $\\mathbf{U}(0,1)$. The bit is sampled from $\\mathbf{N}(\\rho, 0.2)$, rounded and multiplied by 10. This means with $\\rho = 0.2$ a gaussian with mean 0.2 is sampled and the result (likely 0.2) is used to define the bit (which would be 2)\n",
    "\n",
    "\n",
    "* **Communication ability**\n",
    "Agents have a feature $\\gamma$ which is the probability of receiving information about the proposed change of another agent. This means agents with high $\\gamma$ have more knowledge of possible improvements.\n",
    "\n",
    "\n",
    "* **Performance Judgement**\n",
    "Additional every agent has an attribute $\\eta$ which models the competency of leading. After agents collect their information they assess which change they would propose if they are to decide the change. Some exploit their knowledge and choose the best, whereas others may have the information but do not know how to use it.\n",
    "\n",
    "\n",
    "* **Creativity**\n",
    "Agents take its received solutions and recombines them to search for even better solutions (instead of one bit switch there are two)\n",
    "\n",
    "\n",
    "\n",
    "**Leadership attributes**\n",
    "- Simulation Paper: Talkativness; Communication quality/ quantity\n",
    "- Emergence Paper: Motivation; Behaviour; Other attributions\n",
    "- Skill\n",
    "- Credebility\n",
    "- Self-esteem\n",
    "- Intelligence\n",
    "- Motivation/ Motives\n",
    "\n",
    "\n",
    "**Results of Leadership**\n",
    "- Well being of followers\n",
    "- Performance of team\n",
    "- Shared vision\n",
    "- Granting of influence"
   ]
  },
  {
   "cell_type": "markdown",
   "id": "0c41db2c",
   "metadata": {},
   "source": [
    "#### Communication probability (gamma)"
   ]
  },
  {
   "cell_type": "code",
   "execution_count": 184,
   "id": "1eb60c94",
   "metadata": {},
   "outputs": [
    {
     "name": "stdout",
     "output_type": "stream",
     "text": [
      "0\n",
      "100\n",
      "200\n",
      "300\n",
      "400\n"
     ]
    },
    {
     "data": {
      "text/plain": [
       "Text(0.5, 1.0, 'Perfomance - Decider receives options with with P=gamma (N20K5)')"
      ]
     },
     "execution_count": 184,
     "metadata": {},
     "output_type": "execute_result"
    },
    {
     "data": {
      "image/png": "[encoded data removed]",
      "text/plain": [
       "<Figure size 432x288 with 1 Axes>"
      ]
     },
     "metadata": {
      "needs_background": "light"
     },
     "output_type": "display_data"
    }
   ],
   "source": [
    "def run_gamma(env, gamma_i, iterations, rng):\n",
    "    \"\"\"Test if Communication feature makes a difference in performance\"\"\"\n",
    "    # Initialize solution\n",
    "    state = np.round(rng.random(env.N)).astype(int)\n",
    "    score = env.get_fitness(state)\n",
    "    state, score\n",
    "\n",
    "\n",
    "    all_scores = np.empty(iterations+1)\n",
    "    all_scores[0] = score\n",
    "    \n",
    "    agents_index = np.arange(n_agents)\n",
    "    \n",
    "\n",
    "    for i in range(iterations):\n",
    "        # Changes of agents\n",
    "        digits = rng.integers(0, N, n_agents)\n",
    "\n",
    "        # Evaluation\n",
    "        search_states = np.array([bit_switch(digit, state.copy()) for digit in digits])\n",
    "        scores = np.array([env.get_fitness(search_state) for search_state in search_states])\n",
    "        \n",
    "        # Communication\n",
    "        communication_index = rng.random(n_agents) <= gamma_i\n",
    "        scores = scores[communication_index]\n",
    "        search_states = search_states[communication_index]\n",
    "        \n",
    "        if len(scores) == 0:\n",
    "            all_scores[i+1] = score\n",
    "            continue\n",
    "        \n",
    "        # Same agent draws from its solutions\n",
    "        p_proposals = softmax(scores, ((i+1)/iterations)*30 )\n",
    "        change_digit = rng.choice(np.arange(len(scores)), p=p_proposals)\n",
    "\n",
    "        # if scores[change_digit] >= score:\n",
    "        state = search_states[change_digit]\n",
    "        score = scores[change_digit]\n",
    "\n",
    "        all_scores[i+1] = score\n",
    "    \n",
    "    return all_scores\n",
    "\n",
    "rng = np.random.default_rng(0)\n",
    "iterations = 100\n",
    "n_trials = 500\n",
    "\n",
    "n_agents = 7\n",
    "\n",
    "# Communication feature of one agent\n",
    "gamma_high = 0.8\n",
    "gamma_low = 0.2\n",
    "score_gamma_high = np.empty((n_trials, iterations+1))\n",
    "score_gamma_low = np.empty((n_trials, iterations+1))\n",
    "\n",
    "\n",
    "for i in range(n_trials):\n",
    "    env = NK_landscape_loaded(N, K, landscapes[rng.integers(0 ,n_landscapes)])\n",
    "    \n",
    "    score_gamma_high[i] = run_gamma(env, gamma_high, iterations, rng)\n",
    "    score_gamma_low[i] = run_gamma(env, gamma_low, iterations, rng)\n",
    "    if i%100 == 0:\n",
    "        print(i)\n",
    "\n",
    "\n",
    "plt.plot(score_gamma_high.mean(axis=0), label=\"gamma=0.8\")\n",
    "plt.plot(score_gamma_low.mean(axis=0), label=\"gamma=0.2\")\n",
    "plt.legend()\n",
    "plt.xlabel(\"iterations\")\n",
    "plt.ylabel(\"Normalized score\")\n",
    "plt.title(f\"Perfomance - Decider receives options with with P=gamma (N{N}K{K})\")"
   ]
  },
  {
   "cell_type": "markdown",
   "id": "b48985f3",
   "metadata": {},
   "source": [
    "#### Information exploitation (eta) "
   ]
  },
  {
   "cell_type": "code",
   "execution_count": 186,
   "id": "9392f929",
   "metadata": {},
   "outputs": [
    {
     "name": "stdout",
     "output_type": "stream",
     "text": [
      "Start\n",
      "0\n",
      "50\n",
      "100\n",
      "150\n",
      "200\n",
      "250\n",
      "300\n",
      "350\n",
      "400\n",
      "450\n",
      "End\n"
     ]
    },
    {
     "data": {
      "text/plain": [
       "Text(0.5, 1.0, 'Team Perfomance - Inv. Temp of decider (gamma=0.8) (N20K5)')"
      ]
     },
     "execution_count": 186,
     "metadata": {},
     "output_type": "execute_result"
    },
    {
     "data": {
      "image/png": "[encoded data removed]",
      "text/plain": [
       "<Figure size 432x288 with 1 Axes>"
      ]
     },
     "metadata": {
      "needs_background": "light"
     },
     "output_type": "display_data"
    }
   ],
   "source": [
    "def run_gamma_eta(env, gamma_i, eta_i, iterations, rng):\n",
    "    \"\"\"Test if Communication feature makes a difference in performance\"\"\"\n",
    "    # Initialize solution\n",
    "    state = np.round(rng.random(env.N)).astype(int)\n",
    "    score = env.get_fitness(state)\n",
    "    state, score\n",
    "\n",
    "\n",
    "    all_scores = np.empty(iterations+1)\n",
    "    all_scores[0] = score\n",
    "    \n",
    "    agents_index = np.arange(n_agents)\n",
    "    \n",
    "\n",
    "    for i in range(iterations):\n",
    "        # Changes of agents\n",
    "        digits = rng.integers(0, N, n_agents)\n",
    "\n",
    "        # Evaluation\n",
    "        search_states = np.array([bit_switch(digit, state.copy()) for digit in digits])\n",
    "        scores = np.array([env.get_fitness(search_state) for search_state in search_states])\n",
    "        \n",
    "        # Communication\n",
    "        communication_index = rng.random(n_agents) <= gamma_i\n",
    "        scores = scores[communication_index]\n",
    "        search_states = search_states[communication_index]\n",
    "        \n",
    "        if len(scores) == 0:\n",
    "            all_scores[i+1] = score\n",
    "            continue\n",
    "        \n",
    "        # Same agent draws from its solutions\n",
    "        p_proposals = softmax(scores, ((i+1)/iterations) * eta_i) # ((i+1)/iterations)*30 )\n",
    "        change_digit = rng.choice(np.arange(len(scores)), p=p_proposals)\n",
    "\n",
    "        # if scores[change_digit] >= score:\n",
    "        state = search_states[change_digit]\n",
    "        score = scores[change_digit]\n",
    "\n",
    "        all_scores[i+1] = score\n",
    "    \n",
    "    return all_scores\n",
    "\n",
    "rng = np.random.default_rng(1)\n",
    "iterations = 80\n",
    "n_trials = 500\n",
    "\n",
    "n_agents = 7\n",
    "\n",
    "\n",
    "# Communication feature of one agent\n",
    "gamma = 0.8\n",
    "t_low = 5\n",
    "t_high = 20\n",
    "score_t_high = np.empty((n_trials, iterations+1))\n",
    "score_t_low = np.empty((n_trials, iterations+1))\n",
    "\n",
    "print(\"Start\")\n",
    "for i in range(n_trials):\n",
    "    env = NK_landscape_loaded(N, K, landscapes[rng.integers(0, n_landscapes)])\n",
    "\n",
    "    score_t_high[i] = run_gamma_eta(env, gamma, t_high, iterations, rng)\n",
    "    score_t_low[i] = run_gamma_eta(env, gamma, t_low, iterations, rng)\n",
    "    if i%50 == 0:\n",
    "        print(i)\n",
    "print(\"End\")\n",
    "\n",
    "plt.plot(score_t_high.mean(axis=0), label=\"t=20\")\n",
    "plt.plot(score_t_low.mean(axis=0), label=\"t=5\")\n",
    "plt.legend()\n",
    "plt.xlabel(\"iterations\")\n",
    "plt.ylabel(\"Normalized score\")\n",
    "plt.title(f\"Team Perfomance - Inv. Temp of decider (gamma=0.8) (N{N}K{K})\")"
   ]
  },
  {
   "cell_type": "markdown",
   "id": "1377c2bc",
   "metadata": {},
   "source": [
    "### Result of feature selection\n",
    "\n",
    "* Random exploration (with P=0.2) worsens the performance (results in file: NK landscapes)\n",
    "\n",
    "\n",
    "* Communication probability gamma: positive correlated to performance\n",
    "\n",
    "\n",
    "* Exploitation of options t: Also positive correlated to performance (with th assumption of a big choice)\n",
    "\n",
    "\n",
    "* &rarr; Communication probability & Exploitation together weaken, but work together"
   ]
  },
  {
   "cell_type": "code",
   "execution_count": null,
   "id": "a32ab449",
   "metadata": {},
   "outputs": [],
   "source": []
  },
  {
   "cell_type": "markdown",
   "id": "d1ac6952",
   "metadata": {},
   "source": [
    "### Learning of social influence\n",
    "\n",
    "##### Algorithms\n",
    "* ICA: Independent Component Analysis\n",
    "    * Does not apply here. It can figure out source signals if a signal consists of different independent sources. in our case the performance does not directly consist of the features. The features only correlate to the performance.\n",
    "   \n",
    "   \n",
    "* RW Learning + Softmax: Voting for an Agent is like choosing an action\n",
    "    * Simplest approach\n",
    "    * No feature weights\n",
    "\n",
    "\n",
    "* Feature based RL: Proposed by Charley https://www.jneurosci.org/content/35/21/8145.full#F1\n",
    "    * Paper: The value of an object consists of its features (shape: circle or rectangle, colour: blue, red, ...)\n",
    "    * Updates weights for each feature based on observations\n",
    "    * Problem: Features here are $\\in U(0,1)$ and not {x, y, z}\n",
    "        * Potential solution: Create bins low-mid-high and learn weights for them\n",
    "    * Paper: Task 9 feature (3x3) -> 3 options of combinations given. If chosen correctly reward = 1 else 0\n",
    "        * Also has a Baysian approach\n",
    "\n",
    "\n",
    "* Value Function approximation (VFA):\n",
    "    * CCN Solution\n",
    "    * Label (see section):\n",
    "        * Performance\n",
    "            * Only one agent\n",
    "            * Difference in Performance (Agents have access to everyones performance)\n",
    "    * May fits theory nicely: Real world humans often learn value functions as well \n",
    "\n",
    "\n",
    "* Baysian Approaches:\n",
    "    * Possibility of biased prior\n",
    "    * Bayesian Inference\n",
    "    * Baysian Linear Regression\n",
    "        * not a Baysian method but maybe useful\n",
    "    * Baysian RL\n",
    "\n",
    "\n",
    "* Actor Critic RL Method\n",
    "\n",
    "\n",
    "* Inverse RL (IRL)\n",
    "    * Infer reward function and policy of other agents by observing their state and actions\n",
    "\n",
    "\n",
    "* naive utility calculus\n",
    "    * Theory of mind approach: https://www.sciencedirect.com/science/article/pii/S0010028520300633\n",
    "    * Goeas further then Inverse RL: Explains human reasoning (approximation) instead of best optimal policy\n",
    "\n",
    "---\n",
    "\n",
    "\n",
    "* Other ideas:\n",
    "    * Decaying social influence over time (if not chosen)\n",
    "    * Cost of communication (everyone needs to talk to everyone in the beginning)\n",
    "    * "
   ]
  },
  {
   "cell_type": "markdown",
   "id": "62e98347",
   "metadata": {},
   "source": [
    "**Value function differences (IRL vs. VFA)**\n",
    "* Value function approximation tries to approximate the value of states so an agent learns its environment \n",
    "    * iteratively updating weights for state features.\n",
    "    * state are the attributes of the chosen agent\n",
    "    * reward is the payoff the agent provides\n",
    "* For naive calculus the objective is to approximate someone elses value function to understand what another agent is doing.\n",
    "    * This means given states and actions of other agents, the objective is to infer what the other agents values/ belief in\n",
    "    "
   ]
  },
  {
   "cell_type": "markdown",
   "id": "85b0d556",
   "metadata": {},
   "source": [
    "#### RL with RW-Learning"
   ]
  },
  {
   "cell_type": "code",
   "execution_count": null,
   "id": "4c5b5d06",
   "metadata": {},
   "outputs": [],
   "source": [
    "def run_RWL_voting(env, gammas, iterations, rng):\n",
    "    \"\"\"Test if Communication feature makes a difference in performance\"\"\"\n",
    "    # Initialize solution\n",
    "    state = np.round(rng.random(env.N)).astype(int)\n",
    "    score = env.get_fitness(state)\n",
    "    state, score\n",
    "\n",
    "    all_scores = np.empty(iterations+1)\n",
    "    all_scores[0] = score\n",
    "    \n",
    "    agents_index = np.arange(n_agents)\n",
    "    \n",
    "    gammas = f[:,0]\n",
    "    etas = f[:,1] * 15\n",
    "    lr = 0.1\n",
    "    social_influence = np.zeros((n_agents, n_agents))\n",
    "\n",
    "    for i in range(iterations):\n",
    "        # Changes of agents\n",
    "        digits = rng.integers(0, N, n_agents)\n",
    "\n",
    "        # Evaluation\n",
    "        search_states = np.array([bit_switch(digit, state.copy()) for digit in digits])\n",
    "        scores = np.array([env.get_fitness(search_state) for search_state in search_states])\n",
    "        \n",
    "        # Communication\n",
    "        all_agent_scores = dict()\n",
    "        all_agent_states = dict()\n",
    "        for agent_i in range(n_agents):\n",
    "            communication_index = rng.random(n_agents) <= gammas[agent_i]\n",
    "            all_agent_scores[agent_i] = scores[communication_index]\n",
    "            all_agent_states[agent_i] = search_states[communication_index]\n",
    "        \n",
    "        # Vote # TODO sofmax along axis\n",
    "        p_votings = softmax(social_influence, 5, axis=1) # TODO: Which exploitation to use?\n",
    "        votes = []\n",
    "        for p in p_votings:\n",
    "            votes.append(rng.choice(np.arange(n_agents), p=p))\n",
    "        \n",
    "        vote_agent_index, vote_count = np.unique(np.array(votes), return_counts=True)\n",
    "        speaker = list(vote_count).index(max(vote_count))        # TODO: Always returns first index (if tie always the same gets chosen)\n",
    "        \n",
    "        # Applying solution\n",
    "        if len(all_agent_scores[speaker]) == 0:\n",
    "            all_agent_scores[speaker] = np.array([scores[speaker]])\n",
    "            all_agent_states[speaker] = np.array([search_states[speaker]])\n",
    "\n",
    "        \n",
    "        # Speaker draws from its known solutions\n",
    "        scores = all_agent_scores[speaker]\n",
    "        p_proposals = softmax(scores, ((i+1)/iterations) * etas[speaker])\n",
    "        change_digit = rng.choice(np.arange(len(scores)), p=p_proposals)\n",
    "\n",
    "        # Update social influence\n",
    "        \n",
    "        social_influence[:,speaker] = social_influence[:,speaker] + lr * (scores[change_digit] - score)\n",
    "        \n",
    "        state = all_agent_states[speaker][change_digit]\n",
    "        score = scores[change_digit]\n",
    "        \n",
    "        all_scores[i+1] = score\n",
    "    \n",
    "    return social_influence.mean(axis=0)\n",
    "\n",
    "rng = np.random.default_rng(1)\n",
    "iterations = 80\n",
    "n_trials = 500\n",
    "n_agents = 7\n",
    "\n",
    "# Communication feature of one agent\n",
    "results = np.empty((n_trials*n_agents, 3))\n",
    "\n",
    "\n",
    "print(\"Start\")\n",
    "for i in range(n_trials):\n",
    "    env = NK_landscape_loaded(N, K, landscapes[rng.integers(0, n_landscapes)])\n",
    "    \n",
    "    f = rng.random((n_agents, 2))\n",
    "    social_influence = run_RWL_voting(env, gammas, iterations, rng)\n",
    "    \n",
    "    results[i*n_agents : i*n_agents + n_agents][:,0] = f[:,0]\n",
    "    results[i*n_agents : i*n_agents + n_agents][:,1] = f[:,1]\n",
    "    results[i*n_agents : i*n_agents + n_agents][:,2] = social_influence \n",
    "    \n",
    "    if i%100 == 0:\n",
    "        print(i)\n",
    "print(\"End\")\n",
    "\n",
    "fig, ax = plt.subplots(1,2, figsize=(12,6))\n",
    "y = results[:,2]\n",
    "\n",
    "x = results[:,0]\n",
    "ax[0].scatter(x, y)\n",
    "m, c = np.polyfit(x,  y, 1)\n",
    "ax[0].set_title(f\"Influence of gamma onto ones social influence (N{N}K{K})\")\n",
    "ax[0].plot(x, m*x + c, 'r')\n",
    "ax[0].set_xlabel(\"Size of Gamma\")\n",
    "ax[0].set_ylabel(\"Mean Social influence\")\n",
    "print(pearsonr(x, y))\n",
    "\n",
    "x = results[:,1]\n",
    "ax[1].scatter(x, y)\n",
    "m, c = np.polyfit(x,  y, 1)\n",
    "ax[1].set_title(f\"Influence of eta onto ones social influence (N{N}K{K})\")\n",
    "ax[1].plot(x, m*x + c, 'r')\n",
    "ax[1].set_xlabel(\"Size of Eta\")\n",
    "ax[1].set_ylabel(\"Mean Social influence\")\n",
    "print(pearsonr(x, y))"
   ]
  },
  {
   "cell_type": "code",
   "execution_count": null,
   "id": "536db7c6",
   "metadata": {},
   "outputs": [],
   "source": []
  },
  {
   "cell_type": "markdown",
   "id": "4c3ab318",
   "metadata": {},
   "source": [
    "### Individual Search (Collective Hill Climbing)\n",
    "Local Search based on shared solution\n",
    "\n",
    "Possible algorithms:\n",
    "- Hill Climbing\n",
    "    - Greedy\n",
    "    - Stochastic\n",
    "    - First choice\n",
    "    - Random restart\n",
    "- Simulated Annealing\n",
    "- Local beam search\n",
    "    - stochastic beam search\n",
    "- Genetic algorithms\n"
   ]
  },
  {
   "cell_type": "code",
   "execution_count": 183,
   "id": "4a0d5edc",
   "metadata": {},
   "outputs": [
    {
     "name": "stdout",
     "output_type": "stream",
     "text": [
      "0\n",
      "50\n",
      "100\n",
      "150\n",
      "200\n",
      "250\n"
     ]
    },
    {
     "data": {
      "text/plain": [
       "Text(0.5, 1.0, 'Considering Multiple changes (N20K5)')"
      ]
     },
     "execution_count": 183,
     "metadata": {},
     "output_type": "execute_result"
    },
    {
     "data": {
      "image/png": "[encoded data removed]",
      "text/plain": [
       "<Figure size 432x288 with 1 Axes>"
      ]
     },
     "metadata": {
      "needs_background": "light"
     },
     "output_type": "display_data"
    }
   ],
   "source": [
    "def SHC(env, iterations, n_agents, rng):\n",
    "    \"\"\"Consider Multiple changes and softmax with annealing for choice\"\"\"\n",
    "    state = np.round(rng.random(env.N)).astype(int)\n",
    "    score = env.get_fitness(state)\n",
    "    state, score\n",
    "\n",
    "\n",
    "    all_scores = np.empty(iterations+1)\n",
    "    all_scores[0] = score\n",
    "\n",
    "    for i in range(iterations):\n",
    "        # every agents changes a random bit\n",
    "        digits = rng.integers(0, N, n_agents)\n",
    "\n",
    "        # Evaluate changes\n",
    "        search_states = np.array([bit_switch(digit, state.copy()) for digit in digits])\n",
    "        scores = np.array([env.get_fitness(search_state) for search_state in search_states])\n",
    "        # Softmax decides which to implement\n",
    "        p_proposals = softmax(scores, ((i+1)/iterations)*30 )\n",
    "        # print(p_proposals)\n",
    "        change_digit = rng.choice(np.arange(n_agents), p=p_proposals)\n",
    "\n",
    "        # if scores[change_digit] >= score:\n",
    "        state = search_states[change_digit]\n",
    "        score = scores[change_digit]\n",
    "\n",
    "        all_scores[i+1] = score\n",
    "    \n",
    "    return all_scores\n",
    "\n",
    "rng = np.random.default_rng(0)\n",
    "\n",
    "iterations = 100\n",
    "n_trials = 300\n",
    "n_agents = 7\n",
    "\n",
    "score_tracker = np.empty((n_trials, iterations+1))\n",
    "\n",
    "for i in range(n_trials):\n",
    "    env = NK_landscape_loaded(N, K, landscapes[rng.integers(0, n_landscapes)])        \n",
    "    score_tracker[i] = SHC(env, iterations, n_agents, rng)\n",
    "    if i%50 == 0:\n",
    "        print(i)\n",
    "\n",
    "plt.plot(score_tracker.mean(axis=0))\n",
    "plt.xlabel(\"iterations\")\n",
    "plt.ylabel(\"Normalized score\")\n",
    "plt.title(f\"Considering Multiple changes (N{N}K{K})\")"
   ]
  },
  {
   "cell_type": "markdown",
   "id": "bf0fa0f9",
   "metadata": {},
   "source": [
    "##### Collective Hill Climbing RESULT\n",
    "* Stochastic Hill Climbing provide good results with an inverse decaying temperature\n",
    "    * linear temperature decay\n",
    "    \n",
    "* Other algorithms like genetic algorithms or Beam Search may be overly complex and do not suit the independent search of single agents"
   ]
  },
  {
   "cell_type": "code",
   "execution_count": null,
   "id": "d088a89a",
   "metadata": {},
   "outputs": [],
   "source": []
  },
  {
   "cell_type": "markdown",
   "id": "c5f1a2dd",
   "metadata": {},
   "source": [
    "### Minority/ Majority feature\n",
    "* All features are sampled from the same distributions\n",
    "\n",
    "Options:\n",
    "* Distributions:\n",
    "    * All features uniformaly\n",
    "    * All features multimodal gaußian\n",
    "* IF Uniform:\n",
    "    * staring position uniform\n",
    "    * Clear cut between minority/ majority\n",
    "\n",
    "\n",
    "**Different distribution**\n",
    "&rarr; Mean and Std of features influence the weights\n",
    "* DON'T Draw from two seperate distribution (2 minority & 5 majority agents)\n",
    "    * Mean of distributions should be 0.5 to match the size of the other features\n",
    "    * STD would have to match too \n",
    "\n",
    "\n",
    "**TODO**:\n",
    "* [ ] "
   ]
  },
  {
   "cell_type": "code",
   "execution_count": null,
   "id": "e68ad8b8",
   "metadata": {},
   "outputs": [],
   "source": [
    "\"\"\"\n",
    "Good Mean values:  \n",
    "0.4 & 0.75  Majority/ Minority  \n",
    "0.6 & 0.25 Majority/ Minority\n",
    "\"\"\"\n",
    "majority = 0.8\n",
    "\n",
    "def get_minority_mean(majority):\n",
    "    return (0.5 -(5/7)*majority) * (7/2)\n",
    "\n",
    "def create_rho(n=7, majority=0.6, minority=0.25, std=0.1):\n",
    "    assert n%7 == 0\n",
    "    rho = np.clip(np.append(\n",
    "            rng.normal(majority, std, size=(int(n*(5/7)))),\n",
    "            rng.normal(minority, std, size=(int(n*(2/7))))), 0, 1)\n",
    "    return rho\n",
    "\n",
    "majority_means = np.linspace(0.1,0.9, 17)\n",
    "plt.scatter(majority_means, [get_minority_mean(m) for m in majority_means])\n",
    "print([get_minority_mean(m) for m in majority_means])"
   ]
  },
  {
   "cell_type": "code",
   "execution_count": null,
   "id": "a4ce7d50",
   "metadata": {},
   "outputs": [],
   "source": [
    "def create_rho(n=7, majority=0.6, minority=0.25, std=0.1):\n",
    "    assert n%7 == 0\n",
    "    rho = np.clip(np.append(\n",
    "            rng.normal(majority, std, size=(int(n*(5/7)))),\n",
    "            rng.normal(minority, std, size=(int(n*(2/7))))), 0, 1)\n",
    "    return rho\n",
    "\n",
    "def plot_rho_effect(n, scale_rho, majority_mean, minority_mean, std):\n",
    "    fig, axs = plt.subplots(1,3, figsize=(16,4))\n",
    "    # rho = np.linspace(0,1, 100)\n",
    "    n_agents = 700\n",
    "    rho = create_rho(n_agents, majority_mean, minority_mean, std)\n",
    "\n",
    "    axs[0].hist(rho)\n",
    "    axs[0].set_title(\"Agents rho distribution\")\n",
    "    axs[0].set_xlabel(\"rho\")\n",
    "    axs[0].set_xlim([0, 1])\n",
    "\n",
    "    scaled_rho = scale_rho(rho)\n",
    "    y = np.clip(np.round(scaled_rho), 1,18)\n",
    "    dimension_values = []\n",
    "    for X, Y in zip(rho,y):\n",
    "        dimension_values.extend([Y-1,Y,Y+1])\n",
    "        axs[1].plot([X,X,X], [Y-1,Y,Y+1], c=\"b\")\n",
    "    axs[1].set_xlabel(\"rho\")\n",
    "    axs[1].set_ylabel(\"Access to Dimension\")\n",
    "    axs[1].set_title(f\"Relationship between rho and information access ({n} Agents)\")\n",
    "    axs[1].set_xlim([0, 1])\n",
    "    axs[1].set_ylim([0, 19])\n",
    "\n",
    "    axs[2].hist(np.array(dimension_values))\n",
    "    axs[2].set_xlabel(\"Dimension\")\n",
    "    axs[2].set_ylabel(\"# of agents with access\")\n",
    "    axs[2].set_title(\"Populations information access\")\n",
    "    axs[2].set_xlim([0, 19])\n",
    "    plt.show()\n",
    "\n",
    "    \n",
    "def scale_rho(rho):\n",
    "    return 1 + rho * 18\n",
    "\n",
    "majority_mean = 0.6\n",
    "minority_mean = .25\n",
    "std = 0.1\n",
    "n = 350\n",
    "\n",
    "plot_rho_effect(n, scale_rho, majority_mean, minority_mean, std)\n",
    "\n",
    "# std = 0.05\n",
    "# plot_rho_effect(n, scale_rho, majority_mean, minority_mean, std)\n",
    "\n",
    "majority_mean = 0.5\n",
    "minority_mean = .5\n",
    "std = 0.1\n",
    "n = 350\n",
    "plot_rho_effect(n, scale_rho, majority_mean, minority_mean, std)"
   ]
  },
  {
   "cell_type": "code",
   "execution_count": null,
   "id": "cecc7508",
   "metadata": {},
   "outputs": [],
   "source": []
  }
 ],
 "metadata": {
  "kernelspec": {
   "display_name": "Python 3",
   "language": "python",
   "name": "python3"
  },
  "language_info": {
   "codemirror_mode": {
    "name": "ipython",
    "version": 3
   },
   "file_extension": ".py",
   "mimetype": "text/x-python",
   "name": "python",
   "nbconvert_exporter": "python",
   "pygments_lexer": "ipython3",
   "version": "3.6.5"
  }
 },
 "nbformat": 4,
 "nbformat_minor": 5
}
